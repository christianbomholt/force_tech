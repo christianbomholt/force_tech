{
 "cells": [
  {
   "cell_type": "markdown",
   "metadata": {
    "slideshow": {
     "slide_type": "slide"
    }
   },
   "source": [
    "\n",
    "    \n",
    "# Introduction\n",
    "\n",
    "## Applied Scientific Computing med Python\n",
    "\n",
    "## Christian Bomholt\n",
    "\n",
    "### 2019 december\n",
    " \n",
    "\n"
   ]
  },
  {
   "cell_type": "markdown",
   "metadata": {
    "slideshow": {
     "slide_type": "slide"
    }
   },
   "source": [
    "# Round the table\n",
    "\n",
    "\n",
    "### Experience with:\n",
    "\n",
    "- Big data\n",
    "- Programming in general\n",
    "    - Which language\n",
    "- Machine learning\n",
    "- Scientific computing\n",
    "- Statistics/ Math"
   ]
  },
  {
   "cell_type": "markdown",
   "metadata": {
    "slideshow": {
     "slide_type": "slide"
    }
   },
   "source": [
    "## A little bit about me\n",
    "\n",
    "\n"
   ]
  },
  {
   "cell_type": "markdown",
   "metadata": {},
   "source": [
    "<img src=\"https://sciencereport.dk/wp-content/uploads/2018/11/AU-logo-Aarhus-Universitet.png\" width = 600>\n",
    "\n",
    "## cand.scient.oecon\n"
   ]
  },
  {
   "cell_type": "markdown",
   "metadata": {
    "slideshow": {
     "slide_type": "subslide"
    }
   },
   "source": [
    "<img src=\"https://danskebank.com/-/media/danske-bank-images/global/graphics/logo/danske-bank-logo-dark-bg.jpg?h=450&mw=800&w=800&rev=9f13462f17fe4e3aa8999384c685dcd2&hash=F141BBFB954DEF4C3F56ABCEED1DE5F3\" width = 600>\n",
    "\n",
    "## Data scientist\n",
    "\n"
   ]
  },
  {
   "cell_type": "markdown",
   "metadata": {
    "slideshow": {
     "slide_type": "subslide"
    }
   },
   "source": [
    "<img src=\"https://www.jobsexpo.ie/wp-content/uploads/2018/09/logo-1030x658.jpg\" width = 600>\n",
    "\n",
    "## Management consulent"
   ]
  },
  {
   "cell_type": "markdown",
   "metadata": {
    "slideshow": {
     "slide_type": "subslide"
    }
   },
   "source": [
    "<img src=\"https://upload.wikimedia.org/wikipedia/en/thumb/1/1b/Novo_Nordisk.svg/1200px-Novo_Nordisk.svg.png\" width=600>\n",
    "\n",
    "## Data engineer"
   ]
  },
  {
   "cell_type": "markdown",
   "metadata": {
    "slideshow": {
     "slide_type": "slide"
    }
   },
   "source": [
    "## Agenda dag 1:\n",
    "- Introduktion til Visual Studio Code med extensions som IDE til Python. Yderligere vil vi i kurset gøre brug af Jupyter notebook til en række øvelser.\n",
    "- Introduktion til numpy og dets funktioner samt opgave løsning\n",
    "- Implementation af OLS, kmeans og lign.\n",
    "- Kort gennemgang af numerisk integration i python. \n",
    "- Importering af data fra flat files og databaser. Data kommer fra en række forskellige kilder, derfor er det vigtigt at vide, hvordan man får data fra disse kilder ind i python.\n"
   ]
  },
  {
   "cell_type": "markdown",
   "metadata": {
    "slideshow": {
     "slide_type": "slide"
    }
   },
   "source": [
    "### Agenda:\n",
    "\n",
    "- Intro \n",
    "    - VS-code\n",
    "        - python\n",
    "        - Neuron\n",
    "        - jupyter cells\n",
    "    - Jupyter notebook\n",
    "- plotting\n",
    "    - seaborn\n",
    "    - plotly\n",
    "- numpy\n",
    "- lin-alg\n",
    "- Monte Carlo simulations"
   ]
  },
  {
   "cell_type": "markdown",
   "metadata": {
    "slideshow": {
     "slide_type": "slide"
    }
   },
   "source": [
    "## Materials\n",
    "<img src=\"http://t1.gstatic.com/images?q=tbn:ANd9GcQuF-cwyhumKVoJ1MqBTKMptH56whzzp1kZlrp29ByGhahv_rG0\" width=\"300\">\n",
    "<a href=\"https://www.saxo.com/dk/stochastic-simulation-algorithms-and-analysis_soren-asmussenpeter-w-glynn_hardback_9780387306797\"> link to book </a>\n",
    "\n"
   ]
  },
  {
   "cell_type": "markdown",
   "metadata": {
    "slideshow": {
     "slide_type": "slide"
    }
   },
   "source": [
    "## Agenda dag 2:\n",
    "\n",
    "- Manipulation af data med en meget anvendt pakke for datamanipulation kaldet pandas. \n",
    "- Plot af data med matplotlib, plotly og folium pakkerne.\n",
    "- Programmér en prædiktionsmodel i python også kaldet supervised learning. Lær hvordan man implementerer modeller i python gennem øvelser, med et fokus på populære machine learning modeller.\n",
    "- Basal Clustering i python også kaldet unsupervised learning. Lær hvordan du klynger lignende observationer sammen i grupper.\n"
   ]
  }
 ],
 "metadata": {
  "celltoolbar": "Slideshow",
  "kernelspec": {
   "display_name": "Python 3",
   "language": "python",
   "name": "python3"
  },
  "language_info": {
   "codemirror_mode": {
    "name": "ipython",
    "version": 3
   },
   "file_extension": ".py",
   "mimetype": "text/x-python",
   "name": "python",
   "nbconvert_exporter": "python",
   "pygments_lexer": "ipython3",
   "version": "3.6.2"
  }
 },
 "nbformat": 4,
 "nbformat_minor": 2
}
