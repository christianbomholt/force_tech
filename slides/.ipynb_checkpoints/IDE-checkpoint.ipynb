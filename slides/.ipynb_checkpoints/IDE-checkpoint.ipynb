{
 "cells": [
  {
   "cell_type": "markdown",
   "metadata": {
    "slideshow": {
     "slide_type": "slide"
    }
   },
   "source": [
    "## Visual code\n",
    "\n",
    "The extensible editor\n",
    "\n",
    "<img src=\"https://code.visualstudio.com/assets/images/Hundreds-of-Extensions.png\">\n",
    "\n"
   ]
  },
  {
   "attachments": {},
   "cell_type": "markdown",
   "metadata": {
    "slideshow": {
     "slide_type": "slide"
    }
   },
   "source": [
    "## The extensions we will use\n",
    "\n",
    "<img src=\"https://code.visualstudio.com/assets/docs/python/tutorial/python-extension-marketplace.png\">\n",
    "\n"
   ]
  },
  {
   "cell_type": "markdown",
   "metadata": {
    "slideshow": {
     "slide_type": "slide"
    }
   },
   "source": [
    "<img src=\"https://neuron.gallerycdn.vsassets.io/extensions/neuron/neuron-ipe/1.0.4/1542385607781/Microsoft.VisualStudio.Services.Icons.Default\">\n",
    "<img src=\"https://github.com/lorenzo2897/vscode-ipe/blob/master/screenshot.png?raw=true\">"
   ]
  },
  {
   "cell_type": "markdown",
   "metadata": {
    "slideshow": {
     "slide_type": "slide"
    }
   },
   "source": [
    "## Demo\n",
    "\n",
    "<img src=\"https://ichef.bbci.co.uk/images/ic/720x405/p07vrwf8.jpg\">"
   ]
  },
  {
   "cell_type": "markdown",
   "metadata": {
    "slideshow": {
     "slide_type": "slide"
    }
   },
   "source": [
    "## Jupyter notebook\n",
    "\n",
    "<img src=\"https://www.freecodecamp.org/news/content/images/2019/08/1_m87_Htb_9Pstq0UcvNJ49w.png\">"
   ]
  },
  {
   "cell_type": "markdown",
   "metadata": {
    "slideshow": {
     "slide_type": "slide"
    }
   },
   "source": [
    "## Start jupyter\n",
    "\n",
    "Use the follwoing command - which will start jupyter on port `8888`\n",
    "\n",
    "```bash\n",
    "jupyter notebook\n",
    "``` \n",
    "<img src=\"https://jupyter-notebook.readthedocs.io/en/stable/_images/new-notebook.gif\">"
   ]
  },
  {
   "cell_type": "markdown",
   "metadata": {
    "slideshow": {
     "slide_type": "slide"
    }
   },
   "source": [
    "<img src=\"https://jupyter-notebook.readthedocs.io/en/stable/_images/blank-notebook-ui.png\">"
   ]
  },
  {
   "cell_type": "markdown",
   "metadata": {
    "slideshow": {
     "slide_type": "slide"
    }
   },
   "source": [
    "### Keyboard shortcuts\n",
    "\n",
    "All actions in the notebook can be performed with the mouse, but keyboard shortcuts are also available for the most common ones. The essential shortcuts to remember are the following:\n",
    "\n",
    "##### `Shift-Enter`: run cell\n",
    "Execute the current cell, show any output, and jump to the next cell below. If Shift-Enter is invoked on the last cell, it makes a new cell below. This is equivalent to clicking the Cell, Run menu item, or the Play button in the toolbar.\n",
    "\n",
    "##### `Esc`: Command mode\n",
    "In command mode, you can navigate around the notebook using keyboard shortcuts.\n",
    "\n",
    "##### `Enter`: Edit mode\n",
    "In edit mode, you can edit text in cells.\n",
    "\n",
    "For the full list of available shortcuts, click Help, Keyboard Shortcuts in the notebook menus."
   ]
  },
  {
   "cell_type": "markdown",
   "metadata": {
    "slideshow": {
     "slide_type": "slide"
    }
   },
   "source": [
    "### Running notebooks\n",
    "\n",
    "<img src=\"https://jupyter-notebook.readthedocs.io/en/stable/_images/dashboard_running_tab.png\">"
   ]
  },
  {
   "cell_type": "markdown",
   "metadata": {
    "slideshow": {
     "slide_type": "slide"
    }
   },
   "source": [
    "## Just a tip\n",
    "\n",
    "If you want to combine the use of jupyter notebooks and a proper IDE I suggest that you use the following commands\n",
    "\n",
    "```python\n",
    "%load_ext autoreload\n",
    "%autoreload 2\n",
    "``` \n",
    "As these will ensure that the changes on disk is properly propogated into jupyter.\n",
    "\n",
    "Without this you'll quickly end up with a stale copy in memory."
   ]
  },
  {
   "cell_type": "code",
   "execution_count": null,
   "metadata": {},
   "outputs": [],
   "source": []
  }
 ],
 "metadata": {
  "celltoolbar": "Slideshow",
  "kernelspec": {
   "display_name": "Python 3",
   "language": "python",
   "name": "python3"
  },
  "language_info": {
   "codemirror_mode": {
    "name": "ipython",
    "version": 3
   },
   "file_extension": ".py",
   "mimetype": "text/x-python",
   "name": "python",
   "nbconvert_exporter": "python",
   "pygments_lexer": "ipython3",
   "version": "3.6.2"
  }
 },
 "nbformat": 4,
 "nbformat_minor": 2
}
