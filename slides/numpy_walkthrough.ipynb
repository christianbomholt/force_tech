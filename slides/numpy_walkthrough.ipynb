{
 "cells": [
  {
   "cell_type": "markdown",
   "metadata": {
    "slideshow": {
     "slide_type": "slide"
    }
   },
   "source": [
    "<img src=\"https://upload.wikimedia.org/wikipedia/commons/thumb/1/1a/NumPy_logo.svg/1200px-NumPy_logo.svg.png\">\n"
   ]
  },
  {
   "cell_type": "markdown",
   "metadata": {
    "slideshow": {
     "slide_type": "slide"
    }
   },
   "source": [
    "NumPy is the fundamental package for scientific computing in Python. It is a Python library that provides a multidimensional array object, various derived objects (such as masked arrays and matrices), and an assortment of routines for fast operations on arrays.\n",
    "\n",
    "- mathematical, logical, shape manipulation\n",
    "- sorting, selecting\n",
    "- I/O\n",
    "- discrete Fourier transforms,\n",
    "- basic linear algebra\n",
    "- basic statistical operations\n",
    "- random simulation and much more.\n",
    "\n"
   ]
  },
  {
   "cell_type": "code",
   "execution_count": 28,
   "metadata": {
    "slideshow": {
     "slide_type": "fragment"
    }
   },
   "outputs": [],
   "source": [
    "import numpy as np"
   ]
  },
  {
   "cell_type": "markdown",
   "metadata": {
    "slideshow": {
     "slide_type": "slide"
    }
   },
   "source": [
    "## The following links provides richer background\n",
    "\n",
    "https://numpy.org/doc/1.17/user/basics.html\n",
    "\n",
    "https://numpy.org/doc/1.17/user/basics.types.html\n",
    "\n",
    "https://numpy.org/doc/1.17/user/whatisnumpy.html\n",
    "\n",
    "\n"
   ]
  },
  {
   "cell_type": "markdown",
   "metadata": {
    "slideshow": {
     "slide_type": "fragment"
    }
   },
   "source": [
    "#####  If you are comming from Matlab, consider the following dictionary\n",
    "\n",
    "https://numpy.org/doc/1.17/user/numpy-for-matlab-users.html"
   ]
  },
  {
   "cell_type": "markdown",
   "metadata": {
    "slideshow": {
     "slide_type": "slide"
    }
   },
   "source": [
    "### There are 5 general mechanisms for creating arrays:\n",
    "\n",
    "1. Conversion from other Python structures (e.g., lists, tuples)\n",
    "2. Intrinsic numpy array creation objects (e.g., arange, ones, zeros, etc.)\n",
    "3. Reading arrays from disk, either from standard or custom formats\n",
    "4. Creating arrays from raw bytes through the use of strings or buffers\n",
    "5. Use of special library functions (e.g., random)"
   ]
  },
  {
   "cell_type": "markdown",
   "metadata": {
    "slideshow": {
     "slide_type": "slide"
    }
   },
   "source": [
    "## 1. Conversion"
   ]
  },
  {
   "cell_type": "code",
   "execution_count": 29,
   "metadata": {
    "slideshow": {
     "slide_type": "fragment"
    }
   },
   "outputs": [
    {
     "data": {
      "text/plain": [
       "array([1, 2, 3, 4, 5])"
      ]
     },
     "execution_count": 29,
     "metadata": {},
     "output_type": "execute_result"
    }
   ],
   "source": [
    "np.array([1,2,3,4,5])"
   ]
  },
  {
   "cell_type": "code",
   "execution_count": 30,
   "metadata": {
    "slideshow": {
     "slide_type": "fragment"
    }
   },
   "outputs": [
    {
     "data": {
      "text/plain": [
       "array([0, 1, 2, 3, 4, 5, 6, 7, 8, 9])"
      ]
     },
     "execution_count": 30,
     "metadata": {},
     "output_type": "execute_result"
    }
   ],
   "source": [
    "np.array(range(10))"
   ]
  },
  {
   "cell_type": "code",
   "execution_count": 31,
   "metadata": {
    "slideshow": {
     "slide_type": "fragment"
    }
   },
   "outputs": [
    {
     "data": {
      "text/plain": [
       "array([[1.+0.j, 2.+0.j],\n",
       "       [0.+0.j, 0.+0.j],\n",
       "       [1.+1.j, 3.+0.j]])"
      ]
     },
     "execution_count": 31,
     "metadata": {},
     "output_type": "execute_result"
    }
   ],
   "source": [
    "np.array([[1,2.0],[0,0],(1+1j,3.)])"
   ]
  },
  {
   "cell_type": "markdown",
   "metadata": {
    "slideshow": {
     "slide_type": "slide"
    }
   },
   "source": [
    "## 2. Intrinsic numpy array creation"
   ]
  },
  {
   "cell_type": "code",
   "execution_count": 32,
   "metadata": {
    "slideshow": {
     "slide_type": "fragment"
    }
   },
   "outputs": [
    {
     "data": {
      "text/plain": [
       "array([0, 1, 2, 3, 4, 5, 6, 7, 8, 9])"
      ]
     },
     "execution_count": 32,
     "metadata": {},
     "output_type": "execute_result"
    }
   ],
   "source": [
    "np.arange(10)"
   ]
  },
  {
   "cell_type": "code",
   "execution_count": 33,
   "metadata": {
    "slideshow": {
     "slide_type": "fragment"
    }
   },
   "outputs": [
    {
     "data": {
      "text/plain": [
       "array([2., 3., 4., 5., 6., 7., 8., 9.])"
      ]
     },
     "execution_count": 33,
     "metadata": {},
     "output_type": "execute_result"
    }
   ],
   "source": [
    "np.arange(2, 10, dtype=float)"
   ]
  },
  {
   "cell_type": "code",
   "execution_count": 34,
   "metadata": {
    "slideshow": {
     "slide_type": "fragment"
    }
   },
   "outputs": [
    {
     "data": {
      "text/plain": [
       "array([2. , 2.1, 2.2, 2.3, 2.4, 2.5, 2.6, 2.7, 2.8, 2.9])"
      ]
     },
     "execution_count": 34,
     "metadata": {},
     "output_type": "execute_result"
    }
   ],
   "source": [
    "np.arange(2, 3, 0.1)"
   ]
  },
  {
   "cell_type": "code",
   "execution_count": 35,
   "metadata": {
    "slideshow": {
     "slide_type": "fragment"
    }
   },
   "outputs": [
    {
     "data": {
      "text/plain": [
       "array([1. , 1.6, 2.2, 2.8, 3.4, 4. ])"
      ]
     },
     "execution_count": 35,
     "metadata": {},
     "output_type": "execute_result"
    }
   ],
   "source": [
    "np.linspace(1., 4., 6)"
   ]
  },
  {
   "cell_type": "markdown",
   "metadata": {
    "slideshow": {
     "slide_type": "slide"
    }
   },
   "source": [
    "`indices()` will create a set of arrays (stacked as a one-higher dimensioned array), one per dimension with each representing variation in that dimension. An example illustrates much better than a verbal description:"
   ]
  },
  {
   "cell_type": "code",
   "execution_count": 36,
   "metadata": {
    "slideshow": {
     "slide_type": "fragment"
    }
   },
   "outputs": [
    {
     "data": {
      "text/plain": [
       "array([[[0, 0, 0],\n",
       "        [1, 1, 1],\n",
       "        [2, 2, 2]],\n",
       "\n",
       "       [[0, 1, 2],\n",
       "        [0, 1, 2],\n",
       "        [0, 1, 2]]])"
      ]
     },
     "execution_count": 36,
     "metadata": {},
     "output_type": "execute_result"
    }
   ],
   "source": [
    "np.indices((3,3))"
   ]
  },
  {
   "cell_type": "markdown",
   "metadata": {
    "slideshow": {
     "slide_type": "fragment"
    }
   },
   "source": [
    "This is particularly useful for evaluating functions of multiple dimensions on a regular grid.\n",
    "\n"
   ]
  },
  {
   "cell_type": "markdown",
   "metadata": {
    "slideshow": {
     "slide_type": "slide"
    }
   },
   "source": [
    "## 3. Reading from disk"
   ]
  },
  {
   "cell_type": "code",
   "execution_count": 38,
   "metadata": {
    "slideshow": {
     "slide_type": "fragment"
    }
   },
   "outputs": [],
   "source": [
    "x = np.arange(10)"
   ]
  },
  {
   "cell_type": "code",
   "execution_count": 39,
   "metadata": {
    "slideshow": {
     "slide_type": "fragment"
    }
   },
   "outputs": [],
   "source": [
    "x.tofile(\"myarray-binary.csv\", sep=\",\")"
   ]
  },
  {
   "cell_type": "code",
   "execution_count": 40,
   "metadata": {
    "slideshow": {
     "slide_type": "fragment"
    }
   },
   "outputs": [
    {
     "data": {
      "text/plain": [
       "array([0, 1, 2, 3, 4, 5, 6, 7, 8, 9])"
      ]
     },
     "execution_count": 40,
     "metadata": {},
     "output_type": "execute_result"
    }
   ],
   "source": [
    "y = np.fromfile(\"myarray-binary.csv\",dtype=\"i8\", sep=\",\")\n",
    "y"
   ]
  },
  {
   "cell_type": "markdown",
   "metadata": {
    "slideshow": {
     "slide_type": "slide"
    }
   },
   "source": [
    "## 4. Creating arrays from buffers"
   ]
  },
  {
   "cell_type": "code",
   "execution_count": 41,
   "metadata": {
    "slideshow": {
     "slide_type": "fragment"
    }
   },
   "outputs": [],
   "source": [
    "from io import StringIO"
   ]
  },
  {
   "cell_type": "code",
   "execution_count": 42,
   "metadata": {
    "slideshow": {
     "slide_type": "fragment"
    }
   },
   "outputs": [
    {
     "data": {
      "text/plain": [
       "array([[1., 2., 3.],\n",
       "       [4., 5., 6.]])"
      ]
     },
     "execution_count": 42,
     "metadata": {},
     "output_type": "execute_result"
    }
   ],
   "source": [
    "data = u\"1, 2, 3\\n4, 5, 6\"\n",
    "\n",
    "np.genfromtxt(StringIO(data), delimiter=\",\")"
   ]
  },
  {
   "cell_type": "markdown",
   "metadata": {
    "slideshow": {
     "slide_type": "slide"
    }
   },
   "source": [
    "Alternatively, we may be dealing with a fixed-width file, where columns are defined as a given number of characters. In that case, we need to set delimiter to a single integer (if all the columns have the same size) or to a sequence of integers (if columns can have different sizes):\n",
    "\n"
   ]
  },
  {
   "cell_type": "code",
   "execution_count": 43,
   "metadata": {
    "slideshow": {
     "slide_type": "fragment"
    }
   },
   "outputs": [
    {
     "data": {
      "text/plain": [
       "array([[1234.,  567.,   89.],\n",
       "       [   4.,    7.,    9.],\n",
       "       [   4.,  567.,    9.]])"
      ]
     },
     "execution_count": 43,
     "metadata": {},
     "output_type": "execute_result"
    }
   ],
   "source": [
    "data = u\"123456789\\n   4  7 9\\n   4567 9\"\n",
    "np.genfromtxt(StringIO(data),delimiter=(4, 3, 2))"
   ]
  },
  {
   "cell_type": "code",
   "execution_count": 44,
   "metadata": {
    "slideshow": {
     "slide_type": "fragment"
    }
   },
   "outputs": [
    {
     "data": {
      "text/plain": [
       "array([['1', 'abc', '2'],\n",
       "       ['3', 'xxx', '4']], dtype='<U5')"
      ]
     },
     "execution_count": 44,
     "metadata": {},
     "output_type": "execute_result"
    }
   ],
   "source": [
    "data = u\"1, abc , 2\\n 3, xxx, 4\"\n",
    "# Remove spaces\n",
    "np.genfromtxt(StringIO(data), delimiter=\",\", dtype=\"|U5\", autostrip=True)"
   ]
  },
  {
   "cell_type": "code",
   "execution_count": 45,
   "metadata": {
    "slideshow": {
     "slide_type": "slide"
    }
   },
   "outputs": [
    {
     "data": {
      "text/plain": [
       "array([[1., 2.],\n",
       "       [3., 4.],\n",
       "       [5., 6.],\n",
       "       [7., 8.],\n",
       "       [9., 0.]])"
      ]
     },
     "execution_count": 45,
     "metadata": {},
     "output_type": "execute_result"
    }
   ],
   "source": [
    "data = u\"\"\"#\n",
    " # Skip me !\n",
    " # Skip me too !\n",
    " 1, 2\n",
    " 3, 4\n",
    " 5, 6 #This is the third line of the data\n",
    " 7, 8\n",
    " # And here comes the last line\n",
    " 9, 0\n",
    "\"\"\"\n",
    "np.genfromtxt(StringIO(data), comments=\"#\", delimiter=\",\")"
   ]
  },
  {
   "cell_type": "markdown",
   "metadata": {
    "slideshow": {
     "slide_type": "slide"
    }
   },
   "source": [
    "## selecting columns\n"
   ]
  },
  {
   "cell_type": "code",
   "execution_count": 46,
   "metadata": {
    "slideshow": {
     "slide_type": "fragment"
    }
   },
   "outputs": [
    {
     "data": {
      "text/plain": [
       "array([[1., 3.],\n",
       "       [4., 6.]])"
      ]
     },
     "execution_count": 46,
     "metadata": {},
     "output_type": "execute_result"
    }
   ],
   "source": [
    "data = u\"1 2 3\\n4 5 6\"\n",
    "np.genfromtxt(StringIO(data), usecols=(0, -1))"
   ]
  },
  {
   "cell_type": "code",
   "execution_count": 47,
   "metadata": {
    "slideshow": {
     "slide_type": "fragment"
    }
   },
   "outputs": [
    {
     "data": {
      "text/plain": [
       "array([(1., 3.), (4., 6.)], dtype=[('a', '<f8'), ('c', '<f8')])"
      ]
     },
     "execution_count": 47,
     "metadata": {},
     "output_type": "execute_result"
    }
   ],
   "source": [
    "np.genfromtxt(StringIO(data),\n",
    "...               names=\"a, b, c\", usecols=(\"a\", \"c\"))"
   ]
  },
  {
   "cell_type": "markdown",
   "metadata": {
    "slideshow": {
     "slide_type": "slide"
    }
   },
   "source": [
    "## Specifying data types"
   ]
  },
  {
   "cell_type": "code",
   "execution_count": 48,
   "metadata": {
    "slideshow": {
     "slide_type": "fragment"
    }
   },
   "outputs": [
    {
     "data": {
      "text/plain": [
       "array([(1, 2, 3), (4, 5, 6)],\n",
       "      dtype=[('a', '<i8'), ('b', '<i8'), ('c', '<i8')])"
      ]
     },
     "execution_count": 48,
     "metadata": {},
     "output_type": "execute_result"
    }
   ],
   "source": [
    "np.genfromtxt(StringIO(data), dtype=[(_, int) for _ in \"abc\"])"
   ]
  },
  {
   "cell_type": "code",
   "execution_count": 49,
   "metadata": {
    "slideshow": {
     "slide_type": "fragment"
    }
   },
   "outputs": [
    {
     "data": {
      "text/plain": [
       "array([(1., 2., 3.), (4., 5., 6.)],\n",
       "      dtype=[('a', '<f8'), ('b', '<f8'), ('c', '<f8')])"
      ]
     },
     "execution_count": 49,
     "metadata": {},
     "output_type": "execute_result"
    }
   ],
   "source": [
    "data = \"So it goes\\n#a b c\\n1 2 3\\n 4 5 6\"\n",
    "\n",
    "np.genfromtxt(StringIO(data), skip_header=1, names=True)\n"
   ]
  },
  {
   "cell_type": "code",
   "execution_count": 50,
   "metadata": {
    "slideshow": {
     "slide_type": "skip"
    }
   },
   "outputs": [],
   "source": [
    "# data = u\"1, 2.3%, 45.\\n6, 78.9%, 0\"\n",
    "# convertfunc = lambda x: float(x.strip(\"%\"))/100.\n",
    "# np.genfromtxt(StringIO(data), delimiter=\",\",names = [\"a\",\"b\",\"c\"],\n",
    "#               converters={1: convertfunc})"
   ]
  },
  {
   "cell_type": "markdown",
   "metadata": {
    "slideshow": {
     "slide_type": "slide"
    }
   },
   "source": [
    "## More cleaning tricks on import"
   ]
  },
  {
   "cell_type": "code",
   "execution_count": 51,
   "metadata": {
    "slideshow": {
     "slide_type": "fragment"
    }
   },
   "outputs": [
    {
     "data": {
      "text/plain": [
       "array([(0, 2,    3), (4, 0, -999)],\n",
       "      dtype=[('a', '<i8'), ('b', '<i8'), ('c', '<i8')])"
      ]
     },
     "execution_count": 51,
     "metadata": {},
     "output_type": "execute_result"
    }
   ],
   "source": [
    "data = u\"N/A, 2, 3\\n4, ,???\"\n",
    "kwargs = dict(delimiter=\",\",\n",
    "    dtype=int,\n",
    "    names=\"a,b,c\",\n",
    "    missing_values={0:\"N/A\", 'b':\" \", 2:\"???\"},\n",
    "    filling_values={0:0, 'b':0, 2:-999})\n",
    "\n",
    "np.genfromtxt(StringIO(data), **kwargs)"
   ]
  },
  {
   "cell_type": "markdown",
   "metadata": {
    "slideshow": {
     "slide_type": "slide"
    }
   },
   "source": [
    "## 5. Generating arrays using pseudo-random generators"
   ]
  },
  {
   "cell_type": "code",
   "execution_count": 52,
   "metadata": {
    "slideshow": {
     "slide_type": "fragment"
    }
   },
   "outputs": [
    {
     "data": {
      "text/plain": [
       "array([[0.54142345, 0.32565863],\n",
       "       [0.83166418, 0.35442452]])"
      ]
     },
     "execution_count": 52,
     "metadata": {},
     "output_type": "execute_result"
    }
   ],
   "source": [
    "from numpy import random as r\n",
    "\n",
    "r.random((2,2))"
   ]
  },
  {
   "cell_type": "code",
   "execution_count": 53,
   "metadata": {
    "slideshow": {
     "slide_type": "fragment"
    }
   },
   "outputs": [
    {
     "data": {
      "text/plain": [
       "array([[1.32652709, 1.03521421],\n",
       "       [1.39753258, 1.465488  ]])"
      ]
     },
     "execution_count": 53,
     "metadata": {},
     "output_type": "execute_result"
    }
   ],
   "source": [
    "r.uniform(1,2,size=(2,2))"
   ]
  },
  {
   "cell_type": "markdown",
   "metadata": {
    "slideshow": {
     "slide_type": "slide"
    }
   },
   "source": [
    "### Standard normal distribution and shuffle in place"
   ]
  },
  {
   "cell_type": "code",
   "execution_count": 54,
   "metadata": {
    "slideshow": {
     "slide_type": "fragment"
    }
   },
   "outputs": [
    {
     "data": {
      "text/plain": [
       "array([-2.59577433, -1.47212151,  0.16090415,  0.24718511, -1.34799267])"
      ]
     },
     "execution_count": 54,
     "metadata": {},
     "output_type": "execute_result"
    }
   ],
   "source": [
    "N = r.randn(5)\n",
    "N"
   ]
  },
  {
   "cell_type": "code",
   "execution_count": 55,
   "metadata": {
    "slideshow": {
     "slide_type": "fragment"
    }
   },
   "outputs": [
    {
     "data": {
      "text/plain": [
       "array([ 0.16090415, -1.34799267, -2.59577433,  0.24718511, -1.47212151])"
      ]
     },
     "execution_count": 55,
     "metadata": {},
     "output_type": "execute_result"
    }
   ],
   "source": [
    "r.shuffle(N)\n",
    "N"
   ]
  },
  {
   "cell_type": "markdown",
   "metadata": {
    "slideshow": {
     "slide_type": "slide"
    }
   },
   "source": [
    "## Mini exercise"
   ]
  },
  {
   "cell_type": "markdown",
   "metadata": {
    "slideshow": {
     "slide_type": "fragment"
    }
   },
   "source": [
    "Create the following array using 3 of the above 5 above.\n",
    "\n",
    "```\n",
    "[\n",
    " 1 1 1 1 1\n",
    " 1 0 0 0 1\n",
    " 1 0 0 0 1\n",
    " 1 0 0 0 1\n",
    " 1 1 1 1 1\n",
    "]\n",
    "``` \n",
    "Time: 15 min\n",
    "\n",
    "Create new (File>New notebook>Python3)\n",
    "*Random number generation seems less suitable*"
   ]
  },
  {
   "cell_type": "markdown",
   "metadata": {
    "slideshow": {
     "slide_type": "slide"
    }
   },
   "source": [
    "## Indexing"
   ]
  },
  {
   "cell_type": "markdown",
   "metadata": {
    "slideshow": {
     "slide_type": "fragment"
    }
   },
   "source": [
    "*Array indexing refers to any use of the square brackets `[]` to index array values.*\n",
    "\n",
    "\n",
    "*There are many options to indexing, which give numpy indexing great power, but with power comes some complexity and the potential for confusion.*"
   ]
  },
  {
   "cell_type": "code",
   "execution_count": 23,
   "metadata": {
    "slideshow": {
     "slide_type": "fragment"
    }
   },
   "outputs": [
    {
     "data": {
      "text/plain": [
       "array([0, 1, 2, 3, 4, 5, 6, 7, 8, 9])"
      ]
     },
     "execution_count": 23,
     "metadata": {},
     "output_type": "execute_result"
    }
   ],
   "source": [
    "x = np.arange(10)\n",
    "x"
   ]
  },
  {
   "cell_type": "code",
   "execution_count": 24,
   "metadata": {
    "slideshow": {
     "slide_type": "fragment"
    }
   },
   "outputs": [
    {
     "data": {
      "text/plain": [
       "0"
      ]
     },
     "execution_count": 24,
     "metadata": {},
     "output_type": "execute_result"
    }
   ],
   "source": [
    "x[0]"
   ]
  },
  {
   "cell_type": "code",
   "execution_count": 25,
   "metadata": {
    "slideshow": {
     "slide_type": "fragment"
    }
   },
   "outputs": [
    {
     "data": {
      "text/plain": [
       "9"
      ]
     },
     "execution_count": 25,
     "metadata": {},
     "output_type": "execute_result"
    }
   ],
   "source": [
    "x[-1]"
   ]
  },
  {
   "cell_type": "markdown",
   "metadata": {
    "slideshow": {
     "slide_type": "slide"
    }
   },
   "source": [
    "## Higher dimensions"
   ]
  },
  {
   "cell_type": "code",
   "execution_count": 68,
   "metadata": {
    "slideshow": {
     "slide_type": "fragment"
    }
   },
   "outputs": [
    {
     "data": {
      "text/plain": [
       "array([[0, 1, 2, 3, 4],\n",
       "       [5, 6, 7, 8, 9]])"
      ]
     },
     "execution_count": 68,
     "metadata": {},
     "output_type": "execute_result"
    }
   ],
   "source": [
    "x.shape = (2,5) # x.reshape(2,5)\n",
    "x"
   ]
  },
  {
   "cell_type": "code",
   "execution_count": 69,
   "metadata": {
    "slideshow": {
     "slide_type": "fragment"
    }
   },
   "outputs": [
    {
     "data": {
      "text/plain": [
       "8"
      ]
     },
     "execution_count": 69,
     "metadata": {},
     "output_type": "execute_result"
    }
   ],
   "source": [
    "x[1,3]"
   ]
  },
  {
   "cell_type": "code",
   "execution_count": 70,
   "metadata": {
    "slideshow": {
     "slide_type": "fragment"
    }
   },
   "outputs": [
    {
     "data": {
      "text/plain": [
       "array([0, 1, 2, 3, 4])"
      ]
     },
     "execution_count": 70,
     "metadata": {},
     "output_type": "execute_result"
    }
   ],
   "source": [
    "x[0]"
   ]
  },
  {
   "cell_type": "markdown",
   "metadata": {
    "slideshow": {
     "slide_type": "slide"
    }
   },
   "source": [
    "## Slicing and multiple indexing"
   ]
  },
  {
   "cell_type": "code",
   "execution_count": 71,
   "metadata": {
    "slideshow": {
     "slide_type": "fragment"
    }
   },
   "outputs": [
    {
     "data": {
      "text/plain": [
       "array([0, 1, 2, 3, 4])"
      ]
     },
     "execution_count": 71,
     "metadata": {},
     "output_type": "execute_result"
    }
   ],
   "source": [
    "x[0,:]"
   ]
  },
  {
   "cell_type": "code",
   "execution_count": 72,
   "metadata": {
    "scrolled": true,
    "slideshow": {
     "slide_type": "fragment"
    }
   },
   "outputs": [
    {
     "data": {
      "text/plain": [
       "2"
      ]
     },
     "execution_count": 72,
     "metadata": {},
     "output_type": "execute_result"
    }
   ],
   "source": [
    "x[0][2]"
   ]
  },
  {
   "cell_type": "markdown",
   "metadata": {
    "slideshow": {
     "slide_type": "slide"
    }
   },
   "source": [
    "## Access multiple elements using indexing\n",
    "\n",
    "Using `slicing`"
   ]
  },
  {
   "cell_type": "code",
   "execution_count": 40,
   "metadata": {
    "slideshow": {
     "slide_type": "fragment"
    }
   },
   "outputs": [
    {
     "data": {
      "text/plain": [
       "array([0, 1, 2, 3, 4, 5, 6, 7, 8, 9])"
      ]
     },
     "execution_count": 40,
     "metadata": {},
     "output_type": "execute_result"
    }
   ],
   "source": [
    "x = np.arange(10)\n",
    "x"
   ]
  },
  {
   "cell_type": "code",
   "execution_count": 41,
   "metadata": {
    "slideshow": {
     "slide_type": "fragment"
    }
   },
   "outputs": [
    {
     "data": {
      "text/plain": [
       "array([2, 3, 4])"
      ]
     },
     "execution_count": 41,
     "metadata": {},
     "output_type": "execute_result"
    }
   ],
   "source": [
    "x[2:5]"
   ]
  },
  {
   "cell_type": "code",
   "execution_count": 42,
   "metadata": {
    "slideshow": {
     "slide_type": "fragment"
    }
   },
   "outputs": [
    {
     "data": {
      "text/plain": [
       "array([0, 1, 2])"
      ]
     },
     "execution_count": 42,
     "metadata": {},
     "output_type": "execute_result"
    }
   ],
   "source": [
    "x[:-7]"
   ]
  },
  {
   "cell_type": "code",
   "execution_count": 43,
   "metadata": {
    "slideshow": {
     "slide_type": "fragment"
    }
   },
   "outputs": [
    {
     "data": {
      "text/plain": [
       "array([1, 3, 5])"
      ]
     },
     "execution_count": 43,
     "metadata": {},
     "output_type": "execute_result"
    }
   ],
   "source": [
    "x[1:7:2]"
   ]
  },
  {
   "cell_type": "markdown",
   "metadata": {
    "slideshow": {
     "slide_type": "slide"
    }
   },
   "source": [
    "### Note \n",
    "\n",
    "that slices of arrays do not copy the internal array data but only produce new views of the original data. \n",
    "\n",
    "This is different from list or tuple slicing and an explicit `copy()` is recommended if the original data is not required anymore."
   ]
  },
  {
   "cell_type": "markdown",
   "metadata": {
    "slideshow": {
     "slide_type": "slide"
    }
   },
   "source": [
    "### Accessing multiple dimensional array"
   ]
  },
  {
   "cell_type": "code",
   "execution_count": 109,
   "metadata": {
    "slideshow": {
     "slide_type": "fragment"
    }
   },
   "outputs": [
    {
     "data": {
      "text/plain": [
       "array([[ 0,  1,  2,  3,  4,  5,  6],\n",
       "       [ 7,  8,  9, 10, 11, 12, 13],\n",
       "       [14, 15, 16, 17, 18, 19, 20],\n",
       "       [21, 22, 23, 24, 25, 26, 27],\n",
       "       [28, 29, 30, 31, 32, 33, 34]])"
      ]
     },
     "execution_count": 109,
     "metadata": {},
     "output_type": "execute_result"
    }
   ],
   "source": [
    "y = np.arange(35).reshape(5,7)\n",
    "y"
   ]
  },
  {
   "cell_type": "code",
   "execution_count": 110,
   "metadata": {
    "slideshow": {
     "slide_type": "fragment"
    }
   },
   "outputs": [
    {
     "data": {
      "text/plain": [
       "array([0, 1, 2, 3, 4, 5, 6])"
      ]
     },
     "execution_count": 110,
     "metadata": {},
     "output_type": "execute_result"
    }
   ],
   "source": [
    "y[0]"
   ]
  },
  {
   "cell_type": "code",
   "execution_count": 111,
   "metadata": {
    "slideshow": {
     "slide_type": "fragment"
    }
   },
   "outputs": [
    {
     "data": {
      "text/plain": [
       "array([0, 1, 2, 3, 4, 5, 6])"
      ]
     },
     "execution_count": 111,
     "metadata": {},
     "output_type": "execute_result"
    }
   ],
   "source": [
    "y[0,:]"
   ]
  },
  {
   "cell_type": "markdown",
   "metadata": {
    "slideshow": {
     "slide_type": "slide"
    }
   },
   "source": [
    "## Mini exercise\n",
    "\n",
    "Access the multi-dimensional array `y` to extract the subarray\n",
    "\n",
    "```\n",
    "[\n",
    "    9  10  11\n",
    "    16 17  18\n",
    "    23 24  25\n",
    "]\n",
    "\n",
    "``` \n"
   ]
  },
  {
   "cell_type": "markdown",
   "metadata": {
    "slideshow": {
     "slide_type": "slide"
    }
   },
   "source": [
    "## Index via np arrays\n",
    "\n",
    "The use of index arrays ranges from simple, straightforward cases to complex, hard-to-understand cases. For all cases of index arrays, what is returned is a copy of the original data, not a view as one gets for slices."
   ]
  },
  {
   "cell_type": "code",
   "execution_count": 120,
   "metadata": {
    "slideshow": {
     "slide_type": "fragment"
    }
   },
   "outputs": [
    {
     "data": {
      "text/plain": [
       "array([0, 1, 2, 3, 4, 5, 6, 7, 8, 9])"
      ]
     },
     "execution_count": 120,
     "metadata": {},
     "output_type": "execute_result"
    }
   ],
   "source": [
    "x"
   ]
  },
  {
   "cell_type": "code",
   "execution_count": 121,
   "metadata": {
    "slideshow": {
     "slide_type": "fragment"
    }
   },
   "outputs": [
    {
     "data": {
      "text/plain": [
       "array([3, 3, 1, 8])"
      ]
     },
     "execution_count": 121,
     "metadata": {},
     "output_type": "execute_result"
    }
   ],
   "source": [
    "x[[3,3,1,8]]"
   ]
  },
  {
   "cell_type": "code",
   "execution_count": 122,
   "metadata": {
    "slideshow": {
     "slide_type": "fragment"
    }
   },
   "outputs": [
    {
     "data": {
      "text/plain": [
       "array([3, 3, 1, 8])"
      ]
     },
     "execution_count": 122,
     "metadata": {},
     "output_type": "execute_result"
    }
   ],
   "source": [
    "x[np.array([3, 3, 1, 8])]"
   ]
  },
  {
   "cell_type": "code",
   "execution_count": 127,
   "metadata": {
    "slideshow": {
     "slide_type": "fragment"
    }
   },
   "outputs": [
    {
     "data": {
      "text/plain": [
       "array([3, 3, 7, 8])"
      ]
     },
     "execution_count": 127,
     "metadata": {},
     "output_type": "execute_result"
    }
   ],
   "source": [
    "x[np.array([3,3,-3,8])]\n",
    "x[[3,3,-3,8]]"
   ]
  },
  {
   "cell_type": "code",
   "execution_count": 47,
   "metadata": {
    "slideshow": {
     "slide_type": "fragment"
    }
   },
   "outputs": [
    {
     "data": {
      "text/plain": [
       "array([[1, 1],\n",
       "       [2, 3]])"
      ]
     },
     "execution_count": 47,
     "metadata": {},
     "output_type": "execute_result"
    }
   ],
   "source": [
    "x[np.array([[1,1],[2,3]])]"
   ]
  },
  {
   "cell_type": "markdown",
   "metadata": {
    "slideshow": {
     "slide_type": "slide"
    }
   },
   "source": [
    "## Multidimensional arrays indexed with multidemsional arrays"
   ]
  },
  {
   "cell_type": "code",
   "execution_count": 49,
   "metadata": {
    "slideshow": {
     "slide_type": "fragment"
    }
   },
   "outputs": [
    {
     "data": {
      "text/plain": [
       "array([[ 0,  1,  2,  3,  4,  5,  6],\n",
       "       [ 7,  8,  9, 10, 11, 12, 13],\n",
       "       [14, 15, 16, 17, 18, 19, 20],\n",
       "       [21, 22, 23, 24, 25, 26, 27],\n",
       "       [28, 29, 30, 31, 32, 33, 34]])"
      ]
     },
     "execution_count": 49,
     "metadata": {},
     "output_type": "execute_result"
    }
   ],
   "source": [
    "y = np.arange(35).reshape(5,7)\n",
    "y"
   ]
  },
  {
   "cell_type": "code",
   "execution_count": 66,
   "metadata": {
    "slideshow": {
     "slide_type": "fragment"
    }
   },
   "outputs": [
    {
     "data": {
      "text/plain": [
       "array([ 0, 15, 30])"
      ]
     },
     "execution_count": 66,
     "metadata": {},
     "output_type": "execute_result"
    }
   ],
   "source": [
    "y[np.array([0,2,4]), np.array([0,1,2])]"
   ]
  },
  {
   "cell_type": "markdown",
   "metadata": {
    "slideshow": {
     "slide_type": "fragment"
    }
   },
   "source": [
    "The first index value is `0` for both index arrays, and thus the first value of the resultant array is `y[0,0]`.\n",
    "\n",
    "The next value is `y[2,1]`, and the last is `y[4,2]`."
   ]
  },
  {
   "cell_type": "markdown",
   "metadata": {
    "slideshow": {
     "slide_type": "slide"
    }
   },
   "source": [
    "##### Mismatching shape of indexing array"
   ]
  },
  {
   "cell_type": "code",
   "execution_count": 58,
   "metadata": {
    "slideshow": {
     "slide_type": "fragment"
    }
   },
   "outputs": [
    {
     "ename": "IndexError",
     "evalue": "shape mismatch: indexing arrays could not be broadcast together with shapes (3,) (2,) ",
     "output_type": "error",
     "traceback": [
      "\u001b[0;31m---------------------------------------------------------------------------\u001b[0m",
      "\u001b[0;31mIndexError\u001b[0m                                Traceback (most recent call last)",
      "\u001b[0;32m<ipython-input-58-ca3144fc52f1>\u001b[0m in \u001b[0;36m<module>\u001b[0;34m\u001b[0m\n\u001b[0;32m----> 1\u001b[0;31m \u001b[0my\u001b[0m\u001b[0;34m[\u001b[0m\u001b[0mnp\u001b[0m\u001b[0;34m.\u001b[0m\u001b[0marray\u001b[0m\u001b[0;34m(\u001b[0m\u001b[0;34m[\u001b[0m\u001b[0;36m0\u001b[0m\u001b[0;34m,\u001b[0m\u001b[0;36m2\u001b[0m\u001b[0;34m,\u001b[0m\u001b[0;36m4\u001b[0m\u001b[0;34m]\u001b[0m\u001b[0;34m)\u001b[0m\u001b[0;34m,\u001b[0m \u001b[0mnp\u001b[0m\u001b[0;34m.\u001b[0m\u001b[0marray\u001b[0m\u001b[0;34m(\u001b[0m\u001b[0;34m[\u001b[0m\u001b[0;36m0\u001b[0m\u001b[0;34m,\u001b[0m\u001b[0;36m1\u001b[0m\u001b[0;34m]\u001b[0m\u001b[0;34m)\u001b[0m\u001b[0;34m]\u001b[0m\u001b[0;34m\u001b[0m\u001b[0m\n\u001b[0m",
      "\u001b[0;31mIndexError\u001b[0m: shape mismatch: indexing arrays could not be broadcast together with shapes (3,) (2,) "
     ]
    }
   ],
   "source": [
    "y[np.array([0,2,4]), np.array([0,1])]"
   ]
  },
  {
   "cell_type": "markdown",
   "metadata": {
    "slideshow": {
     "slide_type": "slide"
    }
   },
   "source": [
    "#### Scalars match with any thing"
   ]
  },
  {
   "cell_type": "code",
   "execution_count": 60,
   "metadata": {
    "slideshow": {
     "slide_type": "fragment"
    }
   },
   "outputs": [
    {
     "data": {
      "text/plain": [
       "array([ 1, 15, 29])"
      ]
     },
     "execution_count": 60,
     "metadata": {},
     "output_type": "execute_result"
    }
   ],
   "source": [
    "y[np.array([0,2,4]), 1]"
   ]
  },
  {
   "cell_type": "code",
   "execution_count": 61,
   "metadata": {
    "slideshow": {
     "slide_type": "fragment"
    }
   },
   "outputs": [
    {
     "data": {
      "text/plain": [
       "array([[ 0,  1,  2,  3,  4,  5,  6],\n",
       "       [14, 15, 16, 17, 18, 19, 20],\n",
       "       [28, 29, 30, 31, 32, 33, 34]])"
      ]
     },
     "execution_count": 61,
     "metadata": {},
     "output_type": "execute_result"
    }
   ],
   "source": [
    "y[np.array([0,2,4])]"
   ]
  },
  {
   "cell_type": "markdown",
   "metadata": {
    "slideshow": {
     "slide_type": "fragment"
    }
   },
   "source": [
    "First entrance yields `y[0,:]` or `y[0]` second `y[2,:]` and so forth "
   ]
  },
  {
   "cell_type": "markdown",
   "metadata": {
    "slideshow": {
     "slide_type": "slide"
    }
   },
   "source": [
    "## Matching using boolean expressions"
   ]
  },
  {
   "cell_type": "code",
   "execution_count": 73,
   "metadata": {
    "slideshow": {
     "slide_type": "fragment"
    }
   },
   "outputs": [],
   "source": [
    "b = y>20"
   ]
  },
  {
   "cell_type": "code",
   "execution_count": 77,
   "metadata": {
    "slideshow": {
     "slide_type": "fragment"
    }
   },
   "outputs": [
    {
     "data": {
      "text/plain": [
       "array([21, 22, 23, 24, 25, 26, 27, 28, 29, 30, 31, 32, 33, 34])"
      ]
     },
     "execution_count": 77,
     "metadata": {},
     "output_type": "execute_result"
    }
   ],
   "source": [
    "y[b]"
   ]
  },
  {
   "cell_type": "code",
   "execution_count": 78,
   "metadata": {
    "slideshow": {
     "slide_type": "fragment"
    }
   },
   "outputs": [
    {
     "data": {
      "text/plain": [
       "array([[False, False, False, False, False, False, False],\n",
       "       [False, False, False, False, False, False, False],\n",
       "       [False, False, False, False, False, False, False],\n",
       "       [ True,  True,  True,  True,  True,  True,  True],\n",
       "       [ True,  True,  True,  True,  True,  True,  True]])"
      ]
     },
     "execution_count": 78,
     "metadata": {},
     "output_type": "execute_result"
    }
   ],
   "source": [
    "b"
   ]
  },
  {
   "cell_type": "markdown",
   "metadata": {
    "slideshow": {
     "slide_type": "slide"
    }
   },
   "source": [
    "## More mat-lab like syntax\n",
    "Use `np.nonzero` to get behaviour similar to `find(y>20)`"
   ]
  },
  {
   "cell_type": "code",
   "execution_count": 27,
   "metadata": {
    "slideshow": {
     "slide_type": "fragment"
    }
   },
   "outputs": [
    {
     "ename": "NameError",
     "evalue": "name 'y' is not defined",
     "output_type": "error",
     "traceback": [
      "\u001b[0;31m---------------------------------------------------------------------------\u001b[0m",
      "\u001b[0;31mNameError\u001b[0m                                 Traceback (most recent call last)",
      "\u001b[0;32m<ipython-input-27-b5f6f6817c47>\u001b[0m in \u001b[0;36m<module>\u001b[0;34m\u001b[0m\n\u001b[0;32m----> 1\u001b[0;31m \u001b[0my\u001b[0m\u001b[0;34m[\u001b[0m\u001b[0mnp\u001b[0m\u001b[0;34m.\u001b[0m\u001b[0mnonzero\u001b[0m\u001b[0;34m(\u001b[0m\u001b[0mb\u001b[0m\u001b[0;34m)\u001b[0m\u001b[0;34m]\u001b[0m\u001b[0;34m\u001b[0m\u001b[0m\n\u001b[0m",
      "\u001b[0;31mNameError\u001b[0m: name 'y' is not defined"
     ]
    }
   ],
   "source": [
    "y[np.nonzero(b)]"
   ]
  },
  {
   "cell_type": "code",
   "execution_count": 80,
   "metadata": {
    "slideshow": {
     "slide_type": "fragment"
    }
   },
   "outputs": [
    {
     "data": {
      "text/plain": [
       "(array([3, 3, 3, 3, 3, 3, 3, 4, 4, 4, 4, 4, 4, 4]),\n",
       " array([0, 1, 2, 3, 4, 5, 6, 0, 1, 2, 3, 4, 5, 6]))"
      ]
     },
     "execution_count": 80,
     "metadata": {},
     "output_type": "execute_result"
    }
   ],
   "source": [
    "np.nonzero(b)"
   ]
  },
  {
   "cell_type": "code",
   "execution_count": 82,
   "metadata": {
    "slideshow": {
     "slide_type": "fragment"
    }
   },
   "outputs": [
    {
     "data": {
      "text/plain": [
       "array([[22, 23],\n",
       "       [29, 30]])"
      ]
     },
     "execution_count": 82,
     "metadata": {},
     "output_type": "execute_result"
    }
   ],
   "source": [
    "y[b[:,5],1:3]"
   ]
  },
  {
   "cell_type": "markdown",
   "metadata": {
    "slideshow": {
     "slide_type": "slide"
    }
   },
   "source": [
    "## Structural indexing tools"
   ]
  },
  {
   "cell_type": "code",
   "execution_count": 84,
   "metadata": {
    "slideshow": {
     "slide_type": "fragment"
    }
   },
   "outputs": [
    {
     "data": {
      "text/plain": [
       "(5, 7)"
      ]
     },
     "execution_count": 84,
     "metadata": {},
     "output_type": "execute_result"
    }
   ],
   "source": [
    "y.shape"
   ]
  },
  {
   "cell_type": "code",
   "execution_count": 85,
   "metadata": {
    "slideshow": {
     "slide_type": "fragment"
    }
   },
   "outputs": [
    {
     "data": {
      "text/plain": [
       "(5, 1, 7)"
      ]
     },
     "execution_count": 85,
     "metadata": {},
     "output_type": "execute_result"
    }
   ],
   "source": [
    "y[:,np.newaxis,:].shape"
   ]
  },
  {
   "cell_type": "markdown",
   "metadata": {
    "slideshow": {
     "slide_type": "slide"
    }
   },
   "source": [
    "### Tricks with stuctural indecies"
   ]
  },
  {
   "cell_type": "code",
   "execution_count": 87,
   "metadata": {
    "slideshow": {
     "slide_type": "fragment"
    }
   },
   "outputs": [
    {
     "data": {
      "text/plain": [
       "array([0, 2, 4, 6, 8])"
      ]
     },
     "execution_count": 87,
     "metadata": {},
     "output_type": "execute_result"
    }
   ],
   "source": [
    "x = np.arange(5)\n",
    "x + x"
   ]
  },
  {
   "cell_type": "code",
   "execution_count": 88,
   "metadata": {
    "slideshow": {
     "slide_type": "fragment"
    }
   },
   "outputs": [
    {
     "data": {
      "text/plain": [
       "array([[0, 1, 2, 3, 4],\n",
       "       [1, 2, 3, 4, 5],\n",
       "       [2, 3, 4, 5, 6],\n",
       "       [3, 4, 5, 6, 7],\n",
       "       [4, 5, 6, 7, 8]])"
      ]
     },
     "execution_count": 88,
     "metadata": {},
     "output_type": "execute_result"
    }
   ],
   "source": [
    "x[:,np.newaxis] + x[np.newaxis,:]"
   ]
  },
  {
   "cell_type": "markdown",
   "metadata": {
    "slideshow": {
     "slide_type": "slide"
    }
   },
   "source": [
    "## Ellipsis access"
   ]
  },
  {
   "cell_type": "code",
   "execution_count": 98,
   "metadata": {
    "slideshow": {
     "slide_type": "fragment"
    }
   },
   "outputs": [],
   "source": [
    "z = np.arange(81).reshape(3,3,3,3)"
   ]
  },
  {
   "cell_type": "code",
   "execution_count": 99,
   "metadata": {
    "slideshow": {
     "slide_type": "fragment"
    }
   },
   "outputs": [
    {
     "data": {
      "text/plain": [
       "array([[29, 32, 35],\n",
       "       [38, 41, 44],\n",
       "       [47, 50, 53]])"
      ]
     },
     "execution_count": 99,
     "metadata": {},
     "output_type": "execute_result"
    }
   ],
   "source": [
    "z[1,...,2]"
   ]
  },
  {
   "cell_type": "code",
   "execution_count": 100,
   "metadata": {
    "slideshow": {
     "slide_type": "fragment"
    }
   },
   "outputs": [
    {
     "data": {
      "text/plain": [
       "array([[29, 32, 35],\n",
       "       [38, 41, 44],\n",
       "       [47, 50, 53]])"
      ]
     },
     "execution_count": 100,
     "metadata": {},
     "output_type": "execute_result"
    }
   ],
   "source": [
    "z[1,:,:,2]"
   ]
  },
  {
   "cell_type": "markdown",
   "metadata": {
    "slideshow": {
     "slide_type": "slide"
    }
   },
   "source": [
    "## Assigment to indexed arrays"
   ]
  },
  {
   "cell_type": "code",
   "execution_count": 114,
   "metadata": {
    "slideshow": {
     "slide_type": "fragment"
    }
   },
   "outputs": [
    {
     "data": {
      "text/plain": [
       "array([0, 1, 1, 1, 1, 1, 1, 7, 8, 9])"
      ]
     },
     "execution_count": 114,
     "metadata": {},
     "output_type": "execute_result"
    }
   ],
   "source": [
    "x = np.arange(10)\n",
    "x[2:7] = 1\n",
    "x"
   ]
  },
  {
   "cell_type": "code",
   "execution_count": 115,
   "metadata": {
    "slideshow": {
     "slide_type": "fragment"
    }
   },
   "outputs": [
    {
     "data": {
      "text/plain": [
       "array([0, 1, 0, 1, 2, 3, 4, 7, 8, 9])"
      ]
     },
     "execution_count": 115,
     "metadata": {},
     "output_type": "execute_result"
    }
   ],
   "source": [
    "x[2:7] = np.arange(5)\n",
    "x"
   ]
  },
  {
   "cell_type": "code",
   "execution_count": 116,
   "metadata": {
    "slideshow": {
     "slide_type": "fragment"
    }
   },
   "outputs": [
    {
     "data": {
      "text/plain": [
       "array([0, 1, 0, 1, 2, 3, 4, 7, 8, 9])"
      ]
     },
     "execution_count": 116,
     "metadata": {},
     "output_type": "execute_result"
    }
   ],
   "source": [
    "x[1] = 1.2\n",
    "x"
   ]
  },
  {
   "cell_type": "markdown",
   "metadata": {
    "slideshow": {
     "slide_type": "slide"
    }
   },
   "source": [
    "## Mini exercise\n",
    "\n",
    "Create the following array again now using assignment + `np.ones` \n",
    "\n",
    "```\n",
    "[\n",
    " 1 1 1 1 1\n",
    " 1 0 0 0 1\n",
    " 1 0 0 0 1\n",
    " 1 0 0 0 1\n",
    " 1 1 1 1 1\n",
    "]\n",
    "``` \n"
   ]
  },
  {
   "cell_type": "markdown",
   "metadata": {
    "slideshow": {
     "slide_type": "slide"
    }
   },
   "source": [
    "### Assigning based on type and incrementing"
   ]
  },
  {
   "cell_type": "code",
   "execution_count": 117,
   "metadata": {
    "slideshow": {
     "slide_type": "fragment"
    }
   },
   "outputs": [
    {
     "ename": "TypeError",
     "evalue": "can't convert complex to int",
     "output_type": "error",
     "traceback": [
      "\u001b[0;31m---------------------------------------------------------------------------\u001b[0m",
      "\u001b[0;31mTypeError\u001b[0m                                 Traceback (most recent call last)",
      "\u001b[0;32m<ipython-input-117-c073c7dfbf09>\u001b[0m in \u001b[0;36m<module>\u001b[0;34m\u001b[0m\n\u001b[0;32m----> 1\u001b[0;31m \u001b[0mx\u001b[0m\u001b[0;34m[\u001b[0m\u001b[0;36m1\u001b[0m\u001b[0;34m]\u001b[0m \u001b[0;34m=\u001b[0m \u001b[0;36m1.2j\u001b[0m\u001b[0;34m\u001b[0m\u001b[0m\n\u001b[0m",
      "\u001b[0;31mTypeError\u001b[0m: can't convert complex to int"
     ]
    }
   ],
   "source": [
    "x[1] = 1.2j"
   ]
  },
  {
   "cell_type": "code",
   "execution_count": 118,
   "metadata": {
    "slideshow": {
     "slide_type": "fragment"
    }
   },
   "outputs": [
    {
     "data": {
      "text/plain": [
       "array([0, 1, 0, 1, 2, 3, 4, 7, 8, 9])"
      ]
     },
     "execution_count": 118,
     "metadata": {},
     "output_type": "execute_result"
    }
   ],
   "source": [
    "x"
   ]
  },
  {
   "cell_type": "code",
   "execution_count": 119,
   "metadata": {
    "slideshow": {
     "slide_type": "fragment"
    }
   },
   "outputs": [
    {
     "data": {
      "text/plain": [
       "array([ 1,  2,  1,  2,  3,  4,  5,  8,  9, 10])"
      ]
     },
     "execution_count": 119,
     "metadata": {},
     "output_type": "execute_result"
    }
   ],
   "source": [
    "x += 1\n",
    "x"
   ]
  },
  {
   "cell_type": "markdown",
   "metadata": {
    "slideshow": {
     "slide_type": "slide"
    }
   },
   "source": [
    "### Broadcasting"
   ]
  },
  {
   "cell_type": "markdown",
   "metadata": {
    "slideshow": {
     "slide_type": "fragment"
    }
   },
   "source": [
    "The term broadcasting describes how numpy treats arrays with different shapes during arithmetic operations. Subject to certain constraints, the smaller array is “broadcast” across the larger array so that they have compatible shapes. "
   ]
  },
  {
   "cell_type": "code",
   "execution_count": 208,
   "metadata": {
    "slideshow": {
     "slide_type": "fragment"
    }
   },
   "outputs": [
    {
     "data": {
      "text/plain": [
       "array([0, 1, 2])"
      ]
     },
     "execution_count": 208,
     "metadata": {},
     "output_type": "execute_result"
    }
   ],
   "source": [
    "a = np.array(range(3))\n",
    "a"
   ]
  },
  {
   "cell_type": "code",
   "execution_count": 209,
   "metadata": {
    "slideshow": {
     "slide_type": "fragment"
    }
   },
   "outputs": [
    {
     "data": {
      "text/plain": [
       "array([0, 1, 4])"
      ]
     },
     "execution_count": 209,
     "metadata": {},
     "output_type": "execute_result"
    }
   ],
   "source": [
    "b = a.copy()\n",
    "a*b"
   ]
  },
  {
   "cell_type": "markdown",
   "metadata": {
    "slideshow": {
     "slide_type": "slide"
    }
   },
   "source": [
    "### Broadcasting"
   ]
  },
  {
   "cell_type": "code",
   "execution_count": 210,
   "metadata": {
    "slideshow": {
     "slide_type": "fragment"
    }
   },
   "outputs": [
    {
     "data": {
      "text/plain": [
       "array([0., 2., 4.])"
      ]
     },
     "execution_count": 210,
     "metadata": {},
     "output_type": "execute_result"
    }
   ],
   "source": [
    "b = 2.0\n",
    "a*b"
   ]
  },
  {
   "cell_type": "code",
   "execution_count": 211,
   "metadata": {
    "slideshow": {
     "slide_type": "fragment"
    }
   },
   "outputs": [],
   "source": [
    "x = np.arange(4)\n",
    "xx = x.reshape(4,1)\n",
    "y = np.ones(5)\n",
    "z = np.ones((3,4))"
   ]
  },
  {
   "cell_type": "code",
   "execution_count": 212,
   "metadata": {
    "slideshow": {
     "slide_type": "fragment"
    }
   },
   "outputs": [
    {
     "data": {
      "text/plain": [
       "(4,)"
      ]
     },
     "execution_count": 212,
     "metadata": {},
     "output_type": "execute_result"
    }
   ],
   "source": [
    "x.shape"
   ]
  },
  {
   "cell_type": "code",
   "execution_count": 213,
   "metadata": {
    "slideshow": {
     "slide_type": "fragment"
    }
   },
   "outputs": [
    {
     "data": {
      "text/plain": [
       "(5,)"
      ]
     },
     "execution_count": 213,
     "metadata": {},
     "output_type": "execute_result"
    }
   ],
   "source": [
    "y.shape"
   ]
  },
  {
   "cell_type": "code",
   "execution_count": 214,
   "metadata": {
    "slideshow": {
     "slide_type": "fragment"
    }
   },
   "outputs": [
    {
     "ename": "ValueError",
     "evalue": "operands could not be broadcast together with shapes (4,) (5,) ",
     "output_type": "error",
     "traceback": [
      "\u001b[0;31m---------------------------------------------------------------------------\u001b[0m",
      "\u001b[0;31mValueError\u001b[0m                                Traceback (most recent call last)",
      "\u001b[0;32m<ipython-input-214-cd60f97aa77f>\u001b[0m in \u001b[0;36m<module>\u001b[0;34m\u001b[0m\n\u001b[0;32m----> 1\u001b[0;31m \u001b[0mx\u001b[0m \u001b[0;34m+\u001b[0m \u001b[0my\u001b[0m\u001b[0;34m\u001b[0m\u001b[0m\n\u001b[0m",
      "\u001b[0;31mValueError\u001b[0m: operands could not be broadcast together with shapes (4,) (5,) "
     ]
    }
   ],
   "source": [
    "x + y"
   ]
  },
  {
   "cell_type": "markdown",
   "metadata": {
    "slideshow": {
     "slide_type": "slide"
    }
   },
   "source": [
    "### Broadcasting"
   ]
  },
  {
   "cell_type": "code",
   "execution_count": 215,
   "metadata": {
    "slideshow": {
     "slide_type": "fragment"
    }
   },
   "outputs": [
    {
     "data": {
      "text/plain": [
       "(4, 1)"
      ]
     },
     "execution_count": 215,
     "metadata": {},
     "output_type": "execute_result"
    }
   ],
   "source": [
    "xx.shape"
   ]
  },
  {
   "cell_type": "code",
   "execution_count": 216,
   "metadata": {
    "slideshow": {
     "slide_type": "fragment"
    }
   },
   "outputs": [
    {
     "data": {
      "text/plain": [
       "(4, 5)"
      ]
     },
     "execution_count": 216,
     "metadata": {},
     "output_type": "execute_result"
    }
   ],
   "source": [
    "(xx + y).shape"
   ]
  },
  {
   "cell_type": "code",
   "execution_count": 217,
   "metadata": {
    "slideshow": {
     "slide_type": "fragment"
    }
   },
   "outputs": [
    {
     "data": {
      "text/plain": [
       "array([[1., 1., 1., 1., 1.],\n",
       "       [2., 2., 2., 2., 2.],\n",
       "       [3., 3., 3., 3., 3.],\n",
       "       [4., 4., 4., 4., 4.]])"
      ]
     },
     "execution_count": 217,
     "metadata": {},
     "output_type": "execute_result"
    }
   ],
   "source": [
    "xx + y"
   ]
  },
  {
   "cell_type": "markdown",
   "metadata": {
    "slideshow": {
     "slide_type": "slide"
    }
   },
   "source": [
    "### Broadcasting"
   ]
  },
  {
   "cell_type": "code",
   "execution_count": 218,
   "metadata": {
    "slideshow": {
     "slide_type": "fragment"
    }
   },
   "outputs": [
    {
     "data": {
      "text/plain": [
       "(3, 4)"
      ]
     },
     "execution_count": 218,
     "metadata": {},
     "output_type": "execute_result"
    }
   ],
   "source": [
    "z.shape"
   ]
  },
  {
   "cell_type": "code",
   "execution_count": 219,
   "metadata": {
    "slideshow": {
     "slide_type": "fragment"
    }
   },
   "outputs": [
    {
     "data": {
      "text/plain": [
       "(3, 4)"
      ]
     },
     "execution_count": 219,
     "metadata": {},
     "output_type": "execute_result"
    }
   ],
   "source": [
    "(x + z).shape"
   ]
  },
  {
   "cell_type": "code",
   "execution_count": 220,
   "metadata": {
    "slideshow": {
     "slide_type": "fragment"
    }
   },
   "outputs": [
    {
     "data": {
      "text/plain": [
       "array([[1., 2., 3., 4.],\n",
       "       [1., 2., 3., 4.],\n",
       "       [1., 2., 3., 4.]])"
      ]
     },
     "execution_count": 220,
     "metadata": {},
     "output_type": "execute_result"
    }
   ],
   "source": [
    "x + z"
   ]
  },
  {
   "cell_type": "markdown",
   "metadata": {
    "slideshow": {
     "slide_type": "slide"
    }
   },
   "source": [
    "### Broadcasting using `nexaxis` "
   ]
  },
  {
   "cell_type": "code",
   "execution_count": 221,
   "metadata": {
    "slideshow": {
     "slide_type": "fragment"
    }
   },
   "outputs": [
    {
     "data": {
      "text/plain": [
       "array([0, 1, 2, 3])"
      ]
     },
     "execution_count": 221,
     "metadata": {},
     "output_type": "execute_result"
    }
   ],
   "source": [
    "x"
   ]
  },
  {
   "cell_type": "code",
   "execution_count": 222,
   "metadata": {
    "slideshow": {
     "slide_type": "fragment"
    }
   },
   "outputs": [
    {
     "data": {
      "text/plain": [
       "array([1., 1., 1., 1., 1.])"
      ]
     },
     "execution_count": 222,
     "metadata": {},
     "output_type": "execute_result"
    }
   ],
   "source": [
    "y"
   ]
  },
  {
   "cell_type": "markdown",
   "metadata": {
    "slideshow": {
     "slide_type": "fragment"
    }
   },
   "source": [
    "Broadcasting provides a convenient way of taking the outer product (or any other outer operation) of two arrays. The following example shows an outer addition operation of two 1-d arrays:"
   ]
  },
  {
   "cell_type": "code",
   "execution_count": 224,
   "metadata": {
    "slideshow": {
     "slide_type": "fragment"
    }
   },
   "outputs": [
    {
     "data": {
      "text/plain": [
       "array([[1., 1., 1., 1., 1.],\n",
       "       [2., 2., 2., 2., 2.],\n",
       "       [3., 3., 3., 3., 3.],\n",
       "       [4., 4., 4., 4., 4.]])"
      ]
     },
     "execution_count": 224,
     "metadata": {},
     "output_type": "execute_result"
    }
   ],
   "source": [
    "x[:, np.newaxis] + y"
   ]
  },
  {
   "cell_type": "markdown",
   "metadata": {
    "slideshow": {
     "slide_type": "fragment"
    }
   },
   "source": [
    "Here the newaxis index operator inserts a new axis into a, making it a two-dimensional 4x1 array. Combining the 4x1 array with b, which has shape (3,), yields a 4x3 array."
   ]
  },
  {
   "cell_type": "markdown",
   "metadata": {
    "slideshow": {
     "slide_type": "slide"
    }
   },
   "source": [
    "## Benchmarking"
   ]
  },
  {
   "cell_type": "markdown",
   "metadata": {
    "slideshow": {
     "slide_type": "fragment"
    }
   },
   "source": [
    "So, yes, your observation is generalizable. Vectorizing is the whole point of numpy. numpy code that isn't vectorized is always slower than bare python code, and is arguably just as \"wrong\" as cracking a single walnut with a jackhammer. Either find the right tool or get more nuts.\n",
    "\n"
   ]
  },
  {
   "cell_type": "code",
   "execution_count": 150,
   "metadata": {
    "slideshow": {
     "slide_type": "slide"
    }
   },
   "outputs": [],
   "source": [
    "import math\n",
    "import random\n",
    "from tqdm import tqdm"
   ]
  },
  {
   "cell_type": "code",
   "execution_count": 151,
   "metadata": {
    "slideshow": {
     "slide_type": "fragment"
    }
   },
   "outputs": [
    {
     "name": "stdout",
     "output_type": "stream",
     "text": [
      "99.4 ns ± 1.93 ns per loop (mean ± std. dev. of 7 runs, 10000000 loops each)\n",
      "992 ns ± 29.5 ns per loop (mean ± std. dev. of 7 runs, 1000000 loops each)\n",
      "91.6 ns ± 1.36 ns per loop (mean ± std. dev. of 7 runs, 10000000 loops each)\n",
      "979 ns ± 29 ns per loop (mean ± std. dev. of 7 runs, 1000000 loops each)\n"
     ]
    }
   ],
   "source": [
    "%timeit math.log(10)\n",
    "%timeit np.log(10)\n",
    "%timeit math.exp(3)\n",
    "%timeit np.exp(3)"
   ]
  },
  {
   "cell_type": "code",
   "execution_count": 204,
   "metadata": {
    "slideshow": {
     "slide_type": "slide"
    }
   },
   "outputs": [
    {
     "name": "stdout",
     "output_type": "stream",
     "text": [
      "479 ns ± 5.87 ns per loop (mean ± std. dev. of 7 runs, 1000000 loops each)\n",
      "1.38 µs ± 19.4 ns per loop (mean ± std. dev. of 7 runs, 1000000 loops each)\n"
     ]
    }
   ],
   "source": [
    "%timeit random.gauss(0, 1)\n",
    "%timeit np.random.normal()"
   ]
  },
  {
   "cell_type": "code",
   "execution_count": 170,
   "metadata": {
    "slideshow": {
     "slide_type": "fragment"
    }
   },
   "outputs": [],
   "source": [
    "def log(x):\n",
    "    return [math.log(_) for _ in x ]"
   ]
  },
  {
   "cell_type": "code",
   "execution_count": 203,
   "metadata": {
    "slideshow": {
     "slide_type": "fragment"
    }
   },
   "outputs": [],
   "source": [
    "steps = range(3,2000,2)\n",
    "samples = 1000\n",
    "results_np = []\n",
    "results_base=[]\n",
    "if False:\n",
    "    for size in tqdm(steps):\n",
    "        array = [x for x in range(2,size)]\n",
    "        timer_np = %timeit -n 100 -o -q np.log(array)\n",
    "        timer_base = %timeit -n 100 -o -q log(array)\n",
    "\n",
    "        results_np.append(timer_np.average)\n",
    "        results_base.append(timer_base.average)"
   ]
  },
  {
   "cell_type": "code",
   "execution_count": 129,
   "metadata": {
    "slideshow": {
     "slide_type": "skip"
    }
   },
   "outputs": [],
   "source": [
    "import pandas as pd\n",
    "\n",
    "# pd.DataFrame(\n",
    "#     {\n",
    "#     \"steps\":steps,\n",
    "#     \"numpy\": results_np,\n",
    "#     \"base\": results_base\n",
    "#     }\n",
    "# ).to_csv(\"bench_small.csv\")\n",
    "df = pd.read_csv(\"bench_small.csv\")"
   ]
  },
  {
   "cell_type": "code",
   "execution_count": 130,
   "metadata": {
    "scrolled": false,
    "slideshow": {
     "slide_type": "slide"
    }
   },
   "outputs": [
    {
     "data": {
      "text/html": [
       "        <script type=\"text/javascript\">\n",
       "        window.PlotlyConfig = {MathJaxConfig: 'local'};\n",
       "        if (window.MathJax) {MathJax.Hub.Config({SVG: {font: \"STIX-Web\"}});}\n",
       "        if (typeof require !== 'undefined') {\n",
       "        require.undef(\"plotly\");\n",
       "        requirejs.config({\n",
       "            paths: {\n",
       "                'plotly': ['https://cdn.plot.ly/plotly-latest.min']\n",
       "            }\n",
       "        });\n",
       "        require(['plotly'], function(Plotly) {\n",
       "            window._Plotly = Plotly;\n",
       "        });\n",
       "        }\n",
       "        </script>\n",
       "        "
      ]
     },
     "metadata": {},
     "output_type": "display_data"
    },
    {
     "data": {
      "application/vnd.plotly.v1+json": {
       "config": {
        "linkText": "Export to plot.ly",
        "plotlyServerURL": "https://plot.ly",
        "showLink": false
       },
       "data": [
        {
         "name": "Numpy",
         "type": "scatter",
         "x": [
          3,
          5,
          7,
          9,
          11,
          13,
          15,
          17,
          19,
          21,
          23,
          25,
          27,
          29,
          31,
          33,
          35,
          37,
          39,
          41,
          43,
          45,
          47,
          49,
          51,
          53,
          55,
          57,
          59,
          61,
          63,
          65,
          67,
          69,
          71,
          73,
          75,
          77,
          79,
          81,
          83,
          85,
          87,
          89,
          91,
          93,
          95,
          97,
          99,
          101,
          103,
          105,
          107,
          109,
          111,
          113,
          115,
          117,
          119,
          121,
          123,
          125,
          127,
          129,
          131,
          133,
          135,
          137,
          139,
          141,
          143,
          145,
          147,
          149,
          151,
          153,
          155,
          157,
          159,
          161,
          163,
          165,
          167,
          169,
          171,
          173,
          175,
          177,
          179,
          181,
          183,
          185,
          187,
          189,
          191,
          193,
          195,
          197,
          199,
          201,
          203,
          205,
          207,
          209,
          211,
          213,
          215,
          217,
          219,
          221,
          223,
          225,
          227,
          229,
          231,
          233,
          235,
          237,
          239,
          241,
          243,
          245,
          247,
          249,
          251,
          253,
          255,
          257,
          259,
          261,
          263,
          265,
          267,
          269,
          271,
          273,
          275,
          277,
          279,
          281,
          283,
          285,
          287,
          289,
          291,
          293,
          295,
          297,
          299,
          301,
          303,
          305,
          307,
          309,
          311,
          313,
          315,
          317,
          319,
          321,
          323,
          325,
          327,
          329,
          331,
          333,
          335,
          337,
          339,
          341,
          343,
          345,
          347,
          349,
          351,
          353,
          355,
          357,
          359,
          361,
          363,
          365,
          367,
          369,
          371,
          373,
          375,
          377,
          379,
          381,
          383,
          385,
          387,
          389,
          391,
          393,
          395,
          397,
          399,
          401,
          403,
          405,
          407,
          409,
          411,
          413,
          415,
          417,
          419,
          421,
          423,
          425,
          427,
          429,
          431,
          433,
          435,
          437,
          439,
          441,
          443,
          445,
          447,
          449,
          451,
          453,
          455,
          457,
          459,
          461,
          463,
          465,
          467,
          469,
          471,
          473,
          475,
          477,
          479,
          481,
          483,
          485,
          487,
          489,
          491,
          493,
          495,
          497,
          499,
          501,
          503,
          505,
          507,
          509,
          511,
          513,
          515,
          517,
          519,
          521,
          523,
          525,
          527,
          529,
          531,
          533,
          535,
          537,
          539,
          541,
          543,
          545,
          547,
          549,
          551,
          553,
          555,
          557,
          559,
          561,
          563,
          565,
          567,
          569,
          571,
          573,
          575,
          577,
          579,
          581,
          583,
          585,
          587,
          589,
          591,
          593,
          595,
          597,
          599,
          601,
          603,
          605,
          607,
          609,
          611,
          613,
          615,
          617,
          619,
          621,
          623,
          625,
          627,
          629,
          631,
          633,
          635,
          637,
          639,
          641,
          643,
          645,
          647,
          649,
          651,
          653,
          655,
          657,
          659,
          661,
          663,
          665,
          667,
          669,
          671,
          673,
          675,
          677,
          679,
          681,
          683,
          685,
          687,
          689,
          691,
          693,
          695,
          697,
          699,
          701,
          703,
          705,
          707,
          709,
          711,
          713,
          715,
          717,
          719,
          721,
          723,
          725,
          727,
          729,
          731,
          733,
          735,
          737,
          739,
          741,
          743,
          745,
          747,
          749,
          751,
          753,
          755,
          757,
          759,
          761,
          763,
          765,
          767,
          769,
          771,
          773,
          775,
          777,
          779,
          781,
          783,
          785,
          787,
          789,
          791,
          793,
          795,
          797,
          799,
          801,
          803,
          805,
          807,
          809,
          811,
          813,
          815,
          817,
          819,
          821,
          823,
          825,
          827,
          829,
          831,
          833,
          835,
          837,
          839,
          841,
          843,
          845,
          847,
          849,
          851,
          853,
          855,
          857,
          859,
          861,
          863,
          865,
          867,
          869,
          871,
          873,
          875,
          877,
          879,
          881,
          883,
          885,
          887,
          889,
          891,
          893,
          895,
          897,
          899,
          901,
          903,
          905,
          907,
          909,
          911,
          913,
          915,
          917,
          919,
          921,
          923,
          925,
          927,
          929,
          931,
          933,
          935,
          937,
          939,
          941,
          943,
          945,
          947,
          949,
          951,
          953,
          955,
          957,
          959,
          961,
          963,
          965,
          967,
          969,
          971,
          973,
          975,
          977,
          979,
          981,
          983,
          985,
          987,
          989,
          991,
          993,
          995,
          997,
          999,
          1001,
          1003,
          1005,
          1007,
          1009,
          1011,
          1013,
          1015,
          1017,
          1019,
          1021,
          1023,
          1025,
          1027,
          1029,
          1031,
          1033,
          1035,
          1037,
          1039,
          1041,
          1043,
          1045,
          1047,
          1049,
          1051,
          1053,
          1055,
          1057,
          1059,
          1061,
          1063,
          1065,
          1067,
          1069,
          1071,
          1073,
          1075,
          1077,
          1079,
          1081,
          1083,
          1085,
          1087,
          1089,
          1091,
          1093,
          1095,
          1097,
          1099,
          1101,
          1103,
          1105,
          1107,
          1109,
          1111,
          1113,
          1115,
          1117,
          1119,
          1121,
          1123,
          1125,
          1127,
          1129,
          1131,
          1133,
          1135,
          1137,
          1139,
          1141,
          1143,
          1145,
          1147,
          1149,
          1151,
          1153,
          1155,
          1157,
          1159,
          1161,
          1163,
          1165,
          1167,
          1169,
          1171,
          1173,
          1175,
          1177,
          1179,
          1181,
          1183,
          1185,
          1187,
          1189,
          1191,
          1193,
          1195,
          1197,
          1199,
          1201,
          1203,
          1205,
          1207,
          1209,
          1211,
          1213,
          1215,
          1217,
          1219,
          1221,
          1223,
          1225,
          1227,
          1229,
          1231,
          1233,
          1235,
          1237,
          1239,
          1241,
          1243,
          1245,
          1247,
          1249,
          1251,
          1253,
          1255,
          1257,
          1259,
          1261,
          1263,
          1265,
          1267,
          1269,
          1271,
          1273,
          1275,
          1277,
          1279,
          1281,
          1283,
          1285,
          1287,
          1289,
          1291,
          1293,
          1295,
          1297,
          1299,
          1301,
          1303,
          1305,
          1307,
          1309,
          1311,
          1313,
          1315,
          1317,
          1319,
          1321,
          1323,
          1325,
          1327,
          1329,
          1331,
          1333,
          1335,
          1337,
          1339,
          1341,
          1343,
          1345,
          1347,
          1349,
          1351,
          1353,
          1355,
          1357,
          1359,
          1361,
          1363,
          1365,
          1367,
          1369,
          1371,
          1373,
          1375,
          1377,
          1379,
          1381,
          1383,
          1385,
          1387,
          1389,
          1391,
          1393,
          1395,
          1397,
          1399,
          1401,
          1403,
          1405,
          1407,
          1409,
          1411,
          1413,
          1415,
          1417,
          1419,
          1421,
          1423,
          1425,
          1427,
          1429,
          1431,
          1433,
          1435,
          1437,
          1439,
          1441,
          1443,
          1445,
          1447,
          1449,
          1451,
          1453,
          1455,
          1457,
          1459,
          1461,
          1463,
          1465,
          1467,
          1469,
          1471,
          1473,
          1475,
          1477,
          1479,
          1481,
          1483,
          1485,
          1487,
          1489,
          1491,
          1493,
          1495,
          1497,
          1499,
          1501,
          1503,
          1505,
          1507,
          1509,
          1511,
          1513,
          1515,
          1517,
          1519,
          1521,
          1523,
          1525,
          1527,
          1529,
          1531,
          1533,
          1535,
          1537,
          1539,
          1541,
          1543,
          1545,
          1547,
          1549,
          1551,
          1553,
          1555,
          1557,
          1559,
          1561,
          1563,
          1565,
          1567,
          1569,
          1571,
          1573,
          1575,
          1577,
          1579,
          1581,
          1583,
          1585,
          1587,
          1589,
          1591,
          1593,
          1595,
          1597,
          1599,
          1601,
          1603,
          1605,
          1607,
          1609,
          1611,
          1613,
          1615,
          1617,
          1619,
          1621,
          1623,
          1625,
          1627,
          1629,
          1631,
          1633,
          1635,
          1637,
          1639,
          1641,
          1643,
          1645,
          1647,
          1649,
          1651,
          1653,
          1655,
          1657,
          1659,
          1661,
          1663,
          1665,
          1667,
          1669,
          1671,
          1673,
          1675,
          1677,
          1679,
          1681,
          1683,
          1685,
          1687,
          1689,
          1691,
          1693,
          1695,
          1697,
          1699,
          1701,
          1703,
          1705,
          1707,
          1709,
          1711,
          1713,
          1715,
          1717,
          1719,
          1721,
          1723,
          1725,
          1727,
          1729,
          1731,
          1733,
          1735,
          1737,
          1739,
          1741,
          1743,
          1745,
          1747,
          1749,
          1751,
          1753,
          1755,
          1757,
          1759,
          1761,
          1763,
          1765,
          1767,
          1769,
          1771,
          1773,
          1775,
          1777,
          1779,
          1781,
          1783,
          1785,
          1787,
          1789,
          1791,
          1793,
          1795,
          1797,
          1799,
          1801,
          1803,
          1805,
          1807,
          1809,
          1811,
          1813,
          1815,
          1817,
          1819,
          1821,
          1823,
          1825,
          1827,
          1829,
          1831,
          1833,
          1835,
          1837,
          1839,
          1841,
          1843,
          1845,
          1847,
          1849,
          1851,
          1853,
          1855,
          1857,
          1859,
          1861,
          1863,
          1865,
          1867,
          1869,
          1871,
          1873,
          1875,
          1877,
          1879,
          1881,
          1883,
          1885,
          1887,
          1889,
          1891,
          1893,
          1895,
          1897,
          1899,
          1901,
          1903,
          1905,
          1907,
          1909,
          1911,
          1913,
          1915,
          1917,
          1919,
          1921,
          1923,
          1925,
          1927,
          1929,
          1931,
          1933,
          1935,
          1937,
          1939,
          1941,
          1943,
          1945,
          1947,
          1949,
          1951,
          1953,
          1955,
          1957,
          1959,
          1961,
          1963,
          1965,
          1967,
          1969,
          1971,
          1973,
          1975,
          1977,
          1979,
          1981,
          1983,
          1985,
          1987,
          1989,
          1991,
          1993,
          1995,
          1997,
          1999
         ],
         "y": [
          6.706835717652992e-06,
          2.441725716510388e-06,
          2.632400002247388e-06,
          2.9647757141252183e-06,
          3.0105199974579067e-06,
          3.1839242884806088e-06,
          3.3442457112999238e-06,
          3.5086485695501327e-06,
          6.230712855800188e-06,
          4.016765716577149e-06,
          6.099194285655228e-06,
          4.338187146848733e-06,
          6.938049996928645e-06,
          4.620757138452194e-06,
          5.6828485685400665e-06,
          7.688554284998515e-06,
          7.068485714886005e-06,
          7.930218572645182e-06,
          1.0813510000714032e-05,
          6.392712860230989e-06,
          6.20002999962058e-06,
          6.007300001199057e-06,
          5.635012855366637e-06,
          5.465111436413802e-06,
          5.284630005917279e-06,
          9.488308566817849e-06,
          1.0199609995262498e-05,
          9.567611427233454e-06,
          9.851402852031503e-06,
          6.794472849703327e-06,
          7.232882856312373e-06,
          7.008028566945412e-06,
          6.757282860365063e-06,
          1.141277142648635e-05,
          1.1651725713558596e-05,
          1.3829121424870597e-05,
          8.184285712299502e-06,
          8.304907140492496e-06,
          8.42351856980323e-06,
          1.0041622858157747e-05,
          1.1113041429260713e-05,
          1.1131301432344895e-05,
          9.889638567983638e-06,
          9.825848571511284e-06,
          9.986865711003439e-06,
          9.365138570761439e-06,
          8.172609998707361e-06,
          1.3256287145070794e-05,
          1.44365228568079e-05,
          1.1848994282835131e-05,
          1.0325720000504848e-05,
          9.274328570297387e-06,
          9.577614281235064e-06,
          9.211802857212856e-06,
          1.5832652853922422e-05,
          1.5000332854729746e-05,
          1.2885188573688668e-05,
          1.2353422859762629e-05,
          1.0859697140404024e-05,
          9.918131425885285e-06,
          9.95049714349859e-06,
          1.562536285616391e-05,
          1.4339122855225079e-05,
          1.4582512857097234e-05,
          1.1745939999465398e-05,
          1.1151374284444113e-05,
          1.089760286049568e-05,
          1.6997018569132448e-05,
          1.815301000013798e-05,
          1.4613378571084466e-05,
          1.1891655711744012e-05,
          1.2095339994370336e-05,
          1.196351428006892e-05,
          1.7775788575298585e-05,
          1.9859294284937535e-05,
          1.3829515711612269e-05,
          1.493533142430741e-05,
          1.3532898574339924e-05,
          1.9597931428247e-05,
          2.242313857485507e-05,
          1.7979412854661603e-05,
          1.4260451425798236e-05,
          1.3104265713731627e-05,
          1.9394229995149154e-05,
          1.860289000043329e-05,
          1.8227094283897066e-05,
          1.5152635714912323e-05,
          1.3750379998132953e-05,
          1.9315207144765212e-05,
          2.760802857145401e-05,
          1.5455669999937526e-05,
          1.4358518570328931e-05,
          1.5483245715586235e-05,
          5.071153571407194e-05,
          1.8338875709430012e-05,
          1.771371142240241e-05,
          1.5096318568664303e-05,
          5.1307260000612594e-05,
          1.9240322856473668e-05,
          1.8779995708817817e-05,
          1.5913801427294467e-05,
          5.037795000004864e-05,
          1.9996647144060785e-05,
          1.9377914289049967e-05,
          1.647489714222112e-05,
          2.3882275716979558e-05,
          2.453007429202054e-05,
          1.929504142805984e-05,
          2.1505762857226988e-05,
          2.714637714494269e-05,
          3.5529037140804577e-05,
          2.579521714454001e-05,
          5.5748087140403063e-05,
          2.7575601426568547e-05,
          1.783346571495973e-05,
          2.3552019998273207e-05,
          2.2417771425742623e-05,
          2.140530714054226e-05,
          2.498316000388253e-05,
          2.0715551428500996e-05,
          2.0595821429846443e-05,
          2.532475714490699e-05,
          2.6636034282481493e-05,
          2.275957570288613e-05,
          2.7871468573721363e-05,
          2.6629254285320968e-05,
          2.0217728571359272e-05,
          3.0122195715063887e-05,
          2.3829938571517623e-05,
          2.1988621431644008e-05,
          2.8146512857866968e-05,
          2.9071745713216447e-05,
          2.317280000300213e-05,
          2.893415428583726e-05,
          3.0461194289403334e-05,
          2.741496285515105e-05,
          3.408890999708092e-05,
          2.727932999602801e-05,
          2.1977037140459287e-05,
          2.947109714243977e-05,
          2.756069428089956e-05,
          2.185368571580121e-05,
          3.2275604283183515e-05,
          2.4925551429727678e-05,
          2.3525641429712e-05,
          3.244339428420062e-05,
          3.028315571490176e-05,
          2.1859100000126224e-05,
          5.231032713969138e-05,
          2.836071857278252e-05,
          2.3528369999569675e-05,
          5.9753039999382714e-05,
          2.7531458573711072e-05,
          2.7931438572912678e-05,
          3.165794571551877e-05,
          2.799147143118067e-05,
          3.1143311428292825e-05,
          3.251566714295352e-05,
          2.9953078574180842e-05,
          2.6916772860983786e-05,
          3.5883590005271664e-05,
          2.951035142749399e-05,
          3.2984958569224025e-05,
          3.4282928564997356e-05,
          3.803717428257057e-05,
          3.0222517138359502e-05,
          3.5555205714834816e-05,
          3.064150142693377e-05,
          3.452531000220915e-05,
          3.0491867143739782e-05,
          3.6256072856174015e-05,
          3.223257713865938e-05,
          3.958897000172458e-05,
          4.185270856916239e-05,
          7.548476285332331e-05,
          3.218923999936253e-05,
          3.605583428777338e-05,
          3.4420202854172586e-05,
          3.592965857283811e-05,
          4.016173857443001e-05,
          3.755957857200493e-05,
          3.391043857066377e-05,
          3.422642285970921e-05,
          3.255600000037313e-05,
          3.726326143285925e-05,
          2.8091952857981336e-05,
          3.8026917149441684e-05,
          4.12153514246581e-05,
          3.9975638568908576e-05,
          3.4526311428635384e-05,
          4.0797047141885355e-05,
          3.485320285627885e-05,
          4.087433856901563e-05,
          3.537438285742871e-05,
          3.990607285751529e-05,
          4.573925142332362e-05,
          4.35411442854924e-05,
          3.597952713919637e-05,
          6.940373713795064e-05,
          3.3773310005926755e-05,
          4.718768571755e-05,
          3.587690428893049e-05,
          4.111336285599723e-05,
          3.532550143063417e-05,
          4.397799428781062e-05,
          3.854775428668031e-05,
          4.36443971427382e-05,
          3.602552428544316e-05,
          4.270659285664026e-05,
          3.616953571119146e-05,
          4.2083767137747996e-05,
          3.7606905713931024e-05,
          4.568106285920034e-05,
          3.7475804290027424e-05,
          4.2724028571683444e-05,
          3.849337999261999e-05,
          4.8500328570558585e-05,
          3.769109571814105e-05,
          4.668019428208936e-05,
          3.930747428707296e-05,
          5.309687714283688e-05,
          3.762055999946564e-05,
          4.884349714432444e-05,
          3.979420428939713e-05,
          5.0269709998766684e-05,
          4.123183999711598e-05,
          4.934602142904104e-05,
          3.775797570986989e-05,
          4.634952857096713e-05,
          3.811680285642589e-05,
          4.7982704283120784e-05,
          3.866696571484291e-05,
          4.4567308572628206e-05,
          4.0815100001054815e-05,
          4.60660542869716e-05,
          3.876040142651097e-05,
          5.2893797141483176e-05,
          3.4368701427800784e-05,
          4.424163714637481e-05,
          3.46421557125203e-05,
          5.01326042857337e-05,
          3.886169428629468e-05,
          4.939071285791994e-05,
          3.824938428546635e-05,
          8.088171428555921e-05,
          3.954744999906065e-05,
          7.885943000344145e-05,
          4.027069714408884e-05,
          4.816424428229637e-05,
          4.041668571517221e-05,
          4.669461428420618e-05,
          3.580140572012169e-05,
          4.6220560000490086e-05,
          3.6242074282719315e-05,
          4.832061571505619e-05,
          3.873196428425477e-05,
          5.151009285587602e-05,
          5.415980857183708e-05,
          5.596712857108546e-05,
          3.837608285331433e-05,
          5.062899714435584e-05,
          3.715733856941889e-05,
          5.2050405715168124e-05,
          4.4658224287559274e-05,
          5.0593708570626674e-05,
          5.72449614290755e-05,
          5.26019842826437e-05,
          4.3526871431822654e-05,
          4.813261571273739e-05,
          3.836693428248899e-05,
          5.140493285580305e-05,
          3.864900571768106e-05,
          5.089965571512168e-05,
          3.9486588570330895e-05,
          5.389088714374728e-05,
          3.89949242864012e-05,
          5.203654142470831e-05,
          3.9323565711778694e-05,
          5.3115729998743124e-05,
          4.0491568569060684e-05,
          5.217321857084504e-05,
          3.989496285482476e-05,
          5.2271824281758336e-05,
          3.986862571244793e-05,
          5.1617638569691086e-05,
          4.044800999898663e-05,
          5.2202227146023825e-05,
          4.047673142849817e-05,
          5.5291922859136586e-05,
          4.308180285858856e-05,
          5.585358857518128e-05,
          4.094851857059568e-05,
          5.464733000085939e-05,
          4.161787000027418e-05,
          5.535580714422395e-05,
          4.187285428737856e-05,
          5.496970000292225e-05,
          4.20122342828628e-05,
          5.289522000436721e-05,
          4.2290214285977915e-05,
          5.6455699996149634e-05,
          4.379069143396919e-05,
          6.36541257154022e-05,
          4.2911220002029686e-05,
          6.076958857063022e-05,
          4.301329428406981e-05,
          5.7692101428464026e-05,
          4.334750285644467e-05,
          5.7997497141124254e-05,
          4.352737285704019e-05,
          6.2633002858742e-05,
          4.3715058571771284e-05,
          5.6001871427205116e-05,
          4.419526857028749e-05,
          5.993371142851953e-05,
          4.961141857295713e-05,
          9.836773571545824e-05,
          5.176515571552695e-05,
          6.253572285848871e-05,
          5.385052000097598e-05,
          5.4992177143243946e-05,
          4.497200713948197e-05,
          5.922365285836609e-05,
          5.597689714444901e-05,
          5.8971324282798105e-05,
          4.596079999568506e-05,
          8.45856114340547e-05,
          6.323333286283221e-05,
          7.440778857146923e-05,
          6.663518571388393e-05,
          6.666570714514818e-05,
          5.7353932856390846e-05,
          4.780995000276432e-05,
          8.788771000191836e-05,
          6.5016985710307e-05,
          6.444860857040372e-05,
          6.907481571293568e-05,
          9.453812428806229e-05,
          6.545844428338959e-05,
          6.22649485688141e-05,
          6.11554071370587e-05,
          4.789753856779758e-05,
          7.703626286456711e-05,
          6.201353571668731e-05,
          6.4128824285165e-05,
          6.0500694284460876e-05,
          6.8334211430608e-05,
          6.6314147144502e-05,
          7.100782571537171e-05,
          7.061720714253689e-05,
          6.967512285752621e-05,
          6.388343570766405e-05,
          7.90592899985703e-05,
          7.358175857007154e-05,
          6.562071429081177e-05,
          6.826315143241247e-05,
          6.47499742808577e-05,
          9.547910999961978e-05,
          9.877348428355098e-05,
          6.293348000066804e-05,
          7.038056284987501e-05,
          7.265280142746635e-05,
          7.247333428365113e-05,
          7.73959557123557e-05,
          6.775100856819856e-05,
          6.680623570771006e-05,
          6.521264857188466e-05,
          6.932515857053138e-05,
          5.942802571163546e-05,
          7.968544428357356e-05,
          6.086267142953666e-05,
          6.582034285591883e-05,
          6.397327571383877e-05,
          6.589166714288045e-05,
          6.424047285690903e-05,
          7.638062571069376e-05,
          8.139219714004346e-05,
          6.58805385683081e-05,
          6.786327856908818e-05,
          7.409904999803984e-05,
          8.021618428496627e-05,
          7.804012857117674e-05,
          7.236042285512668e-05,
          6.846052856937084e-05,
          6.442920999688795e-05,
          6.916293999893241e-05,
          8.294741857493395e-05,
          7.162409714250577e-05,
          7.044199714333185e-05,
          7.344151142855741e-05,
          8.149387286331537e-05,
          9.769021714808853e-05,
          7.736264000413939e-05,
          8.1988564288622e-05,
          7.38041057099638e-05,
          8.780321142434591e-05,
          6.908086428406283e-05,
          7.337683143175257e-05,
          6.620871571223168e-05,
          7.138172714154019e-05,
          6.98708228576704e-05,
          7.087388714353437e-05,
          6.981197999526299e-05,
          7.707120856918793e-05,
          7.64702157123663e-05,
          7.545527571502525e-05,
          7.309905000771063e-05,
          7.538133142588774e-05,
          7.531045571470584e-05,
          7.328659428302282e-05,
          7.633999428695201e-05,
          7.790982285899058e-05,
          9.111290142235312e-05,
          7.907930285520186e-05,
          9.853918428624248e-05,
          8.947869857105876e-05,
          7.291624999717375e-05,
          7.195144857178093e-05,
          7.199668285466033e-05,
          7.7474855715991e-05,
          7.34253071407563e-05,
          7.350739428407647e-05,
          7.41331528583292e-05,
          7.695758713972672e-05,
          6.906545428137179e-05,
          7.03031742887106e-05,
          7.29285200005896e-05,
          0.00010927833570739104,
          7.43946271411135e-05,
          7.636543714657559e-05,
          9.547194428055912e-05,
          9.22638271445716e-05,
          7.527308428377313e-05,
          8.898792571406895e-05,
          9.679390571753696e-05,
          8.154265142885769e-05,
          8.10037371463425e-05,
          7.710750428356863e-05,
          7.982066856909244e-05,
          7.859653571358649e-05,
          8.200746714334984e-05,
          7.374599428658257e-05,
          8.092034143243966e-05,
          8.085150571267671e-05,
          8.689663000300892e-05,
          7.686714429187956e-05,
          7.450998857166271e-05,
          8.229036286138581e-05,
          7.82207642857559e-05,
          7.872697856977798e-05,
          8.241952571812104e-05,
          0.00011091881571181668,
          7.772782428219218e-05,
          8.223522000272559e-05,
          8.272860428405693e-05,
          8.107322999941451e-05,
          8.219629285511994e-05,
          8.607929428243162e-05,
          8.217596285508729e-05,
          9.066182571457052e-05,
          8.098343428563177e-05,
          7.97847642830415e-05,
          7.948456571414552e-05,
          0.00010465035429141218,
          7.739445428731934e-05,
          8.058870999905462e-05,
          7.911895999963496e-05,
          8.156195000213173e-05,
          7.969477714401105e-05,
          8.055863142934477e-05,
          8.243425428840314e-05,
          8.418317286019114e-05,
          0.00010639403142704396,
          8.310004714335915e-05,
          8.372768428671408e-05,
          8.364848285054904e-05,
          8.342947856622882e-05,
          8.34727971414395e-05,
          9.808598285547177e-05,
          8.931655428438846e-05,
          8.449279285352013e-05,
          8.388346714387547e-05,
          7.918080285370317e-05,
          8.339818857036465e-05,
          8.218847714358292e-05,
          8.295705571072176e-05,
          8.059327143200788e-05,
          8.41516014276879e-05,
          8.029762857144566e-05,
          8.271684571289891e-05,
          8.164602714324637e-05,
          8.336154571484907e-05,
          8.579784571338678e-05,
          9.20089785748652e-05,
          8.550494999976115e-05,
          8.574224856991868e-05,
          8.610259857180479e-05,
          8.760237714211274e-05,
          9.193974857355768e-05,
          8.781759143208286e-05,
          8.889503999723405e-05,
          9.372551857398192e-05,
          9.093585429062452e-05,
          8.801564571123371e-05,
          9.41972985726482e-05,
          8.750075428906712e-05,
          8.819757285371971e-05,
          8.527887142918189e-05,
          9.238659571305364e-05,
          8.774120714016525e-05,
          9.094726285444007e-05,
          8.838981143136542e-05,
          9.321907000412465e-05,
          9.33849099991286e-05,
          9.191296285799972e-05,
          8.639767571366976e-05,
          9.40338771475321e-05,
          9.408216285789552e-05,
          8.736857571160986e-05,
          9.55771342861616e-05,
          8.606005714162685e-05,
          8.718715286054897e-05,
          8.636959714099897e-05,
          8.752579571332069e-05,
          8.708476428572405e-05,
          8.822019713988995e-05,
          8.785405143238936e-05,
          8.472279856505338e-05,
          8.855080856457269e-05,
          8.559671000122242e-05,
          9.018881857108292e-05,
          8.813809714411036e-05,
          8.913138142816024e-05,
          8.816003999787167e-05,
          8.911046571613821e-05,
          9.036560714386203e-05,
          8.958414713820925e-05,
          8.956233428762062e-05,
          8.899595999797124e-05,
          9.03061514275448e-05,
          9.0480267138316e-05,
          9.119192142731792e-05,
          9.004242285560135e-05,
          9.080159714618016e-05,
          9.09651728553789e-05,
          9.049994999908709e-05,
          8.98372899921794e-05,
          8.946115428833374e-05,
          9.016321428654399e-05,
          9.086537570900483e-05,
          8.898973143004697e-05,
          9.044511427938621e-05,
          8.964060142586407e-05,
          9.023947999594383e-05,
          9.010696713760677e-05,
          9.412305571199144e-05,
          9.753594714181545e-05,
          8.792609714354123e-05,
          9.530212571657364e-05,
          0.00011187151714433899,
          0.000116822752853685,
          0.00011888324000080632,
          8.944250857374365e-05,
          9.861311857613536e-05,
          9.201167285677262e-05,
          8.765618571487722e-05,
          9.725075143121232e-05,
          9.367262285845103e-05,
          9.527932000440029e-05,
          9.9239712859084e-05,
          9.325863143073675e-05,
          9.381818142563652e-05,
          9.513032857025142e-05,
          9.084614428242535e-05,
          9.852942714132951e-05,
          0.00010425322856722882,
          0.00011191128999988516,
          0.00011029890000177796,
          0.00010855925286055677,
          9.749499999868149e-05,
          0.00011707920142985779,
          0.00010246722142515604,
          0.00010247314571513144,
          0.00011299970286147851,
          0.00011337156571503979,
          0.00010695971285843242,
          8.478157143274855e-05,
          0.00011026904286024678,
          9.471152857388785e-05,
          8.787805143063971e-05,
          9.10773371418015e-05,
          0.00010449697285886422,
          0.00011042943428297544,
          8.395501571482911e-05,
          8.396172857309077e-05,
          8.423708000139284e-05,
          8.672915857200029e-05,
          8.496425999900177e-05,
          8.561443571514766e-05,
          0.00010979906999637024,
          0.00010376737571277773,
          9.967371571422388e-05,
          9.54752285750666e-05,
          8.509582571215495e-05,
          8.769147143019447e-05,
          0.0001001453085700632,
          0.00011552277714924587,
          8.744358427845457e-05,
          0.00010707453000057804,
          8.887760714060278e-05,
          9.030879428662178e-05,
          9.49133628585384e-05,
          9.038560999865044e-05,
          8.724453000208346e-05,
          8.59958300030225e-05,
          9.087121571480696e-05,
          9.97174742847814e-05,
          8.638289428875266e-05,
          0.00011024587285386846,
          8.991165857358803e-05,
          0.00010028542142858248,
          0.00011295340285349605,
          0.00012395318428648998,
          0.00011629759999777888,
          0.00011183206142439822,
          0.00011524061284944764,
          0.00012038305857848691,
          0.00010928981856912808,
          0.00011157328000211108,
          0.00011514048999483098,
          0.00011290093714446162,
          0.00011323777856887316,
          0.00011669366857469348,
          0.00012589993857026066,
          0.00010640945857241084,
          9.945781571721974e-05,
          0.0001110061128565576,
          0.000101865178569694,
          0.00010878549856767806,
          0.00012241991142478324,
          0.00010690767285788232,
          0.00010708079285385405,
          0.00010298924142521822,
          0.00011592478571661298,
          9.792753286092192e-05,
          0.00010677854999552696,
          9.896057285784211e-05,
          0.00010661758713987573,
          0.000114659175716432,
          0.00010158048428690692,
          0.00011156781142614948,
          0.00010367702142892603,
          0.00010739342857310216,
          0.00010594474428476782,
          0.00010377259285762974,
          0.00010647878285453773,
          0.00010444030856888276,
          0.00010623272000365042,
          0.00010054062857047288,
          0.00010571282714538809,
          0.00012882408143143818,
          0.00010132767857482708,
          0.00010732050571407725,
          0.00010192610857692282,
          0.00015022377857219128,
          0.00012530296571380207,
          0.00010776897999936148,
          0.00011321515000028221,
          0.00011673696285600142,
          0.00013180179856915077,
          0.00013158585571155918,
          0.00011786375285217737,
          0.00012248503428314246,
          0.0001406176914289452,
          0.00012154985428683826,
          0.00011600044000130896,
          0.0001697065057175808,
          0.00011660004142218635,
          0.00011095310285652106,
          0.00015722327428323166,
          0.00013318541142455485,
          0.00011106180857625857,
          0.000144694298570747,
          0.00011597493142679534,
          0.00011240587999834265,
          0.00013488420714566018,
          0.00011194857142982073,
          0.0001421295300003424,
          0.00011947474856892119,
          0.00015748975285532652,
          0.00011762227856836811,
          0.00010568429000029158,
          0.00011300779285582915,
          0.00011794985285762649,
          0.00011266587000396353,
          0.00011642054714684492,
          0.0001070543271375105,
          0.00010993695714205389,
          0.00010615115571324295,
          0.00010650437142560674,
          0.00011406863428679311,
          0.00010881820571220098,
          0.00011356183857320242,
          0.0001240111828545715,
          0.0001363299457157804,
          0.00013544679000135928,
          0.00013468749856786286,
          0.00012024574856695835,
          0.00011529349142749975,
          0.00013297857571420278,
          0.00011518429000196712,
          0.00010930531571180576,
          0.0001327667542864219,
          0.00016919076999848974,
          0.00017695300570786852,
          0.00014561080857414968,
          0.0001692133657161321,
          0.00014549720571397173,
          0.00012425822571718266,
          0.00013534987285571072,
          0.0001344640614297532,
          0.0001565254114315654,
          0.00014073309714668928,
          0.0001182081157146188,
          0.00011969671714333732,
          0.00012163677999914009,
          0.00011903359571338765,
          0.0001339979585723735,
          0.00012612009285866015,
          0.00011988457714064031,
          0.00012247396000020672,
          0.00012110403142807107,
          0.00013577804713869616,
          0.00012755548285505418,
          0.0001256800514238421,
          0.00012286210142649777,
          0.0001230105414314104,
          0.00014054933285868694,
          0.00011890382429036045,
          0.00013635799714653072,
          0.00013505661714329368,
          0.00012586008571815907,
          0.00014250313143098278,
          0.0001217001957125571,
          0.00012532493571727952,
          0.00012978573571152606,
          0.00013310445713744098,
          0.000128294319996972,
          0.00012104042571601374,
          0.0001202098914265142,
          0.00012585136857264193,
          0.0001229673599976065,
          0.00013026391143025,
          0.0001275703328584703,
          0.0001421405685687205,
          0.00012361935142897506,
          0.0001243402985710418,
          0.0001269237857117592,
          0.00014824957142731623,
          0.00014036909857168212,
          0.00013329380428331206,
          0.0001318464528568646,
          0.0001326949628517988,
          0.00012351348856879798,
          0.00012264136857213868,
          0.00012518734571650774,
          0.0001343866557155187,
          0.00013198918999998046,
          0.0001261617171439866,
          0.00012759501142552056,
          0.0001237699385689796,
          0.00013836880000131453,
          0.00013240224571356,
          0.00012579793000051204,
          0.0001282130142863025,
          0.00012700299285435383,
          0.0001307462028541652,
          0.00012541815714679875,
          0.00012650546714212396,
          0.00012630187428710218,
          0.00012185773999590312,
          0.0001301524457189121,
          0.00012496812857144894,
          0.000128098455710902,
          0.00012793470286071948,
          0.0001296487671424984,
          0.0001297826599979349,
          0.00012927186714348083,
          0.00013154567000258664,
          0.0001272754399958233,
          0.00012441106857295382,
          0.0001289658914330565,
          0.00012851721571288568,
          0.00013058180571533741,
          0.00012801496714018868,
          0.0001341281957112577,
          0.0001297083585710165,
          0.00012376396999700642,
          0.0001297182428606902,
          0.0001285083642817751,
          0.00014148408713871114,
          0.00012803407571482242,
          0.00013549161285741971,
          0.00012987926000278095,
          0.00013668678142754028,
          0.00013302352571242538,
          0.00012908084285819706,
          0.0001292116657142677,
          0.00013035407142524493,
          0.00013206824428250131,
          0.00013102287142828574,
          0.00013455397857407142,
          0.0001447306957119768,
          0.00013424328856802146,
          0.0001268466914318976,
          0.000131803122860999,
          0.00015882410428665544,
          0.00015739762427983804,
          0.00013138421428396084,
          0.0001333602557107432,
          0.00013482615856836284,
          0.00013256971571276412,
          0.00013873209571621764,
          0.00013333713714018812,
          0.0001379505742884898,
          0.0001344015828596769,
          0.000129388874286503,
          0.00014044836428053845,
          0.00012792736571230176,
          0.00013074612142840384,
          0.00013057392856873258,
          0.00013343363571038935,
          0.0001308023228557431,
          0.00015271126571471023,
          0.00014688762142343745,
          0.00014859801714140174,
          0.00014774800428442956,
          0.00014834902285916282,
          0.00014840666285765891,
          0.00014760470714203882,
          0.00014806961571334147,
          0.000148460228571951,
          0.0001474793128597542,
          0.00014705267571376419,
          0.00014925315285706478,
          0.000150505417142475,
          0.00015068691428626023,
          0.00014929099571548118,
          0.00013831673714126476,
          0.00013094452571489718,
          0.00013727355713854194,
          0.0001333717500009308,
          0.00013651679285820657,
          0.00013266000999595105,
          0.00013384963857138898,
          0.0001330226900037295,
          0.00013419823715074536,
          0.00013418686428329758,
          0.0001309363314326869,
          0.0001352199057120223,
          0.00013365866999395494,
          0.00013950703856867872,
          0.00013486222857214412,
          0.00013844438285689519,
          0.00013401109428741621,
          0.00013445932857263998,
          0.00013581774142429432,
          0.00013910739571136737,
          0.00013658053428766185,
          0.0001389914514220436,
          0.00013623404142760722,
          0.00013342786428828342,
          0.0001416847314275011,
          0.00013571515143017416,
          0.00013695000285744236,
          0.00013672628713850695,
          0.00013761083714468572,
          0.00013762537000210222,
          0.0001381878671418235,
          0.00013580106571420663,
          0.00014156547142972289,
          0.00013698845428734786,
          0.0001403476257136,
          0.0001377953557104255,
          0.00014230062999818723,
          0.00013899316713962307,
          0.00014211457999668448,
          0.00013954766428599084,
          0.00014055324857378896,
          0.00013738945571146492,
          0.00014277508856788958,
          0.00013841983857283986,
          0.00014203699285644689,
          0.00014831898285722544,
          0.000138052555716318,
          0.0001398673671428696,
          0.00014091216714794952,
          0.000138646728571205,
          0.00014772601285325697,
          0.0001389197500014104,
          0.00013778587999695445,
          0.00013906009428475433,
          0.00013510232285885392,
          0.0001384728214335545,
          0.0001397896000032363,
          0.00013843531714103716,
          0.00014071858857278132,
          0.00014301398428350306,
          0.00014089408571505503,
          0.00014183447143035927,
          0.00014318487999844367,
          0.000142087438569953,
          0.00014151347285275864,
          0.00014083854571383977,
          0.00014201520000174891,
          0.00014257345857134038,
          0.0001650768600016558,
          0.0001639718600017659,
          0.00016355870714375795,
          0.00014156040285992534,
          0.00014111098428786916,
          0.000164391350000577,
          0.00016517632285155873,
          0.0001643274371469618,
          0.0001677847900022503,
          0.00014667812857494154,
          0.0001756218728535584,
          0.00016690742571362144,
          0.00014529658857749642,
          0.0001436631814327224,
          0.00014446542142520358,
          0.00014360557000535275,
          0.00014514453142900106,
          0.00014223749143119286,
          0.00014929969571572394,
          0.00014294680285924447,
          0.00014604490571270748,
          0.00014345362428295108,
          0.00014664174428357258,
          0.00015425571428360333,
          0.0001686330914318595,
          0.00017032556285682534,
          0.00015700012285638616,
          0.0001408615371422327,
          0.00014404121570935657,
          0.00014498784570865348,
          0.00014531944428329422,
          0.00017403687428148778,
          0.00014474434571768924,
          0.00014528403714263866,
          0.0001465013528572204,
          0.00014488340999897837,
          0.0001461637257151389,
          0.00015065673856952343,
          0.0001496079314243356,
          0.00015060424856918483,
          0.00014750354999965305,
          0.00014888811714367225,
          0.00014757804856864302,
          0.0001501725642862896,
          0.00014602134857081441,
          0.00015273023428692665,
          0.0001461707942819755,
          0.00015102456142163386,
          0.00015221531285923058,
          0.0001482903699979943,
          0.00014703624285695175,
          0.0001482155528615944,
          0.00014756996714692958,
          0.00014857367428703584,
          0.00014829123000319148,
          0.0001752245957115,
          0.00015397941428610854,
          0.00014813723428492914,
          0.00015137537285616937,
          0.00014814218142678978,
          0.00015177935714226417,
          0.00015052216428947367,
          0.00015099188571444496,
          0.0001470928971476886,
          0.00015531050285842087,
          0.00014665795571740348,
          0.00017176284285596918,
          0.00016389279428819593,
          0.0001709779214330151,
          0.00016591910428490208,
          0.00017343646000361854,
          0.00015222229714449242,
          0.00015171847285663328,
          0.0001520223785727077,
          0.00015166746285363584,
          0.00015668640000512823,
          0.00015230802572010102,
          0.00015759680714576722,
          0.00017611132857252545,
          0.00015265364428289886,
          0.00015619617999878494,
          0.00015389258428383202,
          0.0001473515042900025
         ]
        },
        {
         "name": "base",
         "type": "scatter",
         "x": [
          3,
          5,
          7,
          9,
          11,
          13,
          15,
          17,
          19,
          21,
          23,
          25,
          27,
          29,
          31,
          33,
          35,
          37,
          39,
          41,
          43,
          45,
          47,
          49,
          51,
          53,
          55,
          57,
          59,
          61,
          63,
          65,
          67,
          69,
          71,
          73,
          75,
          77,
          79,
          81,
          83,
          85,
          87,
          89,
          91,
          93,
          95,
          97,
          99,
          101,
          103,
          105,
          107,
          109,
          111,
          113,
          115,
          117,
          119,
          121,
          123,
          125,
          127,
          129,
          131,
          133,
          135,
          137,
          139,
          141,
          143,
          145,
          147,
          149,
          151,
          153,
          155,
          157,
          159,
          161,
          163,
          165,
          167,
          169,
          171,
          173,
          175,
          177,
          179,
          181,
          183,
          185,
          187,
          189,
          191,
          193,
          195,
          197,
          199,
          201,
          203,
          205,
          207,
          209,
          211,
          213,
          215,
          217,
          219,
          221,
          223,
          225,
          227,
          229,
          231,
          233,
          235,
          237,
          239,
          241,
          243,
          245,
          247,
          249,
          251,
          253,
          255,
          257,
          259,
          261,
          263,
          265,
          267,
          269,
          271,
          273,
          275,
          277,
          279,
          281,
          283,
          285,
          287,
          289,
          291,
          293,
          295,
          297,
          299,
          301,
          303,
          305,
          307,
          309,
          311,
          313,
          315,
          317,
          319,
          321,
          323,
          325,
          327,
          329,
          331,
          333,
          335,
          337,
          339,
          341,
          343,
          345,
          347,
          349,
          351,
          353,
          355,
          357,
          359,
          361,
          363,
          365,
          367,
          369,
          371,
          373,
          375,
          377,
          379,
          381,
          383,
          385,
          387,
          389,
          391,
          393,
          395,
          397,
          399,
          401,
          403,
          405,
          407,
          409,
          411,
          413,
          415,
          417,
          419,
          421,
          423,
          425,
          427,
          429,
          431,
          433,
          435,
          437,
          439,
          441,
          443,
          445,
          447,
          449,
          451,
          453,
          455,
          457,
          459,
          461,
          463,
          465,
          467,
          469,
          471,
          473,
          475,
          477,
          479,
          481,
          483,
          485,
          487,
          489,
          491,
          493,
          495,
          497,
          499,
          501,
          503,
          505,
          507,
          509,
          511,
          513,
          515,
          517,
          519,
          521,
          523,
          525,
          527,
          529,
          531,
          533,
          535,
          537,
          539,
          541,
          543,
          545,
          547,
          549,
          551,
          553,
          555,
          557,
          559,
          561,
          563,
          565,
          567,
          569,
          571,
          573,
          575,
          577,
          579,
          581,
          583,
          585,
          587,
          589,
          591,
          593,
          595,
          597,
          599,
          601,
          603,
          605,
          607,
          609,
          611,
          613,
          615,
          617,
          619,
          621,
          623,
          625,
          627,
          629,
          631,
          633,
          635,
          637,
          639,
          641,
          643,
          645,
          647,
          649,
          651,
          653,
          655,
          657,
          659,
          661,
          663,
          665,
          667,
          669,
          671,
          673,
          675,
          677,
          679,
          681,
          683,
          685,
          687,
          689,
          691,
          693,
          695,
          697,
          699,
          701,
          703,
          705,
          707,
          709,
          711,
          713,
          715,
          717,
          719,
          721,
          723,
          725,
          727,
          729,
          731,
          733,
          735,
          737,
          739,
          741,
          743,
          745,
          747,
          749,
          751,
          753,
          755,
          757,
          759,
          761,
          763,
          765,
          767,
          769,
          771,
          773,
          775,
          777,
          779,
          781,
          783,
          785,
          787,
          789,
          791,
          793,
          795,
          797,
          799,
          801,
          803,
          805,
          807,
          809,
          811,
          813,
          815,
          817,
          819,
          821,
          823,
          825,
          827,
          829,
          831,
          833,
          835,
          837,
          839,
          841,
          843,
          845,
          847,
          849,
          851,
          853,
          855,
          857,
          859,
          861,
          863,
          865,
          867,
          869,
          871,
          873,
          875,
          877,
          879,
          881,
          883,
          885,
          887,
          889,
          891,
          893,
          895,
          897,
          899,
          901,
          903,
          905,
          907,
          909,
          911,
          913,
          915,
          917,
          919,
          921,
          923,
          925,
          927,
          929,
          931,
          933,
          935,
          937,
          939,
          941,
          943,
          945,
          947,
          949,
          951,
          953,
          955,
          957,
          959,
          961,
          963,
          965,
          967,
          969,
          971,
          973,
          975,
          977,
          979,
          981,
          983,
          985,
          987,
          989,
          991,
          993,
          995,
          997,
          999,
          1001,
          1003,
          1005,
          1007,
          1009,
          1011,
          1013,
          1015,
          1017,
          1019,
          1021,
          1023,
          1025,
          1027,
          1029,
          1031,
          1033,
          1035,
          1037,
          1039,
          1041,
          1043,
          1045,
          1047,
          1049,
          1051,
          1053,
          1055,
          1057,
          1059,
          1061,
          1063,
          1065,
          1067,
          1069,
          1071,
          1073,
          1075,
          1077,
          1079,
          1081,
          1083,
          1085,
          1087,
          1089,
          1091,
          1093,
          1095,
          1097,
          1099,
          1101,
          1103,
          1105,
          1107,
          1109,
          1111,
          1113,
          1115,
          1117,
          1119,
          1121,
          1123,
          1125,
          1127,
          1129,
          1131,
          1133,
          1135,
          1137,
          1139,
          1141,
          1143,
          1145,
          1147,
          1149,
          1151,
          1153,
          1155,
          1157,
          1159,
          1161,
          1163,
          1165,
          1167,
          1169,
          1171,
          1173,
          1175,
          1177,
          1179,
          1181,
          1183,
          1185,
          1187,
          1189,
          1191,
          1193,
          1195,
          1197,
          1199,
          1201,
          1203,
          1205,
          1207,
          1209,
          1211,
          1213,
          1215,
          1217,
          1219,
          1221,
          1223,
          1225,
          1227,
          1229,
          1231,
          1233,
          1235,
          1237,
          1239,
          1241,
          1243,
          1245,
          1247,
          1249,
          1251,
          1253,
          1255,
          1257,
          1259,
          1261,
          1263,
          1265,
          1267,
          1269,
          1271,
          1273,
          1275,
          1277,
          1279,
          1281,
          1283,
          1285,
          1287,
          1289,
          1291,
          1293,
          1295,
          1297,
          1299,
          1301,
          1303,
          1305,
          1307,
          1309,
          1311,
          1313,
          1315,
          1317,
          1319,
          1321,
          1323,
          1325,
          1327,
          1329,
          1331,
          1333,
          1335,
          1337,
          1339,
          1341,
          1343,
          1345,
          1347,
          1349,
          1351,
          1353,
          1355,
          1357,
          1359,
          1361,
          1363,
          1365,
          1367,
          1369,
          1371,
          1373,
          1375,
          1377,
          1379,
          1381,
          1383,
          1385,
          1387,
          1389,
          1391,
          1393,
          1395,
          1397,
          1399,
          1401,
          1403,
          1405,
          1407,
          1409,
          1411,
          1413,
          1415,
          1417,
          1419,
          1421,
          1423,
          1425,
          1427,
          1429,
          1431,
          1433,
          1435,
          1437,
          1439,
          1441,
          1443,
          1445,
          1447,
          1449,
          1451,
          1453,
          1455,
          1457,
          1459,
          1461,
          1463,
          1465,
          1467,
          1469,
          1471,
          1473,
          1475,
          1477,
          1479,
          1481,
          1483,
          1485,
          1487,
          1489,
          1491,
          1493,
          1495,
          1497,
          1499,
          1501,
          1503,
          1505,
          1507,
          1509,
          1511,
          1513,
          1515,
          1517,
          1519,
          1521,
          1523,
          1525,
          1527,
          1529,
          1531,
          1533,
          1535,
          1537,
          1539,
          1541,
          1543,
          1545,
          1547,
          1549,
          1551,
          1553,
          1555,
          1557,
          1559,
          1561,
          1563,
          1565,
          1567,
          1569,
          1571,
          1573,
          1575,
          1577,
          1579,
          1581,
          1583,
          1585,
          1587,
          1589,
          1591,
          1593,
          1595,
          1597,
          1599,
          1601,
          1603,
          1605,
          1607,
          1609,
          1611,
          1613,
          1615,
          1617,
          1619,
          1621,
          1623,
          1625,
          1627,
          1629,
          1631,
          1633,
          1635,
          1637,
          1639,
          1641,
          1643,
          1645,
          1647,
          1649,
          1651,
          1653,
          1655,
          1657,
          1659,
          1661,
          1663,
          1665,
          1667,
          1669,
          1671,
          1673,
          1675,
          1677,
          1679,
          1681,
          1683,
          1685,
          1687,
          1689,
          1691,
          1693,
          1695,
          1697,
          1699,
          1701,
          1703,
          1705,
          1707,
          1709,
          1711,
          1713,
          1715,
          1717,
          1719,
          1721,
          1723,
          1725,
          1727,
          1729,
          1731,
          1733,
          1735,
          1737,
          1739,
          1741,
          1743,
          1745,
          1747,
          1749,
          1751,
          1753,
          1755,
          1757,
          1759,
          1761,
          1763,
          1765,
          1767,
          1769,
          1771,
          1773,
          1775,
          1777,
          1779,
          1781,
          1783,
          1785,
          1787,
          1789,
          1791,
          1793,
          1795,
          1797,
          1799,
          1801,
          1803,
          1805,
          1807,
          1809,
          1811,
          1813,
          1815,
          1817,
          1819,
          1821,
          1823,
          1825,
          1827,
          1829,
          1831,
          1833,
          1835,
          1837,
          1839,
          1841,
          1843,
          1845,
          1847,
          1849,
          1851,
          1853,
          1855,
          1857,
          1859,
          1861,
          1863,
          1865,
          1867,
          1869,
          1871,
          1873,
          1875,
          1877,
          1879,
          1881,
          1883,
          1885,
          1887,
          1889,
          1891,
          1893,
          1895,
          1897,
          1899,
          1901,
          1903,
          1905,
          1907,
          1909,
          1911,
          1913,
          1915,
          1917,
          1919,
          1921,
          1923,
          1925,
          1927,
          1929,
          1931,
          1933,
          1935,
          1937,
          1939,
          1941,
          1943,
          1945,
          1947,
          1949,
          1951,
          1953,
          1955,
          1957,
          1959,
          1961,
          1963,
          1965,
          1967,
          1969,
          1971,
          1973,
          1975,
          1977,
          1979,
          1981,
          1983,
          1985,
          1987,
          1989,
          1991,
          1993,
          1995,
          1997,
          1999
         ],
         "y": [
          4.291642861582139e-07,
          6.954542862201508e-07,
          1.0000514261524326e-06,
          1.2549314227986285e-06,
          1.6033285724656056e-06,
          1.8664800024583068e-06,
          2.0838114271880056e-06,
          3.222600002378125e-06,
          4.942497143929359e-06,
          2.855812854249962e-06,
          3.256237144211939e-06,
          3.8583257108777085e-06,
          3.697014284885621e-06,
          3.9719599979954576e-06,
          4.300724285712932e-06,
          4.820710000785766e-06,
          4.554315715462768e-06,
          5.1500971416576895e-06,
          6.018177144661813e-06,
          6.032978570666663e-06,
          5.807848569280136e-06,
          5.791451429623911e-06,
          5.5265114237304905e-06,
          5.3025442892768685e-06,
          5.2351514282885814e-06,
          6.656477141534976e-06,
          7.75627714964295e-06,
          7.776351428349569e-06,
          8.482391432543018e-06,
          7.679818575395205e-06,
          7.4747342867859905e-06,
          7.242297139912677e-06,
          6.981882860210524e-06,
          9.61631571304419e-06,
          1.088584999836582e-05,
          9.692737140929761e-06,
          8.765015710585949e-06,
          9.624152852276371e-06,
          8.934508576723083e-06,
          9.051882854172227e-06,
          1.2178115710932095e-05,
          1.0120649998758122e-05,
          9.863205712982952e-06,
          1.0176195711600093e-05,
          1.0235052858271436e-05,
          9.874847141223394e-06,
          9.765644291681903e-06,
          1.2129197142972513e-05,
          1.440553714149116e-05,
          1.3831792855073999e-05,
          1.2021238573132514e-05,
          1.2309211428406082e-05,
          1.1953772856421505e-05,
          1.132229857051113e-05,
          1.4891767142606631e-05,
          1.4835405719557974e-05,
          1.4563021426770969e-05,
          1.4019707138816428e-05,
          1.2739647146580476e-05,
          1.2502751430604672e-05,
          1.2733928576510929e-05,
          1.8117735715869848e-05,
          1.7251192860255413e-05,
          1.7085659996415155e-05,
          1.4908504285163614e-05,
          1.4020151426978244e-05,
          1.4015875713084823e-05,
          2.0621234289137646e-05,
          2.043880571363843e-05,
          1.6486669995044526e-05,
          2.0324934284872144e-05,
          1.58450300036098e-05,
          1.5374409997873175e-05,
          1.9118478571077246e-05,
          1.9891961432482014e-05,
          1.9034182854998762e-05,
          1.878712856913418e-05,
          1.6767545717552172e-05,
          2.363396285415677e-05,
          2.3675399999254808e-05,
          2.010746999855785e-05,
          1.737342571556967e-05,
          1.7346658564097847e-05,
          2.381910571784829e-05,
          2.090362571574847e-05,
          2.1295039995103643e-05,
          1.8934632857313512e-05,
          1.8646988571293013e-05,
          2.9126741428626697e-05,
          2.303306429114725e-05,
          1.9497367146479e-05,
          2.0444570000108802e-05,
          2.0224324281506207e-05,
          2.4180428569837075e-05,
          3.027069571804272e-05,
          2.2993064288000045e-05,
          2.0641524284396185e-05,
          2.784027571708845e-05,
          3.185912999989731e-05,
          2.2923251430516493e-05,
          2.1254294284257668e-05,
          2.6496495710099608e-05,
          2.691898428695692e-05,
          2.4165035715019e-05,
          2.2143227142805695e-05,
          3.2166154284953205e-05,
          2.645435285428123e-05,
          2.6904817147754198e-05,
          2.9924125712048925e-05,
          4.4603312856322324e-05,
          3.577433999713061e-05,
          4.125180428673048e-05,
          3.082074713737321e-05,
          2.755081856906015e-05,
          2.417095571737653e-05,
          3.34233400021081e-05,
          2.929861428388644e-05,
          2.631033571170909e-05,
          3.3600484286060754e-05,
          2.6643485712806325e-05,
          2.5899389999852122e-05,
          3.499697570857409e-05,
          3.1263315717556653e-05,
          2.7517354285789363e-05,
          3.489947857035856e-05,
          3.3272688568623766e-05,
          2.754643285827894e-05,
          3.591932571518035e-05,
          3.320246142590934e-05,
          2.8211731423652972e-05,
          3.694470571125359e-05,
          3.516230857193087e-05,
          3.0344435711283174e-05,
          4.079920428401758e-05,
          3.466594571104257e-05,
          4.148059571629606e-05,
          4.4484895718466896e-05,
          3.313905714094289e-05,
          3.502061142561225e-05,
          3.9321805714800046e-05,
          3.5188942854022446e-05,
          3.054897571668594e-05,
          3.6398132862294516e-05,
          3.8403539996839505e-05,
          3.144176571368007e-05,
          4.600846143148374e-05,
          3.3739807141890715e-05,
          3.1278065712935386e-05,
          4.02102671380687e-05,
          4.7261205711817765e-05,
          3.2303807139604555e-05,
          3.8245347145025986e-05,
          4.11287699976778e-05,
          3.3751682855966334e-05,
          4.1945664280709547e-05,
          3.767349286135868e-05,
          3.923544000437168e-05,
          4.151997285849315e-05,
          4.5672540002539916e-05,
          3.487869999454623e-05,
          4.783233999530369e-05,
          3.742856142707751e-05,
          4.7430922854151236e-05,
          3.8950727141907136e-05,
          4.7116662855322444e-05,
          3.673425714493662e-05,
          4.652738999668924e-05,
          4.053208857450435e-05,
          4.2220818572137176e-05,
          4.0743879996755694e-05,
          4.904248714280714e-05,
          5.547313571306794e-05,
          6.704291571492961e-05,
          5.348490428722081e-05,
          4.4848644288971887e-05,
          3.966952571447889e-05,
          5.326365999800536e-05,
          4.10453128565028e-05,
          5.265661142662534e-05,
          4.078084286187992e-05,
          5.093710714001126e-05,
          4.2260437143600674e-05,
          5.488108571496144e-05,
          3.943705999907772e-05,
          4.854471571629151e-05,
          3.902834571428165e-05,
          5.389163285664316e-05,
          4.166810428744481e-05,
          5.2058898576693266e-05,
          4.645352142948208e-05,
          5.270142428344116e-05,
          4.721442571151004e-05,
          5.316523142028018e-05,
          4.650218714232324e-05,
          6.0501181425414475e-05,
          6.381903571309522e-05,
          5.080950571417426e-05,
          4.419712285847969e-05,
          5.16676742855842e-05,
          4.309251428691953e-05,
          5.158146428584586e-05,
          4.4006372856009494e-05,
          5.5134654282613024e-05,
          4.597293571870458e-05,
          5.1393722855469344e-05,
          4.487165428664801e-05,
          5.529894285375901e-05,
          4.7224674282395944e-05,
          6.0128614287740295e-05,
          4.5511744286029305e-05,
          5.7714278565461954e-05,
          4.7557304286393844e-05,
          5.773090857733872e-05,
          4.711188714022033e-05,
          5.933941142887177e-05,
          4.963647285746577e-05,
          5.714577428339648e-05,
          4.880998000382013e-05,
          5.991572428424011e-05,
          5.141989142690103e-05,
          5.773976857069231e-05,
          5.1100514286060524e-05,
          6.169832714087014e-05,
          7.907234999947831e-05,
          7.472701714505091e-05,
          4.964910714209378e-05,
          5.780624571603506e-05,
          4.912402571530298e-05,
          5.9165222854582166e-05,
          5.011500142635279e-05,
          5.840733571728509e-05,
          5.044371285683675e-05,
          6.24558642838175e-05,
          5.293693571210107e-05,
          6.505447000173652e-05,
          5.651864571128889e-05,
          5.952723856743042e-05,
          4.974093571945559e-05,
          5.894244428158605e-05,
          5.0541348573460714e-05,
          6.0881247146815954e-05,
          5.136357714166349e-05,
          7.379119571591477e-05,
          5.185868142819215e-05,
          7.070436000503833e-05,
          5.224139428589426e-05,
          6.088982714572922e-05,
          5.242173999639427e-05,
          6.477947143139316e-05,
          5.246692572005226e-05,
          6.215996142730417e-05,
          5.299521571942023e-05,
          5.584447000208976e-05,
          5.472776285906938e-05,
          6.374105571272333e-05,
          5.6611005716799156e-05,
          8.233797857038943e-05,
          8.649814714122581e-05,
          7.087115999768556e-05,
          5.474364856906634e-05,
          6.170137999756012e-05,
          5.505986142972169e-05,
          6.455379000336896e-05,
          6.454538714284094e-05,
          9.660261142926172e-05,
          9.188817857128532e-05,
          6.784998428494353e-05,
          5.6878935715108776e-05,
          6.0141762860439477e-05,
          5.675431285583598e-05,
          6.404519142701508e-05,
          5.7079392863670374e-05,
          7.191736857358982e-05,
          5.724988857504546e-05,
          6.276988143196962e-05,
          5.803759285689531e-05,
          6.428212285754852e-05,
          5.848835285567994e-05,
          7.104484857336501e-05,
          5.859823285520959e-05,
          6.487313714127854e-05,
          5.8851575712261754e-05,
          6.590258285671422e-05,
          5.945755714232551e-05,
          6.477384857134893e-05,
          6.39980128575449e-05,
          6.722406714158882e-05,
          6.026136143191253e-05,
          7.118186714121423e-05,
          6.124642428923316e-05,
          6.813641713701404e-05,
          6.092552000024754e-05,
          6.90864614235969e-05,
          6.195570142933451e-05,
          7.544231285334848e-05,
          6.188260143192435e-05,
          6.818866571328337e-05,
          6.426137999889242e-05,
          7.426174571394638e-05,
          6.307406714508292e-05,
          6.8747422852279e-05,
          6.462201000041596e-05,
          7.001309571673378e-05,
          6.402668142462582e-05,
          6.647526571344184e-05,
          6.504794714471375e-05,
          6.941614428277327e-05,
          6.527301142861169e-05,
          6.886662285978672e-05,
          6.68021614287032e-05,
          7.305700857354429e-05,
          6.589939999945012e-05,
          7.07291985755936e-05,
          6.666933571718151e-05,
          8.03623271401323e-05,
          0.00010909033571546648,
          7.978603571505767e-05,
          7.659409142953726e-05,
          7.962331714225001e-05,
          9.33725757152258e-05,
          6.98656928606007e-05,
          6.730043000061415e-05,
          8.231446285727933e-05,
          8.096358571752459e-05,
          7.29374628567062e-05,
          6.903814857131302e-05,
          8.113692857088089e-05,
          0.00011061112571821599,
          8.924039714267044e-05,
          9.712093713720346e-05,
          8.460870142828624e-05,
          7.203839000015121e-05,
          6.953672142377141e-05,
          7.248777714007052e-05,
          7.411175857799077e-05,
          7.420711428494543e-05,
          8.036538571104754e-05,
          9.013010000022143e-05,
          8.310969714200057e-05,
          0.0001023580014277416,
          7.424937285447543e-05,
          7.207014714627544e-05,
          7.443591714556013e-05,
          7.628358427869639e-05,
          8.551195857372867e-05,
          9.280577999951284e-05,
          0.00011069590142921828,
          8.372440714083495e-05,
          8.287667857075575e-05,
          8.282073714196616e-05,
          8.151140000076599e-05,
          9.90490671392763e-05,
          0.00011571839714503896,
          7.745272857001899e-05,
          7.904325999334106e-05,
          8.356477286205128e-05,
          7.906568999845021e-05,
          8.842155713864486e-05,
          8.834043714159634e-05,
          7.704921857501696e-05,
          8.782846000550698e-05,
          9.138540285545918e-05,
          0.00010857457428885808,
          7.834645142793305e-05,
          8.859619428351704e-05,
          9.048871857885388e-05,
          8.119839856850118e-05,
          9.322503999490955e-05,
          0.00013607049857195566,
          8.603942000523344e-05,
          8.614123714453724e-05,
          7.967911428360301e-05,
          8.143625857233669e-05,
          8.370388143053528e-05,
          0.00010569232428419389,
          9.237372428417854e-05,
          0.00011836252856612971,
          8.09669714258884e-05,
          8.10797214294975e-05,
          9.950917428536092e-05,
          9.263315142951406e-05,
          9.696946856950359e-05,
          8.118106714391615e-05,
          8.332423714559158e-05,
          8.223924714651991e-05,
          0.00010250079142809095,
          0.00010145280857094414,
          9.822614428360665e-05,
          8.539817285834164e-05,
          8.349410856940916e-05,
          8.686246143302663e-05,
          9.961615142726388e-05,
          8.638323000143698e-05,
          8.463176999742115e-05,
          8.35612628621415e-05,
          8.578504857203891e-05,
          0.00010649550571283076,
          9.346100142335802e-05,
          8.417357428178159e-05,
          8.592101142702241e-05,
          8.699716714805357e-05,
          8.8699497142183e-05,
          9.809199142962048e-05,
          9.840008857021791e-05,
          8.710233142275165e-05,
          9.47599728559518e-05,
          0.000103537730005233,
          9.977968857128873e-05,
          9.986518571167834e-05,
          0.00010041081000183891,
          8.798995143089478e-05,
          0.00010489180143070241,
          9.390390714283318e-05,
          0.0001353533400028287,
          0.00012552927142938378,
          0.00010228699999840632,
          0.00010055172571030978,
          0.00010361542714495694,
          0.00010444391000159418,
          9.088615857243503e-05,
          8.900783286143062e-05,
          8.916256000052921e-05,
          0.00010212392857023848,
          0.00010147873429169909,
          8.972291714079413e-05,
          9.589099427882632e-05,
          0.00012598788428606764,
          0.00011595976428517522,
          9.148168428250106e-05,
          0.00012843385428433458,
          9.426745857386516e-05,
          9.186877142773092e-05,
          0.0001301175614259721,
          9.607335428362212e-05,
          9.576368428627444e-05,
          0.00011544319857161359,
          9.266815571338935e-05,
          9.591053142555342e-05,
          9.290924857071204e-05,
          0.00010808486714138,
          0.00010100808857064941,
          9.2637625714685e-05,
          9.460201000235558e-05,
          0.00012569389285740077,
          9.557835286094424e-05,
          9.5102454285682e-05,
          9.584209428794565e-05,
          0.00011224844571448298,
          9.602275999506154e-05,
          0.0001085547099994853,
          0.000109564978574781,
          0.00010068483285327342,
          9.88482457121011e-05,
          0.00010839558571335926,
          0.0001089747728526293,
          9.752950856636744e-05,
          0.00011135392428643953,
          0.0001321223342893063,
          0.00011121257857407078,
          0.0001122296357165656,
          9.665652428468872e-05,
          0.00010047892000199812,
          9.819100856735273e-05,
          9.764904428655949e-05,
          9.898450428538904e-05,
          0.00010066571000217143,
          9.89661542839063e-05,
          0.00010168299428187312,
          9.986522857486438e-05,
          0.00010076353571743571,
          9.911416285831364e-05,
          0.00010577872285596512,
          9.99363128643641e-05,
          0.00010095473714110473,
          0.00010201297142495084,
          0.00010278618428076568,
          0.00010222880571486062,
          0.00010885247142661162,
          0.0001903587928531384,
          0.00010469362285740706,
          0.00010085137999859788,
          0.00010566514571369874,
          0.0001010390042860568,
          0.00010261467429050496,
          0.00010192311571829903,
          0.00010375510142953968,
          0.00010225414142561413,
          0.00010339862857238456,
          0.00010284925428485232,
          0.00010518393571276519,
          0.00010480334428523618,
          0.00010433056428415251,
          0.00010400720285230949,
          0.00010790589143393195,
          0.0001042563428615852,
          0.00010457248143211472,
          0.00010629071857692908,
          0.00010584437142824756,
          0.00010725102000443647,
          0.00010540792571711272,
          0.00010599876856888709,
          0.00010759602857173637,
          0.00010767180428956636,
          0.00010951120286076078,
          0.00010772097857365484,
          0.00010625092142748014,
          0.00010729919000108826,
          0.00010690984714528894,
          0.00011006968000011899,
          0.00010761355714359004,
          0.00011311840571319668,
          0.00010992337857585103,
          0.00011051179571430632,
          0.00011095935713975839,
          0.00011382193571470064,
          0.00011100240428277175,
          0.00011168561285688025,
          0.00011362614142594143,
          0.00011074862857120544,
          0.00011130994284810315,
          0.0001109271628566993,
          0.00011232784714593434,
          0.00011055172285393514,
          0.00011069705285990493,
          0.00011329862000171228,
          0.00011048766714468782,
          0.0001103796799985243,
          0.000110732782863384,
          0.0001122714814300707,
          0.00011036934285584719,
          0.0001112621700044006,
          0.00011557628714269541,
          0.00011138152999982205,
          0.000112863298571548,
          0.00011205179999576233,
          0.00011268938285346458,
          0.0001121848600035134,
          0.00011403741714665169,
          0.00011399918285730694,
          0.0001128132271462943,
          0.00011389401143138195,
          0.00011677699428348985,
          0.0001368043971420515,
          0.00012718917428043954,
          0.00012091954143085916,
          0.00011913018714299792,
          0.00011930457714177984,
          0.00012007025428309654,
          0.00011954406571801104,
          0.00012182873571613789,
          0.00012009839142462752,
          0.00012086429571614385,
          0.00012056455714628101,
          0.00012049821571573764,
          0.00012098946857284836,
          0.00012125082428870625,
          0.00013689099571170766,
          0.00012690992428750697,
          0.00017191205286248338,
          0.00014216731142888809,
          0.00018610985428365112,
          0.00014001965428698374,
          0.0001271525285691106,
          0.0001556146571393973,
          0.00012494857857226244,
          0.00012781701428788702,
          0.00013876300713881002,
          0.00012099757142745408,
          0.0001224206042856427,
          0.00012508893571326293,
          0.00011935472285975783,
          0.00011985650286078452,
          0.00014869605999722678,
          0.0001392701885717023,
          0.00012978382428367958,
          0.0001632028528625337,
          0.00016483858999760868,
          0.0001486492071411963,
          0.0001772619628562617,
          0.00016587725570778794,
          0.00017351835286068048,
          0.00015225490572057812,
          0.00017150453142936124,
          0.0001410894171437706,
          0.00016811019571313018,
          0.00012784388428501968,
          0.00016012820714292632,
          0.0001556548299959104,
          0.00015661791143429586,
          0.00012936987142633628,
          0.0001297597900000775,
          0.000173324040001067,
          0.00013993426428507,
          0.0001289977542858521,
          0.0001304446499982857,
          0.00012800720714689566,
          0.0001330361485763985,
          0.00012552777142575775,
          0.00014895844713984322,
          0.00016825887000387806,
          0.00015235659999754194,
          0.0001410691985750288,
          0.00014059637000173102,
          0.0001271879985662443,
          0.00013439915571455328,
          0.00017095497856644214,
          0.00013016963000284573,
          0.00013099943570913248,
          0.00014769263856838472,
          0.000135138855709686,
          0.00013101383999777942,
          0.00013896278571597318,
          0.0001302855871420304,
          0.00013344383857007155,
          0.00013548546714186422,
          0.0001309440800027265,
          0.00014791156571456149,
          0.00013953879714660746,
          0.00016395077857201353,
          0.00013047638285830284,
          0.00017049625142525265,
          0.00017787341714210926,
          0.00018649757285727124,
          0.00017711903142428906,
          0.00017941591000115816,
          0.00019310243000031084,
          0.0001767784128579868,
          0.00018154358428936184,
          0.00017892609714181162,
          0.00019911420572108388,
          0.00016670207000320908,
          0.0001827980414288634,
          0.0001907998228541276,
          0.00016113436714087064,
          0.0001387760385763873,
          0.00014328121571712213,
          0.00014032914429013284,
          0.00014755551428346998,
          0.00017277070999885576,
          0.00015306418714057407,
          0.0001502351299989511,
          0.00015792719857147733,
          0.00016165351285703114,
          0.00015500331714065395,
          0.00014541554857195092,
          0.00016352547571191932,
          0.00014449060143046415,
          0.00016484342142835626,
          0.00015588451571082782,
          0.0001495187371438078,
          0.00014741196286195194,
          0.00014022786286139828,
          0.00013928398285445708,
          0.00014643265143084655,
          0.0001492065899947193,
          0.00014691380714274208,
          0.00015574241856873932,
          0.00018718295285257875,
          0.0001475600442868849,
          0.00018225996285764267,
          0.00017576409999881955,
          0.00015607653142589182,
          0.00015305911285655124,
          0.00015588356143000833,
          0.00022641075285719127,
          0.00014244027285323165,
          0.0001508880914298061,
          0.00019972104571414613,
          0.00020526698714352925,
          0.00017887367571477495,
          0.00014275466142602713,
          0.00021740478571570878,
          0.00017678238285433117,
          0.00017502845143358822,
          0.00022227127429037602,
          0.00018867755714381928,
          0.00015204210285706465,
          0.00023596679142688765,
          0.0001494741514293959,
          0.00020271191857578483,
          0.0002238460842896269,
          0.00019186634142637815,
          0.00015379633571553444,
          0.00021545910571668563,
          0.00014421014285939497,
          0.0002208532828522688,
          0.00014478462713928559,
          0.0002047855642844557,
          0.0001515103857127542,
          0.00020356598428406867,
          0.0001496698942823319,
          0.00015643996142898688,
          0.00014422093857189924,
          0.0001460003042848257,
          0.00014631333713883317,
          0.00014658254714179617,
          0.00014591602285820825,
          0.00014691726857303622,
          0.00014837548999951518,
          0.00014736093428707262,
          0.00014900474142840332,
          0.000149182748570768,
          0.00016970232142609482,
          0.00019425864428350382,
          0.00016857325999548522,
          0.0001997025228566989,
          0.0001734342542892721,
          0.00016195355285682518,
          0.00016886469572065314,
          0.0001903229785732817,
          0.00018678688000103904,
          0.00015603334857067759,
          0.000246384065714145,
          0.00023367613428490586,
          0.00023994535285705099,
          0.0002189338900045966,
          0.0002212146985740609,
          0.00019354478142953927,
          0.00018663000285544385,
          0.00022183710714411323,
          0.0001582805642829044,
          0.00019227671713971565,
          0.00015770322999742343,
          0.000165819934287096,
          0.0001691296814325532,
          0.00016387083428656167,
          0.0001554872942896119,
          0.00015637180000080013,
          0.0001588431200018801,
          0.00016999907142755026,
          0.00016371353857591334,
          0.00015961516143371616,
          0.00016053243429009205,
          0.00016482195714810847,
          0.00017612148285999342,
          0.00017181021285848274,
          0.0001818483285725441,
          0.00017538896142858508,
          0.00016851618285987311,
          0.00016799386429089017,
          0.0001684563142901295,
          0.0001713052014279778,
          0.00016613270142832852,
          0.00017198553571298752,
          0.00015934885857599767,
          0.00016430807285879772,
          0.00016384192427722154,
          0.00016542344143090305,
          0.00018051629285504791,
          0.000172600825709586,
          0.00017532997142812487,
          0.00016678073000158682,
          0.00016610270143376383,
          0.00016893034000012058,
          0.00017318336572186258,
          0.0001768658057153516,
          0.00017015280999787915,
          0.00016407666428806675,
          0.00016524512428337142,
          0.00016467821428575139,
          0.00016545817000016022,
          0.00018216698856901665,
          0.0001763484957155015,
          0.00017181617286041731,
          0.00017479607571398704,
          0.00016500934285691723,
          0.0001665869900015033,
          0.00017111483286238842,
          0.00016867351856749988,
          0.0001748208357171929,
          0.0001681928828579008,
          0.00016774659000085582,
          0.0001661151214284473,
          0.00016811987857051597,
          0.00016966700856885708,
          0.00019190127428373672,
          0.00017743744857268344,
          0.0001725540585721319,
          0.00017610253428886478,
          0.0001743346985728879,
          0.0001734756442861648,
          0.00017634927429233878,
          0.00017502049999945616,
          0.0001781742171390631,
          0.00016822230999293558,
          0.0001741315299971445,
          0.00017010981142707998,
          0.00017212156142964625,
          0.0001715719642847294,
          0.00017309307000427257,
          0.00017806807285783828,
          0.0001723180171445295,
          0.00017636808857267688,
          0.0001723970957131574,
          0.00017252044714041403,
          0.00017454409142893772,
          0.00017978589713883204,
          0.0001797964799983934,
          0.00017417779285616624,
          0.00017960169428468879,
          0.00017442167571841434,
          0.00017402669857152173,
          0.00017369816571642462,
          0.00017545407999672796,
          0.00017865014428805032,
          0.00017817206714296064,
          0.0001832530071416321,
          0.000180698151424232,
          0.00018352033000025716,
          0.00017889810571172608,
          0.0001820203414276225,
          0.00018001593000008142,
          0.0001817174000020064,
          0.00018240819428423752,
          0.0001835232542881776,
          0.00018733981428990126,
          0.00017541548571119034,
          0.00018190326142368058,
          0.0001775444385670458,
          0.00018431650999835772,
          0.00017845869714229983,
          0.00017841765000152268,
          0.00017976574142916692,
          0.00018056405714430315,
          0.00018131497000078002,
          0.00018143262428046522,
          0.00018708048000137624,
          0.00018184632714110196,
          0.00018595335999894554,
          0.0001809488514248057,
          0.0001825409228591265,
          0.00018369676286186278,
          0.00018296961285419199,
          0.00018285609999760968,
          0.00018298240142809976,
          0.000186054937143386,
          0.00018212840000290142,
          0.0001884937257117209,
          0.00018511803714448303,
          0.00019084843714413832,
          0.00018494204428601998,
          0.00018897331428369008,
          0.00018515760142950708,
          0.00019076036857118849,
          0.00018320549571529098,
          0.000189557682855853,
          0.00018589745714572408,
          0.00018547069000175853,
          0.00018594829857517784,
          0.0001863184399995329,
          0.00018626528285624642,
          0.00018603304857086705,
          0.0001876985014262443,
          0.00018775543571142149,
          0.00019206564142742926,
          0.00018822602143180639,
          0.00019432797143183834,
          0.00018695761000084792,
          0.0001920037985707625,
          0.0001874375514281772,
          0.00018871421999782409,
          0.00019099047142715007,
          0.00018851632143196184,
          0.00018818842000525494,
          0.00019029166571531928,
          0.00019881015714158168,
          0.00019761518571353263,
          0.00020245604142993603,
          0.00019866519572003328,
          0.00020247898143549849,
          0.0001979634514334196,
          0.00020586481000074336,
          0.0001969649699952113,
          0.00019970537285969055,
          0.00019429694999936533,
          0.00020062068428420126,
          0.0001971183585685919,
          0.00020238221142270568,
          0.00019545382857229143,
          0.00019802578571346077,
          0.00019760930427894762,
          0.0001986261371426476,
          0.00019729776714354688,
          0.00020502227142580004,
          0.00019891964142256517,
          0.00019989621571637274,
          0.00020011880570954032,
          0.00019886362428743655,
          0.00020092930000048783,
          0.00019845006714084385,
          0.00020123456571257396,
          0.00019965566428124606,
          0.00020402914571085207,
          0.0001999741928531356,
          0.00020801613714606251,
          0.00020064167857136844,
          0.0002064918642905208,
          0.00020249715571740771,
          0.00020694586428882241,
          0.00020280098142653257,
          0.00020610033999868654,
          0.0002011617885727901,
          0.0002075397357111797,
          0.00020271794000239292,
          0.0002065506414302425,
          0.0002038980857131329,
          0.0002117317157119812,
          0.0001963863485746385,
          0.00020492067999969418,
          0.00020172582713972332,
          0.00021101593142572843,
          0.0002068397342814673,
          0.00021339736571462708,
          0.00020735112428675557,
          0.0002065694814284923,
          0.00020714545000113764,
          0.0002099513328539615,
          0.00020716333857178276,
          0.0002105680314291801,
          0.0002071237542856709,
          0.0002107288071420044,
          0.00020674248571594944,
          0.0002101544600035205,
          0.00020724173571319882,
          0.00021555810571693922,
          0.00026274576142895964,
          0.00025748681857034434,
          0.00021374476285667958,
          0.00019835809714225305,
          0.00021051836714052892,
          0.0002023791614270262,
          0.0002100557442853252,
          0.00020259107428760863,
          0.00020554473142640612,
          0.0002034782214286679,
          0.0002094006657145136,
          0.0002039235942876465,
          0.00020743621857036488,
          0.00024649930570896163,
          0.00020992161285903418,
          0.00020736266856796905,
          0.00021292442143281478,
          0.00020638965285148253,
          0.00021474590856866731,
          0.0002101678557145143,
          0.000214551327143064,
          0.000208061088568294,
          0.00021456344285460162,
          0.000209282194282423,
          0.0002170049514305512,
          0.00021258526714518664,
          0.0002184797414338391,
          0.00021425273571886854,
          0.0002145028385686081,
          0.00021276749999742605,
          0.000216465275711276,
          0.00021533156856873704,
          0.00021454767428232506,
          0.00021518078857168024,
          0.0002165304357133989,
          0.0002163730557107816,
          0.0002169710771470688,
          0.00021652490143034286,
          0.00021486075857475432,
          0.0002127138185720209,
          0.00021424546857555732,
          0.0002195135057185585,
          0.00021434253285925869,
          0.00021790756285554384,
          0.0002213275557161459,
          0.0002191568228616753,
          0.0002148015914255146,
          0.00021719833142924472,
          0.00021370632714024396,
          0.00021761924143512648,
          0.0002137630842870359,
          0.00022002750714039261,
          0.0002180607214281086,
          0.00021717104428587068,
          0.00021789617857263823,
          0.00021523774571635709,
          0.00021708098857093968,
          0.00021278841857305712,
          0.0002165212642882709,
          0.0002176652857139873,
          0.0002215990842939521,
          0.0002649316342857284,
          0.0002203092357194692,
          0.00021617917285246744,
          0.00022326714714706342,
          0.00021866471857200458,
          0.00021829068999587825,
          0.00021878647285900244,
          0.00021681337571603112,
          0.00023003159999851567,
          0.00021691897857505996,
          0.0002232953528618964,
          0.00021762202856864728,
          0.00022804495714029015
         ]
        }
       ],
       "layout": {
        "template": {
         "data": {
          "bar": [
           {
            "error_x": {
             "color": "#2a3f5f"
            },
            "error_y": {
             "color": "#2a3f5f"
            },
            "marker": {
             "line": {
              "color": "#E5ECF6",
              "width": 0.5
             }
            },
            "type": "bar"
           }
          ],
          "barpolar": [
           {
            "marker": {
             "line": {
              "color": "#E5ECF6",
              "width": 0.5
             }
            },
            "type": "barpolar"
           }
          ],
          "carpet": [
           {
            "aaxis": {
             "endlinecolor": "#2a3f5f",
             "gridcolor": "white",
             "linecolor": "white",
             "minorgridcolor": "white",
             "startlinecolor": "#2a3f5f"
            },
            "baxis": {
             "endlinecolor": "#2a3f5f",
             "gridcolor": "white",
             "linecolor": "white",
             "minorgridcolor": "white",
             "startlinecolor": "#2a3f5f"
            },
            "type": "carpet"
           }
          ],
          "choropleth": [
           {
            "colorbar": {
             "outlinewidth": 0,
             "ticks": ""
            },
            "type": "choropleth"
           }
          ],
          "contour": [
           {
            "colorbar": {
             "outlinewidth": 0,
             "ticks": ""
            },
            "colorscale": [
             [
              0,
              "#0d0887"
             ],
             [
              0.1111111111111111,
              "#46039f"
             ],
             [
              0.2222222222222222,
              "#7201a8"
             ],
             [
              0.3333333333333333,
              "#9c179e"
             ],
             [
              0.4444444444444444,
              "#bd3786"
             ],
             [
              0.5555555555555556,
              "#d8576b"
             ],
             [
              0.6666666666666666,
              "#ed7953"
             ],
             [
              0.7777777777777778,
              "#fb9f3a"
             ],
             [
              0.8888888888888888,
              "#fdca26"
             ],
             [
              1,
              "#f0f921"
             ]
            ],
            "type": "contour"
           }
          ],
          "contourcarpet": [
           {
            "colorbar": {
             "outlinewidth": 0,
             "ticks": ""
            },
            "type": "contourcarpet"
           }
          ],
          "heatmap": [
           {
            "colorbar": {
             "outlinewidth": 0,
             "ticks": ""
            },
            "colorscale": [
             [
              0,
              "#0d0887"
             ],
             [
              0.1111111111111111,
              "#46039f"
             ],
             [
              0.2222222222222222,
              "#7201a8"
             ],
             [
              0.3333333333333333,
              "#9c179e"
             ],
             [
              0.4444444444444444,
              "#bd3786"
             ],
             [
              0.5555555555555556,
              "#d8576b"
             ],
             [
              0.6666666666666666,
              "#ed7953"
             ],
             [
              0.7777777777777778,
              "#fb9f3a"
             ],
             [
              0.8888888888888888,
              "#fdca26"
             ],
             [
              1,
              "#f0f921"
             ]
            ],
            "type": "heatmap"
           }
          ],
          "heatmapgl": [
           {
            "colorbar": {
             "outlinewidth": 0,
             "ticks": ""
            },
            "colorscale": [
             [
              0,
              "#0d0887"
             ],
             [
              0.1111111111111111,
              "#46039f"
             ],
             [
              0.2222222222222222,
              "#7201a8"
             ],
             [
              0.3333333333333333,
              "#9c179e"
             ],
             [
              0.4444444444444444,
              "#bd3786"
             ],
             [
              0.5555555555555556,
              "#d8576b"
             ],
             [
              0.6666666666666666,
              "#ed7953"
             ],
             [
              0.7777777777777778,
              "#fb9f3a"
             ],
             [
              0.8888888888888888,
              "#fdca26"
             ],
             [
              1,
              "#f0f921"
             ]
            ],
            "type": "heatmapgl"
           }
          ],
          "histogram": [
           {
            "marker": {
             "colorbar": {
              "outlinewidth": 0,
              "ticks": ""
             }
            },
            "type": "histogram"
           }
          ],
          "histogram2d": [
           {
            "colorbar": {
             "outlinewidth": 0,
             "ticks": ""
            },
            "colorscale": [
             [
              0,
              "#0d0887"
             ],
             [
              0.1111111111111111,
              "#46039f"
             ],
             [
              0.2222222222222222,
              "#7201a8"
             ],
             [
              0.3333333333333333,
              "#9c179e"
             ],
             [
              0.4444444444444444,
              "#bd3786"
             ],
             [
              0.5555555555555556,
              "#d8576b"
             ],
             [
              0.6666666666666666,
              "#ed7953"
             ],
             [
              0.7777777777777778,
              "#fb9f3a"
             ],
             [
              0.8888888888888888,
              "#fdca26"
             ],
             [
              1,
              "#f0f921"
             ]
            ],
            "type": "histogram2d"
           }
          ],
          "histogram2dcontour": [
           {
            "colorbar": {
             "outlinewidth": 0,
             "ticks": ""
            },
            "colorscale": [
             [
              0,
              "#0d0887"
             ],
             [
              0.1111111111111111,
              "#46039f"
             ],
             [
              0.2222222222222222,
              "#7201a8"
             ],
             [
              0.3333333333333333,
              "#9c179e"
             ],
             [
              0.4444444444444444,
              "#bd3786"
             ],
             [
              0.5555555555555556,
              "#d8576b"
             ],
             [
              0.6666666666666666,
              "#ed7953"
             ],
             [
              0.7777777777777778,
              "#fb9f3a"
             ],
             [
              0.8888888888888888,
              "#fdca26"
             ],
             [
              1,
              "#f0f921"
             ]
            ],
            "type": "histogram2dcontour"
           }
          ],
          "mesh3d": [
           {
            "colorbar": {
             "outlinewidth": 0,
             "ticks": ""
            },
            "type": "mesh3d"
           }
          ],
          "parcoords": [
           {
            "line": {
             "colorbar": {
              "outlinewidth": 0,
              "ticks": ""
             }
            },
            "type": "parcoords"
           }
          ],
          "scatter": [
           {
            "marker": {
             "colorbar": {
              "outlinewidth": 0,
              "ticks": ""
             }
            },
            "type": "scatter"
           }
          ],
          "scatter3d": [
           {
            "line": {
             "colorbar": {
              "outlinewidth": 0,
              "ticks": ""
             }
            },
            "marker": {
             "colorbar": {
              "outlinewidth": 0,
              "ticks": ""
             }
            },
            "type": "scatter3d"
           }
          ],
          "scattercarpet": [
           {
            "marker": {
             "colorbar": {
              "outlinewidth": 0,
              "ticks": ""
             }
            },
            "type": "scattercarpet"
           }
          ],
          "scattergeo": [
           {
            "marker": {
             "colorbar": {
              "outlinewidth": 0,
              "ticks": ""
             }
            },
            "type": "scattergeo"
           }
          ],
          "scattergl": [
           {
            "marker": {
             "colorbar": {
              "outlinewidth": 0,
              "ticks": ""
             }
            },
            "type": "scattergl"
           }
          ],
          "scattermapbox": [
           {
            "marker": {
             "colorbar": {
              "outlinewidth": 0,
              "ticks": ""
             }
            },
            "type": "scattermapbox"
           }
          ],
          "scatterpolar": [
           {
            "marker": {
             "colorbar": {
              "outlinewidth": 0,
              "ticks": ""
             }
            },
            "type": "scatterpolar"
           }
          ],
          "scatterpolargl": [
           {
            "marker": {
             "colorbar": {
              "outlinewidth": 0,
              "ticks": ""
             }
            },
            "type": "scatterpolargl"
           }
          ],
          "scatterternary": [
           {
            "marker": {
             "colorbar": {
              "outlinewidth": 0,
              "ticks": ""
             }
            },
            "type": "scatterternary"
           }
          ],
          "surface": [
           {
            "colorbar": {
             "outlinewidth": 0,
             "ticks": ""
            },
            "colorscale": [
             [
              0,
              "#0d0887"
             ],
             [
              0.1111111111111111,
              "#46039f"
             ],
             [
              0.2222222222222222,
              "#7201a8"
             ],
             [
              0.3333333333333333,
              "#9c179e"
             ],
             [
              0.4444444444444444,
              "#bd3786"
             ],
             [
              0.5555555555555556,
              "#d8576b"
             ],
             [
              0.6666666666666666,
              "#ed7953"
             ],
             [
              0.7777777777777778,
              "#fb9f3a"
             ],
             [
              0.8888888888888888,
              "#fdca26"
             ],
             [
              1,
              "#f0f921"
             ]
            ],
            "type": "surface"
           }
          ],
          "table": [
           {
            "cells": {
             "fill": {
              "color": "#EBF0F8"
             },
             "line": {
              "color": "white"
             }
            },
            "header": {
             "fill": {
              "color": "#C8D4E3"
             },
             "line": {
              "color": "white"
             }
            },
            "type": "table"
           }
          ]
         },
         "layout": {
          "annotationdefaults": {
           "arrowcolor": "#2a3f5f",
           "arrowhead": 0,
           "arrowwidth": 1
          },
          "colorscale": {
           "diverging": [
            [
             0,
             "#8e0152"
            ],
            [
             0.1,
             "#c51b7d"
            ],
            [
             0.2,
             "#de77ae"
            ],
            [
             0.3,
             "#f1b6da"
            ],
            [
             0.4,
             "#fde0ef"
            ],
            [
             0.5,
             "#f7f7f7"
            ],
            [
             0.6,
             "#e6f5d0"
            ],
            [
             0.7,
             "#b8e186"
            ],
            [
             0.8,
             "#7fbc41"
            ],
            [
             0.9,
             "#4d9221"
            ],
            [
             1,
             "#276419"
            ]
           ],
           "sequential": [
            [
             0,
             "#0d0887"
            ],
            [
             0.1111111111111111,
             "#46039f"
            ],
            [
             0.2222222222222222,
             "#7201a8"
            ],
            [
             0.3333333333333333,
             "#9c179e"
            ],
            [
             0.4444444444444444,
             "#bd3786"
            ],
            [
             0.5555555555555556,
             "#d8576b"
            ],
            [
             0.6666666666666666,
             "#ed7953"
            ],
            [
             0.7777777777777778,
             "#fb9f3a"
            ],
            [
             0.8888888888888888,
             "#fdca26"
            ],
            [
             1,
             "#f0f921"
            ]
           ],
           "sequentialminus": [
            [
             0,
             "#0d0887"
            ],
            [
             0.1111111111111111,
             "#46039f"
            ],
            [
             0.2222222222222222,
             "#7201a8"
            ],
            [
             0.3333333333333333,
             "#9c179e"
            ],
            [
             0.4444444444444444,
             "#bd3786"
            ],
            [
             0.5555555555555556,
             "#d8576b"
            ],
            [
             0.6666666666666666,
             "#ed7953"
            ],
            [
             0.7777777777777778,
             "#fb9f3a"
            ],
            [
             0.8888888888888888,
             "#fdca26"
            ],
            [
             1,
             "#f0f921"
            ]
           ]
          },
          "colorway": [
           "#636efa",
           "#EF553B",
           "#00cc96",
           "#ab63fa",
           "#FFA15A",
           "#19d3f3",
           "#FF6692",
           "#B6E880",
           "#FF97FF",
           "#FECB52"
          ],
          "font": {
           "color": "#2a3f5f"
          },
          "geo": {
           "bgcolor": "white",
           "lakecolor": "white",
           "landcolor": "#E5ECF6",
           "showlakes": true,
           "showland": true,
           "subunitcolor": "white"
          },
          "hoverlabel": {
           "align": "left"
          },
          "hovermode": "closest",
          "mapbox": {
           "style": "light"
          },
          "paper_bgcolor": "white",
          "plot_bgcolor": "#E5ECF6",
          "polar": {
           "angularaxis": {
            "gridcolor": "white",
            "linecolor": "white",
            "ticks": ""
           },
           "bgcolor": "#E5ECF6",
           "radialaxis": {
            "gridcolor": "white",
            "linecolor": "white",
            "ticks": ""
           }
          },
          "scene": {
           "xaxis": {
            "backgroundcolor": "#E5ECF6",
            "gridcolor": "white",
            "gridwidth": 2,
            "linecolor": "white",
            "showbackground": true,
            "ticks": "",
            "zerolinecolor": "white"
           },
           "yaxis": {
            "backgroundcolor": "#E5ECF6",
            "gridcolor": "white",
            "gridwidth": 2,
            "linecolor": "white",
            "showbackground": true,
            "ticks": "",
            "zerolinecolor": "white"
           },
           "zaxis": {
            "backgroundcolor": "#E5ECF6",
            "gridcolor": "white",
            "gridwidth": 2,
            "linecolor": "white",
            "showbackground": true,
            "ticks": "",
            "zerolinecolor": "white"
           }
          },
          "shapedefaults": {
           "line": {
            "color": "#2a3f5f"
           }
          },
          "ternary": {
           "aaxis": {
            "gridcolor": "white",
            "linecolor": "white",
            "ticks": ""
           },
           "baxis": {
            "gridcolor": "white",
            "linecolor": "white",
            "ticks": ""
           },
           "bgcolor": "#E5ECF6",
           "caxis": {
            "gridcolor": "white",
            "linecolor": "white",
            "ticks": ""
           }
          },
          "title": {
           "x": 0.05
          },
          "xaxis": {
           "automargin": true,
           "gridcolor": "white",
           "linecolor": "white",
           "ticks": "",
           "zerolinecolor": "white",
           "zerolinewidth": 2
          },
          "yaxis": {
           "automargin": true,
           "gridcolor": "white",
           "linecolor": "white",
           "ticks": "",
           "zerolinecolor": "white",
           "zerolinewidth": 2
          }
         }
        },
        "xaxis": {
         "title": {
          "text": "Size of array"
         }
        },
        "yaxis": {
         "title": {
          "text": "Time in seconds"
         }
        }
       }
      },
      "text/html": [
       "<div>\n",
       "        \n",
       "        \n",
       "            <div id=\"ac29027f-f27c-40eb-b8c1-9c8987c43a7c\" class=\"plotly-graph-div\" style=\"height:525px; width:100%;\"></div>\n",
       "            <script type=\"text/javascript\">\n",
       "                require([\"plotly\"], function(Plotly) {\n",
       "                    window.PLOTLYENV=window.PLOTLYENV || {};\n",
       "                    \n",
       "                if (document.getElementById(\"ac29027f-f27c-40eb-b8c1-9c8987c43a7c\")) {\n",
       "                    Plotly.newPlot(\n",
       "                        'ac29027f-f27c-40eb-b8c1-9c8987c43a7c',\n",
       "                        [{\"name\": \"Numpy\", \"type\": \"scatter\", \"x\": [3, 5, 7, 9, 11, 13, 15, 17, 19, 21, 23, 25, 27, 29, 31, 33, 35, 37, 39, 41, 43, 45, 47, 49, 51, 53, 55, 57, 59, 61, 63, 65, 67, 69, 71, 73, 75, 77, 79, 81, 83, 85, 87, 89, 91, 93, 95, 97, 99, 101, 103, 105, 107, 109, 111, 113, 115, 117, 119, 121, 123, 125, 127, 129, 131, 133, 135, 137, 139, 141, 143, 145, 147, 149, 151, 153, 155, 157, 159, 161, 163, 165, 167, 169, 171, 173, 175, 177, 179, 181, 183, 185, 187, 189, 191, 193, 195, 197, 199, 201, 203, 205, 207, 209, 211, 213, 215, 217, 219, 221, 223, 225, 227, 229, 231, 233, 235, 237, 239, 241, 243, 245, 247, 249, 251, 253, 255, 257, 259, 261, 263, 265, 267, 269, 271, 273, 275, 277, 279, 281, 283, 285, 287, 289, 291, 293, 295, 297, 299, 301, 303, 305, 307, 309, 311, 313, 315, 317, 319, 321, 323, 325, 327, 329, 331, 333, 335, 337, 339, 341, 343, 345, 347, 349, 351, 353, 355, 357, 359, 361, 363, 365, 367, 369, 371, 373, 375, 377, 379, 381, 383, 385, 387, 389, 391, 393, 395, 397, 399, 401, 403, 405, 407, 409, 411, 413, 415, 417, 419, 421, 423, 425, 427, 429, 431, 433, 435, 437, 439, 441, 443, 445, 447, 449, 451, 453, 455, 457, 459, 461, 463, 465, 467, 469, 471, 473, 475, 477, 479, 481, 483, 485, 487, 489, 491, 493, 495, 497, 499, 501, 503, 505, 507, 509, 511, 513, 515, 517, 519, 521, 523, 525, 527, 529, 531, 533, 535, 537, 539, 541, 543, 545, 547, 549, 551, 553, 555, 557, 559, 561, 563, 565, 567, 569, 571, 573, 575, 577, 579, 581, 583, 585, 587, 589, 591, 593, 595, 597, 599, 601, 603, 605, 607, 609, 611, 613, 615, 617, 619, 621, 623, 625, 627, 629, 631, 633, 635, 637, 639, 641, 643, 645, 647, 649, 651, 653, 655, 657, 659, 661, 663, 665, 667, 669, 671, 673, 675, 677, 679, 681, 683, 685, 687, 689, 691, 693, 695, 697, 699, 701, 703, 705, 707, 709, 711, 713, 715, 717, 719, 721, 723, 725, 727, 729, 731, 733, 735, 737, 739, 741, 743, 745, 747, 749, 751, 753, 755, 757, 759, 761, 763, 765, 767, 769, 771, 773, 775, 777, 779, 781, 783, 785, 787, 789, 791, 793, 795, 797, 799, 801, 803, 805, 807, 809, 811, 813, 815, 817, 819, 821, 823, 825, 827, 829, 831, 833, 835, 837, 839, 841, 843, 845, 847, 849, 851, 853, 855, 857, 859, 861, 863, 865, 867, 869, 871, 873, 875, 877, 879, 881, 883, 885, 887, 889, 891, 893, 895, 897, 899, 901, 903, 905, 907, 909, 911, 913, 915, 917, 919, 921, 923, 925, 927, 929, 931, 933, 935, 937, 939, 941, 943, 945, 947, 949, 951, 953, 955, 957, 959, 961, 963, 965, 967, 969, 971, 973, 975, 977, 979, 981, 983, 985, 987, 989, 991, 993, 995, 997, 999, 1001, 1003, 1005, 1007, 1009, 1011, 1013, 1015, 1017, 1019, 1021, 1023, 1025, 1027, 1029, 1031, 1033, 1035, 1037, 1039, 1041, 1043, 1045, 1047, 1049, 1051, 1053, 1055, 1057, 1059, 1061, 1063, 1065, 1067, 1069, 1071, 1073, 1075, 1077, 1079, 1081, 1083, 1085, 1087, 1089, 1091, 1093, 1095, 1097, 1099, 1101, 1103, 1105, 1107, 1109, 1111, 1113, 1115, 1117, 1119, 1121, 1123, 1125, 1127, 1129, 1131, 1133, 1135, 1137, 1139, 1141, 1143, 1145, 1147, 1149, 1151, 1153, 1155, 1157, 1159, 1161, 1163, 1165, 1167, 1169, 1171, 1173, 1175, 1177, 1179, 1181, 1183, 1185, 1187, 1189, 1191, 1193, 1195, 1197, 1199, 1201, 1203, 1205, 1207, 1209, 1211, 1213, 1215, 1217, 1219, 1221, 1223, 1225, 1227, 1229, 1231, 1233, 1235, 1237, 1239, 1241, 1243, 1245, 1247, 1249, 1251, 1253, 1255, 1257, 1259, 1261, 1263, 1265, 1267, 1269, 1271, 1273, 1275, 1277, 1279, 1281, 1283, 1285, 1287, 1289, 1291, 1293, 1295, 1297, 1299, 1301, 1303, 1305, 1307, 1309, 1311, 1313, 1315, 1317, 1319, 1321, 1323, 1325, 1327, 1329, 1331, 1333, 1335, 1337, 1339, 1341, 1343, 1345, 1347, 1349, 1351, 1353, 1355, 1357, 1359, 1361, 1363, 1365, 1367, 1369, 1371, 1373, 1375, 1377, 1379, 1381, 1383, 1385, 1387, 1389, 1391, 1393, 1395, 1397, 1399, 1401, 1403, 1405, 1407, 1409, 1411, 1413, 1415, 1417, 1419, 1421, 1423, 1425, 1427, 1429, 1431, 1433, 1435, 1437, 1439, 1441, 1443, 1445, 1447, 1449, 1451, 1453, 1455, 1457, 1459, 1461, 1463, 1465, 1467, 1469, 1471, 1473, 1475, 1477, 1479, 1481, 1483, 1485, 1487, 1489, 1491, 1493, 1495, 1497, 1499, 1501, 1503, 1505, 1507, 1509, 1511, 1513, 1515, 1517, 1519, 1521, 1523, 1525, 1527, 1529, 1531, 1533, 1535, 1537, 1539, 1541, 1543, 1545, 1547, 1549, 1551, 1553, 1555, 1557, 1559, 1561, 1563, 1565, 1567, 1569, 1571, 1573, 1575, 1577, 1579, 1581, 1583, 1585, 1587, 1589, 1591, 1593, 1595, 1597, 1599, 1601, 1603, 1605, 1607, 1609, 1611, 1613, 1615, 1617, 1619, 1621, 1623, 1625, 1627, 1629, 1631, 1633, 1635, 1637, 1639, 1641, 1643, 1645, 1647, 1649, 1651, 1653, 1655, 1657, 1659, 1661, 1663, 1665, 1667, 1669, 1671, 1673, 1675, 1677, 1679, 1681, 1683, 1685, 1687, 1689, 1691, 1693, 1695, 1697, 1699, 1701, 1703, 1705, 1707, 1709, 1711, 1713, 1715, 1717, 1719, 1721, 1723, 1725, 1727, 1729, 1731, 1733, 1735, 1737, 1739, 1741, 1743, 1745, 1747, 1749, 1751, 1753, 1755, 1757, 1759, 1761, 1763, 1765, 1767, 1769, 1771, 1773, 1775, 1777, 1779, 1781, 1783, 1785, 1787, 1789, 1791, 1793, 1795, 1797, 1799, 1801, 1803, 1805, 1807, 1809, 1811, 1813, 1815, 1817, 1819, 1821, 1823, 1825, 1827, 1829, 1831, 1833, 1835, 1837, 1839, 1841, 1843, 1845, 1847, 1849, 1851, 1853, 1855, 1857, 1859, 1861, 1863, 1865, 1867, 1869, 1871, 1873, 1875, 1877, 1879, 1881, 1883, 1885, 1887, 1889, 1891, 1893, 1895, 1897, 1899, 1901, 1903, 1905, 1907, 1909, 1911, 1913, 1915, 1917, 1919, 1921, 1923, 1925, 1927, 1929, 1931, 1933, 1935, 1937, 1939, 1941, 1943, 1945, 1947, 1949, 1951, 1953, 1955, 1957, 1959, 1961, 1963, 1965, 1967, 1969, 1971, 1973, 1975, 1977, 1979, 1981, 1983, 1985, 1987, 1989, 1991, 1993, 1995, 1997, 1999], \"y\": [6.706835717652992e-06, 2.441725716510388e-06, 2.632400002247388e-06, 2.9647757141252183e-06, 3.0105199974579067e-06, 3.1839242884806088e-06, 3.3442457112999238e-06, 3.5086485695501327e-06, 6.230712855800188e-06, 4.016765716577149e-06, 6.099194285655228e-06, 4.338187146848733e-06, 6.938049996928645e-06, 4.620757138452194e-06, 5.6828485685400665e-06, 7.688554284998515e-06, 7.068485714886005e-06, 7.930218572645182e-06, 1.0813510000714032e-05, 6.392712860230989e-06, 6.20002999962058e-06, 6.007300001199057e-06, 5.635012855366637e-06, 5.465111436413802e-06, 5.284630005917279e-06, 9.488308566817849e-06, 1.0199609995262498e-05, 9.567611427233454e-06, 9.851402852031503e-06, 6.794472849703327e-06, 7.232882856312373e-06, 7.008028566945412e-06, 6.757282860365063e-06, 1.141277142648635e-05, 1.1651725713558596e-05, 1.3829121424870597e-05, 8.184285712299502e-06, 8.304907140492496e-06, 8.42351856980323e-06, 1.0041622858157747e-05, 1.1113041429260713e-05, 1.1131301432344895e-05, 9.889638567983638e-06, 9.825848571511284e-06, 9.986865711003439e-06, 9.365138570761439e-06, 8.172609998707361e-06, 1.3256287145070794e-05, 1.44365228568079e-05, 1.1848994282835131e-05, 1.0325720000504848e-05, 9.274328570297387e-06, 9.577614281235064e-06, 9.211802857212856e-06, 1.5832652853922422e-05, 1.5000332854729746e-05, 1.2885188573688668e-05, 1.2353422859762629e-05, 1.0859697140404024e-05, 9.918131425885285e-06, 9.95049714349859e-06, 1.562536285616391e-05, 1.4339122855225079e-05, 1.4582512857097234e-05, 1.1745939999465398e-05, 1.1151374284444113e-05, 1.089760286049568e-05, 1.6997018569132448e-05, 1.815301000013798e-05, 1.4613378571084466e-05, 1.1891655711744012e-05, 1.2095339994370336e-05, 1.196351428006892e-05, 1.7775788575298585e-05, 1.9859294284937535e-05, 1.3829515711612269e-05, 1.493533142430741e-05, 1.3532898574339924e-05, 1.9597931428247e-05, 2.242313857485507e-05, 1.7979412854661603e-05, 1.4260451425798236e-05, 1.3104265713731627e-05, 1.9394229995149154e-05, 1.860289000043329e-05, 1.8227094283897066e-05, 1.5152635714912323e-05, 1.3750379998132953e-05, 1.9315207144765212e-05, 2.760802857145401e-05, 1.5455669999937526e-05, 1.4358518570328931e-05, 1.5483245715586235e-05, 5.071153571407194e-05, 1.8338875709430012e-05, 1.771371142240241e-05, 1.5096318568664303e-05, 5.1307260000612594e-05, 1.9240322856473668e-05, 1.8779995708817817e-05, 1.5913801427294467e-05, 5.037795000004864e-05, 1.9996647144060785e-05, 1.9377914289049967e-05, 1.647489714222112e-05, 2.3882275716979558e-05, 2.453007429202054e-05, 1.929504142805984e-05, 2.1505762857226988e-05, 2.714637714494269e-05, 3.5529037140804577e-05, 2.579521714454001e-05, 5.5748087140403063e-05, 2.7575601426568547e-05, 1.783346571495973e-05, 2.3552019998273207e-05, 2.2417771425742623e-05, 2.140530714054226e-05, 2.498316000388253e-05, 2.0715551428500996e-05, 2.0595821429846443e-05, 2.532475714490699e-05, 2.6636034282481493e-05, 2.275957570288613e-05, 2.7871468573721363e-05, 2.6629254285320968e-05, 2.0217728571359272e-05, 3.0122195715063887e-05, 2.3829938571517623e-05, 2.1988621431644008e-05, 2.8146512857866968e-05, 2.9071745713216447e-05, 2.317280000300213e-05, 2.893415428583726e-05, 3.0461194289403334e-05, 2.741496285515105e-05, 3.408890999708092e-05, 2.727932999602801e-05, 2.1977037140459287e-05, 2.947109714243977e-05, 2.756069428089956e-05, 2.185368571580121e-05, 3.2275604283183515e-05, 2.4925551429727678e-05, 2.3525641429712e-05, 3.244339428420062e-05, 3.028315571490176e-05, 2.1859100000126224e-05, 5.231032713969138e-05, 2.836071857278252e-05, 2.3528369999569675e-05, 5.9753039999382714e-05, 2.7531458573711072e-05, 2.7931438572912678e-05, 3.165794571551877e-05, 2.799147143118067e-05, 3.1143311428292825e-05, 3.251566714295352e-05, 2.9953078574180842e-05, 2.6916772860983786e-05, 3.5883590005271664e-05, 2.951035142749399e-05, 3.2984958569224025e-05, 3.4282928564997356e-05, 3.803717428257057e-05, 3.0222517138359502e-05, 3.5555205714834816e-05, 3.064150142693377e-05, 3.452531000220915e-05, 3.0491867143739782e-05, 3.6256072856174015e-05, 3.223257713865938e-05, 3.958897000172458e-05, 4.185270856916239e-05, 7.548476285332331e-05, 3.218923999936253e-05, 3.605583428777338e-05, 3.4420202854172586e-05, 3.592965857283811e-05, 4.016173857443001e-05, 3.755957857200493e-05, 3.391043857066377e-05, 3.422642285970921e-05, 3.255600000037313e-05, 3.726326143285925e-05, 2.8091952857981336e-05, 3.8026917149441684e-05, 4.12153514246581e-05, 3.9975638568908576e-05, 3.4526311428635384e-05, 4.0797047141885355e-05, 3.485320285627885e-05, 4.087433856901563e-05, 3.537438285742871e-05, 3.990607285751529e-05, 4.573925142332362e-05, 4.35411442854924e-05, 3.597952713919637e-05, 6.940373713795064e-05, 3.3773310005926755e-05, 4.718768571755e-05, 3.587690428893049e-05, 4.111336285599723e-05, 3.532550143063417e-05, 4.397799428781062e-05, 3.854775428668031e-05, 4.36443971427382e-05, 3.602552428544316e-05, 4.270659285664026e-05, 3.616953571119146e-05, 4.2083767137747996e-05, 3.7606905713931024e-05, 4.568106285920034e-05, 3.7475804290027424e-05, 4.2724028571683444e-05, 3.849337999261999e-05, 4.8500328570558585e-05, 3.769109571814105e-05, 4.668019428208936e-05, 3.930747428707296e-05, 5.309687714283688e-05, 3.762055999946564e-05, 4.884349714432444e-05, 3.979420428939713e-05, 5.0269709998766684e-05, 4.123183999711598e-05, 4.934602142904104e-05, 3.775797570986989e-05, 4.634952857096713e-05, 3.811680285642589e-05, 4.7982704283120784e-05, 3.866696571484291e-05, 4.4567308572628206e-05, 4.0815100001054815e-05, 4.60660542869716e-05, 3.876040142651097e-05, 5.2893797141483176e-05, 3.4368701427800784e-05, 4.424163714637481e-05, 3.46421557125203e-05, 5.01326042857337e-05, 3.886169428629468e-05, 4.939071285791994e-05, 3.824938428546635e-05, 8.088171428555921e-05, 3.954744999906065e-05, 7.885943000344145e-05, 4.027069714408884e-05, 4.816424428229637e-05, 4.041668571517221e-05, 4.669461428420618e-05, 3.580140572012169e-05, 4.6220560000490086e-05, 3.6242074282719315e-05, 4.832061571505619e-05, 3.873196428425477e-05, 5.151009285587602e-05, 5.415980857183708e-05, 5.596712857108546e-05, 3.837608285331433e-05, 5.062899714435584e-05, 3.715733856941889e-05, 5.2050405715168124e-05, 4.4658224287559274e-05, 5.0593708570626674e-05, 5.72449614290755e-05, 5.26019842826437e-05, 4.3526871431822654e-05, 4.813261571273739e-05, 3.836693428248899e-05, 5.140493285580305e-05, 3.864900571768106e-05, 5.089965571512168e-05, 3.9486588570330895e-05, 5.389088714374728e-05, 3.89949242864012e-05, 5.203654142470831e-05, 3.9323565711778694e-05, 5.3115729998743124e-05, 4.0491568569060684e-05, 5.217321857084504e-05, 3.989496285482476e-05, 5.2271824281758336e-05, 3.986862571244793e-05, 5.1617638569691086e-05, 4.044800999898663e-05, 5.2202227146023825e-05, 4.047673142849817e-05, 5.5291922859136586e-05, 4.308180285858856e-05, 5.585358857518128e-05, 4.094851857059568e-05, 5.464733000085939e-05, 4.161787000027418e-05, 5.535580714422395e-05, 4.187285428737856e-05, 5.496970000292225e-05, 4.20122342828628e-05, 5.289522000436721e-05, 4.2290214285977915e-05, 5.6455699996149634e-05, 4.379069143396919e-05, 6.36541257154022e-05, 4.2911220002029686e-05, 6.076958857063022e-05, 4.301329428406981e-05, 5.7692101428464026e-05, 4.334750285644467e-05, 5.7997497141124254e-05, 4.352737285704019e-05, 6.2633002858742e-05, 4.3715058571771284e-05, 5.6001871427205116e-05, 4.419526857028749e-05, 5.993371142851953e-05, 4.961141857295713e-05, 9.836773571545824e-05, 5.176515571552695e-05, 6.253572285848871e-05, 5.385052000097598e-05, 5.4992177143243946e-05, 4.497200713948197e-05, 5.922365285836609e-05, 5.597689714444901e-05, 5.8971324282798105e-05, 4.596079999568506e-05, 8.45856114340547e-05, 6.323333286283221e-05, 7.440778857146923e-05, 6.663518571388393e-05, 6.666570714514818e-05, 5.7353932856390846e-05, 4.780995000276432e-05, 8.788771000191836e-05, 6.5016985710307e-05, 6.444860857040372e-05, 6.907481571293568e-05, 9.453812428806229e-05, 6.545844428338959e-05, 6.22649485688141e-05, 6.11554071370587e-05, 4.789753856779758e-05, 7.703626286456711e-05, 6.201353571668731e-05, 6.4128824285165e-05, 6.0500694284460876e-05, 6.8334211430608e-05, 6.6314147144502e-05, 7.100782571537171e-05, 7.061720714253689e-05, 6.967512285752621e-05, 6.388343570766405e-05, 7.90592899985703e-05, 7.358175857007154e-05, 6.562071429081177e-05, 6.826315143241247e-05, 6.47499742808577e-05, 9.547910999961978e-05, 9.877348428355098e-05, 6.293348000066804e-05, 7.038056284987501e-05, 7.265280142746635e-05, 7.247333428365113e-05, 7.73959557123557e-05, 6.775100856819856e-05, 6.680623570771006e-05, 6.521264857188466e-05, 6.932515857053138e-05, 5.942802571163546e-05, 7.968544428357356e-05, 6.086267142953666e-05, 6.582034285591883e-05, 6.397327571383877e-05, 6.589166714288045e-05, 6.424047285690903e-05, 7.638062571069376e-05, 8.139219714004346e-05, 6.58805385683081e-05, 6.786327856908818e-05, 7.409904999803984e-05, 8.021618428496627e-05, 7.804012857117674e-05, 7.236042285512668e-05, 6.846052856937084e-05, 6.442920999688795e-05, 6.916293999893241e-05, 8.294741857493395e-05, 7.162409714250577e-05, 7.044199714333185e-05, 7.344151142855741e-05, 8.149387286331537e-05, 9.769021714808853e-05, 7.736264000413939e-05, 8.1988564288622e-05, 7.38041057099638e-05, 8.780321142434591e-05, 6.908086428406283e-05, 7.337683143175257e-05, 6.620871571223168e-05, 7.138172714154019e-05, 6.98708228576704e-05, 7.087388714353437e-05, 6.981197999526299e-05, 7.707120856918793e-05, 7.64702157123663e-05, 7.545527571502525e-05, 7.309905000771063e-05, 7.538133142588774e-05, 7.531045571470584e-05, 7.328659428302282e-05, 7.633999428695201e-05, 7.790982285899058e-05, 9.111290142235312e-05, 7.907930285520186e-05, 9.853918428624248e-05, 8.947869857105876e-05, 7.291624999717375e-05, 7.195144857178093e-05, 7.199668285466033e-05, 7.7474855715991e-05, 7.34253071407563e-05, 7.350739428407647e-05, 7.41331528583292e-05, 7.695758713972672e-05, 6.906545428137179e-05, 7.03031742887106e-05, 7.29285200005896e-05, 0.00010927833570739104, 7.43946271411135e-05, 7.636543714657559e-05, 9.547194428055912e-05, 9.22638271445716e-05, 7.527308428377313e-05, 8.898792571406895e-05, 9.679390571753696e-05, 8.154265142885769e-05, 8.10037371463425e-05, 7.710750428356863e-05, 7.982066856909244e-05, 7.859653571358649e-05, 8.200746714334984e-05, 7.374599428658257e-05, 8.092034143243966e-05, 8.085150571267671e-05, 8.689663000300892e-05, 7.686714429187956e-05, 7.450998857166271e-05, 8.229036286138581e-05, 7.82207642857559e-05, 7.872697856977798e-05, 8.241952571812104e-05, 0.00011091881571181668, 7.772782428219218e-05, 8.223522000272559e-05, 8.272860428405693e-05, 8.107322999941451e-05, 8.219629285511994e-05, 8.607929428243162e-05, 8.217596285508729e-05, 9.066182571457052e-05, 8.098343428563177e-05, 7.97847642830415e-05, 7.948456571414552e-05, 0.00010465035429141218, 7.739445428731934e-05, 8.058870999905462e-05, 7.911895999963496e-05, 8.156195000213173e-05, 7.969477714401105e-05, 8.055863142934477e-05, 8.243425428840314e-05, 8.418317286019114e-05, 0.00010639403142704396, 8.310004714335915e-05, 8.372768428671408e-05, 8.364848285054904e-05, 8.342947856622882e-05, 8.34727971414395e-05, 9.808598285547177e-05, 8.931655428438846e-05, 8.449279285352013e-05, 8.388346714387547e-05, 7.918080285370317e-05, 8.339818857036465e-05, 8.218847714358292e-05, 8.295705571072176e-05, 8.059327143200788e-05, 8.41516014276879e-05, 8.029762857144566e-05, 8.271684571289891e-05, 8.164602714324637e-05, 8.336154571484907e-05, 8.579784571338678e-05, 9.20089785748652e-05, 8.550494999976115e-05, 8.574224856991868e-05, 8.610259857180479e-05, 8.760237714211274e-05, 9.193974857355768e-05, 8.781759143208286e-05, 8.889503999723405e-05, 9.372551857398192e-05, 9.093585429062452e-05, 8.801564571123371e-05, 9.41972985726482e-05, 8.750075428906712e-05, 8.819757285371971e-05, 8.527887142918189e-05, 9.238659571305364e-05, 8.774120714016525e-05, 9.094726285444007e-05, 8.838981143136542e-05, 9.321907000412465e-05, 9.33849099991286e-05, 9.191296285799972e-05, 8.639767571366976e-05, 9.40338771475321e-05, 9.408216285789552e-05, 8.736857571160986e-05, 9.55771342861616e-05, 8.606005714162685e-05, 8.718715286054897e-05, 8.636959714099897e-05, 8.752579571332069e-05, 8.708476428572405e-05, 8.822019713988995e-05, 8.785405143238936e-05, 8.472279856505338e-05, 8.855080856457269e-05, 8.559671000122242e-05, 9.018881857108292e-05, 8.813809714411036e-05, 8.913138142816024e-05, 8.816003999787167e-05, 8.911046571613821e-05, 9.036560714386203e-05, 8.958414713820925e-05, 8.956233428762062e-05, 8.899595999797124e-05, 9.03061514275448e-05, 9.0480267138316e-05, 9.119192142731792e-05, 9.004242285560135e-05, 9.080159714618016e-05, 9.09651728553789e-05, 9.049994999908709e-05, 8.98372899921794e-05, 8.946115428833374e-05, 9.016321428654399e-05, 9.086537570900483e-05, 8.898973143004697e-05, 9.044511427938621e-05, 8.964060142586407e-05, 9.023947999594383e-05, 9.010696713760677e-05, 9.412305571199144e-05, 9.753594714181545e-05, 8.792609714354123e-05, 9.530212571657364e-05, 0.00011187151714433899, 0.000116822752853685, 0.00011888324000080632, 8.944250857374365e-05, 9.861311857613536e-05, 9.201167285677262e-05, 8.765618571487722e-05, 9.725075143121232e-05, 9.367262285845103e-05, 9.527932000440029e-05, 9.9239712859084e-05, 9.325863143073675e-05, 9.381818142563652e-05, 9.513032857025142e-05, 9.084614428242535e-05, 9.852942714132951e-05, 0.00010425322856722882, 0.00011191128999988516, 0.00011029890000177796, 0.00010855925286055677, 9.749499999868149e-05, 0.00011707920142985779, 0.00010246722142515604, 0.00010247314571513144, 0.00011299970286147851, 0.00011337156571503979, 0.00010695971285843242, 8.478157143274855e-05, 0.00011026904286024678, 9.471152857388785e-05, 8.787805143063971e-05, 9.10773371418015e-05, 0.00010449697285886422, 0.00011042943428297544, 8.395501571482911e-05, 8.396172857309077e-05, 8.423708000139284e-05, 8.672915857200029e-05, 8.496425999900177e-05, 8.561443571514766e-05, 0.00010979906999637024, 0.00010376737571277773, 9.967371571422388e-05, 9.54752285750666e-05, 8.509582571215495e-05, 8.769147143019447e-05, 0.0001001453085700632, 0.00011552277714924587, 8.744358427845457e-05, 0.00010707453000057804, 8.887760714060278e-05, 9.030879428662178e-05, 9.49133628585384e-05, 9.038560999865044e-05, 8.724453000208346e-05, 8.59958300030225e-05, 9.087121571480696e-05, 9.97174742847814e-05, 8.638289428875266e-05, 0.00011024587285386846, 8.991165857358803e-05, 0.00010028542142858248, 0.00011295340285349605, 0.00012395318428648998, 0.00011629759999777888, 0.00011183206142439822, 0.00011524061284944764, 0.00012038305857848691, 0.00010928981856912808, 0.00011157328000211108, 0.00011514048999483098, 0.00011290093714446162, 0.00011323777856887316, 0.00011669366857469348, 0.00012589993857026066, 0.00010640945857241084, 9.945781571721974e-05, 0.0001110061128565576, 0.000101865178569694, 0.00010878549856767806, 0.00012241991142478324, 0.00010690767285788232, 0.00010708079285385405, 0.00010298924142521822, 0.00011592478571661298, 9.792753286092192e-05, 0.00010677854999552696, 9.896057285784211e-05, 0.00010661758713987573, 0.000114659175716432, 0.00010158048428690692, 0.00011156781142614948, 0.00010367702142892603, 0.00010739342857310216, 0.00010594474428476782, 0.00010377259285762974, 0.00010647878285453773, 0.00010444030856888276, 0.00010623272000365042, 0.00010054062857047288, 0.00010571282714538809, 0.00012882408143143818, 0.00010132767857482708, 0.00010732050571407725, 0.00010192610857692282, 0.00015022377857219128, 0.00012530296571380207, 0.00010776897999936148, 0.00011321515000028221, 0.00011673696285600142, 0.00013180179856915077, 0.00013158585571155918, 0.00011786375285217737, 0.00012248503428314246, 0.0001406176914289452, 0.00012154985428683826, 0.00011600044000130896, 0.0001697065057175808, 0.00011660004142218635, 0.00011095310285652106, 0.00015722327428323166, 0.00013318541142455485, 0.00011106180857625857, 0.000144694298570747, 0.00011597493142679534, 0.00011240587999834265, 0.00013488420714566018, 0.00011194857142982073, 0.0001421295300003424, 0.00011947474856892119, 0.00015748975285532652, 0.00011762227856836811, 0.00010568429000029158, 0.00011300779285582915, 0.00011794985285762649, 0.00011266587000396353, 0.00011642054714684492, 0.0001070543271375105, 0.00010993695714205389, 0.00010615115571324295, 0.00010650437142560674, 0.00011406863428679311, 0.00010881820571220098, 0.00011356183857320242, 0.0001240111828545715, 0.0001363299457157804, 0.00013544679000135928, 0.00013468749856786286, 0.00012024574856695835, 0.00011529349142749975, 0.00013297857571420278, 0.00011518429000196712, 0.00010930531571180576, 0.0001327667542864219, 0.00016919076999848974, 0.00017695300570786852, 0.00014561080857414968, 0.0001692133657161321, 0.00014549720571397173, 0.00012425822571718266, 0.00013534987285571072, 0.0001344640614297532, 0.0001565254114315654, 0.00014073309714668928, 0.0001182081157146188, 0.00011969671714333732, 0.00012163677999914009, 0.00011903359571338765, 0.0001339979585723735, 0.00012612009285866015, 0.00011988457714064031, 0.00012247396000020672, 0.00012110403142807107, 0.00013577804713869616, 0.00012755548285505418, 0.0001256800514238421, 0.00012286210142649777, 0.0001230105414314104, 0.00014054933285868694, 0.00011890382429036045, 0.00013635799714653072, 0.00013505661714329368, 0.00012586008571815907, 0.00014250313143098278, 0.0001217001957125571, 0.00012532493571727952, 0.00012978573571152606, 0.00013310445713744098, 0.000128294319996972, 0.00012104042571601374, 0.0001202098914265142, 0.00012585136857264193, 0.0001229673599976065, 0.00013026391143025, 0.0001275703328584703, 0.0001421405685687205, 0.00012361935142897506, 0.0001243402985710418, 0.0001269237857117592, 0.00014824957142731623, 0.00014036909857168212, 0.00013329380428331206, 0.0001318464528568646, 0.0001326949628517988, 0.00012351348856879798, 0.00012264136857213868, 0.00012518734571650774, 0.0001343866557155187, 0.00013198918999998046, 0.0001261617171439866, 0.00012759501142552056, 0.0001237699385689796, 0.00013836880000131453, 0.00013240224571356, 0.00012579793000051204, 0.0001282130142863025, 0.00012700299285435383, 0.0001307462028541652, 0.00012541815714679875, 0.00012650546714212396, 0.00012630187428710218, 0.00012185773999590312, 0.0001301524457189121, 0.00012496812857144894, 0.000128098455710902, 0.00012793470286071948, 0.0001296487671424984, 0.0001297826599979349, 0.00012927186714348083, 0.00013154567000258664, 0.0001272754399958233, 0.00012441106857295382, 0.0001289658914330565, 0.00012851721571288568, 0.00013058180571533741, 0.00012801496714018868, 0.0001341281957112577, 0.0001297083585710165, 0.00012376396999700642, 0.0001297182428606902, 0.0001285083642817751, 0.00014148408713871114, 0.00012803407571482242, 0.00013549161285741971, 0.00012987926000278095, 0.00013668678142754028, 0.00013302352571242538, 0.00012908084285819706, 0.0001292116657142677, 0.00013035407142524493, 0.00013206824428250131, 0.00013102287142828574, 0.00013455397857407142, 0.0001447306957119768, 0.00013424328856802146, 0.0001268466914318976, 0.000131803122860999, 0.00015882410428665544, 0.00015739762427983804, 0.00013138421428396084, 0.0001333602557107432, 0.00013482615856836284, 0.00013256971571276412, 0.00013873209571621764, 0.00013333713714018812, 0.0001379505742884898, 0.0001344015828596769, 0.000129388874286503, 0.00014044836428053845, 0.00012792736571230176, 0.00013074612142840384, 0.00013057392856873258, 0.00013343363571038935, 0.0001308023228557431, 0.00015271126571471023, 0.00014688762142343745, 0.00014859801714140174, 0.00014774800428442956, 0.00014834902285916282, 0.00014840666285765891, 0.00014760470714203882, 0.00014806961571334147, 0.000148460228571951, 0.0001474793128597542, 0.00014705267571376419, 0.00014925315285706478, 0.000150505417142475, 0.00015068691428626023, 0.00014929099571548118, 0.00013831673714126476, 0.00013094452571489718, 0.00013727355713854194, 0.0001333717500009308, 0.00013651679285820657, 0.00013266000999595105, 0.00013384963857138898, 0.0001330226900037295, 0.00013419823715074536, 0.00013418686428329758, 0.0001309363314326869, 0.0001352199057120223, 0.00013365866999395494, 0.00013950703856867872, 0.00013486222857214412, 0.00013844438285689519, 0.00013401109428741621, 0.00013445932857263998, 0.00013581774142429432, 0.00013910739571136737, 0.00013658053428766185, 0.0001389914514220436, 0.00013623404142760722, 0.00013342786428828342, 0.0001416847314275011, 0.00013571515143017416, 0.00013695000285744236, 0.00013672628713850695, 0.00013761083714468572, 0.00013762537000210222, 0.0001381878671418235, 0.00013580106571420663, 0.00014156547142972289, 0.00013698845428734786, 0.0001403476257136, 0.0001377953557104255, 0.00014230062999818723, 0.00013899316713962307, 0.00014211457999668448, 0.00013954766428599084, 0.00014055324857378896, 0.00013738945571146492, 0.00014277508856788958, 0.00013841983857283986, 0.00014203699285644689, 0.00014831898285722544, 0.000138052555716318, 0.0001398673671428696, 0.00014091216714794952, 0.000138646728571205, 0.00014772601285325697, 0.0001389197500014104, 0.00013778587999695445, 0.00013906009428475433, 0.00013510232285885392, 0.0001384728214335545, 0.0001397896000032363, 0.00013843531714103716, 0.00014071858857278132, 0.00014301398428350306, 0.00014089408571505503, 0.00014183447143035927, 0.00014318487999844367, 0.000142087438569953, 0.00014151347285275864, 0.00014083854571383977, 0.00014201520000174891, 0.00014257345857134038, 0.0001650768600016558, 0.0001639718600017659, 0.00016355870714375795, 0.00014156040285992534, 0.00014111098428786916, 0.000164391350000577, 0.00016517632285155873, 0.0001643274371469618, 0.0001677847900022503, 0.00014667812857494154, 0.0001756218728535584, 0.00016690742571362144, 0.00014529658857749642, 0.0001436631814327224, 0.00014446542142520358, 0.00014360557000535275, 0.00014514453142900106, 0.00014223749143119286, 0.00014929969571572394, 0.00014294680285924447, 0.00014604490571270748, 0.00014345362428295108, 0.00014664174428357258, 0.00015425571428360333, 0.0001686330914318595, 0.00017032556285682534, 0.00015700012285638616, 0.0001408615371422327, 0.00014404121570935657, 0.00014498784570865348, 0.00014531944428329422, 0.00017403687428148778, 0.00014474434571768924, 0.00014528403714263866, 0.0001465013528572204, 0.00014488340999897837, 0.0001461637257151389, 0.00015065673856952343, 0.0001496079314243356, 0.00015060424856918483, 0.00014750354999965305, 0.00014888811714367225, 0.00014757804856864302, 0.0001501725642862896, 0.00014602134857081441, 0.00015273023428692665, 0.0001461707942819755, 0.00015102456142163386, 0.00015221531285923058, 0.0001482903699979943, 0.00014703624285695175, 0.0001482155528615944, 0.00014756996714692958, 0.00014857367428703584, 0.00014829123000319148, 0.0001752245957115, 0.00015397941428610854, 0.00014813723428492914, 0.00015137537285616937, 0.00014814218142678978, 0.00015177935714226417, 0.00015052216428947367, 0.00015099188571444496, 0.0001470928971476886, 0.00015531050285842087, 0.00014665795571740348, 0.00017176284285596918, 0.00016389279428819593, 0.0001709779214330151, 0.00016591910428490208, 0.00017343646000361854, 0.00015222229714449242, 0.00015171847285663328, 0.0001520223785727077, 0.00015166746285363584, 0.00015668640000512823, 0.00015230802572010102, 0.00015759680714576722, 0.00017611132857252545, 0.00015265364428289886, 0.00015619617999878494, 0.00015389258428383202, 0.0001473515042900025]}, {\"name\": \"base\", \"type\": \"scatter\", \"x\": [3, 5, 7, 9, 11, 13, 15, 17, 19, 21, 23, 25, 27, 29, 31, 33, 35, 37, 39, 41, 43, 45, 47, 49, 51, 53, 55, 57, 59, 61, 63, 65, 67, 69, 71, 73, 75, 77, 79, 81, 83, 85, 87, 89, 91, 93, 95, 97, 99, 101, 103, 105, 107, 109, 111, 113, 115, 117, 119, 121, 123, 125, 127, 129, 131, 133, 135, 137, 139, 141, 143, 145, 147, 149, 151, 153, 155, 157, 159, 161, 163, 165, 167, 169, 171, 173, 175, 177, 179, 181, 183, 185, 187, 189, 191, 193, 195, 197, 199, 201, 203, 205, 207, 209, 211, 213, 215, 217, 219, 221, 223, 225, 227, 229, 231, 233, 235, 237, 239, 241, 243, 245, 247, 249, 251, 253, 255, 257, 259, 261, 263, 265, 267, 269, 271, 273, 275, 277, 279, 281, 283, 285, 287, 289, 291, 293, 295, 297, 299, 301, 303, 305, 307, 309, 311, 313, 315, 317, 319, 321, 323, 325, 327, 329, 331, 333, 335, 337, 339, 341, 343, 345, 347, 349, 351, 353, 355, 357, 359, 361, 363, 365, 367, 369, 371, 373, 375, 377, 379, 381, 383, 385, 387, 389, 391, 393, 395, 397, 399, 401, 403, 405, 407, 409, 411, 413, 415, 417, 419, 421, 423, 425, 427, 429, 431, 433, 435, 437, 439, 441, 443, 445, 447, 449, 451, 453, 455, 457, 459, 461, 463, 465, 467, 469, 471, 473, 475, 477, 479, 481, 483, 485, 487, 489, 491, 493, 495, 497, 499, 501, 503, 505, 507, 509, 511, 513, 515, 517, 519, 521, 523, 525, 527, 529, 531, 533, 535, 537, 539, 541, 543, 545, 547, 549, 551, 553, 555, 557, 559, 561, 563, 565, 567, 569, 571, 573, 575, 577, 579, 581, 583, 585, 587, 589, 591, 593, 595, 597, 599, 601, 603, 605, 607, 609, 611, 613, 615, 617, 619, 621, 623, 625, 627, 629, 631, 633, 635, 637, 639, 641, 643, 645, 647, 649, 651, 653, 655, 657, 659, 661, 663, 665, 667, 669, 671, 673, 675, 677, 679, 681, 683, 685, 687, 689, 691, 693, 695, 697, 699, 701, 703, 705, 707, 709, 711, 713, 715, 717, 719, 721, 723, 725, 727, 729, 731, 733, 735, 737, 739, 741, 743, 745, 747, 749, 751, 753, 755, 757, 759, 761, 763, 765, 767, 769, 771, 773, 775, 777, 779, 781, 783, 785, 787, 789, 791, 793, 795, 797, 799, 801, 803, 805, 807, 809, 811, 813, 815, 817, 819, 821, 823, 825, 827, 829, 831, 833, 835, 837, 839, 841, 843, 845, 847, 849, 851, 853, 855, 857, 859, 861, 863, 865, 867, 869, 871, 873, 875, 877, 879, 881, 883, 885, 887, 889, 891, 893, 895, 897, 899, 901, 903, 905, 907, 909, 911, 913, 915, 917, 919, 921, 923, 925, 927, 929, 931, 933, 935, 937, 939, 941, 943, 945, 947, 949, 951, 953, 955, 957, 959, 961, 963, 965, 967, 969, 971, 973, 975, 977, 979, 981, 983, 985, 987, 989, 991, 993, 995, 997, 999, 1001, 1003, 1005, 1007, 1009, 1011, 1013, 1015, 1017, 1019, 1021, 1023, 1025, 1027, 1029, 1031, 1033, 1035, 1037, 1039, 1041, 1043, 1045, 1047, 1049, 1051, 1053, 1055, 1057, 1059, 1061, 1063, 1065, 1067, 1069, 1071, 1073, 1075, 1077, 1079, 1081, 1083, 1085, 1087, 1089, 1091, 1093, 1095, 1097, 1099, 1101, 1103, 1105, 1107, 1109, 1111, 1113, 1115, 1117, 1119, 1121, 1123, 1125, 1127, 1129, 1131, 1133, 1135, 1137, 1139, 1141, 1143, 1145, 1147, 1149, 1151, 1153, 1155, 1157, 1159, 1161, 1163, 1165, 1167, 1169, 1171, 1173, 1175, 1177, 1179, 1181, 1183, 1185, 1187, 1189, 1191, 1193, 1195, 1197, 1199, 1201, 1203, 1205, 1207, 1209, 1211, 1213, 1215, 1217, 1219, 1221, 1223, 1225, 1227, 1229, 1231, 1233, 1235, 1237, 1239, 1241, 1243, 1245, 1247, 1249, 1251, 1253, 1255, 1257, 1259, 1261, 1263, 1265, 1267, 1269, 1271, 1273, 1275, 1277, 1279, 1281, 1283, 1285, 1287, 1289, 1291, 1293, 1295, 1297, 1299, 1301, 1303, 1305, 1307, 1309, 1311, 1313, 1315, 1317, 1319, 1321, 1323, 1325, 1327, 1329, 1331, 1333, 1335, 1337, 1339, 1341, 1343, 1345, 1347, 1349, 1351, 1353, 1355, 1357, 1359, 1361, 1363, 1365, 1367, 1369, 1371, 1373, 1375, 1377, 1379, 1381, 1383, 1385, 1387, 1389, 1391, 1393, 1395, 1397, 1399, 1401, 1403, 1405, 1407, 1409, 1411, 1413, 1415, 1417, 1419, 1421, 1423, 1425, 1427, 1429, 1431, 1433, 1435, 1437, 1439, 1441, 1443, 1445, 1447, 1449, 1451, 1453, 1455, 1457, 1459, 1461, 1463, 1465, 1467, 1469, 1471, 1473, 1475, 1477, 1479, 1481, 1483, 1485, 1487, 1489, 1491, 1493, 1495, 1497, 1499, 1501, 1503, 1505, 1507, 1509, 1511, 1513, 1515, 1517, 1519, 1521, 1523, 1525, 1527, 1529, 1531, 1533, 1535, 1537, 1539, 1541, 1543, 1545, 1547, 1549, 1551, 1553, 1555, 1557, 1559, 1561, 1563, 1565, 1567, 1569, 1571, 1573, 1575, 1577, 1579, 1581, 1583, 1585, 1587, 1589, 1591, 1593, 1595, 1597, 1599, 1601, 1603, 1605, 1607, 1609, 1611, 1613, 1615, 1617, 1619, 1621, 1623, 1625, 1627, 1629, 1631, 1633, 1635, 1637, 1639, 1641, 1643, 1645, 1647, 1649, 1651, 1653, 1655, 1657, 1659, 1661, 1663, 1665, 1667, 1669, 1671, 1673, 1675, 1677, 1679, 1681, 1683, 1685, 1687, 1689, 1691, 1693, 1695, 1697, 1699, 1701, 1703, 1705, 1707, 1709, 1711, 1713, 1715, 1717, 1719, 1721, 1723, 1725, 1727, 1729, 1731, 1733, 1735, 1737, 1739, 1741, 1743, 1745, 1747, 1749, 1751, 1753, 1755, 1757, 1759, 1761, 1763, 1765, 1767, 1769, 1771, 1773, 1775, 1777, 1779, 1781, 1783, 1785, 1787, 1789, 1791, 1793, 1795, 1797, 1799, 1801, 1803, 1805, 1807, 1809, 1811, 1813, 1815, 1817, 1819, 1821, 1823, 1825, 1827, 1829, 1831, 1833, 1835, 1837, 1839, 1841, 1843, 1845, 1847, 1849, 1851, 1853, 1855, 1857, 1859, 1861, 1863, 1865, 1867, 1869, 1871, 1873, 1875, 1877, 1879, 1881, 1883, 1885, 1887, 1889, 1891, 1893, 1895, 1897, 1899, 1901, 1903, 1905, 1907, 1909, 1911, 1913, 1915, 1917, 1919, 1921, 1923, 1925, 1927, 1929, 1931, 1933, 1935, 1937, 1939, 1941, 1943, 1945, 1947, 1949, 1951, 1953, 1955, 1957, 1959, 1961, 1963, 1965, 1967, 1969, 1971, 1973, 1975, 1977, 1979, 1981, 1983, 1985, 1987, 1989, 1991, 1993, 1995, 1997, 1999], \"y\": [4.291642861582139e-07, 6.954542862201508e-07, 1.0000514261524326e-06, 1.2549314227986285e-06, 1.6033285724656056e-06, 1.8664800024583068e-06, 2.0838114271880056e-06, 3.222600002378125e-06, 4.942497143929359e-06, 2.855812854249962e-06, 3.256237144211939e-06, 3.8583257108777085e-06, 3.697014284885621e-06, 3.9719599979954576e-06, 4.300724285712932e-06, 4.820710000785766e-06, 4.554315715462768e-06, 5.1500971416576895e-06, 6.018177144661813e-06, 6.032978570666663e-06, 5.807848569280136e-06, 5.791451429623911e-06, 5.5265114237304905e-06, 5.3025442892768685e-06, 5.2351514282885814e-06, 6.656477141534976e-06, 7.75627714964295e-06, 7.776351428349569e-06, 8.482391432543018e-06, 7.679818575395205e-06, 7.4747342867859905e-06, 7.242297139912677e-06, 6.981882860210524e-06, 9.61631571304419e-06, 1.088584999836582e-05, 9.692737140929761e-06, 8.765015710585949e-06, 9.624152852276371e-06, 8.934508576723083e-06, 9.051882854172227e-06, 1.2178115710932095e-05, 1.0120649998758122e-05, 9.863205712982952e-06, 1.0176195711600093e-05, 1.0235052858271436e-05, 9.874847141223394e-06, 9.765644291681903e-06, 1.2129197142972513e-05, 1.440553714149116e-05, 1.3831792855073999e-05, 1.2021238573132514e-05, 1.2309211428406082e-05, 1.1953772856421505e-05, 1.132229857051113e-05, 1.4891767142606631e-05, 1.4835405719557974e-05, 1.4563021426770969e-05, 1.4019707138816428e-05, 1.2739647146580476e-05, 1.2502751430604672e-05, 1.2733928576510929e-05, 1.8117735715869848e-05, 1.7251192860255413e-05, 1.7085659996415155e-05, 1.4908504285163614e-05, 1.4020151426978244e-05, 1.4015875713084823e-05, 2.0621234289137646e-05, 2.043880571363843e-05, 1.6486669995044526e-05, 2.0324934284872144e-05, 1.58450300036098e-05, 1.5374409997873175e-05, 1.9118478571077246e-05, 1.9891961432482014e-05, 1.9034182854998762e-05, 1.878712856913418e-05, 1.6767545717552172e-05, 2.363396285415677e-05, 2.3675399999254808e-05, 2.010746999855785e-05, 1.737342571556967e-05, 1.7346658564097847e-05, 2.381910571784829e-05, 2.090362571574847e-05, 2.1295039995103643e-05, 1.8934632857313512e-05, 1.8646988571293013e-05, 2.9126741428626697e-05, 2.303306429114725e-05, 1.9497367146479e-05, 2.0444570000108802e-05, 2.0224324281506207e-05, 2.4180428569837075e-05, 3.027069571804272e-05, 2.2993064288000045e-05, 2.0641524284396185e-05, 2.784027571708845e-05, 3.185912999989731e-05, 2.2923251430516493e-05, 2.1254294284257668e-05, 2.6496495710099608e-05, 2.691898428695692e-05, 2.4165035715019e-05, 2.2143227142805695e-05, 3.2166154284953205e-05, 2.645435285428123e-05, 2.6904817147754198e-05, 2.9924125712048925e-05, 4.4603312856322324e-05, 3.577433999713061e-05, 4.125180428673048e-05, 3.082074713737321e-05, 2.755081856906015e-05, 2.417095571737653e-05, 3.34233400021081e-05, 2.929861428388644e-05, 2.631033571170909e-05, 3.3600484286060754e-05, 2.6643485712806325e-05, 2.5899389999852122e-05, 3.499697570857409e-05, 3.1263315717556653e-05, 2.7517354285789363e-05, 3.489947857035856e-05, 3.3272688568623766e-05, 2.754643285827894e-05, 3.591932571518035e-05, 3.320246142590934e-05, 2.8211731423652972e-05, 3.694470571125359e-05, 3.516230857193087e-05, 3.0344435711283174e-05, 4.079920428401758e-05, 3.466594571104257e-05, 4.148059571629606e-05, 4.4484895718466896e-05, 3.313905714094289e-05, 3.502061142561225e-05, 3.9321805714800046e-05, 3.5188942854022446e-05, 3.054897571668594e-05, 3.6398132862294516e-05, 3.8403539996839505e-05, 3.144176571368007e-05, 4.600846143148374e-05, 3.3739807141890715e-05, 3.1278065712935386e-05, 4.02102671380687e-05, 4.7261205711817765e-05, 3.2303807139604555e-05, 3.8245347145025986e-05, 4.11287699976778e-05, 3.3751682855966334e-05, 4.1945664280709547e-05, 3.767349286135868e-05, 3.923544000437168e-05, 4.151997285849315e-05, 4.5672540002539916e-05, 3.487869999454623e-05, 4.783233999530369e-05, 3.742856142707751e-05, 4.7430922854151236e-05, 3.8950727141907136e-05, 4.7116662855322444e-05, 3.673425714493662e-05, 4.652738999668924e-05, 4.053208857450435e-05, 4.2220818572137176e-05, 4.0743879996755694e-05, 4.904248714280714e-05, 5.547313571306794e-05, 6.704291571492961e-05, 5.348490428722081e-05, 4.4848644288971887e-05, 3.966952571447889e-05, 5.326365999800536e-05, 4.10453128565028e-05, 5.265661142662534e-05, 4.078084286187992e-05, 5.093710714001126e-05, 4.2260437143600674e-05, 5.488108571496144e-05, 3.943705999907772e-05, 4.854471571629151e-05, 3.902834571428165e-05, 5.389163285664316e-05, 4.166810428744481e-05, 5.2058898576693266e-05, 4.645352142948208e-05, 5.270142428344116e-05, 4.721442571151004e-05, 5.316523142028018e-05, 4.650218714232324e-05, 6.0501181425414475e-05, 6.381903571309522e-05, 5.080950571417426e-05, 4.419712285847969e-05, 5.16676742855842e-05, 4.309251428691953e-05, 5.158146428584586e-05, 4.4006372856009494e-05, 5.5134654282613024e-05, 4.597293571870458e-05, 5.1393722855469344e-05, 4.487165428664801e-05, 5.529894285375901e-05, 4.7224674282395944e-05, 6.0128614287740295e-05, 4.5511744286029305e-05, 5.7714278565461954e-05, 4.7557304286393844e-05, 5.773090857733872e-05, 4.711188714022033e-05, 5.933941142887177e-05, 4.963647285746577e-05, 5.714577428339648e-05, 4.880998000382013e-05, 5.991572428424011e-05, 5.141989142690103e-05, 5.773976857069231e-05, 5.1100514286060524e-05, 6.169832714087014e-05, 7.907234999947831e-05, 7.472701714505091e-05, 4.964910714209378e-05, 5.780624571603506e-05, 4.912402571530298e-05, 5.9165222854582166e-05, 5.011500142635279e-05, 5.840733571728509e-05, 5.044371285683675e-05, 6.24558642838175e-05, 5.293693571210107e-05, 6.505447000173652e-05, 5.651864571128889e-05, 5.952723856743042e-05, 4.974093571945559e-05, 5.894244428158605e-05, 5.0541348573460714e-05, 6.0881247146815954e-05, 5.136357714166349e-05, 7.379119571591477e-05, 5.185868142819215e-05, 7.070436000503833e-05, 5.224139428589426e-05, 6.088982714572922e-05, 5.242173999639427e-05, 6.477947143139316e-05, 5.246692572005226e-05, 6.215996142730417e-05, 5.299521571942023e-05, 5.584447000208976e-05, 5.472776285906938e-05, 6.374105571272333e-05, 5.6611005716799156e-05, 8.233797857038943e-05, 8.649814714122581e-05, 7.087115999768556e-05, 5.474364856906634e-05, 6.170137999756012e-05, 5.505986142972169e-05, 6.455379000336896e-05, 6.454538714284094e-05, 9.660261142926172e-05, 9.188817857128532e-05, 6.784998428494353e-05, 5.6878935715108776e-05, 6.0141762860439477e-05, 5.675431285583598e-05, 6.404519142701508e-05, 5.7079392863670374e-05, 7.191736857358982e-05, 5.724988857504546e-05, 6.276988143196962e-05, 5.803759285689531e-05, 6.428212285754852e-05, 5.848835285567994e-05, 7.104484857336501e-05, 5.859823285520959e-05, 6.487313714127854e-05, 5.8851575712261754e-05, 6.590258285671422e-05, 5.945755714232551e-05, 6.477384857134893e-05, 6.39980128575449e-05, 6.722406714158882e-05, 6.026136143191253e-05, 7.118186714121423e-05, 6.124642428923316e-05, 6.813641713701404e-05, 6.092552000024754e-05, 6.90864614235969e-05, 6.195570142933451e-05, 7.544231285334848e-05, 6.188260143192435e-05, 6.818866571328337e-05, 6.426137999889242e-05, 7.426174571394638e-05, 6.307406714508292e-05, 6.8747422852279e-05, 6.462201000041596e-05, 7.001309571673378e-05, 6.402668142462582e-05, 6.647526571344184e-05, 6.504794714471375e-05, 6.941614428277327e-05, 6.527301142861169e-05, 6.886662285978672e-05, 6.68021614287032e-05, 7.305700857354429e-05, 6.589939999945012e-05, 7.07291985755936e-05, 6.666933571718151e-05, 8.03623271401323e-05, 0.00010909033571546648, 7.978603571505767e-05, 7.659409142953726e-05, 7.962331714225001e-05, 9.33725757152258e-05, 6.98656928606007e-05, 6.730043000061415e-05, 8.231446285727933e-05, 8.096358571752459e-05, 7.29374628567062e-05, 6.903814857131302e-05, 8.113692857088089e-05, 0.00011061112571821599, 8.924039714267044e-05, 9.712093713720346e-05, 8.460870142828624e-05, 7.203839000015121e-05, 6.953672142377141e-05, 7.248777714007052e-05, 7.411175857799077e-05, 7.420711428494543e-05, 8.036538571104754e-05, 9.013010000022143e-05, 8.310969714200057e-05, 0.0001023580014277416, 7.424937285447543e-05, 7.207014714627544e-05, 7.443591714556013e-05, 7.628358427869639e-05, 8.551195857372867e-05, 9.280577999951284e-05, 0.00011069590142921828, 8.372440714083495e-05, 8.287667857075575e-05, 8.282073714196616e-05, 8.151140000076599e-05, 9.90490671392763e-05, 0.00011571839714503896, 7.745272857001899e-05, 7.904325999334106e-05, 8.356477286205128e-05, 7.906568999845021e-05, 8.842155713864486e-05, 8.834043714159634e-05, 7.704921857501696e-05, 8.782846000550698e-05, 9.138540285545918e-05, 0.00010857457428885808, 7.834645142793305e-05, 8.859619428351704e-05, 9.048871857885388e-05, 8.119839856850118e-05, 9.322503999490955e-05, 0.00013607049857195566, 8.603942000523344e-05, 8.614123714453724e-05, 7.967911428360301e-05, 8.143625857233669e-05, 8.370388143053528e-05, 0.00010569232428419389, 9.237372428417854e-05, 0.00011836252856612971, 8.09669714258884e-05, 8.10797214294975e-05, 9.950917428536092e-05, 9.263315142951406e-05, 9.696946856950359e-05, 8.118106714391615e-05, 8.332423714559158e-05, 8.223924714651991e-05, 0.00010250079142809095, 0.00010145280857094414, 9.822614428360665e-05, 8.539817285834164e-05, 8.349410856940916e-05, 8.686246143302663e-05, 9.961615142726388e-05, 8.638323000143698e-05, 8.463176999742115e-05, 8.35612628621415e-05, 8.578504857203891e-05, 0.00010649550571283076, 9.346100142335802e-05, 8.417357428178159e-05, 8.592101142702241e-05, 8.699716714805357e-05, 8.8699497142183e-05, 9.809199142962048e-05, 9.840008857021791e-05, 8.710233142275165e-05, 9.47599728559518e-05, 0.000103537730005233, 9.977968857128873e-05, 9.986518571167834e-05, 0.00010041081000183891, 8.798995143089478e-05, 0.00010489180143070241, 9.390390714283318e-05, 0.0001353533400028287, 0.00012552927142938378, 0.00010228699999840632, 0.00010055172571030978, 0.00010361542714495694, 0.00010444391000159418, 9.088615857243503e-05, 8.900783286143062e-05, 8.916256000052921e-05, 0.00010212392857023848, 0.00010147873429169909, 8.972291714079413e-05, 9.589099427882632e-05, 0.00012598788428606764, 0.00011595976428517522, 9.148168428250106e-05, 0.00012843385428433458, 9.426745857386516e-05, 9.186877142773092e-05, 0.0001301175614259721, 9.607335428362212e-05, 9.576368428627444e-05, 0.00011544319857161359, 9.266815571338935e-05, 9.591053142555342e-05, 9.290924857071204e-05, 0.00010808486714138, 0.00010100808857064941, 9.2637625714685e-05, 9.460201000235558e-05, 0.00012569389285740077, 9.557835286094424e-05, 9.5102454285682e-05, 9.584209428794565e-05, 0.00011224844571448298, 9.602275999506154e-05, 0.0001085547099994853, 0.000109564978574781, 0.00010068483285327342, 9.88482457121011e-05, 0.00010839558571335926, 0.0001089747728526293, 9.752950856636744e-05, 0.00011135392428643953, 0.0001321223342893063, 0.00011121257857407078, 0.0001122296357165656, 9.665652428468872e-05, 0.00010047892000199812, 9.819100856735273e-05, 9.764904428655949e-05, 9.898450428538904e-05, 0.00010066571000217143, 9.89661542839063e-05, 0.00010168299428187312, 9.986522857486438e-05, 0.00010076353571743571, 9.911416285831364e-05, 0.00010577872285596512, 9.99363128643641e-05, 0.00010095473714110473, 0.00010201297142495084, 0.00010278618428076568, 0.00010222880571486062, 0.00010885247142661162, 0.0001903587928531384, 0.00010469362285740706, 0.00010085137999859788, 0.00010566514571369874, 0.0001010390042860568, 0.00010261467429050496, 0.00010192311571829903, 0.00010375510142953968, 0.00010225414142561413, 0.00010339862857238456, 0.00010284925428485232, 0.00010518393571276519, 0.00010480334428523618, 0.00010433056428415251, 0.00010400720285230949, 0.00010790589143393195, 0.0001042563428615852, 0.00010457248143211472, 0.00010629071857692908, 0.00010584437142824756, 0.00010725102000443647, 0.00010540792571711272, 0.00010599876856888709, 0.00010759602857173637, 0.00010767180428956636, 0.00010951120286076078, 0.00010772097857365484, 0.00010625092142748014, 0.00010729919000108826, 0.00010690984714528894, 0.00011006968000011899, 0.00010761355714359004, 0.00011311840571319668, 0.00010992337857585103, 0.00011051179571430632, 0.00011095935713975839, 0.00011382193571470064, 0.00011100240428277175, 0.00011168561285688025, 0.00011362614142594143, 0.00011074862857120544, 0.00011130994284810315, 0.0001109271628566993, 0.00011232784714593434, 0.00011055172285393514, 0.00011069705285990493, 0.00011329862000171228, 0.00011048766714468782, 0.0001103796799985243, 0.000110732782863384, 0.0001122714814300707, 0.00011036934285584719, 0.0001112621700044006, 0.00011557628714269541, 0.00011138152999982205, 0.000112863298571548, 0.00011205179999576233, 0.00011268938285346458, 0.0001121848600035134, 0.00011403741714665169, 0.00011399918285730694, 0.0001128132271462943, 0.00011389401143138195, 0.00011677699428348985, 0.0001368043971420515, 0.00012718917428043954, 0.00012091954143085916, 0.00011913018714299792, 0.00011930457714177984, 0.00012007025428309654, 0.00011954406571801104, 0.00012182873571613789, 0.00012009839142462752, 0.00012086429571614385, 0.00012056455714628101, 0.00012049821571573764, 0.00012098946857284836, 0.00012125082428870625, 0.00013689099571170766, 0.00012690992428750697, 0.00017191205286248338, 0.00014216731142888809, 0.00018610985428365112, 0.00014001965428698374, 0.0001271525285691106, 0.0001556146571393973, 0.00012494857857226244, 0.00012781701428788702, 0.00013876300713881002, 0.00012099757142745408, 0.0001224206042856427, 0.00012508893571326293, 0.00011935472285975783, 0.00011985650286078452, 0.00014869605999722678, 0.0001392701885717023, 0.00012978382428367958, 0.0001632028528625337, 0.00016483858999760868, 0.0001486492071411963, 0.0001772619628562617, 0.00016587725570778794, 0.00017351835286068048, 0.00015225490572057812, 0.00017150453142936124, 0.0001410894171437706, 0.00016811019571313018, 0.00012784388428501968, 0.00016012820714292632, 0.0001556548299959104, 0.00015661791143429586, 0.00012936987142633628, 0.0001297597900000775, 0.000173324040001067, 0.00013993426428507, 0.0001289977542858521, 0.0001304446499982857, 0.00012800720714689566, 0.0001330361485763985, 0.00012552777142575775, 0.00014895844713984322, 0.00016825887000387806, 0.00015235659999754194, 0.0001410691985750288, 0.00014059637000173102, 0.0001271879985662443, 0.00013439915571455328, 0.00017095497856644214, 0.00013016963000284573, 0.00013099943570913248, 0.00014769263856838472, 0.000135138855709686, 0.00013101383999777942, 0.00013896278571597318, 0.0001302855871420304, 0.00013344383857007155, 0.00013548546714186422, 0.0001309440800027265, 0.00014791156571456149, 0.00013953879714660746, 0.00016395077857201353, 0.00013047638285830284, 0.00017049625142525265, 0.00017787341714210926, 0.00018649757285727124, 0.00017711903142428906, 0.00017941591000115816, 0.00019310243000031084, 0.0001767784128579868, 0.00018154358428936184, 0.00017892609714181162, 0.00019911420572108388, 0.00016670207000320908, 0.0001827980414288634, 0.0001907998228541276, 0.00016113436714087064, 0.0001387760385763873, 0.00014328121571712213, 0.00014032914429013284, 0.00014755551428346998, 0.00017277070999885576, 0.00015306418714057407, 0.0001502351299989511, 0.00015792719857147733, 0.00016165351285703114, 0.00015500331714065395, 0.00014541554857195092, 0.00016352547571191932, 0.00014449060143046415, 0.00016484342142835626, 0.00015588451571082782, 0.0001495187371438078, 0.00014741196286195194, 0.00014022786286139828, 0.00013928398285445708, 0.00014643265143084655, 0.0001492065899947193, 0.00014691380714274208, 0.00015574241856873932, 0.00018718295285257875, 0.0001475600442868849, 0.00018225996285764267, 0.00017576409999881955, 0.00015607653142589182, 0.00015305911285655124, 0.00015588356143000833, 0.00022641075285719127, 0.00014244027285323165, 0.0001508880914298061, 0.00019972104571414613, 0.00020526698714352925, 0.00017887367571477495, 0.00014275466142602713, 0.00021740478571570878, 0.00017678238285433117, 0.00017502845143358822, 0.00022227127429037602, 0.00018867755714381928, 0.00015204210285706465, 0.00023596679142688765, 0.0001494741514293959, 0.00020271191857578483, 0.0002238460842896269, 0.00019186634142637815, 0.00015379633571553444, 0.00021545910571668563, 0.00014421014285939497, 0.0002208532828522688, 0.00014478462713928559, 0.0002047855642844557, 0.0001515103857127542, 0.00020356598428406867, 0.0001496698942823319, 0.00015643996142898688, 0.00014422093857189924, 0.0001460003042848257, 0.00014631333713883317, 0.00014658254714179617, 0.00014591602285820825, 0.00014691726857303622, 0.00014837548999951518, 0.00014736093428707262, 0.00014900474142840332, 0.000149182748570768, 0.00016970232142609482, 0.00019425864428350382, 0.00016857325999548522, 0.0001997025228566989, 0.0001734342542892721, 0.00016195355285682518, 0.00016886469572065314, 0.0001903229785732817, 0.00018678688000103904, 0.00015603334857067759, 0.000246384065714145, 0.00023367613428490586, 0.00023994535285705099, 0.0002189338900045966, 0.0002212146985740609, 0.00019354478142953927, 0.00018663000285544385, 0.00022183710714411323, 0.0001582805642829044, 0.00019227671713971565, 0.00015770322999742343, 0.000165819934287096, 0.0001691296814325532, 0.00016387083428656167, 0.0001554872942896119, 0.00015637180000080013, 0.0001588431200018801, 0.00016999907142755026, 0.00016371353857591334, 0.00015961516143371616, 0.00016053243429009205, 0.00016482195714810847, 0.00017612148285999342, 0.00017181021285848274, 0.0001818483285725441, 0.00017538896142858508, 0.00016851618285987311, 0.00016799386429089017, 0.0001684563142901295, 0.0001713052014279778, 0.00016613270142832852, 0.00017198553571298752, 0.00015934885857599767, 0.00016430807285879772, 0.00016384192427722154, 0.00016542344143090305, 0.00018051629285504791, 0.000172600825709586, 0.00017532997142812487, 0.00016678073000158682, 0.00016610270143376383, 0.00016893034000012058, 0.00017318336572186258, 0.0001768658057153516, 0.00017015280999787915, 0.00016407666428806675, 0.00016524512428337142, 0.00016467821428575139, 0.00016545817000016022, 0.00018216698856901665, 0.0001763484957155015, 0.00017181617286041731, 0.00017479607571398704, 0.00016500934285691723, 0.0001665869900015033, 0.00017111483286238842, 0.00016867351856749988, 0.0001748208357171929, 0.0001681928828579008, 0.00016774659000085582, 0.0001661151214284473, 0.00016811987857051597, 0.00016966700856885708, 0.00019190127428373672, 0.00017743744857268344, 0.0001725540585721319, 0.00017610253428886478, 0.0001743346985728879, 0.0001734756442861648, 0.00017634927429233878, 0.00017502049999945616, 0.0001781742171390631, 0.00016822230999293558, 0.0001741315299971445, 0.00017010981142707998, 0.00017212156142964625, 0.0001715719642847294, 0.00017309307000427257, 0.00017806807285783828, 0.0001723180171445295, 0.00017636808857267688, 0.0001723970957131574, 0.00017252044714041403, 0.00017454409142893772, 0.00017978589713883204, 0.0001797964799983934, 0.00017417779285616624, 0.00017960169428468879, 0.00017442167571841434, 0.00017402669857152173, 0.00017369816571642462, 0.00017545407999672796, 0.00017865014428805032, 0.00017817206714296064, 0.0001832530071416321, 0.000180698151424232, 0.00018352033000025716, 0.00017889810571172608, 0.0001820203414276225, 0.00018001593000008142, 0.0001817174000020064, 0.00018240819428423752, 0.0001835232542881776, 0.00018733981428990126, 0.00017541548571119034, 0.00018190326142368058, 0.0001775444385670458, 0.00018431650999835772, 0.00017845869714229983, 0.00017841765000152268, 0.00017976574142916692, 0.00018056405714430315, 0.00018131497000078002, 0.00018143262428046522, 0.00018708048000137624, 0.00018184632714110196, 0.00018595335999894554, 0.0001809488514248057, 0.0001825409228591265, 0.00018369676286186278, 0.00018296961285419199, 0.00018285609999760968, 0.00018298240142809976, 0.000186054937143386, 0.00018212840000290142, 0.0001884937257117209, 0.00018511803714448303, 0.00019084843714413832, 0.00018494204428601998, 0.00018897331428369008, 0.00018515760142950708, 0.00019076036857118849, 0.00018320549571529098, 0.000189557682855853, 0.00018589745714572408, 0.00018547069000175853, 0.00018594829857517784, 0.0001863184399995329, 0.00018626528285624642, 0.00018603304857086705, 0.0001876985014262443, 0.00018775543571142149, 0.00019206564142742926, 0.00018822602143180639, 0.00019432797143183834, 0.00018695761000084792, 0.0001920037985707625, 0.0001874375514281772, 0.00018871421999782409, 0.00019099047142715007, 0.00018851632143196184, 0.00018818842000525494, 0.00019029166571531928, 0.00019881015714158168, 0.00019761518571353263, 0.00020245604142993603, 0.00019866519572003328, 0.00020247898143549849, 0.0001979634514334196, 0.00020586481000074336, 0.0001969649699952113, 0.00019970537285969055, 0.00019429694999936533, 0.00020062068428420126, 0.0001971183585685919, 0.00020238221142270568, 0.00019545382857229143, 0.00019802578571346077, 0.00019760930427894762, 0.0001986261371426476, 0.00019729776714354688, 0.00020502227142580004, 0.00019891964142256517, 0.00019989621571637274, 0.00020011880570954032, 0.00019886362428743655, 0.00020092930000048783, 0.00019845006714084385, 0.00020123456571257396, 0.00019965566428124606, 0.00020402914571085207, 0.0001999741928531356, 0.00020801613714606251, 0.00020064167857136844, 0.0002064918642905208, 0.00020249715571740771, 0.00020694586428882241, 0.00020280098142653257, 0.00020610033999868654, 0.0002011617885727901, 0.0002075397357111797, 0.00020271794000239292, 0.0002065506414302425, 0.0002038980857131329, 0.0002117317157119812, 0.0001963863485746385, 0.00020492067999969418, 0.00020172582713972332, 0.00021101593142572843, 0.0002068397342814673, 0.00021339736571462708, 0.00020735112428675557, 0.0002065694814284923, 0.00020714545000113764, 0.0002099513328539615, 0.00020716333857178276, 0.0002105680314291801, 0.0002071237542856709, 0.0002107288071420044, 0.00020674248571594944, 0.0002101544600035205, 0.00020724173571319882, 0.00021555810571693922, 0.00026274576142895964, 0.00025748681857034434, 0.00021374476285667958, 0.00019835809714225305, 0.00021051836714052892, 0.0002023791614270262, 0.0002100557442853252, 0.00020259107428760863, 0.00020554473142640612, 0.0002034782214286679, 0.0002094006657145136, 0.0002039235942876465, 0.00020743621857036488, 0.00024649930570896163, 0.00020992161285903418, 0.00020736266856796905, 0.00021292442143281478, 0.00020638965285148253, 0.00021474590856866731, 0.0002101678557145143, 0.000214551327143064, 0.000208061088568294, 0.00021456344285460162, 0.000209282194282423, 0.0002170049514305512, 0.00021258526714518664, 0.0002184797414338391, 0.00021425273571886854, 0.0002145028385686081, 0.00021276749999742605, 0.000216465275711276, 0.00021533156856873704, 0.00021454767428232506, 0.00021518078857168024, 0.0002165304357133989, 0.0002163730557107816, 0.0002169710771470688, 0.00021652490143034286, 0.00021486075857475432, 0.0002127138185720209, 0.00021424546857555732, 0.0002195135057185585, 0.00021434253285925869, 0.00021790756285554384, 0.0002213275557161459, 0.0002191568228616753, 0.0002148015914255146, 0.00021719833142924472, 0.00021370632714024396, 0.00021761924143512648, 0.0002137630842870359, 0.00022002750714039261, 0.0002180607214281086, 0.00021717104428587068, 0.00021789617857263823, 0.00021523774571635709, 0.00021708098857093968, 0.00021278841857305712, 0.0002165212642882709, 0.0002176652857139873, 0.0002215990842939521, 0.0002649316342857284, 0.0002203092357194692, 0.00021617917285246744, 0.00022326714714706342, 0.00021866471857200458, 0.00021829068999587825, 0.00021878647285900244, 0.00021681337571603112, 0.00023003159999851567, 0.00021691897857505996, 0.0002232953528618964, 0.00021762202856864728, 0.00022804495714029015]}],\n",
       "                        {\"template\": {\"data\": {\"bar\": [{\"error_x\": {\"color\": \"#2a3f5f\"}, \"error_y\": {\"color\": \"#2a3f5f\"}, \"marker\": {\"line\": {\"color\": \"#E5ECF6\", \"width\": 0.5}}, \"type\": \"bar\"}], \"barpolar\": [{\"marker\": {\"line\": {\"color\": \"#E5ECF6\", \"width\": 0.5}}, \"type\": \"barpolar\"}], \"carpet\": [{\"aaxis\": {\"endlinecolor\": \"#2a3f5f\", \"gridcolor\": \"white\", \"linecolor\": \"white\", \"minorgridcolor\": \"white\", \"startlinecolor\": \"#2a3f5f\"}, \"baxis\": {\"endlinecolor\": \"#2a3f5f\", \"gridcolor\": \"white\", \"linecolor\": \"white\", \"minorgridcolor\": \"white\", \"startlinecolor\": \"#2a3f5f\"}, \"type\": \"carpet\"}], \"choropleth\": [{\"colorbar\": {\"outlinewidth\": 0, \"ticks\": \"\"}, \"type\": \"choropleth\"}], \"contour\": [{\"colorbar\": {\"outlinewidth\": 0, \"ticks\": \"\"}, \"colorscale\": [[0.0, \"#0d0887\"], [0.1111111111111111, \"#46039f\"], [0.2222222222222222, \"#7201a8\"], [0.3333333333333333, \"#9c179e\"], [0.4444444444444444, \"#bd3786\"], [0.5555555555555556, \"#d8576b\"], [0.6666666666666666, \"#ed7953\"], [0.7777777777777778, \"#fb9f3a\"], [0.8888888888888888, \"#fdca26\"], [1.0, \"#f0f921\"]], \"type\": \"contour\"}], \"contourcarpet\": [{\"colorbar\": {\"outlinewidth\": 0, \"ticks\": \"\"}, \"type\": \"contourcarpet\"}], \"heatmap\": [{\"colorbar\": {\"outlinewidth\": 0, \"ticks\": \"\"}, \"colorscale\": [[0.0, \"#0d0887\"], [0.1111111111111111, \"#46039f\"], [0.2222222222222222, \"#7201a8\"], [0.3333333333333333, \"#9c179e\"], [0.4444444444444444, \"#bd3786\"], [0.5555555555555556, \"#d8576b\"], [0.6666666666666666, \"#ed7953\"], [0.7777777777777778, \"#fb9f3a\"], [0.8888888888888888, \"#fdca26\"], [1.0, \"#f0f921\"]], \"type\": \"heatmap\"}], \"heatmapgl\": [{\"colorbar\": {\"outlinewidth\": 0, \"ticks\": \"\"}, \"colorscale\": [[0.0, \"#0d0887\"], [0.1111111111111111, \"#46039f\"], [0.2222222222222222, \"#7201a8\"], [0.3333333333333333, \"#9c179e\"], [0.4444444444444444, \"#bd3786\"], [0.5555555555555556, \"#d8576b\"], [0.6666666666666666, \"#ed7953\"], [0.7777777777777778, \"#fb9f3a\"], [0.8888888888888888, \"#fdca26\"], [1.0, \"#f0f921\"]], \"type\": \"heatmapgl\"}], \"histogram\": [{\"marker\": {\"colorbar\": {\"outlinewidth\": 0, \"ticks\": \"\"}}, \"type\": \"histogram\"}], \"histogram2d\": [{\"colorbar\": {\"outlinewidth\": 0, \"ticks\": \"\"}, \"colorscale\": [[0.0, \"#0d0887\"], [0.1111111111111111, \"#46039f\"], [0.2222222222222222, \"#7201a8\"], [0.3333333333333333, \"#9c179e\"], [0.4444444444444444, \"#bd3786\"], [0.5555555555555556, \"#d8576b\"], [0.6666666666666666, \"#ed7953\"], [0.7777777777777778, \"#fb9f3a\"], [0.8888888888888888, \"#fdca26\"], [1.0, \"#f0f921\"]], \"type\": \"histogram2d\"}], \"histogram2dcontour\": [{\"colorbar\": {\"outlinewidth\": 0, \"ticks\": \"\"}, \"colorscale\": [[0.0, \"#0d0887\"], [0.1111111111111111, \"#46039f\"], [0.2222222222222222, \"#7201a8\"], [0.3333333333333333, \"#9c179e\"], [0.4444444444444444, \"#bd3786\"], [0.5555555555555556, \"#d8576b\"], [0.6666666666666666, \"#ed7953\"], [0.7777777777777778, \"#fb9f3a\"], [0.8888888888888888, \"#fdca26\"], [1.0, \"#f0f921\"]], \"type\": \"histogram2dcontour\"}], \"mesh3d\": [{\"colorbar\": {\"outlinewidth\": 0, \"ticks\": \"\"}, \"type\": \"mesh3d\"}], \"parcoords\": [{\"line\": {\"colorbar\": {\"outlinewidth\": 0, \"ticks\": \"\"}}, \"type\": \"parcoords\"}], \"scatter\": [{\"marker\": {\"colorbar\": {\"outlinewidth\": 0, \"ticks\": \"\"}}, \"type\": \"scatter\"}], \"scatter3d\": [{\"line\": {\"colorbar\": {\"outlinewidth\": 0, \"ticks\": \"\"}}, \"marker\": {\"colorbar\": {\"outlinewidth\": 0, \"ticks\": \"\"}}, \"type\": \"scatter3d\"}], \"scattercarpet\": [{\"marker\": {\"colorbar\": {\"outlinewidth\": 0, \"ticks\": \"\"}}, \"type\": \"scattercarpet\"}], \"scattergeo\": [{\"marker\": {\"colorbar\": {\"outlinewidth\": 0, \"ticks\": \"\"}}, \"type\": \"scattergeo\"}], \"scattergl\": [{\"marker\": {\"colorbar\": {\"outlinewidth\": 0, \"ticks\": \"\"}}, \"type\": \"scattergl\"}], \"scattermapbox\": [{\"marker\": {\"colorbar\": {\"outlinewidth\": 0, \"ticks\": \"\"}}, \"type\": \"scattermapbox\"}], \"scatterpolar\": [{\"marker\": {\"colorbar\": {\"outlinewidth\": 0, \"ticks\": \"\"}}, \"type\": \"scatterpolar\"}], \"scatterpolargl\": [{\"marker\": {\"colorbar\": {\"outlinewidth\": 0, \"ticks\": \"\"}}, \"type\": \"scatterpolargl\"}], \"scatterternary\": [{\"marker\": {\"colorbar\": {\"outlinewidth\": 0, \"ticks\": \"\"}}, \"type\": \"scatterternary\"}], \"surface\": [{\"colorbar\": {\"outlinewidth\": 0, \"ticks\": \"\"}, \"colorscale\": [[0.0, \"#0d0887\"], [0.1111111111111111, \"#46039f\"], [0.2222222222222222, \"#7201a8\"], [0.3333333333333333, \"#9c179e\"], [0.4444444444444444, \"#bd3786\"], [0.5555555555555556, \"#d8576b\"], [0.6666666666666666, \"#ed7953\"], [0.7777777777777778, \"#fb9f3a\"], [0.8888888888888888, \"#fdca26\"], [1.0, \"#f0f921\"]], \"type\": \"surface\"}], \"table\": [{\"cells\": {\"fill\": {\"color\": \"#EBF0F8\"}, \"line\": {\"color\": \"white\"}}, \"header\": {\"fill\": {\"color\": \"#C8D4E3\"}, \"line\": {\"color\": \"white\"}}, \"type\": \"table\"}]}, \"layout\": {\"annotationdefaults\": {\"arrowcolor\": \"#2a3f5f\", \"arrowhead\": 0, \"arrowwidth\": 1}, \"colorscale\": {\"diverging\": [[0, \"#8e0152\"], [0.1, \"#c51b7d\"], [0.2, \"#de77ae\"], [0.3, \"#f1b6da\"], [0.4, \"#fde0ef\"], [0.5, \"#f7f7f7\"], [0.6, \"#e6f5d0\"], [0.7, \"#b8e186\"], [0.8, \"#7fbc41\"], [0.9, \"#4d9221\"], [1, \"#276419\"]], \"sequential\": [[0.0, \"#0d0887\"], [0.1111111111111111, \"#46039f\"], [0.2222222222222222, \"#7201a8\"], [0.3333333333333333, \"#9c179e\"], [0.4444444444444444, \"#bd3786\"], [0.5555555555555556, \"#d8576b\"], [0.6666666666666666, \"#ed7953\"], [0.7777777777777778, \"#fb9f3a\"], [0.8888888888888888, \"#fdca26\"], [1.0, \"#f0f921\"]], \"sequentialminus\": [[0.0, \"#0d0887\"], [0.1111111111111111, \"#46039f\"], [0.2222222222222222, \"#7201a8\"], [0.3333333333333333, \"#9c179e\"], [0.4444444444444444, \"#bd3786\"], [0.5555555555555556, \"#d8576b\"], [0.6666666666666666, \"#ed7953\"], [0.7777777777777778, \"#fb9f3a\"], [0.8888888888888888, \"#fdca26\"], [1.0, \"#f0f921\"]]}, \"colorway\": [\"#636efa\", \"#EF553B\", \"#00cc96\", \"#ab63fa\", \"#FFA15A\", \"#19d3f3\", \"#FF6692\", \"#B6E880\", \"#FF97FF\", \"#FECB52\"], \"font\": {\"color\": \"#2a3f5f\"}, \"geo\": {\"bgcolor\": \"white\", \"lakecolor\": \"white\", \"landcolor\": \"#E5ECF6\", \"showlakes\": true, \"showland\": true, \"subunitcolor\": \"white\"}, \"hoverlabel\": {\"align\": \"left\"}, \"hovermode\": \"closest\", \"mapbox\": {\"style\": \"light\"}, \"paper_bgcolor\": \"white\", \"plot_bgcolor\": \"#E5ECF6\", \"polar\": {\"angularaxis\": {\"gridcolor\": \"white\", \"linecolor\": \"white\", \"ticks\": \"\"}, \"bgcolor\": \"#E5ECF6\", \"radialaxis\": {\"gridcolor\": \"white\", \"linecolor\": \"white\", \"ticks\": \"\"}}, \"scene\": {\"xaxis\": {\"backgroundcolor\": \"#E5ECF6\", \"gridcolor\": \"white\", \"gridwidth\": 2, \"linecolor\": \"white\", \"showbackground\": true, \"ticks\": \"\", \"zerolinecolor\": \"white\"}, \"yaxis\": {\"backgroundcolor\": \"#E5ECF6\", \"gridcolor\": \"white\", \"gridwidth\": 2, \"linecolor\": \"white\", \"showbackground\": true, \"ticks\": \"\", \"zerolinecolor\": \"white\"}, \"zaxis\": {\"backgroundcolor\": \"#E5ECF6\", \"gridcolor\": \"white\", \"gridwidth\": 2, \"linecolor\": \"white\", \"showbackground\": true, \"ticks\": \"\", \"zerolinecolor\": \"white\"}}, \"shapedefaults\": {\"line\": {\"color\": \"#2a3f5f\"}}, \"ternary\": {\"aaxis\": {\"gridcolor\": \"white\", \"linecolor\": \"white\", \"ticks\": \"\"}, \"baxis\": {\"gridcolor\": \"white\", \"linecolor\": \"white\", \"ticks\": \"\"}, \"bgcolor\": \"#E5ECF6\", \"caxis\": {\"gridcolor\": \"white\", \"linecolor\": \"white\", \"ticks\": \"\"}}, \"title\": {\"x\": 0.05}, \"xaxis\": {\"automargin\": true, \"gridcolor\": \"white\", \"linecolor\": \"white\", \"ticks\": \"\", \"zerolinecolor\": \"white\", \"zerolinewidth\": 2}, \"yaxis\": {\"automargin\": true, \"gridcolor\": \"white\", \"linecolor\": \"white\", \"ticks\": \"\", \"zerolinecolor\": \"white\", \"zerolinewidth\": 2}}}, \"xaxis\": {\"title\": {\"text\": \"Size of array\"}}, \"yaxis\": {\"title\": {\"text\": \"Time in seconds\"}}},\n",
       "                        {\"responsive\": true}\n",
       "                    ).then(function(){\n",
       "                            \n",
       "var gd = document.getElementById('ac29027f-f27c-40eb-b8c1-9c8987c43a7c');\n",
       "var x = new MutationObserver(function (mutations, observer) {{\n",
       "        var display = window.getComputedStyle(gd).display;\n",
       "        if (!display || display === 'none') {{\n",
       "            console.log([gd, 'removed!']);\n",
       "            Plotly.purge(gd);\n",
       "            observer.disconnect();\n",
       "        }}\n",
       "}});\n",
       "\n",
       "// Listen for the removal of the full notebook cells\n",
       "var notebookContainer = gd.closest('#notebook-container');\n",
       "if (notebookContainer) {{\n",
       "    x.observe(notebookContainer, {childList: true});\n",
       "}}\n",
       "\n",
       "// Listen for the clearing of the current output cell\n",
       "var outputEl = gd.closest('.output');\n",
       "if (outputEl) {{\n",
       "    x.observe(outputEl, {childList: true});\n",
       "}}\n",
       "\n",
       "                        })\n",
       "                };\n",
       "                });\n",
       "            </script>\n",
       "        </div>"
      ]
     },
     "metadata": {},
     "output_type": "display_data"
    }
   ],
   "source": [
    "import plotly.graph_objs as go\n",
    "from plotly.offline import iplot,init_notebook_mode\n",
    "init_notebook_mode(connected=True)\n",
    "\n",
    "def performance_plot(df):\n",
    "    fig = go.Figure(\n",
    "        data=[\n",
    "            go.Scatter(x=df.steps, y=df.numpy, name=\"Numpy\"),\n",
    "            go.Scatter(x=df.steps, y=df.base, name=\"base\"),\n",
    "        ],\n",
    "        layout={\n",
    "            \"xaxis\":{\"title\":\"Size of array\"},\n",
    "            \"yaxis\":{\"title\":\"Time in seconds\"}\n",
    "                          })\n",
    "    iplot(fig)\n",
    "performance_plot(df)"
   ]
  },
  {
   "cell_type": "code",
   "execution_count": 131,
   "metadata": {
    "slideshow": {
     "slide_type": "slide"
    }
   },
   "outputs": [
    {
     "data": {
      "application/vnd.plotly.v1+json": {
       "config": {
        "linkText": "Export to plot.ly",
        "plotlyServerURL": "https://plot.ly",
        "showLink": false
       },
       "data": [
        {
         "name": "Numpy",
         "type": "scatter",
         "x": [
          3,
          2003,
          4003,
          6003,
          8003,
          10003,
          12003,
          14003,
          16003,
          18003,
          20003,
          22003,
          24003,
          26003,
          28003,
          30003,
          32003,
          34003,
          36003,
          38003,
          40003,
          42003,
          44003,
          46003,
          48003,
          50003,
          52003,
          54003,
          56003,
          58003,
          60003,
          62003,
          64003,
          66003,
          68003,
          70003,
          72003,
          74003,
          76003,
          78003,
          80003,
          82003,
          84003,
          86003,
          88003,
          90003,
          92003,
          94003,
          96003,
          98003
         ],
         "y": [
          3.551545716098709e-06,
          0.00017573508714381855,
          0.0002907901971463746,
          0.00041689984856930096,
          0.0005728216971458875,
          0.000680011257136357,
          0.0008183790599988631,
          0.0009520418371409637,
          0.0010761974071361432,
          0.0012089353714223505,
          0.0014364262914334956,
          0.0018790857142864427,
          0.0019587560600042965,
          0.002288316354284429,
          0.0024886635885715282,
          0.0028561042785778612,
          0.0029591186328538502,
          0.0030454407671459192,
          0.002563590605711527,
          0.00266594296571254,
          0.002824900471431257,
          0.0029254897385674536,
          0.002982639349998602,
          0.0031045842457154194,
          0.003238024997140851,
          0.0033579426599992857,
          0.0034990676442820195,
          0.0036355910071402572,
          0.0037721191399941742,
          0.0038875525671418078,
          0.004013564037146093,
          0.0042860466271408115,
          0.004362580618573182,
          0.004813884174283365,
          0.004638737067143665,
          0.004794518588576985,
          0.005447386337143273,
          0.005500066044286151,
          0.006250673328569454,
          0.005523554710000878,
          0.005370459794285125,
          0.005703302627139886,
          0.0064568605328531705,
          0.006386875468573895,
          0.006151219854286215,
          0.00605559947142735,
          0.006258880832855149,
          0.0063571515957171094,
          0.006716024834287446,
          0.006943160255715545
         ]
        },
        {
         "name": "base",
         "type": "scatter",
         "x": [
          3,
          2003,
          4003,
          6003,
          8003,
          10003,
          12003,
          14003,
          16003,
          18003,
          20003,
          22003,
          24003,
          26003,
          28003,
          30003,
          32003,
          34003,
          36003,
          38003,
          40003,
          42003,
          44003,
          46003,
          48003,
          50003,
          52003,
          54003,
          56003,
          58003,
          60003,
          62003,
          64003,
          66003,
          68003,
          70003,
          72003,
          74003,
          76003,
          78003,
          80003,
          82003,
          84003,
          86003,
          88003,
          90003,
          92003,
          94003,
          96003,
          98003
         ],
         "y": [
          4.39622861969318e-07,
          0.00021317753714486442,
          0.000417931182855682,
          0.0006406310171405494,
          0.0008493416857111568,
          0.0010570304728597486,
          0.0012797650257120301,
          0.0015025250085766726,
          0.0017641032257129804,
          0.001913155114283914,
          0.0022389825499989713,
          0.002853913050000431,
          0.002970918831428467,
          0.003711290805710762,
          0.0039202246871354865,
          0.0042443596599982154,
          0.004564631227141425,
          0.004509395144286828,
          0.003989936302857261,
          0.0042516037142844906,
          0.004572928691429425,
          0.004755185388577437,
          0.004794747728571695,
          0.004983963351429079,
          0.005214408195710609,
          0.005429278937146072,
          0.005649321755718121,
          0.005841618054281363,
          0.006070016831428283,
          0.00629756177285734,
          0.006505134178574476,
          0.006742153402854975,
          0.007063211114283539,
          0.007730432728569992,
          0.007404890134286169,
          0.007449900878572017,
          0.00976543531570964,
          0.008819365500005786,
          0.008762495924285239,
          0.008582703445715326,
          0.00864541901143249,
          0.008900873395710473,
          0.008906577104285784,
          0.009771910641429713,
          0.00937355069714353,
          0.009616161764284438,
          0.009861313451435441,
          0.010151427175712472,
          0.010992933428567216,
          0.011805948672858255
         ]
        }
       ],
       "layout": {
        "template": {
         "data": {
          "bar": [
           {
            "error_x": {
             "color": "#2a3f5f"
            },
            "error_y": {
             "color": "#2a3f5f"
            },
            "marker": {
             "line": {
              "color": "#E5ECF6",
              "width": 0.5
             }
            },
            "type": "bar"
           }
          ],
          "barpolar": [
           {
            "marker": {
             "line": {
              "color": "#E5ECF6",
              "width": 0.5
             }
            },
            "type": "barpolar"
           }
          ],
          "carpet": [
           {
            "aaxis": {
             "endlinecolor": "#2a3f5f",
             "gridcolor": "white",
             "linecolor": "white",
             "minorgridcolor": "white",
             "startlinecolor": "#2a3f5f"
            },
            "baxis": {
             "endlinecolor": "#2a3f5f",
             "gridcolor": "white",
             "linecolor": "white",
             "minorgridcolor": "white",
             "startlinecolor": "#2a3f5f"
            },
            "type": "carpet"
           }
          ],
          "choropleth": [
           {
            "colorbar": {
             "outlinewidth": 0,
             "ticks": ""
            },
            "type": "choropleth"
           }
          ],
          "contour": [
           {
            "colorbar": {
             "outlinewidth": 0,
             "ticks": ""
            },
            "colorscale": [
             [
              0,
              "#0d0887"
             ],
             [
              0.1111111111111111,
              "#46039f"
             ],
             [
              0.2222222222222222,
              "#7201a8"
             ],
             [
              0.3333333333333333,
              "#9c179e"
             ],
             [
              0.4444444444444444,
              "#bd3786"
             ],
             [
              0.5555555555555556,
              "#d8576b"
             ],
             [
              0.6666666666666666,
              "#ed7953"
             ],
             [
              0.7777777777777778,
              "#fb9f3a"
             ],
             [
              0.8888888888888888,
              "#fdca26"
             ],
             [
              1,
              "#f0f921"
             ]
            ],
            "type": "contour"
           }
          ],
          "contourcarpet": [
           {
            "colorbar": {
             "outlinewidth": 0,
             "ticks": ""
            },
            "type": "contourcarpet"
           }
          ],
          "heatmap": [
           {
            "colorbar": {
             "outlinewidth": 0,
             "ticks": ""
            },
            "colorscale": [
             [
              0,
              "#0d0887"
             ],
             [
              0.1111111111111111,
              "#46039f"
             ],
             [
              0.2222222222222222,
              "#7201a8"
             ],
             [
              0.3333333333333333,
              "#9c179e"
             ],
             [
              0.4444444444444444,
              "#bd3786"
             ],
             [
              0.5555555555555556,
              "#d8576b"
             ],
             [
              0.6666666666666666,
              "#ed7953"
             ],
             [
              0.7777777777777778,
              "#fb9f3a"
             ],
             [
              0.8888888888888888,
              "#fdca26"
             ],
             [
              1,
              "#f0f921"
             ]
            ],
            "type": "heatmap"
           }
          ],
          "heatmapgl": [
           {
            "colorbar": {
             "outlinewidth": 0,
             "ticks": ""
            },
            "colorscale": [
             [
              0,
              "#0d0887"
             ],
             [
              0.1111111111111111,
              "#46039f"
             ],
             [
              0.2222222222222222,
              "#7201a8"
             ],
             [
              0.3333333333333333,
              "#9c179e"
             ],
             [
              0.4444444444444444,
              "#bd3786"
             ],
             [
              0.5555555555555556,
              "#d8576b"
             ],
             [
              0.6666666666666666,
              "#ed7953"
             ],
             [
              0.7777777777777778,
              "#fb9f3a"
             ],
             [
              0.8888888888888888,
              "#fdca26"
             ],
             [
              1,
              "#f0f921"
             ]
            ],
            "type": "heatmapgl"
           }
          ],
          "histogram": [
           {
            "marker": {
             "colorbar": {
              "outlinewidth": 0,
              "ticks": ""
             }
            },
            "type": "histogram"
           }
          ],
          "histogram2d": [
           {
            "colorbar": {
             "outlinewidth": 0,
             "ticks": ""
            },
            "colorscale": [
             [
              0,
              "#0d0887"
             ],
             [
              0.1111111111111111,
              "#46039f"
             ],
             [
              0.2222222222222222,
              "#7201a8"
             ],
             [
              0.3333333333333333,
              "#9c179e"
             ],
             [
              0.4444444444444444,
              "#bd3786"
             ],
             [
              0.5555555555555556,
              "#d8576b"
             ],
             [
              0.6666666666666666,
              "#ed7953"
             ],
             [
              0.7777777777777778,
              "#fb9f3a"
             ],
             [
              0.8888888888888888,
              "#fdca26"
             ],
             [
              1,
              "#f0f921"
             ]
            ],
            "type": "histogram2d"
           }
          ],
          "histogram2dcontour": [
           {
            "colorbar": {
             "outlinewidth": 0,
             "ticks": ""
            },
            "colorscale": [
             [
              0,
              "#0d0887"
             ],
             [
              0.1111111111111111,
              "#46039f"
             ],
             [
              0.2222222222222222,
              "#7201a8"
             ],
             [
              0.3333333333333333,
              "#9c179e"
             ],
             [
              0.4444444444444444,
              "#bd3786"
             ],
             [
              0.5555555555555556,
              "#d8576b"
             ],
             [
              0.6666666666666666,
              "#ed7953"
             ],
             [
              0.7777777777777778,
              "#fb9f3a"
             ],
             [
              0.8888888888888888,
              "#fdca26"
             ],
             [
              1,
              "#f0f921"
             ]
            ],
            "type": "histogram2dcontour"
           }
          ],
          "mesh3d": [
           {
            "colorbar": {
             "outlinewidth": 0,
             "ticks": ""
            },
            "type": "mesh3d"
           }
          ],
          "parcoords": [
           {
            "line": {
             "colorbar": {
              "outlinewidth": 0,
              "ticks": ""
             }
            },
            "type": "parcoords"
           }
          ],
          "scatter": [
           {
            "marker": {
             "colorbar": {
              "outlinewidth": 0,
              "ticks": ""
             }
            },
            "type": "scatter"
           }
          ],
          "scatter3d": [
           {
            "line": {
             "colorbar": {
              "outlinewidth": 0,
              "ticks": ""
             }
            },
            "marker": {
             "colorbar": {
              "outlinewidth": 0,
              "ticks": ""
             }
            },
            "type": "scatter3d"
           }
          ],
          "scattercarpet": [
           {
            "marker": {
             "colorbar": {
              "outlinewidth": 0,
              "ticks": ""
             }
            },
            "type": "scattercarpet"
           }
          ],
          "scattergeo": [
           {
            "marker": {
             "colorbar": {
              "outlinewidth": 0,
              "ticks": ""
             }
            },
            "type": "scattergeo"
           }
          ],
          "scattergl": [
           {
            "marker": {
             "colorbar": {
              "outlinewidth": 0,
              "ticks": ""
             }
            },
            "type": "scattergl"
           }
          ],
          "scattermapbox": [
           {
            "marker": {
             "colorbar": {
              "outlinewidth": 0,
              "ticks": ""
             }
            },
            "type": "scattermapbox"
           }
          ],
          "scatterpolar": [
           {
            "marker": {
             "colorbar": {
              "outlinewidth": 0,
              "ticks": ""
             }
            },
            "type": "scatterpolar"
           }
          ],
          "scatterpolargl": [
           {
            "marker": {
             "colorbar": {
              "outlinewidth": 0,
              "ticks": ""
             }
            },
            "type": "scatterpolargl"
           }
          ],
          "scatterternary": [
           {
            "marker": {
             "colorbar": {
              "outlinewidth": 0,
              "ticks": ""
             }
            },
            "type": "scatterternary"
           }
          ],
          "surface": [
           {
            "colorbar": {
             "outlinewidth": 0,
             "ticks": ""
            },
            "colorscale": [
             [
              0,
              "#0d0887"
             ],
             [
              0.1111111111111111,
              "#46039f"
             ],
             [
              0.2222222222222222,
              "#7201a8"
             ],
             [
              0.3333333333333333,
              "#9c179e"
             ],
             [
              0.4444444444444444,
              "#bd3786"
             ],
             [
              0.5555555555555556,
              "#d8576b"
             ],
             [
              0.6666666666666666,
              "#ed7953"
             ],
             [
              0.7777777777777778,
              "#fb9f3a"
             ],
             [
              0.8888888888888888,
              "#fdca26"
             ],
             [
              1,
              "#f0f921"
             ]
            ],
            "type": "surface"
           }
          ],
          "table": [
           {
            "cells": {
             "fill": {
              "color": "#EBF0F8"
             },
             "line": {
              "color": "white"
             }
            },
            "header": {
             "fill": {
              "color": "#C8D4E3"
             },
             "line": {
              "color": "white"
             }
            },
            "type": "table"
           }
          ]
         },
         "layout": {
          "annotationdefaults": {
           "arrowcolor": "#2a3f5f",
           "arrowhead": 0,
           "arrowwidth": 1
          },
          "colorscale": {
           "diverging": [
            [
             0,
             "#8e0152"
            ],
            [
             0.1,
             "#c51b7d"
            ],
            [
             0.2,
             "#de77ae"
            ],
            [
             0.3,
             "#f1b6da"
            ],
            [
             0.4,
             "#fde0ef"
            ],
            [
             0.5,
             "#f7f7f7"
            ],
            [
             0.6,
             "#e6f5d0"
            ],
            [
             0.7,
             "#b8e186"
            ],
            [
             0.8,
             "#7fbc41"
            ],
            [
             0.9,
             "#4d9221"
            ],
            [
             1,
             "#276419"
            ]
           ],
           "sequential": [
            [
             0,
             "#0d0887"
            ],
            [
             0.1111111111111111,
             "#46039f"
            ],
            [
             0.2222222222222222,
             "#7201a8"
            ],
            [
             0.3333333333333333,
             "#9c179e"
            ],
            [
             0.4444444444444444,
             "#bd3786"
            ],
            [
             0.5555555555555556,
             "#d8576b"
            ],
            [
             0.6666666666666666,
             "#ed7953"
            ],
            [
             0.7777777777777778,
             "#fb9f3a"
            ],
            [
             0.8888888888888888,
             "#fdca26"
            ],
            [
             1,
             "#f0f921"
            ]
           ],
           "sequentialminus": [
            [
             0,
             "#0d0887"
            ],
            [
             0.1111111111111111,
             "#46039f"
            ],
            [
             0.2222222222222222,
             "#7201a8"
            ],
            [
             0.3333333333333333,
             "#9c179e"
            ],
            [
             0.4444444444444444,
             "#bd3786"
            ],
            [
             0.5555555555555556,
             "#d8576b"
            ],
            [
             0.6666666666666666,
             "#ed7953"
            ],
            [
             0.7777777777777778,
             "#fb9f3a"
            ],
            [
             0.8888888888888888,
             "#fdca26"
            ],
            [
             1,
             "#f0f921"
            ]
           ]
          },
          "colorway": [
           "#636efa",
           "#EF553B",
           "#00cc96",
           "#ab63fa",
           "#FFA15A",
           "#19d3f3",
           "#FF6692",
           "#B6E880",
           "#FF97FF",
           "#FECB52"
          ],
          "font": {
           "color": "#2a3f5f"
          },
          "geo": {
           "bgcolor": "white",
           "lakecolor": "white",
           "landcolor": "#E5ECF6",
           "showlakes": true,
           "showland": true,
           "subunitcolor": "white"
          },
          "hoverlabel": {
           "align": "left"
          },
          "hovermode": "closest",
          "mapbox": {
           "style": "light"
          },
          "paper_bgcolor": "white",
          "plot_bgcolor": "#E5ECF6",
          "polar": {
           "angularaxis": {
            "gridcolor": "white",
            "linecolor": "white",
            "ticks": ""
           },
           "bgcolor": "#E5ECF6",
           "radialaxis": {
            "gridcolor": "white",
            "linecolor": "white",
            "ticks": ""
           }
          },
          "scene": {
           "xaxis": {
            "backgroundcolor": "#E5ECF6",
            "gridcolor": "white",
            "gridwidth": 2,
            "linecolor": "white",
            "showbackground": true,
            "ticks": "",
            "zerolinecolor": "white"
           },
           "yaxis": {
            "backgroundcolor": "#E5ECF6",
            "gridcolor": "white",
            "gridwidth": 2,
            "linecolor": "white",
            "showbackground": true,
            "ticks": "",
            "zerolinecolor": "white"
           },
           "zaxis": {
            "backgroundcolor": "#E5ECF6",
            "gridcolor": "white",
            "gridwidth": 2,
            "linecolor": "white",
            "showbackground": true,
            "ticks": "",
            "zerolinecolor": "white"
           }
          },
          "shapedefaults": {
           "line": {
            "color": "#2a3f5f"
           }
          },
          "ternary": {
           "aaxis": {
            "gridcolor": "white",
            "linecolor": "white",
            "ticks": ""
           },
           "baxis": {
            "gridcolor": "white",
            "linecolor": "white",
            "ticks": ""
           },
           "bgcolor": "#E5ECF6",
           "caxis": {
            "gridcolor": "white",
            "linecolor": "white",
            "ticks": ""
           }
          },
          "title": {
           "x": 0.05
          },
          "xaxis": {
           "automargin": true,
           "gridcolor": "white",
           "linecolor": "white",
           "ticks": "",
           "zerolinecolor": "white",
           "zerolinewidth": 2
          },
          "yaxis": {
           "automargin": true,
           "gridcolor": "white",
           "linecolor": "white",
           "ticks": "",
           "zerolinecolor": "white",
           "zerolinewidth": 2
          }
         }
        },
        "xaxis": {
         "title": {
          "text": "Size of array"
         }
        },
        "yaxis": {
         "title": {
          "text": "Time in seconds"
         }
        }
       }
      },
      "text/html": [
       "<div>\n",
       "        \n",
       "        \n",
       "            <div id=\"ed42dfb9-3228-423b-8941-e93ae8c496b2\" class=\"plotly-graph-div\" style=\"height:525px; width:100%;\"></div>\n",
       "            <script type=\"text/javascript\">\n",
       "                require([\"plotly\"], function(Plotly) {\n",
       "                    window.PLOTLYENV=window.PLOTLYENV || {};\n",
       "                    \n",
       "                if (document.getElementById(\"ed42dfb9-3228-423b-8941-e93ae8c496b2\")) {\n",
       "                    Plotly.newPlot(\n",
       "                        'ed42dfb9-3228-423b-8941-e93ae8c496b2',\n",
       "                        [{\"name\": \"Numpy\", \"type\": \"scatter\", \"x\": [3, 2003, 4003, 6003, 8003, 10003, 12003, 14003, 16003, 18003, 20003, 22003, 24003, 26003, 28003, 30003, 32003, 34003, 36003, 38003, 40003, 42003, 44003, 46003, 48003, 50003, 52003, 54003, 56003, 58003, 60003, 62003, 64003, 66003, 68003, 70003, 72003, 74003, 76003, 78003, 80003, 82003, 84003, 86003, 88003, 90003, 92003, 94003, 96003, 98003], \"y\": [3.551545716098709e-06, 0.00017573508714381855, 0.0002907901971463746, 0.00041689984856930096, 0.0005728216971458875, 0.000680011257136357, 0.0008183790599988631, 0.0009520418371409637, 0.0010761974071361432, 0.0012089353714223505, 0.0014364262914334956, 0.0018790857142864427, 0.0019587560600042965, 0.002288316354284429, 0.0024886635885715282, 0.0028561042785778612, 0.0029591186328538502, 0.0030454407671459192, 0.002563590605711527, 0.00266594296571254, 0.002824900471431257, 0.0029254897385674536, 0.002982639349998602, 0.0031045842457154194, 0.003238024997140851, 0.0033579426599992857, 0.0034990676442820195, 0.0036355910071402572, 0.0037721191399941742, 0.0038875525671418078, 0.004013564037146093, 0.0042860466271408115, 0.004362580618573182, 0.004813884174283365, 0.004638737067143665, 0.004794518588576985, 0.005447386337143273, 0.005500066044286151, 0.006250673328569454, 0.005523554710000878, 0.005370459794285125, 0.005703302627139886, 0.0064568605328531705, 0.006386875468573895, 0.006151219854286215, 0.00605559947142735, 0.006258880832855149, 0.0063571515957171094, 0.006716024834287446, 0.006943160255715545]}, {\"name\": \"base\", \"type\": \"scatter\", \"x\": [3, 2003, 4003, 6003, 8003, 10003, 12003, 14003, 16003, 18003, 20003, 22003, 24003, 26003, 28003, 30003, 32003, 34003, 36003, 38003, 40003, 42003, 44003, 46003, 48003, 50003, 52003, 54003, 56003, 58003, 60003, 62003, 64003, 66003, 68003, 70003, 72003, 74003, 76003, 78003, 80003, 82003, 84003, 86003, 88003, 90003, 92003, 94003, 96003, 98003], \"y\": [4.39622861969318e-07, 0.00021317753714486442, 0.000417931182855682, 0.0006406310171405494, 0.0008493416857111568, 0.0010570304728597486, 0.0012797650257120301, 0.0015025250085766726, 0.0017641032257129804, 0.001913155114283914, 0.0022389825499989713, 0.002853913050000431, 0.002970918831428467, 0.003711290805710762, 0.0039202246871354865, 0.0042443596599982154, 0.004564631227141425, 0.004509395144286828, 0.003989936302857261, 0.0042516037142844906, 0.004572928691429425, 0.004755185388577437, 0.004794747728571695, 0.004983963351429079, 0.005214408195710609, 0.005429278937146072, 0.005649321755718121, 0.005841618054281363, 0.006070016831428283, 0.00629756177285734, 0.006505134178574476, 0.006742153402854975, 0.007063211114283539, 0.007730432728569992, 0.007404890134286169, 0.007449900878572017, 0.00976543531570964, 0.008819365500005786, 0.008762495924285239, 0.008582703445715326, 0.00864541901143249, 0.008900873395710473, 0.008906577104285784, 0.009771910641429713, 0.00937355069714353, 0.009616161764284438, 0.009861313451435441, 0.010151427175712472, 0.010992933428567216, 0.011805948672858255]}],\n",
       "                        {\"template\": {\"data\": {\"bar\": [{\"error_x\": {\"color\": \"#2a3f5f\"}, \"error_y\": {\"color\": \"#2a3f5f\"}, \"marker\": {\"line\": {\"color\": \"#E5ECF6\", \"width\": 0.5}}, \"type\": \"bar\"}], \"barpolar\": [{\"marker\": {\"line\": {\"color\": \"#E5ECF6\", \"width\": 0.5}}, \"type\": \"barpolar\"}], \"carpet\": [{\"aaxis\": {\"endlinecolor\": \"#2a3f5f\", \"gridcolor\": \"white\", \"linecolor\": \"white\", \"minorgridcolor\": \"white\", \"startlinecolor\": \"#2a3f5f\"}, \"baxis\": {\"endlinecolor\": \"#2a3f5f\", \"gridcolor\": \"white\", \"linecolor\": \"white\", \"minorgridcolor\": \"white\", \"startlinecolor\": \"#2a3f5f\"}, \"type\": \"carpet\"}], \"choropleth\": [{\"colorbar\": {\"outlinewidth\": 0, \"ticks\": \"\"}, \"type\": \"choropleth\"}], \"contour\": [{\"colorbar\": {\"outlinewidth\": 0, \"ticks\": \"\"}, \"colorscale\": [[0.0, \"#0d0887\"], [0.1111111111111111, \"#46039f\"], [0.2222222222222222, \"#7201a8\"], [0.3333333333333333, \"#9c179e\"], [0.4444444444444444, \"#bd3786\"], [0.5555555555555556, \"#d8576b\"], [0.6666666666666666, \"#ed7953\"], [0.7777777777777778, \"#fb9f3a\"], [0.8888888888888888, \"#fdca26\"], [1.0, \"#f0f921\"]], \"type\": \"contour\"}], \"contourcarpet\": [{\"colorbar\": {\"outlinewidth\": 0, \"ticks\": \"\"}, \"type\": \"contourcarpet\"}], \"heatmap\": [{\"colorbar\": {\"outlinewidth\": 0, \"ticks\": \"\"}, \"colorscale\": [[0.0, \"#0d0887\"], [0.1111111111111111, \"#46039f\"], [0.2222222222222222, \"#7201a8\"], [0.3333333333333333, \"#9c179e\"], [0.4444444444444444, \"#bd3786\"], [0.5555555555555556, \"#d8576b\"], [0.6666666666666666, \"#ed7953\"], [0.7777777777777778, \"#fb9f3a\"], [0.8888888888888888, \"#fdca26\"], [1.0, \"#f0f921\"]], \"type\": \"heatmap\"}], \"heatmapgl\": [{\"colorbar\": {\"outlinewidth\": 0, \"ticks\": \"\"}, \"colorscale\": [[0.0, \"#0d0887\"], [0.1111111111111111, \"#46039f\"], [0.2222222222222222, \"#7201a8\"], [0.3333333333333333, \"#9c179e\"], [0.4444444444444444, \"#bd3786\"], [0.5555555555555556, \"#d8576b\"], [0.6666666666666666, \"#ed7953\"], [0.7777777777777778, \"#fb9f3a\"], [0.8888888888888888, \"#fdca26\"], [1.0, \"#f0f921\"]], \"type\": \"heatmapgl\"}], \"histogram\": [{\"marker\": {\"colorbar\": {\"outlinewidth\": 0, \"ticks\": \"\"}}, \"type\": \"histogram\"}], \"histogram2d\": [{\"colorbar\": {\"outlinewidth\": 0, \"ticks\": \"\"}, \"colorscale\": [[0.0, \"#0d0887\"], [0.1111111111111111, \"#46039f\"], [0.2222222222222222, \"#7201a8\"], [0.3333333333333333, \"#9c179e\"], [0.4444444444444444, \"#bd3786\"], [0.5555555555555556, \"#d8576b\"], [0.6666666666666666, \"#ed7953\"], [0.7777777777777778, \"#fb9f3a\"], [0.8888888888888888, \"#fdca26\"], [1.0, \"#f0f921\"]], \"type\": \"histogram2d\"}], \"histogram2dcontour\": [{\"colorbar\": {\"outlinewidth\": 0, \"ticks\": \"\"}, \"colorscale\": [[0.0, \"#0d0887\"], [0.1111111111111111, \"#46039f\"], [0.2222222222222222, \"#7201a8\"], [0.3333333333333333, \"#9c179e\"], [0.4444444444444444, \"#bd3786\"], [0.5555555555555556, \"#d8576b\"], [0.6666666666666666, \"#ed7953\"], [0.7777777777777778, \"#fb9f3a\"], [0.8888888888888888, \"#fdca26\"], [1.0, \"#f0f921\"]], \"type\": \"histogram2dcontour\"}], \"mesh3d\": [{\"colorbar\": {\"outlinewidth\": 0, \"ticks\": \"\"}, \"type\": \"mesh3d\"}], \"parcoords\": [{\"line\": {\"colorbar\": {\"outlinewidth\": 0, \"ticks\": \"\"}}, \"type\": \"parcoords\"}], \"scatter\": [{\"marker\": {\"colorbar\": {\"outlinewidth\": 0, \"ticks\": \"\"}}, \"type\": \"scatter\"}], \"scatter3d\": [{\"line\": {\"colorbar\": {\"outlinewidth\": 0, \"ticks\": \"\"}}, \"marker\": {\"colorbar\": {\"outlinewidth\": 0, \"ticks\": \"\"}}, \"type\": \"scatter3d\"}], \"scattercarpet\": [{\"marker\": {\"colorbar\": {\"outlinewidth\": 0, \"ticks\": \"\"}}, \"type\": \"scattercarpet\"}], \"scattergeo\": [{\"marker\": {\"colorbar\": {\"outlinewidth\": 0, \"ticks\": \"\"}}, \"type\": \"scattergeo\"}], \"scattergl\": [{\"marker\": {\"colorbar\": {\"outlinewidth\": 0, \"ticks\": \"\"}}, \"type\": \"scattergl\"}], \"scattermapbox\": [{\"marker\": {\"colorbar\": {\"outlinewidth\": 0, \"ticks\": \"\"}}, \"type\": \"scattermapbox\"}], \"scatterpolar\": [{\"marker\": {\"colorbar\": {\"outlinewidth\": 0, \"ticks\": \"\"}}, \"type\": \"scatterpolar\"}], \"scatterpolargl\": [{\"marker\": {\"colorbar\": {\"outlinewidth\": 0, \"ticks\": \"\"}}, \"type\": \"scatterpolargl\"}], \"scatterternary\": [{\"marker\": {\"colorbar\": {\"outlinewidth\": 0, \"ticks\": \"\"}}, \"type\": \"scatterternary\"}], \"surface\": [{\"colorbar\": {\"outlinewidth\": 0, \"ticks\": \"\"}, \"colorscale\": [[0.0, \"#0d0887\"], [0.1111111111111111, \"#46039f\"], [0.2222222222222222, \"#7201a8\"], [0.3333333333333333, \"#9c179e\"], [0.4444444444444444, \"#bd3786\"], [0.5555555555555556, \"#d8576b\"], [0.6666666666666666, \"#ed7953\"], [0.7777777777777778, \"#fb9f3a\"], [0.8888888888888888, \"#fdca26\"], [1.0, \"#f0f921\"]], \"type\": \"surface\"}], \"table\": [{\"cells\": {\"fill\": {\"color\": \"#EBF0F8\"}, \"line\": {\"color\": \"white\"}}, \"header\": {\"fill\": {\"color\": \"#C8D4E3\"}, \"line\": {\"color\": \"white\"}}, \"type\": \"table\"}]}, \"layout\": {\"annotationdefaults\": {\"arrowcolor\": \"#2a3f5f\", \"arrowhead\": 0, \"arrowwidth\": 1}, \"colorscale\": {\"diverging\": [[0, \"#8e0152\"], [0.1, \"#c51b7d\"], [0.2, \"#de77ae\"], [0.3, \"#f1b6da\"], [0.4, \"#fde0ef\"], [0.5, \"#f7f7f7\"], [0.6, \"#e6f5d0\"], [0.7, \"#b8e186\"], [0.8, \"#7fbc41\"], [0.9, \"#4d9221\"], [1, \"#276419\"]], \"sequential\": [[0.0, \"#0d0887\"], [0.1111111111111111, \"#46039f\"], [0.2222222222222222, \"#7201a8\"], [0.3333333333333333, \"#9c179e\"], [0.4444444444444444, \"#bd3786\"], [0.5555555555555556, \"#d8576b\"], [0.6666666666666666, \"#ed7953\"], [0.7777777777777778, \"#fb9f3a\"], [0.8888888888888888, \"#fdca26\"], [1.0, \"#f0f921\"]], \"sequentialminus\": [[0.0, \"#0d0887\"], [0.1111111111111111, \"#46039f\"], [0.2222222222222222, \"#7201a8\"], [0.3333333333333333, \"#9c179e\"], [0.4444444444444444, \"#bd3786\"], [0.5555555555555556, \"#d8576b\"], [0.6666666666666666, \"#ed7953\"], [0.7777777777777778, \"#fb9f3a\"], [0.8888888888888888, \"#fdca26\"], [1.0, \"#f0f921\"]]}, \"colorway\": [\"#636efa\", \"#EF553B\", \"#00cc96\", \"#ab63fa\", \"#FFA15A\", \"#19d3f3\", \"#FF6692\", \"#B6E880\", \"#FF97FF\", \"#FECB52\"], \"font\": {\"color\": \"#2a3f5f\"}, \"geo\": {\"bgcolor\": \"white\", \"lakecolor\": \"white\", \"landcolor\": \"#E5ECF6\", \"showlakes\": true, \"showland\": true, \"subunitcolor\": \"white\"}, \"hoverlabel\": {\"align\": \"left\"}, \"hovermode\": \"closest\", \"mapbox\": {\"style\": \"light\"}, \"paper_bgcolor\": \"white\", \"plot_bgcolor\": \"#E5ECF6\", \"polar\": {\"angularaxis\": {\"gridcolor\": \"white\", \"linecolor\": \"white\", \"ticks\": \"\"}, \"bgcolor\": \"#E5ECF6\", \"radialaxis\": {\"gridcolor\": \"white\", \"linecolor\": \"white\", \"ticks\": \"\"}}, \"scene\": {\"xaxis\": {\"backgroundcolor\": \"#E5ECF6\", \"gridcolor\": \"white\", \"gridwidth\": 2, \"linecolor\": \"white\", \"showbackground\": true, \"ticks\": \"\", \"zerolinecolor\": \"white\"}, \"yaxis\": {\"backgroundcolor\": \"#E5ECF6\", \"gridcolor\": \"white\", \"gridwidth\": 2, \"linecolor\": \"white\", \"showbackground\": true, \"ticks\": \"\", \"zerolinecolor\": \"white\"}, \"zaxis\": {\"backgroundcolor\": \"#E5ECF6\", \"gridcolor\": \"white\", \"gridwidth\": 2, \"linecolor\": \"white\", \"showbackground\": true, \"ticks\": \"\", \"zerolinecolor\": \"white\"}}, \"shapedefaults\": {\"line\": {\"color\": \"#2a3f5f\"}}, \"ternary\": {\"aaxis\": {\"gridcolor\": \"white\", \"linecolor\": \"white\", \"ticks\": \"\"}, \"baxis\": {\"gridcolor\": \"white\", \"linecolor\": \"white\", \"ticks\": \"\"}, \"bgcolor\": \"#E5ECF6\", \"caxis\": {\"gridcolor\": \"white\", \"linecolor\": \"white\", \"ticks\": \"\"}}, \"title\": {\"x\": 0.05}, \"xaxis\": {\"automargin\": true, \"gridcolor\": \"white\", \"linecolor\": \"white\", \"ticks\": \"\", \"zerolinecolor\": \"white\", \"zerolinewidth\": 2}, \"yaxis\": {\"automargin\": true, \"gridcolor\": \"white\", \"linecolor\": \"white\", \"ticks\": \"\", \"zerolinecolor\": \"white\", \"zerolinewidth\": 2}}}, \"xaxis\": {\"title\": {\"text\": \"Size of array\"}}, \"yaxis\": {\"title\": {\"text\": \"Time in seconds\"}}},\n",
       "                        {\"responsive\": true}\n",
       "                    ).then(function(){\n",
       "                            \n",
       "var gd = document.getElementById('ed42dfb9-3228-423b-8941-e93ae8c496b2');\n",
       "var x = new MutationObserver(function (mutations, observer) {{\n",
       "        var display = window.getComputedStyle(gd).display;\n",
       "        if (!display || display === 'none') {{\n",
       "            console.log([gd, 'removed!']);\n",
       "            Plotly.purge(gd);\n",
       "            observer.disconnect();\n",
       "        }}\n",
       "}});\n",
       "\n",
       "// Listen for the removal of the full notebook cells\n",
       "var notebookContainer = gd.closest('#notebook-container');\n",
       "if (notebookContainer) {{\n",
       "    x.observe(notebookContainer, {childList: true});\n",
       "}}\n",
       "\n",
       "// Listen for the clearing of the current output cell\n",
       "var outputEl = gd.closest('.output');\n",
       "if (outputEl) {{\n",
       "    x.observe(outputEl, {childList: true});\n",
       "}}\n",
       "\n",
       "                        })\n",
       "                };\n",
       "                });\n",
       "            </script>\n",
       "        </div>"
      ]
     },
     "metadata": {},
     "output_type": "display_data"
    }
   ],
   "source": [
    "df = pd.read_csv(\"bench.csv\")\n",
    "performance_plot(df)"
   ]
  },
  {
   "cell_type": "markdown",
   "metadata": {
    "slideshow": {
     "slide_type": "slide"
    }
   },
   "source": [
    "### Why is NumPy Fast?\n",
    "Vectorization describes the absence of any explicit looping, indexing, etc., in the code - these things are taking place, of course, just “behind the scenes” in optimized, pre-compiled C code. "
   ]
  },
  {
   "cell_type": "code",
   "execution_count": null,
   "metadata": {},
   "outputs": [],
   "source": []
  }
 ],
 "metadata": {
  "celltoolbar": "Slideshow",
  "kernelspec": {
   "display_name": "Python 3",
   "language": "python",
   "name": "python3"
  },
  "language_info": {
   "codemirror_mode": {
    "name": "ipython",
    "version": 3
   },
   "file_extension": ".py",
   "mimetype": "text/x-python",
   "name": "python",
   "nbconvert_exporter": "python",
   "pygments_lexer": "ipython3",
   "version": "3.6.2"
  }
 },
 "nbformat": 4,
 "nbformat_minor": 2
}
