{
 "cells": [
  {
   "cell_type": "markdown",
   "metadata": {
    "slideshow": {
     "slide_type": "slide"
    }
   },
   "source": [
    "## Direct Methods for Linear Systems"
   ]
  },
  {
   "cell_type": "markdown",
   "metadata": {
    "slideshow": {
     "slide_type": "fragment"
    }
   },
   "source": [
    "$$\n",
    "\\begin{align}\n",
    "        & a_{11}x_1 + \\dots + a_{1n}x_n = b_1 \\\\\n",
    "        & a_{21}x_1 + \\dots + a_{2n}x_n = b_2 \\\\\n",
    "        &  \\vdots  \\\\\n",
    "        & a_{n1}x_1 + \\dots + a_{nn}x_n = b_n\n",
    "\\end{align}\n",
    "$$\n",
    "\n",
    "We can write this with matrix notation as \n",
    "\n",
    "$$\n",
    "    Ax = b, A \\in \\mathbb{R}^{n,n}, x,b \\in \\mathbb{R}^n \n",
    "$$\n"
   ]
  },
  {
   "cell_type": "markdown",
   "metadata": {
    "slideshow": {
     "slide_type": "slide"
    }
   },
   "source": [
    "Lets take\n",
    "\n",
    "$$\n",
    "\\begin{align}\n",
    "        & x + 3y- 2z = 5 \\\\\n",
    "        & 3x + 5y - 6z = 7 \\\\\n",
    "        & 2x + 4y + 3z = 8\n",
    "\\end{align}\n",
    "$$\n",
    "\n",
    "Becomes\n",
    "\n",
    "$$\n",
    "\\begin{bmatrix}\n",
    "1  & 3 & -2 \\\\\n",
    "3 & 5 & 6 \\\\\n",
    "2 & 4 & 3\n",
    "\\end{bmatrix}\n",
    "\\begin{bmatrix}\n",
    "x\\\\\n",
    "y\\\\\n",
    "z\n",
    "\\end{bmatrix} = \\begin{bmatrix}\n",
    "5\\\\\n",
    "7\\\\\n",
    "8\n",
    "\\end{bmatrix}\n",
    "$$\n"
   ]
  },
  {
   "cell_type": "markdown",
   "metadata": {
    "slideshow": {
     "slide_type": "slide"
    }
   },
   "source": [
    "We could solve it using Gaussian Elimination"
   ]
  },
  {
   "cell_type": "markdown",
   "metadata": {
    "slideshow": {
     "slide_type": "fragment"
    }
   },
   "source": [
    "<img src=\"https://wikimedia.org/api/rest_v1/media/math/render/svg/5f6367f306a7947555dd25f9b3b29a5903efdabb\">"
   ]
  },
  {
   "cell_type": "markdown",
   "metadata": {
    "slideshow": {
     "slide_type": "slide"
    }
   },
   "source": [
    "Or Cramers Rule"
   ]
  },
  {
   "cell_type": "markdown",
   "metadata": {
    "slideshow": {
     "slide_type": "fragment"
    }
   },
   "source": [
    "<img src=\"https://wikimedia.org/api/rest_v1/media/math/render/svg/39364326c745c93758b2a762e1e25e6e185e2fa7\">"
   ]
  },
  {
   "cell_type": "markdown",
   "metadata": {
    "slideshow": {
     "slide_type": "fragment"
    }
   },
   "source": [
    "<img src =\"https://wikimedia.org/api/rest_v1/media/math/render/svg/26cbedff8e480c762c2b0a297f822868151c76ba\">"
   ]
  },
  {
   "cell_type": "markdown",
   "metadata": {
    "slideshow": {
     "slide_type": "slide"
    }
   },
   "source": [
    "As long as $A$ is non-singular, i.e. \n",
    "\n",
    "$$\n",
    "\\text{det}(A) \\neq 0 \\\\\n",
    "\\text{rank}(A) = n \\\\\n",
    "Ax = 0 \\iff x = 0\n",
    "$$\n",
    "\n",
    "We can also solve the system of linear equations using the inverse of $A$ which is defined as $B$ that satisfies \n",
    "\n",
    "$$\n",
    "    AB=BA=I_n\n",
    "$$\n",
    "\n",
    "Where $B$ is denominated as $A^{-1}$\n",
    "\n",
    "Thus \n",
    "\n",
    "$$\n",
    "    x = A^{-1}b = \\begin{bmatrix}\n",
    "-15\\\\\n",
    "8\\\\\n",
    "2\n",
    "\\end{bmatrix}\n",
    "$$\n"
   ]
  },
  {
   "cell_type": "markdown",
   "metadata": {
    "slideshow": {
     "slide_type": "slide"
    }
   },
   "source": [
    "## Looking at these concepts in \n",
    "\n",
    "<img src=\"https://www.python.org/static/community_logos/python-logo-master-v3-TM.png\">"
   ]
  },
  {
   "cell_type": "code",
   "execution_count": 1,
   "metadata": {
    "slideshow": {
     "slide_type": "fragment"
    }
   },
   "outputs": [],
   "source": [
    "import numpy as np\n",
    "import plotly.express as px"
   ]
  },
  {
   "cell_type": "markdown",
   "metadata": {
    "slideshow": {
     "slide_type": "slide"
    }
   },
   "source": [
    "## Create Matrix\n",
    "\n",
    " Refresher from last module"
   ]
  },
  {
   "cell_type": "code",
   "execution_count": 2,
   "metadata": {
    "slideshow": {
     "slide_type": "fragment"
    }
   },
   "outputs": [
    {
     "data": {
      "text/plain": [
       "array([[ 1,  3, -2],\n",
       "       [ 3,  5,  6],\n",
       "       [ 2,  4,  3]])"
      ]
     },
     "execution_count": 2,
     "metadata": {},
     "output_type": "execute_result"
    }
   ],
   "source": [
    "A = np.array(\n",
    "    [[1,3,-2],\n",
    "     [3,5,6],\n",
    "     [2,4,3]\n",
    "    ])\n",
    "A"
   ]
  },
  {
   "cell_type": "code",
   "execution_count": 3,
   "metadata": {
    "slideshow": {
     "slide_type": "fragment"
    }
   },
   "outputs": [
    {
     "data": {
      "text/plain": [
       "(3, 3)"
      ]
     },
     "execution_count": 3,
     "metadata": {},
     "output_type": "execute_result"
    }
   ],
   "source": [
    "A.shape"
   ]
  },
  {
   "cell_type": "code",
   "execution_count": 4,
   "metadata": {
    "slideshow": {
     "slide_type": "fragment"
    }
   },
   "outputs": [
    {
     "data": {
      "text/plain": [
       "array([5, 7, 8])"
      ]
     },
     "execution_count": 4,
     "metadata": {},
     "output_type": "execute_result"
    }
   ],
   "source": [
    "b = np.array([5,7,8])\n",
    "b"
   ]
  },
  {
   "cell_type": "markdown",
   "metadata": {
    "slideshow": {
     "slide_type": "slide"
    }
   },
   "source": [
    "## Solving the system of equations"
   ]
  },
  {
   "cell_type": "code",
   "execution_count": 5,
   "metadata": {
    "slideshow": {
     "slide_type": "fragment"
    }
   },
   "outputs": [
    {
     "data": {
      "text/plain": [
       "array([-15.,   8.,   2.])"
      ]
     },
     "execution_count": 5,
     "metadata": {},
     "output_type": "execute_result"
    }
   ],
   "source": [
    "A_minus = np.linalg.inv(A)\n",
    "np.dot(A_minus,b)"
   ]
  },
  {
   "cell_type": "code",
   "execution_count": 6,
   "metadata": {
    "slideshow": {
     "slide_type": "fragment"
    }
   },
   "outputs": [
    {
     "data": {
      "text/plain": [
       "array([-15.,   8.,   2.])"
      ]
     },
     "execution_count": 6,
     "metadata": {},
     "output_type": "execute_result"
    }
   ],
   "source": [
    "A_minus @ b"
   ]
  },
  {
   "cell_type": "code",
   "execution_count": 7,
   "metadata": {
    "slideshow": {
     "slide_type": "fragment"
    }
   },
   "outputs": [
    {
     "data": {
      "text/plain": [
       "array([-15.,   8.,   2.])"
      ]
     },
     "execution_count": 7,
     "metadata": {},
     "output_type": "execute_result"
    }
   ],
   "source": [
    "np.linalg.solve(A,b)"
   ]
  },
  {
   "cell_type": "markdown",
   "metadata": {
    "slideshow": {
     "slide_type": "slide"
    }
   },
   "source": [
    "## Standard operations act like we would expect"
   ]
  },
  {
   "cell_type": "code",
   "execution_count": 8,
   "metadata": {
    "slideshow": {
     "slide_type": "fragment"
    }
   },
   "outputs": [],
   "source": [
    "B = np.array(\n",
    "    [[1,4,9],\n",
    "     [10,11,12],\n",
    "     [88,99,111]\n",
    "    ])"
   ]
  },
  {
   "cell_type": "code",
   "execution_count": 9,
   "metadata": {
    "scrolled": true,
    "slideshow": {
     "slide_type": "fragment"
    }
   },
   "outputs": [
    {
     "data": {
      "text/plain": [
       "array([[ 1,  3,  2],\n",
       "       [ 3,  5,  4],\n",
       "       [-2,  6,  3]])"
      ]
     },
     "execution_count": 9,
     "metadata": {},
     "output_type": "execute_result"
    }
   ],
   "source": [
    "A.T"
   ]
  },
  {
   "cell_type": "code",
   "execution_count": 10,
   "metadata": {
    "slideshow": {
     "slide_type": "fragment"
    }
   },
   "outputs": [
    {
     "data": {
      "text/plain": [
       "array([[  2,   7,   7],\n",
       "       [ 13,  16,  18],\n",
       "       [ 90, 103, 114]])"
      ]
     },
     "execution_count": 10,
     "metadata": {},
     "output_type": "execute_result"
    }
   ],
   "source": [
    "A + B"
   ]
  },
  {
   "cell_type": "code",
   "execution_count": 11,
   "metadata": {
    "slideshow": {
     "slide_type": "fragment"
    }
   },
   "outputs": [
    {
     "data": {
      "text/plain": [
       "array([[ 1,  9,  4],\n",
       "       [ 9, 25, 36],\n",
       "       [ 4, 16,  9]])"
      ]
     },
     "execution_count": 11,
     "metadata": {},
     "output_type": "execute_result"
    }
   ],
   "source": [
    "# Direct product\n",
    "A*A"
   ]
  },
  {
   "cell_type": "code",
   "execution_count": 12,
   "metadata": {
    "slideshow": {
     "slide_type": "fragment"
    }
   },
   "outputs": [
    {
     "data": {
      "text/plain": [
       "array([[14,  6,  8],\n",
       "       [ 6, 70, 44],\n",
       "       [ 8, 44, 29]])"
      ]
     },
     "execution_count": 12,
     "metadata": {},
     "output_type": "execute_result"
    }
   ],
   "source": [
    "np.dot(A,A.T)"
   ]
  },
  {
   "cell_type": "markdown",
   "metadata": {
    "slideshow": {
     "slide_type": "slide"
    }
   },
   "source": [
    "## Linear algebra operations are in numpy's linalg module"
   ]
  },
  {
   "cell_type": "code",
   "execution_count": 13,
   "metadata": {
    "scrolled": true,
    "slideshow": {
     "slide_type": "fragment"
    }
   },
   "outputs": [
    {
     "name": "stdout",
     "output_type": "stream",
     "text": [
      "Rank of A: 3\n",
      "\n",
      "Trace of A: 9\n",
      "\n",
      "Determinant of A: -4.000000000000003\n",
      "\n",
      "Inverse of A:\n",
      " [[ 2.25  4.25 -7.  ]\n",
      " [-0.75 -1.75  3.  ]\n",
      " [-0.5  -0.5   1.  ]]\n",
      "\n",
      "Matrix A raised to power 3:\n",
      " [[ 56 108  78]\n",
      " [288 548 414]\n",
      " [192 366 275]]\n"
     ]
    }
   ],
   "source": [
    "# Rank of a matrix\n",
    "print(\"Rank of A:\", np.linalg.matrix_rank(A))\n",
    " \n",
    "# Trace of matrix A\n",
    "print(\"\\nTrace of A:\", np.trace(A))\n",
    " \n",
    "# Determinant of a matrix\n",
    "print(\"\\nDeterminant of A:\", np.linalg.det(A))\n",
    " \n",
    "# Inverse of matrix A\n",
    "print(\"\\nInverse of A:\\n\", np.linalg.inv(A))\n",
    " \n",
    "print(\"\\nMatrix A raised to power 3:\\n\",\n",
    "           np.linalg.matrix_power(A, 3))"
   ]
  },
  {
   "cell_type": "markdown",
   "metadata": {
    "slideshow": {
     "slide_type": "slide"
    }
   },
   "source": [
    "## To apply aggregation functions to n-d arrays we call the function on the array\n",
    "\n",
    "```python\n",
    "A.fun()\n",
    "``` \n",
    "The function will take the argument `axis`, which defaults to `none` meaning the entire array will be aggregated to a point"
   ]
  },
  {
   "cell_type": "code",
   "execution_count": 25,
   "metadata": {
    "scrolled": true,
    "slideshow": {
     "slide_type": "fragment"
    }
   },
   "outputs": [
    {
     "data": {
      "text/plain": [
       "array([[ 4,  5, 15,  3],\n",
       "       [ 7, 12, 14, 13],\n",
       "       [ 8,  0,  2,  1],\n",
       "       [11, 10,  9,  6]])"
      ]
     },
     "execution_count": 25,
     "metadata": {},
     "output_type": "execute_result"
    }
   ],
   "source": [
    "A = np.random.permutation(16).reshape(4,4)\n",
    "A"
   ]
  },
  {
   "cell_type": "code",
   "execution_count": 26,
   "metadata": {
    "slideshow": {
     "slide_type": "fragment"
    }
   },
   "outputs": [
    {
     "data": {
      "text/plain": [
       "120"
      ]
     },
     "execution_count": 26,
     "metadata": {},
     "output_type": "execute_result"
    }
   ],
   "source": [
    "A.sum()"
   ]
  },
  {
   "cell_type": "code",
   "execution_count": 27,
   "metadata": {
    "slideshow": {
     "slide_type": "fragment"
    }
   },
   "outputs": [
    {
     "data": {
      "text/plain": [
       "array([27, 46, 11, 36])"
      ]
     },
     "execution_count": 27,
     "metadata": {},
     "output_type": "execute_result"
    }
   ],
   "source": [
    "A.sum(axis=1)"
   ]
  },
  {
   "cell_type": "code",
   "execution_count": 28,
   "metadata": {
    "slideshow": {
     "slide_type": "fragment"
    }
   },
   "outputs": [
    {
     "data": {
      "text/plain": [
       "array([30, 27, 40, 23])"
      ]
     },
     "execution_count": 28,
     "metadata": {},
     "output_type": "execute_result"
    }
   ],
   "source": [
    "A.sum(axis=0) "
   ]
  },
  {
   "cell_type": "markdown",
   "metadata": {
    "slideshow": {
     "slide_type": "slide"
    }
   },
   "source": [
    "## Exercise\n",
    "\n",
    "Write a function `pdsist(xs)` which returns a matrix of the pairwise distance between the collection of row vectors in `xs` using Euclidean distance.\n",
    "\n",
    "\\begin{align}\n",
    "    d(x, y) = \\sqrt{\\sum{(y-x)^2}}\n",
    "\\end{align}\n"
   ]
  },
  {
   "cell_type": "code",
   "execution_count": 19,
   "metadata": {
    "slideshow": {
     "slide_type": "fragment"
    }
   },
   "outputs": [],
   "source": [
    "xs = np.array([[0.20981496, 0.54777461, 0.9398527 ],\n",
    "       [0.63149939, 0.935947  , 0.29834026],\n",
    "       [0.46302941, 0.25515557, 0.0698739 ],\n",
    "       [0.38192644, 0.42378508, 0.26055664],\n",
    "       [0.46307302, 0.05943961, 0.60204931]])"
   ]
  },
  {
   "cell_type": "markdown",
   "metadata": {
    "slideshow": {
     "slide_type": "slide"
    }
   },
   "source": [
    "## Simple OLS"
   ]
  },
  {
   "cell_type": "code",
   "execution_count": 3,
   "metadata": {
    "slideshow": {
     "slide_type": "fragment"
    }
   },
   "outputs": [
    {
     "data": {
      "application/vnd.plotly.v1+json": {
       "config": {
        "plotlyServerURL": "https://plot.ly"
       },
       "data": [
        {
         "hoverlabel": {
          "namelength": 0
         },
         "hovertemplate": "x=%{x}<br>y=%{y}",
         "legendgroup": "",
         "marker": {
          "color": "#1F77B4",
          "symbol": "circle"
         },
         "mode": "markers",
         "name": "",
         "showlegend": false,
         "type": "scatter",
         "x": [
          0,
          0.01,
          0.02,
          0.03,
          0.04,
          0.05,
          0.06,
          0.07,
          0.08,
          0.09,
          0.1,
          0.11,
          0.12,
          0.13,
          0.14,
          0.15,
          0.16,
          0.17,
          0.18,
          0.19,
          0.2,
          0.21,
          0.22,
          0.23,
          0.24,
          0.25,
          0.26,
          0.27,
          0.28,
          0.29,
          0.3,
          0.31,
          0.32,
          0.33,
          0.34,
          0.35,
          0.36,
          0.37,
          0.38,
          0.39,
          0.4,
          0.41,
          0.42,
          0.43,
          0.44,
          0.45,
          0.46,
          0.47,
          0.48,
          0.49,
          0.5,
          0.51,
          0.52,
          0.53,
          0.54,
          0.55,
          0.56,
          0.57,
          0.58,
          0.59,
          0.6,
          0.61,
          0.62,
          0.63,
          0.64,
          0.65,
          0.66,
          0.67,
          0.68,
          0.69,
          0.7,
          0.71,
          0.72,
          0.73,
          0.74,
          0.75,
          0.76,
          0.77,
          0.78,
          0.79,
          0.8,
          0.81,
          0.82,
          0.83,
          0.84,
          0.85,
          0.86,
          0.87,
          0.88,
          0.89,
          0.9,
          0.91,
          0.92,
          0.93,
          0.94,
          0.95,
          0.96,
          0.97,
          0.98,
          0.99,
          1,
          1.01,
          1.02,
          1.03,
          1.04,
          1.05,
          1.06,
          1.07,
          1.08,
          1.09,
          1.1,
          1.11,
          1.12,
          1.13,
          1.14,
          1.15,
          1.16,
          1.17,
          1.18,
          1.19,
          1.2,
          1.21,
          1.22,
          1.23,
          1.24,
          1.25,
          1.26,
          1.27,
          1.28,
          1.29,
          1.3,
          1.31,
          1.32,
          1.33,
          1.34,
          1.35,
          1.36,
          1.37,
          1.38,
          1.39,
          1.4,
          1.41,
          1.42,
          1.43,
          1.44,
          1.45,
          1.46,
          1.47,
          1.48,
          1.49,
          1.5,
          1.51,
          1.52,
          1.53,
          1.54,
          1.55,
          1.56,
          1.57,
          1.58,
          1.59,
          1.6,
          1.61,
          1.62,
          1.63,
          1.64,
          1.65,
          1.66,
          1.67,
          1.68,
          1.69,
          1.7,
          1.71,
          1.72,
          1.73,
          1.74,
          1.75,
          1.76,
          1.77,
          1.78,
          1.79,
          1.8,
          1.81,
          1.82,
          1.83,
          1.84,
          1.85,
          1.86,
          1.87,
          1.88,
          1.89,
          1.9,
          1.91,
          1.92,
          1.93,
          1.94,
          1.95,
          1.96,
          1.97,
          1.98,
          1.99
         ],
         "xaxis": "x",
         "y": [
          4.873036090989725,
          -1.7352692409502262,
          -1.3845152567903671,
          -2.9189058664685117,
          2.9962228879740356,
          -6.4046160906408485,
          5.83443529264944,
          -1.583620702685308,
          1.7571172881712958,
          0.1518888735677697,
          5.386323811134922,
          -5.0804221284929625,
          0.2327483879594775,
          0.14783693599475312,
          4.801308327006312,
          -1.7996738019420926,
          1.0827153773486928,
          -0.9335752537641149,
          1.9266412401467783,
          3.6484456411474664,
          -1.3018575316387637,
          5.5341711295188425,
          4.904772161778387,
          3.807483016705605,
          5.102567847793235,
          0.4488164224770008,
          2.2313293234440557,
          -0.10730830277720615,
          1.9963357611219525,
          4.491066400214558,
          0.9250177448240731,
          1.909739419432068,
          1.138481899641202,
          0.7643830755038414,
          1.3862616074895433,
          3.462006203243296,
          0.2480689540941663,
          4.403247093451276,
          8.779406531329611,
          6.126132481732007,
          3.424493342915155,
          1.4371131077454908,
          1.9585251187474872,
          9.37736380308324,
          4.5524232643280875,
          2.58901306029194,
          5.172746454002398,
          11.000765409436525,
          5.160476857444888,
          6.7516093291222585,
          5.900510959867482,
          4.0432504605194435,
          1.7724454059335795,
          4.2519718327613685,
          4.773317299875666,
          7.2598695735465935,
          8.116950241623515,
          8.493306243910672,
          6.656761975762776,
          8.555423492812183,
          3.736806177010042,
          9.858604465699862,
          7.738789461254027,
          5.405721494691853,
          7.865554439612492,
          6.273284860936833,
          9.994888162354282,
          11.259450449266597,
          13.356726219599485,
          2.7105109935355864,
          2.6676585837112317,
          5.586602411160646,
          7.680111208343491,
          9.928506763348675,
          8.346904841724816,
          1.433396352527991,
          6.681387962114885,
          10.183923927821738,
          8.49028420609315,
          10.186033540936075,
          7.3330155721689225,
          7.497725793210009,
          8.759684172964853,
          9.530154941624769,
          8.99489916038031,
          8.857025937422376,
          6.588013141132908,
          9.832691358962757,
          9.165463812974311,
          12.28845172373576,
          12.59675363970452,
          9.655469252451832,
          8.07414514972966,
          7.383808777637333,
          10.670483062192337,
          9.732020205045679,
          8.568438973286773,
          9.83079057050274,
          7.939997468155613,
          11.994096102216657,
          8.658614305642006,
          13.773523114416497,
          11.4104749253724,
          12.080735569711202,
          7.115264462776874,
          11.008147299176004,
          12.821669353288826,
          7.838898194576197,
          10.001344481989134,
          10.997843640080076,
          6.880648039259733,
          12.045478176126878,
          13.7384819427551,
          8.721452177504041,
          12.45163793599232,
          7.5631497662877045,
          11.483913472201847,
          6.852682935890115,
          15.164253124706992,
          13.126701613810482,
          11.926149132372664,
          9.774515142492522,
          16.02126779047633,
          18.201305247764203,
          6.826054406659744,
          16.208492091358462,
          17.48295225944672,
          13.714035089723426,
          9.202195902994443,
          15.490035952632065,
          12.457239093765548,
          11.28823811662023,
          9.509825592999116,
          14.951612487928646,
          15.778420597758043,
          11.629407810960625,
          15.161729011220114,
          10.266975831130573,
          16.20558309561403,
          14.039701895272435,
          13.440290684277954,
          13.794762382412564,
          16.806658471017602,
          16.551234919595025,
          15.988395973058125,
          14.913103629992158,
          14.833463383738117,
          16.555140785995572,
          15.497483677536215,
          16.947654220593456,
          14.06964967944582,
          7.795486707678583,
          18.31647380557824,
          21.86093894092277,
          16.724093330705745,
          15.199534300149502,
          15.190665768311902,
          15.342837436675572,
          15.852228224900015,
          12.533943813759336,
          14.448716626239316,
          13.108919517049213,
          16.946397484163313,
          15.41007654288741,
          17.88563397193388,
          15.975890520772497,
          19.559005563463725,
          17.340601704006325,
          23.372099186909203,
          11.210917231326722,
          15.059249935235275,
          19.804460674946135,
          24.784977120419192,
          16.55409566685362,
          17.531006979535167,
          16.821057272459186,
          21.594371337762777,
          16.838076409571944,
          19.840209519634314,
          16.940595203303985,
          14.182323734262017,
          19.0406431613903,
          19.70955444030598,
          22.179677647596787,
          18.068658920748053,
          16.647913808862917,
          20.28828328985708,
          19.4222112767132,
          19.641995231367915,
          18.680661888758166,
          22.481015709981307,
          20.20847814912717,
          24.91397612502294,
          22.633170095681514,
          21.37714938830063,
          14.617684978151228,
          21.40695784088689,
          20.96084661094118,
          22.232855018410667,
          23.033326284121774
         ],
         "yaxis": "y"
        }
       ],
       "layout": {
        "height": 600,
        "legend": {
         "tracegroupgap": 0
        },
        "margin": {
         "t": 60
        },
        "template": {},
        "xaxis": {
         "anchor": "y",
         "domain": [
          0,
          0.98
         ],
         "title": {
          "text": "x"
         }
        },
        "yaxis": {
         "anchor": "x",
         "domain": [
          0,
          1
         ],
         "title": {
          "text": "y"
         }
        }
       }
      },
      "text/html": [
       "<div>\n",
       "        \n",
       "        \n",
       "            <div id=\"9cfbe333-3fef-4512-a241-a45bf6a5ef24\" class=\"plotly-graph-div\" style=\"height:600px; width:100%;\"></div>\n",
       "            <script type=\"text/javascript\">\n",
       "                require([\"plotly\"], function(Plotly) {\n",
       "                    window.PLOTLYENV=window.PLOTLYENV || {};\n",
       "                    \n",
       "                if (document.getElementById(\"9cfbe333-3fef-4512-a241-a45bf6a5ef24\")) {\n",
       "                    Plotly.newPlot(\n",
       "                        '9cfbe333-3fef-4512-a241-a45bf6a5ef24',\n",
       "                        [{\"hoverlabel\": {\"namelength\": 0}, \"hovertemplate\": \"x=%{x}<br>y=%{y}\", \"legendgroup\": \"\", \"marker\": {\"color\": \"#1F77B4\", \"symbol\": \"circle\"}, \"mode\": \"markers\", \"name\": \"\", \"showlegend\": false, \"type\": \"scatter\", \"x\": [0.0, 0.01, 0.02, 0.03, 0.04, 0.05, 0.06, 0.07, 0.08, 0.09, 0.1, 0.11, 0.12, 0.13, 0.14, 0.15, 0.16, 0.17, 0.18, 0.19, 0.2, 0.21, 0.22, 0.23, 0.24, 0.25, 0.26, 0.27, 0.28, 0.29, 0.3, 0.31, 0.32, 0.33, 0.34, 0.35, 0.36, 0.37, 0.38, 0.39, 0.4, 0.41, 0.42, 0.43, 0.44, 0.45, 0.46, 0.47, 0.48, 0.49, 0.5, 0.51, 0.52, 0.53, 0.54, 0.55, 0.56, 0.57, 0.58, 0.59, 0.6, 0.61, 0.62, 0.63, 0.64, 0.65, 0.66, 0.67, 0.68, 0.69, 0.7, 0.71, 0.72, 0.73, 0.74, 0.75, 0.76, 0.77, 0.78, 0.79, 0.8, 0.81, 0.82, 0.83, 0.84, 0.85, 0.86, 0.87, 0.88, 0.89, 0.9, 0.91, 0.92, 0.93, 0.94, 0.95, 0.96, 0.97, 0.98, 0.99, 1.0, 1.01, 1.02, 1.03, 1.04, 1.05, 1.06, 1.07, 1.08, 1.09, 1.1, 1.11, 1.12, 1.13, 1.14, 1.15, 1.16, 1.17, 1.18, 1.19, 1.2, 1.21, 1.22, 1.23, 1.24, 1.25, 1.26, 1.27, 1.28, 1.29, 1.3, 1.31, 1.32, 1.33, 1.34, 1.35, 1.36, 1.37, 1.38, 1.39, 1.4, 1.41, 1.42, 1.43, 1.44, 1.45, 1.46, 1.47, 1.48, 1.49, 1.5, 1.51, 1.52, 1.53, 1.54, 1.55, 1.56, 1.57, 1.58, 1.59, 1.6, 1.61, 1.62, 1.63, 1.64, 1.65, 1.66, 1.67, 1.68, 1.69, 1.7, 1.71, 1.72, 1.73, 1.74, 1.75, 1.76, 1.77, 1.78, 1.79, 1.8, 1.81, 1.82, 1.83, 1.84, 1.85, 1.86, 1.87, 1.88, 1.89, 1.9, 1.91, 1.92, 1.93, 1.94, 1.95, 1.96, 1.97, 1.98, 1.99], \"xaxis\": \"x\", \"y\": [4.873036090989725, -1.7352692409502262, -1.3845152567903671, -2.9189058664685117, 2.9962228879740356, -6.4046160906408485, 5.83443529264944, -1.583620702685308, 1.7571172881712958, 0.1518888735677697, 5.386323811134922, -5.0804221284929625, 0.2327483879594775, 0.14783693599475312, 4.801308327006312, -1.7996738019420926, 1.0827153773486928, -0.9335752537641149, 1.9266412401467783, 3.6484456411474664, -1.3018575316387637, 5.5341711295188425, 4.904772161778387, 3.807483016705605, 5.102567847793235, 0.4488164224770008, 2.2313293234440557, -0.10730830277720615, 1.9963357611219525, 4.491066400214558, 0.9250177448240731, 1.909739419432068, 1.138481899641202, 0.7643830755038414, 1.3862616074895433, 3.462006203243296, 0.2480689540941663, 4.403247093451276, 8.779406531329611, 6.126132481732007, 3.424493342915155, 1.4371131077454908, 1.9585251187474872, 9.37736380308324, 4.5524232643280875, 2.58901306029194, 5.172746454002398, 11.000765409436525, 5.160476857444888, 6.7516093291222585, 5.900510959867482, 4.0432504605194435, 1.7724454059335795, 4.2519718327613685, 4.773317299875666, 7.2598695735465935, 8.116950241623515, 8.493306243910672, 6.656761975762776, 8.555423492812183, 3.736806177010042, 9.858604465699862, 7.738789461254027, 5.405721494691853, 7.865554439612492, 6.273284860936833, 9.994888162354282, 11.259450449266597, 13.356726219599485, 2.7105109935355864, 2.6676585837112317, 5.586602411160646, 7.680111208343491, 9.928506763348675, 8.346904841724816, 1.433396352527991, 6.681387962114885, 10.183923927821738, 8.49028420609315, 10.186033540936075, 7.3330155721689225, 7.497725793210009, 8.759684172964853, 9.530154941624769, 8.99489916038031, 8.857025937422376, 6.588013141132908, 9.832691358962757, 9.165463812974311, 12.28845172373576, 12.59675363970452, 9.655469252451832, 8.07414514972966, 7.383808777637333, 10.670483062192337, 9.732020205045679, 8.568438973286773, 9.83079057050274, 7.939997468155613, 11.994096102216657, 8.658614305642006, 13.773523114416497, 11.4104749253724, 12.080735569711202, 7.115264462776874, 11.008147299176004, 12.821669353288826, 7.838898194576197, 10.001344481989134, 10.997843640080076, 6.880648039259733, 12.045478176126878, 13.7384819427551, 8.721452177504041, 12.45163793599232, 7.5631497662877045, 11.483913472201847, 6.852682935890115, 15.164253124706992, 13.126701613810482, 11.926149132372664, 9.774515142492522, 16.02126779047633, 18.201305247764203, 6.826054406659744, 16.208492091358462, 17.48295225944672, 13.714035089723426, 9.202195902994443, 15.490035952632065, 12.457239093765548, 11.28823811662023, 9.509825592999116, 14.951612487928646, 15.778420597758043, 11.629407810960625, 15.161729011220114, 10.266975831130573, 16.20558309561403, 14.039701895272435, 13.440290684277954, 13.794762382412564, 16.806658471017602, 16.551234919595025, 15.988395973058125, 14.913103629992158, 14.833463383738117, 16.555140785995572, 15.497483677536215, 16.947654220593456, 14.06964967944582, 7.795486707678583, 18.31647380557824, 21.86093894092277, 16.724093330705745, 15.199534300149502, 15.190665768311902, 15.342837436675572, 15.852228224900015, 12.533943813759336, 14.448716626239316, 13.108919517049213, 16.946397484163313, 15.41007654288741, 17.88563397193388, 15.975890520772497, 19.559005563463725, 17.340601704006325, 23.372099186909203, 11.210917231326722, 15.059249935235275, 19.804460674946135, 24.784977120419192, 16.55409566685362, 17.531006979535167, 16.821057272459186, 21.594371337762777, 16.838076409571944, 19.840209519634314, 16.940595203303985, 14.182323734262017, 19.0406431613903, 19.70955444030598, 22.179677647596787, 18.068658920748053, 16.647913808862917, 20.28828328985708, 19.4222112767132, 19.641995231367915, 18.680661888758166, 22.481015709981307, 20.20847814912717, 24.91397612502294, 22.633170095681514, 21.37714938830063, 14.617684978151228, 21.40695784088689, 20.96084661094118, 22.232855018410667, 23.033326284121774], \"yaxis\": \"y\"}],\n",
       "                        {\"height\": 600, \"legend\": {\"tracegroupgap\": 0}, \"margin\": {\"t\": 60}, \"template\": {}, \"xaxis\": {\"anchor\": \"y\", \"domain\": [0.0, 0.98], \"title\": {\"text\": \"x\"}}, \"yaxis\": {\"anchor\": \"x\", \"domain\": [0.0, 1.0], \"title\": {\"text\": \"y\"}}},\n",
       "                        {\"responsive\": true}\n",
       "                    ).then(function(){\n",
       "                            \n",
       "var gd = document.getElementById('9cfbe333-3fef-4512-a241-a45bf6a5ef24');\n",
       "var x = new MutationObserver(function (mutations, observer) {{\n",
       "        var display = window.getComputedStyle(gd).display;\n",
       "        if (!display || display === 'none') {{\n",
       "            console.log([gd, 'removed!']);\n",
       "            Plotly.purge(gd);\n",
       "            observer.disconnect();\n",
       "        }}\n",
       "}});\n",
       "\n",
       "// Listen for the removal of the full notebook cells\n",
       "var notebookContainer = gd.closest('#notebook-container');\n",
       "if (notebookContainer) {{\n",
       "    x.observe(notebookContainer, {childList: true});\n",
       "}}\n",
       "\n",
       "// Listen for the clearing of the current output cell\n",
       "var outputEl = gd.closest('.output');\n",
       "if (outputEl) {{\n",
       "    x.observe(outputEl, {childList: true});\n",
       "}}\n",
       "\n",
       "                        })\n",
       "                };\n",
       "                });\n",
       "            </script>\n",
       "        </div>"
      ]
     },
     "metadata": {},
     "output_type": "display_data"
    }
   ],
   "source": [
    "n = 200\n",
    "np.random.seed(seed=1)\n",
    "# x co-ordinates\n",
    "x = np.arange(0, n)/100\n",
    "X = np.array([x, np.ones(n)])\n",
    "# linearly generated sequence\n",
    "y = x*10 + np.random.normal(0,3,n)\n",
    "px.scatter(x=x, y=y, template=\"none\")"
   ]
  },
  {
   "cell_type": "markdown",
   "metadata": {
    "slideshow": {
     "slide_type": "slide"
    }
   },
   "source": [
    "We assume that the points follow a linear model\n",
    "$$\n",
    "\\begin{bmatrix}\n",
    "y_1  \\\\\n",
    "\\vdots \\\\\n",
    "y_n \n",
    "\\end{bmatrix}_{nx1} = \n",
    "\\begin{bmatrix}\n",
    "1 & X_{11} & X_{21} & \\dots & X_{k1}  \\\\\n",
    "1 &  X_{12} & X_{22} & \\dots & X_{k1} \\\\\n",
    "\\vdots &  \\vdots & \\vdots & \\vdots & \\vdots \\\\\n",
    "1 &  X_{1n} & X_{2n} & \\dots & X_{kn} \\\\\n",
    "\\end{bmatrix}_{nxk} \\begin{bmatrix}\n",
    "\\beta_1  \\\\\n",
    "\\vdots \\\\\n",
    "\\beta_k \n",
    "\\end{bmatrix}_{kx1}\n",
    "+\n",
    "\\begin{bmatrix}\n",
    "\\varepsilon_1  \\\\\n",
    "\\vdots \\\\\n",
    "\\varepsilon_k \n",
    "\\end{bmatrix}_{nx1}\n",
    "$$\n",
    "\n",
    "$$\n",
    "    y=X\\beta + \\varepsilon\n",
    "$$"
   ]
  },
  {
   "cell_type": "markdown",
   "metadata": {
    "slideshow": {
     "slide_type": "fragment"
    }
   },
   "source": [
    "$$\n",
    "\\begin{align}\n",
    "    \\varepsilon^T\\varepsilon =& \\overbrace{(y-X\\beta)^T(y-X\\beta)}^{||y-X\\beta||} \\\\\n",
    "            =& y^Ty - \\beta^TX^Ty-y^TX+\\beta^TX^TX\\beta \\\\\n",
    "            =& y^Ty - 2\\beta^TX^Ty+\\beta^TX^TX\\beta \n",
    "\\end{align}\n",
    "$$"
   ]
  },
  {
   "cell_type": "markdown",
   "metadata": {
    "slideshow": {
     "slide_type": "slide"
    }
   },
   "source": [
    "We differentiate with respect to $\\beta$ to find $\\hat{\\beta}$ that minimizes the residuals"
   ]
  },
  {
   "cell_type": "markdown",
   "metadata": {
    "slideshow": {
     "slide_type": "fragment"
    }
   },
   "source": [
    "$$\n",
    "\\begin{align}\n",
    "    \\dfrac{\\partial\\varepsilon^T\\varepsilon}{\\partial\\beta} =& -2X^Ty+2\\beta^TX^TX\\beta =0 \\\\\n",
    "  \\iff & -X^Ty+2X^TX\\beta   = 0  \\\\\n",
    "  \\iff & (X^TX)\\beta   = X^Ty  \\\\\n",
    "\\end{align}\n",
    "$$"
   ]
  },
  {
   "cell_type": "markdown",
   "metadata": {
    "slideshow": {
     "slide_type": "fragment"
    }
   },
   "source": [
    "Multiplying by $(X^TX)^{-1}$ we get an expression for $\\hat{\\beta}$ "
   ]
  },
  {
   "cell_type": "markdown",
   "metadata": {
    "slideshow": {
     "slide_type": "slide"
    }
   },
   "source": [
    "$$\n",
    "\\begin{align}\n",
    "    (X^TX)^{-1}(X^TX)\\beta   &= (X^TX)^{-1}X^Ty \\\\\n",
    "    I \\beta &= (X^TX)^{-1}X^Ty\n",
    "\\end{align}\n",
    "$$"
   ]
  },
  {
   "cell_type": "markdown",
   "metadata": {
    "slideshow": {
     "slide_type": "fragment"
    }
   },
   "source": [
    "Thus the familiar"
   ]
  },
  {
   "cell_type": "markdown",
   "metadata": {
    "slideshow": {
     "slide_type": "fragment"
    }
   },
   "source": [
    "$$\n",
    "\\beta = (X^TX)^{-1}X^Ty\n",
    "$$"
   ]
  },
  {
   "cell_type": "markdown",
   "metadata": {
    "slideshow": {
     "slide_type": "slide"
    }
   },
   "source": [
    "## Exercise \n",
    "\n",
    "try to implement the simple OLS using the linear algebra we went through.\n",
    "\n",
    "$$\n",
    "\\beta = (X^TX)^{-1}X^Ty\n",
    "$$\n",
    "\n",
    "Valudate your results using\n",
    "\n",
    "```python\n",
    "np.linalg.lstsq\n",
    "```\n",
    "\n",
    "Create the data using\n",
    "\n",
    "```python\n",
    "n = 200\n",
    "np.random.seed(seed=1)\n",
    "# x co-ordinates\n",
    "x = np.arange(0, n)/100\n",
    "X = np.array([x, np.ones(n)])\n",
    "# linearly generated sequence\n",
    "y = x*10 + np.random.normal(0,3,n)\n",
    "```"
   ]
  }
 ],
 "metadata": {
  "celltoolbar": "Slideshow",
  "kernelspec": {
   "display_name": "Python 3",
   "language": "python",
   "name": "python3"
  },
  "language_info": {
   "codemirror_mode": {
    "name": "ipython",
    "version": 3
   },
   "file_extension": ".py",
   "mimetype": "text/x-python",
   "name": "python",
   "nbconvert_exporter": "python",
   "pygments_lexer": "ipython3",
   "version": "3.6.2"
  }
 },
 "nbformat": 4,
 "nbformat_minor": 2
}
