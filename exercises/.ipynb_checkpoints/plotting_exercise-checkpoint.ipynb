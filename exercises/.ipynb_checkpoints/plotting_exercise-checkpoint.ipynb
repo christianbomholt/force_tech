{
 "cells": [
  {
   "cell_type": "markdown",
   "metadata": {},
   "source": [
    "# Plotting\n",
    "We will be plotting using both `plotly` and `plotly express`.\n",
    "\n",
    "The `plotly express` API can be seen here:\n",
    "https://plot.ly/python/plotly-express/\n",
    "\n",
    "Most `plotly express` plots are on the form:\n",
    "```python\n",
    "px.SOMEPLOT(data, x = \"VAR0\", y = \"VAR1\")\n",
    "```\n",
    "where `VAR0` and `VAR1` are string refering to the column names in `df` that you wish to plot, while `df` is a `pandas` DataFrame.\n",
    "\n",
    "Base `plotly` examples can be found here:\n",
    "https://plot.ly/python/\n",
    "\n",
    "In `plotly` the syntax is different as this builds on a `json` structure and one has to think in the form of dictionaries and list to be able to follow the `plotly` logic. \n",
    "```python\n",
    "fig = go.Figure()\n",
    "fig.add_trace(go.Scatter(x=random_x, y=random_y0,\n",
    "                    mode='lines',\n",
    "                    name='lines'))\n",
    "fig.add_trace(go.Scatter(x=random_x, y=random_y1,\n",
    "                    mode='lines+markers',\n",
    "                    name='lines+markers'))\n",
    "```\n",
    "where each `add_trace` adds an entrance to the `json` that needs to be constructed for the plot to be made."
   ]
  },
  {
   "cell_type": "markdown",
   "metadata": {},
   "source": [
    "## Load libraries\n",
    "Import `plotly.express`. Use the abbreviations shown in the slides:"
   ]
  },
  {
   "cell_type": "code",
   "execution_count": 109,
   "metadata": {},
   "outputs": [],
   "source": [
    "import plotly.express as px"
   ]
  },
  {
   "cell_type": "markdown",
   "metadata": {},
   "source": [
    "## Loading data\n",
    "The dataset `titanic_train.csv` will be used in the first exercises, start out by loading it into a variable called `df`."
   ]
  },
  {
   "cell_type": "code",
   "execution_count": 110,
   "metadata": {},
   "outputs": [],
   "source": [
    "import pandas as pd"
   ]
  },
  {
   "cell_type": "code",
   "execution_count": 111,
   "metadata": {},
   "outputs": [],
   "source": [
    "#ANS\n",
    "df = pd.read_csv('../data/titanic_train.csv')\n",
    "df.head()"
   ]
  },
  {
   "cell_type": "markdown",
   "metadata": {},
   "source": [
    "## Correlation matrix\n",
    "Create a correlation matrix, which shows the correlation between features and plot it using a heatmap: `sns.heatmap`. If you want to rotate the text on the y-axis this can be done with `plt.yticks(rotation=0)` just before showing the plot.\n",
    "\n",
    "HINT: A correlation matrix can be made by applying the `corr` method on a `pandas` dataframe [Link](https://pandas.pydata.org/pandas-docs/stable/reference/api/pandas.DataFrame.corr.html)"
   ]
  },
  {
   "cell_type": "code",
   "execution_count": null,
   "metadata": {},
   "outputs": [],
   "source": []
  },
  {
   "cell_type": "code",
   "execution_count": 112,
   "metadata": {
    "scrolled": false
   },
   "outputs": [],
   "source": [
    "#ANS\n",
    "import plotly.graph_objects as go\n",
    "corr = df.corr()\n",
    "go.Figure(data =\n",
    "        [\n",
    "        go.Heatmap(\n",
    "            # X axis names\n",
    "            x = corr.columns,\n",
    "            y = corr.index,\n",
    "            z = corr,\n",
    "            type = 'heatmap',\n",
    "            colorscale = 'Viridis')\n",
    "        ]\n",
    "    )"
   ]
  },
  {
   "cell_type": "markdown",
   "metadata": {},
   "source": [
    "## Scatter plot\n",
    "Scatter plots are quite useful for visualizing data. Load the `iris.csv` dataset and plot the first two features in a scatter plot. Do it using both `seaborn`'s `lmplot` (`scatterplot` for seaborn 0.9.0 and above) function and `matplotlib`'s `scatter` function."
   ]
  },
  {
   "cell_type": "code",
   "execution_count": 113,
   "metadata": {},
   "outputs": [],
   "source": [
    "#ANS\n",
    "\n",
    "# Load data\n",
    "iris = pd.read_csv('../data/iris.csv', header = 0, sep = \";\", index_col = 0, decimal = \",\")\n",
    "\n",
    "# Plot\n",
    "px.scatter(iris,x = \"Sepal.Length\", y = \"Sepal.Width\", color = \"Species\")"
   ]
  },
  {
   "cell_type": "markdown",
   "metadata": {},
   "source": [
    "## Barplot\n",
    "\n",
    "The barplot takes a category as `x` and a numeric column as `y`. If more than one numeric value exists per category, the barplot will `sum` the entrances yet leaving each obervation seperated by transparrent lines.\n",
    "\n",
    "```python\n",
    "tips = px.data.tips()\n",
    "fig = px.bar(tips, x=\"sex\", y=\"total_bill\", color=\"smoker\", barmode=\"group\")\n",
    "fig.show()\n",
    "```"
   ]
  },
  {
   "cell_type": "markdown",
   "metadata": {},
   "source": [
    "Create a barplot of the survival probability for men and women. Use `px.bar`."
   ]
  },
  {
   "cell_type": "code",
   "execution_count": 114,
   "metadata": {},
   "outputs": [],
   "source": [
    "df_survive = df.groupby([\"Sex\"]).mean().reset_index()\n",
    "# Write your implementation here\n"
   ]
  },
  {
   "cell_type": "code",
   "execution_count": 115,
   "metadata": {},
   "outputs": [],
   "source": [
    "#ANS\n",
    "fig = px.bar(df_survive, x=\"Sex\", y=\"Survived\")\n",
    "fig.show()"
   ]
  },
  {
   "cell_type": "markdown",
   "metadata": {},
   "source": [
    "This involves some data-wrangling, which we might want to avoid.\n",
    "\n",
    "The same can be achived using `histogram` and the `histfunc` where we pass the string `\"avg\"` as the argument."
   ]
  },
  {
   "cell_type": "code",
   "execution_count": null,
   "metadata": {},
   "outputs": [],
   "source": []
  },
  {
   "cell_type": "code",
   "execution_count": 116,
   "metadata": {},
   "outputs": [],
   "source": [
    "#ANS\n",
    "px.histogram(df, x=\"Sex\", y=\"Survived\", histfunc=\"avg\")"
   ]
  },
  {
   "cell_type": "markdown",
   "metadata": {},
   "source": [
    "Try making a histogram for these data using `Age` and `Sex` as the variables"
   ]
  },
  {
   "cell_type": "code",
   "execution_count": null,
   "metadata": {},
   "outputs": [],
   "source": []
  },
  {
   "cell_type": "code",
   "execution_count": 117,
   "metadata": {},
   "outputs": [],
   "source": [
    "#ANS\n",
    "px.histogram(df, x=\"Age\", color=\"Sex\",)"
   ]
  },
  {
   "cell_type": "markdown",
   "metadata": {},
   "source": [
    "Create a plot where the count of `Survived` are showed on the y-axis for both men and women. Use `sns.countplot()`."
   ]
  },
  {
   "cell_type": "markdown",
   "metadata": {},
   "source": [
    "### Pokemon\n",
    "Load the Pokemon dataset from `Pokemon.csv`."
   ]
  },
  {
   "cell_type": "code",
   "execution_count": null,
   "metadata": {},
   "outputs": [],
   "source": []
  },
  {
   "cell_type": "code",
   "execution_count": 118,
   "metadata": {},
   "outputs": [],
   "source": [
    "#ANS\n",
    "poke = pd.read_csv('../data/Pokemon.csv', encoding = 'latin1')"
   ]
  },
  {
   "cell_type": "markdown",
   "metadata": {},
   "source": [
    "Create a histogram showing the mean Attack for each Type 1"
   ]
  },
  {
   "cell_type": "code",
   "execution_count": null,
   "metadata": {},
   "outputs": [],
   "source": []
  },
  {
   "cell_type": "code",
   "execution_count": 119,
   "metadata": {},
   "outputs": [],
   "source": [
    "#ANS\n",
    "px.histogram(poke,y=\"Attack\",x=\"Type 1\", histfunc=\"avg\")\n",
    "\n"
   ]
  },
  {
   "cell_type": "markdown",
   "metadata": {},
   "source": [
    "## Boxplot\n",
    "We will do a couple of boxplots based on the pokemon dataset. "
   ]
  },
  {
   "cell_type": "markdown",
   "metadata": {},
   "source": [
    "Try to create a boxplot of the following stats: Attack, Defense and Speed. If you are unfamiliar with boxplots, you can read more about them here: https://towardsdatascience.com/understanding-boxplots-5e2df7bcbd51\n",
    "Otherwise you can skip to the next exercise."
   ]
  },
  {
   "cell_type": "code",
   "execution_count": 120,
   "metadata": {},
   "outputs": [],
   "source": [
    "poke[\"Type 3\"] =  [x if not pd.isnull(x) else \"Typeless\" for x in poke[\"Type 2\"]]"
   ]
  },
  {
   "cell_type": "code",
   "execution_count": 121,
   "metadata": {},
   "outputs": [],
   "source": [
    "#ANS\n",
    "px.box(poke, x=\"Type 1\", y=\"Attack\", color=\"Type 3\", notched=True)"
   ]
  },
  {
   "cell_type": "markdown",
   "metadata": {},
   "source": [
    "## Create a facet histogram\n",
    "\n",
    "Use the option `facet_row` along with `category_orders` to examine the probability of survival on titanic across social classes using the variable `Pclass`."
   ]
  },
  {
   "cell_type": "code",
   "execution_count": null,
   "metadata": {},
   "outputs": [],
   "source": []
  },
  {
   "cell_type": "code",
   "execution_count": 122,
   "metadata": {},
   "outputs": [],
   "source": [
    "#ANS\n",
    "px.histogram(df, x=\"Sex\", y=\"Survived\", histfunc=\"avg\", barmode=\"group\",\n",
    "             facet_row=\"Pclass\", category_orders={\"Pclass\": [1, 2, 3]})\n"
   ]
  },
  {
   "cell_type": "markdown",
   "metadata": {},
   "source": [
    "## Time series plot\n",
    "Load the `sp500.csv` dataset and make a timeseries plot of the closing price. Try using the candlestick plot,\n",
    "\n",
    "```\n",
    "go.Candlestick(\n",
    "    x=..,\n",
    "    open=.., high=...,\n",
    "    low=..., close=...,\n",
    "    increasing_line_color=color_1,\n",
    "    decreasing_line_color=color_2\n",
    "```\n",
    "is to use the `plot()` function on the individual column of a dataframe, where the dates are loaded as an index column. Use the `parse_dates` argument to do this."
   ]
  },
  {
   "cell_type": "code",
   "execution_count": 123,
   "metadata": {},
   "outputs": [],
   "source": [
    "#ANS\n",
    "\n",
    "# Load data\n",
    "sp = pd.read_csv('../data/sp500.csv', parse_dates = ['Date'], index_col=0)\n",
    "\n",
    "go.Figure(data=[go.Candlestick(\n",
    "    x=sp.index,\n",
    "    open=sp['Open'], high=sp['High'],\n",
    "    low=sp['Low'], close=sp['Close'],\n",
    "    increasing_line_color= 'cyan', decreasing_line_color= 'gray'\n",
    ")])"
   ]
  },
  {
   "cell_type": "markdown",
   "metadata": {},
   "source": [
    "Another approach to plotting time series data is to use the function `px.line` in plotly express.\n",
    "\n",
    "Try to plot the sp500 dataset using this function. \n",
    "\n",
    "Try both using `sp` and `sp_melt` "
   ]
  },
  {
   "cell_type": "code",
   "execution_count": 124,
   "metadata": {},
   "outputs": [],
   "source": [
    "sp_melt = pd.melt(sp.reset_index(), id_vars=\"Date\")\n",
    "\n",
    "sp_melt = sp_melt[sp_melt.variable.isin([\"Open\",\"High\",\"Low\"])]\n",
    "\n",
    "sp = sp.reset_index()"
   ]
  },
  {
   "cell_type": "code",
   "execution_count": 125,
   "metadata": {},
   "outputs": [],
   "source": [
    "#ANS\n",
    "px.line(sp,x=\"Date\",y=\"Open\")\n",
    "\n",
    "px.line(sp_melt, x=\"Date\", y=\"value\", color=\"variable\")"
   ]
  },
  {
   "cell_type": "markdown",
   "metadata": {},
   "source": [
    "# Subplots\n",
    "Now you will create subplots using the `make_subplots` function and pokemon dataset.\n",
    "\n",
    "### Brain scans \n",
    "\n",
    "#### DWI\n",
    "\n",
    "Diffusion-weighted imaging (DWI) is a form of MR imaging based upon measuring the random Brownian motion of water molecules within a voxel of tissue. In general simplified terms, highly cellular tissues or those with cellular swelling exhibit lower diffusion coefficients. Diffusion is particularly useful in tumor characterization and cerebral ischemia. \n",
    "\n",
    "### PWI\n",
    "\n",
    "\n",
    "Perfusion weighted imaging is a term used to denote a variety of MRI techniques able to give insights into the perfusion of tissues by blood. \n",
    "\n",
    "\n",
    "HINTS:\n",
    "- Create the basis of the plots using `make_subplots`\n",
    "- Then add the plots 1 by 1 using `fig.add_trace`\n",
    "- Use the `go.Contour` function - which takes a matrix as `z` value \n",
    "```python\n",
    "    fig = make_subplots(rows=1, cols=2)\n",
    "    fig.add_trace( go.Contour(z=matrix) )\n",
    "```"
   ]
  },
  {
   "cell_type": "code",
   "execution_count": 126,
   "metadata": {},
   "outputs": [],
   "source": [
    "from plotly.subplots import make_subplots\n",
    "\n",
    "pwi=pd.read_csv(\"../data/brain/pwi.csv\",header=None)\n",
    "dwi=pd.read_csv(\"../data/brain/dwi.csv\", header=None)\n"
   ]
  },
  {
   "cell_type": "code",
   "execution_count": 127,
   "metadata": {},
   "outputs": [],
   "source": [
    "#ANS\n",
    "fig = make_subplots(rows=1, cols=2)\n",
    "\n",
    "fig.add_trace(\n",
    "    go.Contour(\n",
    "        z=dwi.values,\n",
    "        colorscale='Viridis' # Electric\n",
    "    ),\n",
    "    row=1, col=1\n",
    ")\n",
    "\n",
    "\n",
    "fig.add_trace(\n",
    "    go.Contour(\n",
    "        z=pwi.values,\n",
    "        colorscale='Viridis', # Electric\n",
    "        coloraxis=None,\n",
    "        showscale=False\n",
    "    ),\n",
    "    row=1, col=2\n",
    ")\n",
    "\n",
    "fig.show()"
   ]
  },
  {
   "cell_type": "markdown",
   "metadata": {},
   "source": [
    "# Bonus exercises"
   ]
  },
  {
   "cell_type": "markdown",
   "metadata": {},
   "source": [
    "Make a surface plot of the `dwi` data using `Surface`"
   ]
  },
  {
   "cell_type": "code",
   "execution_count": null,
   "metadata": {},
   "outputs": [],
   "source": []
  },
  {
   "cell_type": "code",
   "execution_count": 128,
   "metadata": {},
   "outputs": [],
   "source": [
    "#ANS\n",
    "go.Figure(data=[go.Surface(z=dwi.values)])"
   ]
  },
  {
   "cell_type": "markdown",
   "metadata": {},
   "source": [
    "## `if time_left > 0:`\n",
    "Go to the webpage below and follow one of the tutorials, that you find the most relevant:\n",
    "\n",
    "https://plot.ly/python/"
   ]
  },
  {
   "cell_type": "code",
   "execution_count": 129,
   "metadata": {},
   "outputs": [
    {
     "data": {
      "text/html": [
       "<script>\n",
       "function code_hide() {\n",
       "    var cells = IPython.notebook.get_cells()\n",
       "    cells.forEach(function(x){ if(x.get_text().includes(\"#ANS\")){\n",
       "        if (x.get_text().includes(\"#CONFIG\")){\n",
       "\n",
       "        } else{\n",
       "            x.input.hide()\n",
       "            x.output_area.clear_output()\n",
       "        }\n",
       "\n",
       "        \n",
       "    }\n",
       "    })\n",
       "}\n",
       "function code_hide2() {\n",
       "    var cells = IPython.notebook.get_cells();\n",
       "    cells.forEach(function(x){\n",
       "    if( x.cell_type != \"markdown\"){\n",
       "        x.input.show()      \n",
       "    }\n",
       "    \n",
       "        });\n",
       "} \n",
       "$( document ).ready(code_hide);\n",
       "$( document ).ready(code_hide2);\n",
       "</script>\n",
       "<form action=\"javascript:code_hide()\"><input type=\"submit\" value=\"Hide answers\"></form>\n",
       "<form action=\"javascript:code_hide2()\"><input type=\"submit\" value=\"Show answers\"></form>"
      ],
      "text/plain": [
       "<IPython.core.display.HTML object>"
      ]
     },
     "execution_count": 129,
     "metadata": {},
     "output_type": "execute_result"
    }
   ],
   "source": [
    "#CONFIG\n",
    "from IPython.core.display import HTML\n",
    "# Hide code tagged with #ANS\n",
    "HTML('''<script>\n",
    "function code_hide() {\n",
    "    var cells = IPython.notebook.get_cells()\n",
    "    cells.forEach(function(x){ if(x.get_text().includes(\"#ANS\")){\n",
    "        if (x.get_text().includes(\"#CONFIG\")){\n",
    "\n",
    "        } else{\n",
    "            x.input.hide()\n",
    "            x.output_area.clear_output()\n",
    "        }\n",
    "\n",
    "        \n",
    "    }\n",
    "    })\n",
    "}\n",
    "function code_hide2() {\n",
    "    var cells = IPython.notebook.get_cells();\n",
    "    cells.forEach(function(x){\n",
    "    if( x.cell_type != \"markdown\"){\n",
    "        x.input.show()      \n",
    "    }\n",
    "    \n",
    "        });\n",
    "} \n",
    "$( document ).ready(code_hide);\n",
    "$( document ).ready(code_hide2);\n",
    "</script>\n",
    "<form action=\"javascript:code_hide()\"><input type=\"submit\" value=\"Hide answers\"></form>\n",
    "<form action=\"javascript:code_hide2()\"><input type=\"submit\" value=\"Show answers\"></form>''')"
   ]
  },
  {
   "cell_type": "code",
   "execution_count": null,
   "metadata": {},
   "outputs": [],
   "source": []
  }
 ],
 "metadata": {
  "kernelspec": {
   "display_name": "Python 3",
   "language": "python",
   "name": "python3"
  },
  "language_info": {
   "codemirror_mode": {
    "name": "ipython",
    "version": 3
   },
   "file_extension": ".py",
   "mimetype": "text/x-python",
   "name": "python",
   "nbconvert_exporter": "python",
   "pygments_lexer": "ipython3",
   "version": "3.6.2"
  }
 },
 "nbformat": 4,
 "nbformat_minor": 2
}
