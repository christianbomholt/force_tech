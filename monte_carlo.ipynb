{
 "cells": [
  {
   "cell_type": "markdown",
   "metadata": {
    "slideshow": {
     "slide_type": "slide"
    }
   },
   "source": [
    "## Monte carlo methods\n"
   ]
  },
  {
   "cell_type": "markdown",
   "metadata": {
    "slideshow": {
     "slide_type": "fragment"
    }
   },
   "source": [
    "The first thoughts and attempts I made to practice [the Monte Carlo Method] were suggested by a question which occurred to me in 1946 as I was convalescing from an illness and playing solitaires. The question was what are the chances that a Canfield solitaire laid out with 52 cards will come out successfully? After spending a lot of time trying to estimate them by pure combinatorial calculations, I wondered whether a more practical method than \"abstract thinking\" might not be to lay it out say one hundred times and simply observe and count the number of successful plays. This was already possible to envisage with the beginning of the new era of fast computers, and I immediately thought of problems of neutron diffusion and other questions of mathematical physics, and more generally how to a processes described by certain differential equations into an equivalent form interpretable as a succession of random operations. Later [in 1946], I described the idea to John von Neumann, and we began to plan actual calculations.[14]\n",
    "\n",
    "Being secret, the work of von Neumann and Ulam required a code name.[15] A colleague of von Neumann and Ulam, Nicholas Metropolis, suggested using the name Monte Carlo, which refers to the Monte Carlo Casino in Monaco where Ulam's uncle would borrow money from relatives to gamble."
   ]
  },
  {
   "cell_type": "markdown",
   "metadata": {
    "slideshow": {
     "slide_type": "slide"
    }
   },
   "source": [
    "## Standard option pricing based on brownian motion"
   ]
  },
  {
   "cell_type": "markdown",
   "metadata": {
    "slideshow": {
     "slide_type": "fragment"
    }
   },
   "source": [
    "### Problem\n",
    "\n",
    "We will try to consider an asset, say 1 stock in Google.\n",
    "\n",
    "Say we wanted to have the option to buy the Google stock 1 year from now at a price we set today.\n",
    "\n",
    "What is this option worth?\n",
    "\n",
    "#### Formalism\n",
    "\n",
    "Let the following variables denote\n",
    "- $r$ the intrest rate\n",
    "- $K$ the fixed price\n",
    "- $t$ timepoint today\n",
    "- $T$ time in a year\n",
    "- $S_t$ price of the Google stock today\n",
    "\n"
   ]
  },
  {
   "cell_type": "markdown",
   "metadata": {
    "slideshow": {
     "slide_type": "fragment"
    }
   },
   "source": [
    "\\begin{equation*}\n",
    "\\text{Value of option today} = V(S,K,r)  =  e^{-rT}[S_T-K]\n",
    "\\end{equation*}\n",
    "\n",
    "We create an Euler aproximation storing the skeleton of the price path at 52 points (1 for each week).\n",
    "\n",
    "\\begin{equation*}\n",
    "  S(t_i) = S(t_{i-1})e^{(r-1/2 \\sigma^2)\\Delta t_i + \\sigma \\sqrt{\\Delta t_i} N(0,1)}, \\quad i=1,...,p\\end{equation*}\n",
    "\n",
    "We calculate the price using the simulated mean as expectation\n",
    "\n",
    "\\begin{equation*}\n",
    "\\mathbb{E}[V] =  \\frac{1}{R}\\sum_{j=1}^Re^{-rT}\\left[ S_T - K \\right]^+  \n",
    "\\end{equation*}"
   ]
  },
  {
   "cell_type": "markdown",
   "metadata": {
    "slideshow": {
     "slide_type": "slide"
    }
   },
   "source": [
    "## Looking at these concepts in \n",
    "\n",
    "<img src=\"https://www.python.org/static/community_logos/python-logo-master-v3-TM.png\">"
   ]
  },
  {
   "cell_type": "code",
   "execution_count": 1,
   "metadata": {
    "slideshow": {
     "slide_type": "slide"
    }
   },
   "outputs": [
    {
     "data": {
      "text/html": [
       "        <script type=\"text/javascript\">\n",
       "        window.PlotlyConfig = {MathJaxConfig: 'local'};\n",
       "        if (window.MathJax) {MathJax.Hub.Config({SVG: {font: \"STIX-Web\"}});}\n",
       "        if (typeof require !== 'undefined') {\n",
       "        require.undef(\"plotly\");\n",
       "        requirejs.config({\n",
       "            paths: {\n",
       "                'plotly': ['https://cdn.plot.ly/plotly-latest.min']\n",
       "            }\n",
       "        });\n",
       "        require(['plotly'], function(Plotly) {\n",
       "            window._Plotly = Plotly;\n",
       "        });\n",
       "        }\n",
       "        </script>\n",
       "        "
      ]
     },
     "metadata": {},
     "output_type": "display_data"
    }
   ],
   "source": [
    "import numpy as np\n",
    "import matplotlib.pyplot as plt\n",
    "from tqdm import tqdm\n",
    "import plotly_express as px\n",
    "\n",
    "import pandas as pd\n",
    "\n",
    "from plotly.offline import iplot,init_notebook_mode\n",
    "\n",
    "init_notebook_mode\n",
    "\n",
    "init_notebook_mode(connected=True)"
   ]
  },
  {
   "cell_type": "markdown",
   "metadata": {
    "slideshow": {
     "slide_type": "fragment"
    }
   },
   "source": [
    "<img src=\"https://raw.githubusercontent.com/tqdm/tqdm/master/images/logo.gif\">"
   ]
  },
  {
   "cell_type": "code",
   "execution_count": 5,
   "metadata": {
    "slideshow": {
     "slide_type": "slide"
    }
   },
   "outputs": [
    {
     "name": "stderr",
     "output_type": "stream",
     "text": [
      "100%|██████████| 1000/1000 [00:00<00:00, 2778.88it/s]\n"
     ]
    }
   ],
   "source": [
    "repetitions = 1000\n",
    "\n",
    "start_price = 100\n",
    "\n",
    "intrest = 0.05\n",
    "volatility = 0.1\n",
    "timestep = 0.1\n",
    "end_time = 10\n",
    "timesteps = int(end_time/timestep)\n",
    "size = (timesteps,repetitions)\n",
    "S = np.ones(size)*100\n",
    "N = np.random.normal(size=size)\n",
    "\n",
    "for experiment in tqdm(range(repetitions)):\n",
    "    for time in range(timesteps-1):\n",
    "        growth = np.exp (\n",
    "            ( intrest -0.5* volatility**2 ) * timestep +\n",
    "            volatility * np.sqrt ( timestep ) * N [ time, experiment ]\n",
    "        )\n",
    "        S [time +1,experiment] = S [time ,experiment] * growth\n"
   ]
  },
  {
   "cell_type": "code",
   "execution_count": 6,
   "metadata": {
    "slideshow": {
     "slide_type": "slide"
    }
   },
   "outputs": [
    {
     "data": {
      "application/vnd.plotly.v1+json": {
       "config": {
        "plotlyServerURL": "https://plot.ly"
       },
       "data": [
        {
         "hoverlabel": {
          "namelength": 0
         },
         "hovertemplate": "<b>%{hovertext}</b><br><br>variable=stock_trial_1<br>time=%{x}<br>value=%{y}",
         "hovertext": [
          "stock_trial_1",
          "stock_trial_1",
          "stock_trial_1",
          "stock_trial_1",
          "stock_trial_1",
          "stock_trial_1",
          "stock_trial_1",
          "stock_trial_1",
          "stock_trial_1",
          "stock_trial_1",
          "stock_trial_1",
          "stock_trial_1",
          "stock_trial_1",
          "stock_trial_1",
          "stock_trial_1",
          "stock_trial_1",
          "stock_trial_1",
          "stock_trial_1",
          "stock_trial_1",
          "stock_trial_1",
          "stock_trial_1",
          "stock_trial_1",
          "stock_trial_1",
          "stock_trial_1",
          "stock_trial_1",
          "stock_trial_1",
          "stock_trial_1",
          "stock_trial_1",
          "stock_trial_1",
          "stock_trial_1",
          "stock_trial_1",
          "stock_trial_1",
          "stock_trial_1",
          "stock_trial_1",
          "stock_trial_1",
          "stock_trial_1",
          "stock_trial_1",
          "stock_trial_1",
          "stock_trial_1",
          "stock_trial_1",
          "stock_trial_1",
          "stock_trial_1",
          "stock_trial_1",
          "stock_trial_1",
          "stock_trial_1",
          "stock_trial_1",
          "stock_trial_1",
          "stock_trial_1",
          "stock_trial_1",
          "stock_trial_1",
          "stock_trial_1",
          "stock_trial_1",
          "stock_trial_1",
          "stock_trial_1",
          "stock_trial_1",
          "stock_trial_1",
          "stock_trial_1",
          "stock_trial_1",
          "stock_trial_1",
          "stock_trial_1",
          "stock_trial_1",
          "stock_trial_1",
          "stock_trial_1",
          "stock_trial_1",
          "stock_trial_1",
          "stock_trial_1",
          "stock_trial_1",
          "stock_trial_1",
          "stock_trial_1",
          "stock_trial_1",
          "stock_trial_1",
          "stock_trial_1",
          "stock_trial_1",
          "stock_trial_1",
          "stock_trial_1",
          "stock_trial_1",
          "stock_trial_1",
          "stock_trial_1",
          "stock_trial_1",
          "stock_trial_1",
          "stock_trial_1",
          "stock_trial_1",
          "stock_trial_1",
          "stock_trial_1",
          "stock_trial_1",
          "stock_trial_1",
          "stock_trial_1",
          "stock_trial_1",
          "stock_trial_1",
          "stock_trial_1",
          "stock_trial_1",
          "stock_trial_1",
          "stock_trial_1",
          "stock_trial_1",
          "stock_trial_1",
          "stock_trial_1",
          "stock_trial_1",
          "stock_trial_1",
          "stock_trial_1",
          "stock_trial_1"
         ],
         "legendgroup": "variable=stock_trial_1",
         "line": {
          "color": "#636efa",
          "dash": "solid",
          "shape": "spline"
         },
         "mode": "lines",
         "name": "variable=stock_trial_1",
         "showlegend": true,
         "type": "scatter",
         "x": [
          0,
          1,
          2,
          3,
          4,
          5,
          6,
          7,
          8,
          9,
          10,
          11,
          12,
          13,
          14,
          15,
          16,
          17,
          18,
          19,
          20,
          21,
          22,
          23,
          24,
          25,
          26,
          27,
          28,
          29,
          30,
          31,
          32,
          33,
          34,
          35,
          36,
          37,
          38,
          39,
          40,
          41,
          42,
          43,
          44,
          45,
          46,
          47,
          48,
          49,
          50,
          51,
          52,
          53,
          54,
          55,
          56,
          57,
          58,
          59,
          60,
          61,
          62,
          63,
          64,
          65,
          66,
          67,
          68,
          69,
          70,
          71,
          72,
          73,
          74,
          75,
          76,
          77,
          78,
          79,
          80,
          81,
          82,
          83,
          84,
          85,
          86,
          87,
          88,
          89,
          90,
          91,
          92,
          93,
          94,
          95,
          96,
          97,
          98,
          99
         ],
         "xaxis": "x",
         "y": [
          100,
          103.79974636682982,
          101.89821056403592,
          102.45285141597195,
          98.52925085918854,
          95.7500504683907,
          96.58718326413488,
          91.20319295670429,
          87.72482924216726,
          85.44705994629538,
          84.87867810094214,
          83.22582294007698,
          84.51098115356561,
          81.3468509086042,
          82.30973076017361,
          84.92031266834901,
          82.16311264314355,
          79.35516189304444,
          75.66143315105843,
          76.89750136109555,
          78.87868336692873,
          82.55404576875837,
          86.13056315129047,
          80.96414171824827,
          85.09538841120242,
          83.80791505325071,
          80.89921939929795,
          85.29676753719417,
          87.24143083352646,
          85.32376064907322,
          85.43364670887331,
          83.01554739542351,
          77.64079460264526,
          79.13987539825456,
          81.820350530513,
          84.98998805194529,
          84.74157146357136,
          83.54808433133377,
          81.31471547214906,
          78.09680828537135,
          78.75981237797762,
          82.40257805315784,
          83.89924275472593,
          84.8803175303715,
          85.47608978438751,
          87.20220070218753,
          91.18207555708433,
          96.44796707125063,
          95.73963570598656,
          100.20839327224981,
          102.21296880236622,
          97.94481537731639,
          101.67505130407895,
          99.32929536324978,
          103.30913895784718,
          104.69496958551933,
          110.64325076522054,
          107.10905927788946,
          110.9129710190087,
          113.66767520006597,
          109.87189837613724,
          114.99271130256047,
          109.80951565737888,
          109.92149057408855,
          105.73575605150151,
          103.35130841644103,
          101.82822767867785,
          94.62165284889159,
          99.14345871995553,
          94.94776351223126,
          97.5526183277165,
          92.18061743988336,
          93.23756826692876,
          94.18585434018192,
          98.40147417962578,
          93.77799827249417,
          96.55849378525815,
          95.09478855652547,
          95.42317052819067,
          98.63031641863394,
          100.40180820964721,
          101.66972404867315,
          110.23370870826487,
          107.18962033441454,
          108.57286686896177,
          112.0590573042875,
          109.36646760779554,
          105.20574533028024,
          107.89286012261316,
          108.67626639504488,
          111.01117715612556,
          118.33203004920571,
          120.56569756327092,
          122.22176582385188,
          118.44904338970554,
          113.7314218508584,
          110.6629704113887,
          106.31690123705226,
          104.85150125582564,
          111.53854891142014
         ],
         "yaxis": "y"
        },
        {
         "hoverlabel": {
          "namelength": 0
         },
         "hovertemplate": "<b>%{hovertext}</b><br><br>variable=stock_trial_2<br>time=%{x}<br>value=%{y}",
         "hovertext": [
          "stock_trial_2",
          "stock_trial_2",
          "stock_trial_2",
          "stock_trial_2",
          "stock_trial_2",
          "stock_trial_2",
          "stock_trial_2",
          "stock_trial_2",
          "stock_trial_2",
          "stock_trial_2",
          "stock_trial_2",
          "stock_trial_2",
          "stock_trial_2",
          "stock_trial_2",
          "stock_trial_2",
          "stock_trial_2",
          "stock_trial_2",
          "stock_trial_2",
          "stock_trial_2",
          "stock_trial_2",
          "stock_trial_2",
          "stock_trial_2",
          "stock_trial_2",
          "stock_trial_2",
          "stock_trial_2",
          "stock_trial_2",
          "stock_trial_2",
          "stock_trial_2",
          "stock_trial_2",
          "stock_trial_2",
          "stock_trial_2",
          "stock_trial_2",
          "stock_trial_2",
          "stock_trial_2",
          "stock_trial_2",
          "stock_trial_2",
          "stock_trial_2",
          "stock_trial_2",
          "stock_trial_2",
          "stock_trial_2",
          "stock_trial_2",
          "stock_trial_2",
          "stock_trial_2",
          "stock_trial_2",
          "stock_trial_2",
          "stock_trial_2",
          "stock_trial_2",
          "stock_trial_2",
          "stock_trial_2",
          "stock_trial_2",
          "stock_trial_2",
          "stock_trial_2",
          "stock_trial_2",
          "stock_trial_2",
          "stock_trial_2",
          "stock_trial_2",
          "stock_trial_2",
          "stock_trial_2",
          "stock_trial_2",
          "stock_trial_2",
          "stock_trial_2",
          "stock_trial_2",
          "stock_trial_2",
          "stock_trial_2",
          "stock_trial_2",
          "stock_trial_2",
          "stock_trial_2",
          "stock_trial_2",
          "stock_trial_2",
          "stock_trial_2",
          "stock_trial_2",
          "stock_trial_2",
          "stock_trial_2",
          "stock_trial_2",
          "stock_trial_2",
          "stock_trial_2",
          "stock_trial_2",
          "stock_trial_2",
          "stock_trial_2",
          "stock_trial_2",
          "stock_trial_2",
          "stock_trial_2",
          "stock_trial_2",
          "stock_trial_2",
          "stock_trial_2",
          "stock_trial_2",
          "stock_trial_2",
          "stock_trial_2",
          "stock_trial_2",
          "stock_trial_2",
          "stock_trial_2",
          "stock_trial_2",
          "stock_trial_2",
          "stock_trial_2",
          "stock_trial_2",
          "stock_trial_2",
          "stock_trial_2",
          "stock_trial_2",
          "stock_trial_2",
          "stock_trial_2"
         ],
         "legendgroup": "variable=stock_trial_2",
         "line": {
          "color": "#EF553B",
          "dash": "solid",
          "shape": "spline"
         },
         "mode": "lines",
         "name": "variable=stock_trial_2",
         "showlegend": true,
         "type": "scatter",
         "x": [
          0,
          1,
          2,
          3,
          4,
          5,
          6,
          7,
          8,
          9,
          10,
          11,
          12,
          13,
          14,
          15,
          16,
          17,
          18,
          19,
          20,
          21,
          22,
          23,
          24,
          25,
          26,
          27,
          28,
          29,
          30,
          31,
          32,
          33,
          34,
          35,
          36,
          37,
          38,
          39,
          40,
          41,
          42,
          43,
          44,
          45,
          46,
          47,
          48,
          49,
          50,
          51,
          52,
          53,
          54,
          55,
          56,
          57,
          58,
          59,
          60,
          61,
          62,
          63,
          64,
          65,
          66,
          67,
          68,
          69,
          70,
          71,
          72,
          73,
          74,
          75,
          76,
          77,
          78,
          79,
          80,
          81,
          82,
          83,
          84,
          85,
          86,
          87,
          88,
          89,
          90,
          91,
          92,
          93,
          94,
          95,
          96,
          97,
          98,
          99
         ],
         "xaxis": "x",
         "y": [
          100,
          101.11529002423272,
          101.70289882899165,
          98.70826305258076,
          103.50880776439993,
          108.42051870194804,
          105.94859673187025,
          110.49193688712325,
          112.75485651941094,
          112.88569592702358,
          114.00266304520173,
          117.84619450045889,
          120.27152710048182,
          117.18401094028944,
          123.37767870057876,
          124.49368829170601,
          123.63895814683171,
          125.29473339127271,
          122.37672903881771,
          118.68618874134182,
          119.93935384942253,
          113.47439736658666,
          112.2164132944928,
          117.81593187063217,
          121.18418346698338,
          116.64578843670068,
          116.6275582071537,
          119.8625603746544,
          125.64628583747403,
          130.6633176295027,
          133.55811258388096,
          132.09781923382147,
          127.66813778750495,
          125.87165210941818,
          129.1362287059453,
          122.0982838594606,
          127.82918463958731,
          126.84114434344417,
          129.13348993381027,
          130.7541499080395,
          124.66402429198325,
          124.77280392095257,
          123.44221510919671,
          122.67602694360649,
          119.53441528957605,
          122.2469870966638,
          122.99535881963376,
          120.08335682294452,
          114.26696893102138,
          102.86347750994669,
          107.05806819855658,
          102.18760051273861,
          103.55200979950216,
          104.73799868833682,
          107.98889748265293,
          107.7122898633315,
          108.73848065509881,
          107.08745820757792,
          105.53303303717105,
          109.49733861926475,
          112.72987145931745,
          113.7421558240038,
          117.48757401075582,
          117.5728849892479,
          116.54920680251219,
          112.26411053255869,
          108.12588914256729,
          110.56846819119926,
          111.74776519294711,
          114.23615103874778,
          111.32836482432394,
          117.04405382911634,
          114.64437177474048,
          117.3914840021057,
          120.2690595388882,
          124.83960304568544,
          120.5249925490935,
          117.38596796794947,
          114.16288000391096,
          114.68849251042457,
          122.88148947007011,
          122.77927713038046,
          119.286432765039,
          117.32620219742343,
          117.98393101290229,
          123.07268981599998,
          123.25414501747427,
          122.2185382544305,
          123.8779636073589,
          119.08313814283161,
          120.07273654192521,
          118.58519800059817,
          122.60617902919849,
          121.71999055508473,
          118.15331618465329,
          122.1352067483667,
          117.8561643921383,
          119.74553841067967,
          125.0802050925601,
          120.74429097821431
         ],
         "yaxis": "y"
        },
        {
         "hoverlabel": {
          "namelength": 0
         },
         "hovertemplate": "<b>%{hovertext}</b><br><br>variable=stock_trial_3<br>time=%{x}<br>value=%{y}",
         "hovertext": [
          "stock_trial_3",
          "stock_trial_3",
          "stock_trial_3",
          "stock_trial_3",
          "stock_trial_3",
          "stock_trial_3",
          "stock_trial_3",
          "stock_trial_3",
          "stock_trial_3",
          "stock_trial_3",
          "stock_trial_3",
          "stock_trial_3",
          "stock_trial_3",
          "stock_trial_3",
          "stock_trial_3",
          "stock_trial_3",
          "stock_trial_3",
          "stock_trial_3",
          "stock_trial_3",
          "stock_trial_3",
          "stock_trial_3",
          "stock_trial_3",
          "stock_trial_3",
          "stock_trial_3",
          "stock_trial_3",
          "stock_trial_3",
          "stock_trial_3",
          "stock_trial_3",
          "stock_trial_3",
          "stock_trial_3",
          "stock_trial_3",
          "stock_trial_3",
          "stock_trial_3",
          "stock_trial_3",
          "stock_trial_3",
          "stock_trial_3",
          "stock_trial_3",
          "stock_trial_3",
          "stock_trial_3",
          "stock_trial_3",
          "stock_trial_3",
          "stock_trial_3",
          "stock_trial_3",
          "stock_trial_3",
          "stock_trial_3",
          "stock_trial_3",
          "stock_trial_3",
          "stock_trial_3",
          "stock_trial_3",
          "stock_trial_3",
          "stock_trial_3",
          "stock_trial_3",
          "stock_trial_3",
          "stock_trial_3",
          "stock_trial_3",
          "stock_trial_3",
          "stock_trial_3",
          "stock_trial_3",
          "stock_trial_3",
          "stock_trial_3",
          "stock_trial_3",
          "stock_trial_3",
          "stock_trial_3",
          "stock_trial_3",
          "stock_trial_3",
          "stock_trial_3",
          "stock_trial_3",
          "stock_trial_3",
          "stock_trial_3",
          "stock_trial_3",
          "stock_trial_3",
          "stock_trial_3",
          "stock_trial_3",
          "stock_trial_3",
          "stock_trial_3",
          "stock_trial_3",
          "stock_trial_3",
          "stock_trial_3",
          "stock_trial_3",
          "stock_trial_3",
          "stock_trial_3",
          "stock_trial_3",
          "stock_trial_3",
          "stock_trial_3",
          "stock_trial_3",
          "stock_trial_3",
          "stock_trial_3",
          "stock_trial_3",
          "stock_trial_3",
          "stock_trial_3",
          "stock_trial_3",
          "stock_trial_3",
          "stock_trial_3",
          "stock_trial_3",
          "stock_trial_3",
          "stock_trial_3",
          "stock_trial_3",
          "stock_trial_3",
          "stock_trial_3",
          "stock_trial_3"
         ],
         "legendgroup": "variable=stock_trial_3",
         "line": {
          "color": "#00cc96",
          "dash": "solid",
          "shape": "spline"
         },
         "mode": "lines",
         "name": "variable=stock_trial_3",
         "showlegend": true,
         "type": "scatter",
         "x": [
          0,
          1,
          2,
          3,
          4,
          5,
          6,
          7,
          8,
          9,
          10,
          11,
          12,
          13,
          14,
          15,
          16,
          17,
          18,
          19,
          20,
          21,
          22,
          23,
          24,
          25,
          26,
          27,
          28,
          29,
          30,
          31,
          32,
          33,
          34,
          35,
          36,
          37,
          38,
          39,
          40,
          41,
          42,
          43,
          44,
          45,
          46,
          47,
          48,
          49,
          50,
          51,
          52,
          53,
          54,
          55,
          56,
          57,
          58,
          59,
          60,
          61,
          62,
          63,
          64,
          65,
          66,
          67,
          68,
          69,
          70,
          71,
          72,
          73,
          74,
          75,
          76,
          77,
          78,
          79,
          80,
          81,
          82,
          83,
          84,
          85,
          86,
          87,
          88,
          89,
          90,
          91,
          92,
          93,
          94,
          95,
          96,
          97,
          98,
          99
         ],
         "xaxis": "x",
         "y": [
          100,
          101.7215878577687,
          94.70227376456002,
          96.71343805621909,
          101.67524509892644,
          99.4174197730007,
          99.68798803988122,
          102.26662985301893,
          101.32728615862966,
          98.22437059682841,
          95.14476608578627,
          90.34372816175726,
          90.61070421274954,
          84.6547184516399,
          88.1595433000513,
          87.86895442774988,
          82.52319918845187,
          80.98766640777663,
          83.82966631177885,
          83.4665427283606,
          82.65755751396242,
          81.29430576592512,
          80.53937509768839,
          78.93339411487463,
          81.73211687544476,
          79.7020842412538,
          79.72038907632425,
          80.19889878853412,
          82.7264849237403,
          83.49664155225622,
          80.67854336110685,
          84.58106547622377,
          83.9709062565819,
          82.1763182339672,
          82.55772661996126,
          84.0336121610889,
          82.47335587723217,
          78.5174377433694,
          80.19223008040375,
          84.44588553812426,
          83.50453342079814,
          80.87009223376754,
          81.00746187931266,
          80.51783814861139,
          79.50320184679467,
          80.37118459607493,
          81.16007140965495,
          76.9095147419611,
          76.05333513531103,
          74.36852653759897,
          72.39341314342309,
          70.73046148906015,
          72.755380192616,
          74.27277463833299,
          72.85493426514805,
          77.35398386584627,
          78.35053422929336,
          78.77327392871078,
          78.90116696132097,
          77.38357862574955,
          74.80202758886065,
          74.04136484944806,
          76.17301579927185,
          74.807111092539,
          74.26284718389304,
          74.11468196739354,
          74.1967780073995,
          73.07512735203261,
          77.24028900302903,
          77.53244921128542,
          73.11691670742782,
          75.14507053179126,
          78.0237892884202,
          78.73714344951499,
          79.14336200552987,
          80.19530507223327,
          81.61102049404765,
          85.53903856909882,
          86.27730398087606,
          82.62796857102146,
          87.11973573717567,
          90.07467180657515,
          89.70326145967024,
          94.77042374312103,
          97.43760880212444,
          98.8672027554533,
          100.2583886929531,
          102.41929425804082,
          107.42469814357283,
          112.35953444314646,
          107.51816666216257,
          101.4382845987128,
          103.57452165321351,
          107.73899169409789,
          109.66887247990731,
          113.07642471928078,
          113.35294403342941,
          113.43442056078932,
          114.09038061189278,
          112.20367260000792
         ],
         "yaxis": "y"
        },
        {
         "hoverlabel": {
          "namelength": 0
         },
         "hovertemplate": "<b>%{hovertext}</b><br><br>variable=stock_trial_4<br>time=%{x}<br>value=%{y}",
         "hovertext": [
          "stock_trial_4",
          "stock_trial_4",
          "stock_trial_4",
          "stock_trial_4",
          "stock_trial_4",
          "stock_trial_4",
          "stock_trial_4",
          "stock_trial_4",
          "stock_trial_4",
          "stock_trial_4",
          "stock_trial_4",
          "stock_trial_4",
          "stock_trial_4",
          "stock_trial_4",
          "stock_trial_4",
          "stock_trial_4",
          "stock_trial_4",
          "stock_trial_4",
          "stock_trial_4",
          "stock_trial_4",
          "stock_trial_4",
          "stock_trial_4",
          "stock_trial_4",
          "stock_trial_4",
          "stock_trial_4",
          "stock_trial_4",
          "stock_trial_4",
          "stock_trial_4",
          "stock_trial_4",
          "stock_trial_4",
          "stock_trial_4",
          "stock_trial_4",
          "stock_trial_4",
          "stock_trial_4",
          "stock_trial_4",
          "stock_trial_4",
          "stock_trial_4",
          "stock_trial_4",
          "stock_trial_4",
          "stock_trial_4",
          "stock_trial_4",
          "stock_trial_4",
          "stock_trial_4",
          "stock_trial_4",
          "stock_trial_4",
          "stock_trial_4",
          "stock_trial_4",
          "stock_trial_4",
          "stock_trial_4",
          "stock_trial_4",
          "stock_trial_4",
          "stock_trial_4",
          "stock_trial_4",
          "stock_trial_4",
          "stock_trial_4",
          "stock_trial_4",
          "stock_trial_4",
          "stock_trial_4",
          "stock_trial_4",
          "stock_trial_4",
          "stock_trial_4",
          "stock_trial_4",
          "stock_trial_4",
          "stock_trial_4",
          "stock_trial_4",
          "stock_trial_4",
          "stock_trial_4",
          "stock_trial_4",
          "stock_trial_4",
          "stock_trial_4",
          "stock_trial_4",
          "stock_trial_4",
          "stock_trial_4",
          "stock_trial_4",
          "stock_trial_4",
          "stock_trial_4",
          "stock_trial_4",
          "stock_trial_4",
          "stock_trial_4",
          "stock_trial_4",
          "stock_trial_4",
          "stock_trial_4",
          "stock_trial_4",
          "stock_trial_4",
          "stock_trial_4",
          "stock_trial_4",
          "stock_trial_4",
          "stock_trial_4",
          "stock_trial_4",
          "stock_trial_4",
          "stock_trial_4",
          "stock_trial_4",
          "stock_trial_4",
          "stock_trial_4",
          "stock_trial_4",
          "stock_trial_4",
          "stock_trial_4",
          "stock_trial_4",
          "stock_trial_4",
          "stock_trial_4"
         ],
         "legendgroup": "variable=stock_trial_4",
         "line": {
          "color": "#ab63fa",
          "dash": "solid",
          "shape": "spline"
         },
         "mode": "lines",
         "name": "variable=stock_trial_4",
         "showlegend": true,
         "type": "scatter",
         "x": [
          0,
          1,
          2,
          3,
          4,
          5,
          6,
          7,
          8,
          9,
          10,
          11,
          12,
          13,
          14,
          15,
          16,
          17,
          18,
          19,
          20,
          21,
          22,
          23,
          24,
          25,
          26,
          27,
          28,
          29,
          30,
          31,
          32,
          33,
          34,
          35,
          36,
          37,
          38,
          39,
          40,
          41,
          42,
          43,
          44,
          45,
          46,
          47,
          48,
          49,
          50,
          51,
          52,
          53,
          54,
          55,
          56,
          57,
          58,
          59,
          60,
          61,
          62,
          63,
          64,
          65,
          66,
          67,
          68,
          69,
          70,
          71,
          72,
          73,
          74,
          75,
          76,
          77,
          78,
          79,
          80,
          81,
          82,
          83,
          84,
          85,
          86,
          87,
          88,
          89,
          90,
          91,
          92,
          93,
          94,
          95,
          96,
          97,
          98,
          99
         ],
         "xaxis": "x",
         "y": [
          100,
          105.8063646780663,
          103.52024257479229,
          109.80955418184355,
          113.00331851378233,
          119.0320633423339,
          118.69206711639038,
          120.34911729233616,
          122.08489510815089,
          117.49307559091011,
          111.84616348499674,
          112.05820083231497,
          112.38803353277893,
          119.29616881790538,
          121.15656336231937,
          121.40792074868251,
          121.5573639294302,
          125.39955301560995,
          126.2175616311439,
          129.4430965535688,
          122.01310707937303,
          125.08913121214736,
          121.89468545140754,
          129.11485506946312,
          130.894672750969,
          134.20503030677463,
          141.80132325163672,
          147.09209953793965,
          148.8923096601952,
          145.64201911723006,
          150.56970588725784,
          148.56738843153488,
          148.71915099380706,
          141.78020101170213,
          137.36049811452722,
          139.5500144555498,
          147.40016287259738,
          141.6538865821115,
          142.27445051238686,
          135.29825248231666,
          129.43992687627275,
          140.01680170844864,
          148.37968631029483,
          146.55350857982842,
          141.5071913167899,
          138.32352727525605,
          126.86264058255703,
          124.9126401622059,
          127.87718675238071,
          129.16139246414326,
          131.596530112684,
          131.40991691222874,
          131.81029704547547,
          137.05083671891185,
          132.04707054902383,
          134.56015634980577,
          133.08571941460247,
          138.85766756125398,
          147.12881005326855,
          154.399245857623,
          159.89484798074622,
          159.75795442820976,
          164.79242938422843,
          159.73492735722334,
          151.68205590313528,
          142.24410577223347,
          141.7007193209553,
          143.92628991149982,
          149.37467737845012,
          146.19656264601218,
          147.6344347988795,
          149.89019479170014,
          155.9316889224594,
          156.78331391102353,
          156.09786249358837,
          170.69459101784548,
          161.8496254875085,
          168.92079068037089,
          173.1205727023013,
          174.278190994324,
          181.08782003616724,
          185.66144003036115,
          195.80334562276076,
          189.60278529755848,
          191.66365439962064,
          190.11816763313098,
          196.29879358259902,
          201.46289081429555,
          196.66150755495892,
          200.3414714373018,
          207.3173718336194,
          204.43550372983944,
          204.6171730344323,
          198.08821692715597,
          195.37276633023453,
          195.45175341861395,
          194.02284846041422,
          197.58581228643618,
          191.92465439251782,
          190.69634690798924
         ],
         "yaxis": "y"
        }
       ],
       "layout": {
        "height": 600,
        "legend": {
         "tracegroupgap": 0
        },
        "margin": {
         "t": 60
        },
        "template": {
         "data": {
          "bar": [
           {
            "error_x": {
             "color": "#2a3f5f"
            },
            "error_y": {
             "color": "#2a3f5f"
            },
            "marker": {
             "line": {
              "color": "#E5ECF6",
              "width": 0.5
             }
            },
            "type": "bar"
           }
          ],
          "barpolar": [
           {
            "marker": {
             "line": {
              "color": "#E5ECF6",
              "width": 0.5
             }
            },
            "type": "barpolar"
           }
          ],
          "carpet": [
           {
            "aaxis": {
             "endlinecolor": "#2a3f5f",
             "gridcolor": "white",
             "linecolor": "white",
             "minorgridcolor": "white",
             "startlinecolor": "#2a3f5f"
            },
            "baxis": {
             "endlinecolor": "#2a3f5f",
             "gridcolor": "white",
             "linecolor": "white",
             "minorgridcolor": "white",
             "startlinecolor": "#2a3f5f"
            },
            "type": "carpet"
           }
          ],
          "choropleth": [
           {
            "colorbar": {
             "outlinewidth": 0,
             "ticks": ""
            },
            "type": "choropleth"
           }
          ],
          "contour": [
           {
            "colorbar": {
             "outlinewidth": 0,
             "ticks": ""
            },
            "colorscale": [
             [
              0,
              "#0d0887"
             ],
             [
              0.1111111111111111,
              "#46039f"
             ],
             [
              0.2222222222222222,
              "#7201a8"
             ],
             [
              0.3333333333333333,
              "#9c179e"
             ],
             [
              0.4444444444444444,
              "#bd3786"
             ],
             [
              0.5555555555555556,
              "#d8576b"
             ],
             [
              0.6666666666666666,
              "#ed7953"
             ],
             [
              0.7777777777777778,
              "#fb9f3a"
             ],
             [
              0.8888888888888888,
              "#fdca26"
             ],
             [
              1,
              "#f0f921"
             ]
            ],
            "type": "contour"
           }
          ],
          "contourcarpet": [
           {
            "colorbar": {
             "outlinewidth": 0,
             "ticks": ""
            },
            "type": "contourcarpet"
           }
          ],
          "heatmap": [
           {
            "colorbar": {
             "outlinewidth": 0,
             "ticks": ""
            },
            "colorscale": [
             [
              0,
              "#0d0887"
             ],
             [
              0.1111111111111111,
              "#46039f"
             ],
             [
              0.2222222222222222,
              "#7201a8"
             ],
             [
              0.3333333333333333,
              "#9c179e"
             ],
             [
              0.4444444444444444,
              "#bd3786"
             ],
             [
              0.5555555555555556,
              "#d8576b"
             ],
             [
              0.6666666666666666,
              "#ed7953"
             ],
             [
              0.7777777777777778,
              "#fb9f3a"
             ],
             [
              0.8888888888888888,
              "#fdca26"
             ],
             [
              1,
              "#f0f921"
             ]
            ],
            "type": "heatmap"
           }
          ],
          "heatmapgl": [
           {
            "colorbar": {
             "outlinewidth": 0,
             "ticks": ""
            },
            "colorscale": [
             [
              0,
              "#0d0887"
             ],
             [
              0.1111111111111111,
              "#46039f"
             ],
             [
              0.2222222222222222,
              "#7201a8"
             ],
             [
              0.3333333333333333,
              "#9c179e"
             ],
             [
              0.4444444444444444,
              "#bd3786"
             ],
             [
              0.5555555555555556,
              "#d8576b"
             ],
             [
              0.6666666666666666,
              "#ed7953"
             ],
             [
              0.7777777777777778,
              "#fb9f3a"
             ],
             [
              0.8888888888888888,
              "#fdca26"
             ],
             [
              1,
              "#f0f921"
             ]
            ],
            "type": "heatmapgl"
           }
          ],
          "histogram": [
           {
            "marker": {
             "colorbar": {
              "outlinewidth": 0,
              "ticks": ""
             }
            },
            "type": "histogram"
           }
          ],
          "histogram2d": [
           {
            "colorbar": {
             "outlinewidth": 0,
             "ticks": ""
            },
            "colorscale": [
             [
              0,
              "#0d0887"
             ],
             [
              0.1111111111111111,
              "#46039f"
             ],
             [
              0.2222222222222222,
              "#7201a8"
             ],
             [
              0.3333333333333333,
              "#9c179e"
             ],
             [
              0.4444444444444444,
              "#bd3786"
             ],
             [
              0.5555555555555556,
              "#d8576b"
             ],
             [
              0.6666666666666666,
              "#ed7953"
             ],
             [
              0.7777777777777778,
              "#fb9f3a"
             ],
             [
              0.8888888888888888,
              "#fdca26"
             ],
             [
              1,
              "#f0f921"
             ]
            ],
            "type": "histogram2d"
           }
          ],
          "histogram2dcontour": [
           {
            "colorbar": {
             "outlinewidth": 0,
             "ticks": ""
            },
            "colorscale": [
             [
              0,
              "#0d0887"
             ],
             [
              0.1111111111111111,
              "#46039f"
             ],
             [
              0.2222222222222222,
              "#7201a8"
             ],
             [
              0.3333333333333333,
              "#9c179e"
             ],
             [
              0.4444444444444444,
              "#bd3786"
             ],
             [
              0.5555555555555556,
              "#d8576b"
             ],
             [
              0.6666666666666666,
              "#ed7953"
             ],
             [
              0.7777777777777778,
              "#fb9f3a"
             ],
             [
              0.8888888888888888,
              "#fdca26"
             ],
             [
              1,
              "#f0f921"
             ]
            ],
            "type": "histogram2dcontour"
           }
          ],
          "mesh3d": [
           {
            "colorbar": {
             "outlinewidth": 0,
             "ticks": ""
            },
            "type": "mesh3d"
           }
          ],
          "parcoords": [
           {
            "line": {
             "colorbar": {
              "outlinewidth": 0,
              "ticks": ""
             }
            },
            "type": "parcoords"
           }
          ],
          "scatter": [
           {
            "marker": {
             "colorbar": {
              "outlinewidth": 0,
              "ticks": ""
             }
            },
            "type": "scatter"
           }
          ],
          "scatter3d": [
           {
            "line": {
             "colorbar": {
              "outlinewidth": 0,
              "ticks": ""
             }
            },
            "marker": {
             "colorbar": {
              "outlinewidth": 0,
              "ticks": ""
             }
            },
            "type": "scatter3d"
           }
          ],
          "scattercarpet": [
           {
            "marker": {
             "colorbar": {
              "outlinewidth": 0,
              "ticks": ""
             }
            },
            "type": "scattercarpet"
           }
          ],
          "scattergeo": [
           {
            "marker": {
             "colorbar": {
              "outlinewidth": 0,
              "ticks": ""
             }
            },
            "type": "scattergeo"
           }
          ],
          "scattergl": [
           {
            "marker": {
             "colorbar": {
              "outlinewidth": 0,
              "ticks": ""
             }
            },
            "type": "scattergl"
           }
          ],
          "scattermapbox": [
           {
            "marker": {
             "colorbar": {
              "outlinewidth": 0,
              "ticks": ""
             }
            },
            "type": "scattermapbox"
           }
          ],
          "scatterpolar": [
           {
            "marker": {
             "colorbar": {
              "outlinewidth": 0,
              "ticks": ""
             }
            },
            "type": "scatterpolar"
           }
          ],
          "scatterpolargl": [
           {
            "marker": {
             "colorbar": {
              "outlinewidth": 0,
              "ticks": ""
             }
            },
            "type": "scatterpolargl"
           }
          ],
          "scatterternary": [
           {
            "marker": {
             "colorbar": {
              "outlinewidth": 0,
              "ticks": ""
             }
            },
            "type": "scatterternary"
           }
          ],
          "surface": [
           {
            "colorbar": {
             "outlinewidth": 0,
             "ticks": ""
            },
            "colorscale": [
             [
              0,
              "#0d0887"
             ],
             [
              0.1111111111111111,
              "#46039f"
             ],
             [
              0.2222222222222222,
              "#7201a8"
             ],
             [
              0.3333333333333333,
              "#9c179e"
             ],
             [
              0.4444444444444444,
              "#bd3786"
             ],
             [
              0.5555555555555556,
              "#d8576b"
             ],
             [
              0.6666666666666666,
              "#ed7953"
             ],
             [
              0.7777777777777778,
              "#fb9f3a"
             ],
             [
              0.8888888888888888,
              "#fdca26"
             ],
             [
              1,
              "#f0f921"
             ]
            ],
            "type": "surface"
           }
          ],
          "table": [
           {
            "cells": {
             "fill": {
              "color": "#EBF0F8"
             },
             "line": {
              "color": "white"
             }
            },
            "header": {
             "fill": {
              "color": "#C8D4E3"
             },
             "line": {
              "color": "white"
             }
            },
            "type": "table"
           }
          ]
         },
         "layout": {
          "annotationdefaults": {
           "arrowcolor": "#2a3f5f",
           "arrowhead": 0,
           "arrowwidth": 1
          },
          "colorscale": {
           "diverging": [
            [
             0,
             "#8e0152"
            ],
            [
             0.1,
             "#c51b7d"
            ],
            [
             0.2,
             "#de77ae"
            ],
            [
             0.3,
             "#f1b6da"
            ],
            [
             0.4,
             "#fde0ef"
            ],
            [
             0.5,
             "#f7f7f7"
            ],
            [
             0.6,
             "#e6f5d0"
            ],
            [
             0.7,
             "#b8e186"
            ],
            [
             0.8,
             "#7fbc41"
            ],
            [
             0.9,
             "#4d9221"
            ],
            [
             1,
             "#276419"
            ]
           ],
           "sequential": [
            [
             0,
             "#0d0887"
            ],
            [
             0.1111111111111111,
             "#46039f"
            ],
            [
             0.2222222222222222,
             "#7201a8"
            ],
            [
             0.3333333333333333,
             "#9c179e"
            ],
            [
             0.4444444444444444,
             "#bd3786"
            ],
            [
             0.5555555555555556,
             "#d8576b"
            ],
            [
             0.6666666666666666,
             "#ed7953"
            ],
            [
             0.7777777777777778,
             "#fb9f3a"
            ],
            [
             0.8888888888888888,
             "#fdca26"
            ],
            [
             1,
             "#f0f921"
            ]
           ],
           "sequentialminus": [
            [
             0,
             "#0d0887"
            ],
            [
             0.1111111111111111,
             "#46039f"
            ],
            [
             0.2222222222222222,
             "#7201a8"
            ],
            [
             0.3333333333333333,
             "#9c179e"
            ],
            [
             0.4444444444444444,
             "#bd3786"
            ],
            [
             0.5555555555555556,
             "#d8576b"
            ],
            [
             0.6666666666666666,
             "#ed7953"
            ],
            [
             0.7777777777777778,
             "#fb9f3a"
            ],
            [
             0.8888888888888888,
             "#fdca26"
            ],
            [
             1,
             "#f0f921"
            ]
           ]
          },
          "colorway": [
           "#636efa",
           "#EF553B",
           "#00cc96",
           "#ab63fa",
           "#FFA15A",
           "#19d3f3",
           "#FF6692",
           "#B6E880",
           "#FF97FF",
           "#FECB52"
          ],
          "font": {
           "color": "#2a3f5f"
          },
          "geo": {
           "bgcolor": "white",
           "lakecolor": "white",
           "landcolor": "#E5ECF6",
           "showlakes": true,
           "showland": true,
           "subunitcolor": "white"
          },
          "hoverlabel": {
           "align": "left"
          },
          "hovermode": "closest",
          "mapbox": {
           "style": "light"
          },
          "paper_bgcolor": "white",
          "plot_bgcolor": "#E5ECF6",
          "polar": {
           "angularaxis": {
            "gridcolor": "white",
            "linecolor": "white",
            "ticks": ""
           },
           "bgcolor": "#E5ECF6",
           "radialaxis": {
            "gridcolor": "white",
            "linecolor": "white",
            "ticks": ""
           }
          },
          "scene": {
           "xaxis": {
            "backgroundcolor": "#E5ECF6",
            "gridcolor": "white",
            "gridwidth": 2,
            "linecolor": "white",
            "showbackground": true,
            "ticks": "",
            "zerolinecolor": "white"
           },
           "yaxis": {
            "backgroundcolor": "#E5ECF6",
            "gridcolor": "white",
            "gridwidth": 2,
            "linecolor": "white",
            "showbackground": true,
            "ticks": "",
            "zerolinecolor": "white"
           },
           "zaxis": {
            "backgroundcolor": "#E5ECF6",
            "gridcolor": "white",
            "gridwidth": 2,
            "linecolor": "white",
            "showbackground": true,
            "ticks": "",
            "zerolinecolor": "white"
           }
          },
          "shapedefaults": {
           "line": {
            "color": "#2a3f5f"
           }
          },
          "ternary": {
           "aaxis": {
            "gridcolor": "white",
            "linecolor": "white",
            "ticks": ""
           },
           "baxis": {
            "gridcolor": "white",
            "linecolor": "white",
            "ticks": ""
           },
           "bgcolor": "#E5ECF6",
           "caxis": {
            "gridcolor": "white",
            "linecolor": "white",
            "ticks": ""
           }
          },
          "title": {
           "x": 0.05
          },
          "xaxis": {
           "automargin": true,
           "gridcolor": "white",
           "linecolor": "white",
           "ticks": "",
           "zerolinecolor": "white",
           "zerolinewidth": 2
          },
          "yaxis": {
           "automargin": true,
           "gridcolor": "white",
           "linecolor": "white",
           "ticks": "",
           "zerolinecolor": "white",
           "zerolinewidth": 2
          }
         }
        },
        "xaxis": {
         "anchor": "y",
         "domain": [
          0,
          0.98
         ],
         "title": {
          "text": "time"
         }
        },
        "yaxis": {
         "anchor": "x",
         "domain": [
          0,
          1
         ],
         "title": {
          "text": "value"
         }
        }
       }
      },
      "text/html": [
       "<div>\n",
       "        \n",
       "        \n",
       "            <div id=\"2f9f7ad0-8bbf-4591-b2e5-b114b973ec58\" class=\"plotly-graph-div\" style=\"height:600px; width:100%;\"></div>\n",
       "            <script type=\"text/javascript\">\n",
       "                require([\"plotly\"], function(Plotly) {\n",
       "                    window.PLOTLYENV=window.PLOTLYENV || {};\n",
       "                    \n",
       "                if (document.getElementById(\"2f9f7ad0-8bbf-4591-b2e5-b114b973ec58\")) {\n",
       "                    Plotly.newPlot(\n",
       "                        '2f9f7ad0-8bbf-4591-b2e5-b114b973ec58',\n",
       "                        [{\"hoverlabel\": {\"namelength\": 0}, \"hovertemplate\": \"<b>%{hovertext}</b><br><br>variable=stock_trial_1<br>time=%{x}<br>value=%{y}\", \"hovertext\": [\"stock_trial_1\", \"stock_trial_1\", \"stock_trial_1\", \"stock_trial_1\", \"stock_trial_1\", \"stock_trial_1\", \"stock_trial_1\", \"stock_trial_1\", \"stock_trial_1\", \"stock_trial_1\", \"stock_trial_1\", \"stock_trial_1\", \"stock_trial_1\", \"stock_trial_1\", \"stock_trial_1\", \"stock_trial_1\", \"stock_trial_1\", \"stock_trial_1\", \"stock_trial_1\", \"stock_trial_1\", \"stock_trial_1\", \"stock_trial_1\", \"stock_trial_1\", \"stock_trial_1\", \"stock_trial_1\", \"stock_trial_1\", \"stock_trial_1\", \"stock_trial_1\", \"stock_trial_1\", \"stock_trial_1\", \"stock_trial_1\", \"stock_trial_1\", \"stock_trial_1\", \"stock_trial_1\", \"stock_trial_1\", \"stock_trial_1\", \"stock_trial_1\", \"stock_trial_1\", \"stock_trial_1\", \"stock_trial_1\", \"stock_trial_1\", \"stock_trial_1\", \"stock_trial_1\", \"stock_trial_1\", \"stock_trial_1\", \"stock_trial_1\", \"stock_trial_1\", \"stock_trial_1\", \"stock_trial_1\", \"stock_trial_1\", \"stock_trial_1\", \"stock_trial_1\", \"stock_trial_1\", \"stock_trial_1\", \"stock_trial_1\", \"stock_trial_1\", \"stock_trial_1\", \"stock_trial_1\", \"stock_trial_1\", \"stock_trial_1\", \"stock_trial_1\", \"stock_trial_1\", \"stock_trial_1\", \"stock_trial_1\", \"stock_trial_1\", \"stock_trial_1\", \"stock_trial_1\", \"stock_trial_1\", \"stock_trial_1\", \"stock_trial_1\", \"stock_trial_1\", \"stock_trial_1\", \"stock_trial_1\", \"stock_trial_1\", \"stock_trial_1\", \"stock_trial_1\", \"stock_trial_1\", \"stock_trial_1\", \"stock_trial_1\", \"stock_trial_1\", \"stock_trial_1\", \"stock_trial_1\", \"stock_trial_1\", \"stock_trial_1\", \"stock_trial_1\", \"stock_trial_1\", \"stock_trial_1\", \"stock_trial_1\", \"stock_trial_1\", \"stock_trial_1\", \"stock_trial_1\", \"stock_trial_1\", \"stock_trial_1\", \"stock_trial_1\", \"stock_trial_1\", \"stock_trial_1\", \"stock_trial_1\", \"stock_trial_1\", \"stock_trial_1\", \"stock_trial_1\"], \"legendgroup\": \"variable=stock_trial_1\", \"line\": {\"color\": \"#636efa\", \"dash\": \"solid\", \"shape\": \"spline\"}, \"mode\": \"lines\", \"name\": \"variable=stock_trial_1\", \"showlegend\": true, \"type\": \"scatter\", \"x\": [0, 1, 2, 3, 4, 5, 6, 7, 8, 9, 10, 11, 12, 13, 14, 15, 16, 17, 18, 19, 20, 21, 22, 23, 24, 25, 26, 27, 28, 29, 30, 31, 32, 33, 34, 35, 36, 37, 38, 39, 40, 41, 42, 43, 44, 45, 46, 47, 48, 49, 50, 51, 52, 53, 54, 55, 56, 57, 58, 59, 60, 61, 62, 63, 64, 65, 66, 67, 68, 69, 70, 71, 72, 73, 74, 75, 76, 77, 78, 79, 80, 81, 82, 83, 84, 85, 86, 87, 88, 89, 90, 91, 92, 93, 94, 95, 96, 97, 98, 99], \"xaxis\": \"x\", \"y\": [100.0, 103.79974636682982, 101.89821056403592, 102.45285141597195, 98.52925085918854, 95.7500504683907, 96.58718326413488, 91.20319295670429, 87.72482924216726, 85.44705994629538, 84.87867810094214, 83.22582294007698, 84.51098115356561, 81.3468509086042, 82.30973076017361, 84.92031266834901, 82.16311264314355, 79.35516189304444, 75.66143315105843, 76.89750136109555, 78.87868336692873, 82.55404576875837, 86.13056315129047, 80.96414171824827, 85.09538841120242, 83.80791505325071, 80.89921939929795, 85.29676753719417, 87.24143083352646, 85.32376064907322, 85.43364670887331, 83.01554739542351, 77.64079460264526, 79.13987539825456, 81.820350530513, 84.98998805194529, 84.74157146357136, 83.54808433133377, 81.31471547214906, 78.09680828537135, 78.75981237797762, 82.40257805315784, 83.89924275472593, 84.8803175303715, 85.47608978438751, 87.20220070218753, 91.18207555708433, 96.44796707125063, 95.73963570598656, 100.20839327224981, 102.21296880236622, 97.94481537731639, 101.67505130407895, 99.32929536324978, 103.30913895784718, 104.69496958551933, 110.64325076522054, 107.10905927788946, 110.9129710190087, 113.66767520006597, 109.87189837613724, 114.99271130256047, 109.80951565737888, 109.92149057408855, 105.73575605150151, 103.35130841644103, 101.82822767867785, 94.62165284889159, 99.14345871995553, 94.94776351223126, 97.5526183277165, 92.18061743988336, 93.23756826692876, 94.18585434018192, 98.40147417962578, 93.77799827249417, 96.55849378525815, 95.09478855652547, 95.42317052819067, 98.63031641863394, 100.40180820964721, 101.66972404867315, 110.23370870826487, 107.18962033441454, 108.57286686896177, 112.0590573042875, 109.36646760779554, 105.20574533028024, 107.89286012261316, 108.67626639504488, 111.01117715612556, 118.33203004920571, 120.56569756327092, 122.22176582385188, 118.44904338970554, 113.7314218508584, 110.6629704113887, 106.31690123705226, 104.85150125582564, 111.53854891142014], \"yaxis\": \"y\"}, {\"hoverlabel\": {\"namelength\": 0}, \"hovertemplate\": \"<b>%{hovertext}</b><br><br>variable=stock_trial_2<br>time=%{x}<br>value=%{y}\", \"hovertext\": [\"stock_trial_2\", \"stock_trial_2\", \"stock_trial_2\", \"stock_trial_2\", \"stock_trial_2\", \"stock_trial_2\", \"stock_trial_2\", \"stock_trial_2\", \"stock_trial_2\", \"stock_trial_2\", \"stock_trial_2\", \"stock_trial_2\", \"stock_trial_2\", \"stock_trial_2\", \"stock_trial_2\", \"stock_trial_2\", \"stock_trial_2\", \"stock_trial_2\", \"stock_trial_2\", \"stock_trial_2\", \"stock_trial_2\", \"stock_trial_2\", \"stock_trial_2\", \"stock_trial_2\", \"stock_trial_2\", \"stock_trial_2\", \"stock_trial_2\", \"stock_trial_2\", \"stock_trial_2\", \"stock_trial_2\", \"stock_trial_2\", \"stock_trial_2\", \"stock_trial_2\", \"stock_trial_2\", \"stock_trial_2\", \"stock_trial_2\", \"stock_trial_2\", \"stock_trial_2\", \"stock_trial_2\", \"stock_trial_2\", \"stock_trial_2\", \"stock_trial_2\", \"stock_trial_2\", \"stock_trial_2\", \"stock_trial_2\", \"stock_trial_2\", \"stock_trial_2\", \"stock_trial_2\", \"stock_trial_2\", \"stock_trial_2\", \"stock_trial_2\", \"stock_trial_2\", \"stock_trial_2\", \"stock_trial_2\", \"stock_trial_2\", \"stock_trial_2\", \"stock_trial_2\", \"stock_trial_2\", \"stock_trial_2\", \"stock_trial_2\", \"stock_trial_2\", \"stock_trial_2\", \"stock_trial_2\", \"stock_trial_2\", \"stock_trial_2\", \"stock_trial_2\", \"stock_trial_2\", \"stock_trial_2\", \"stock_trial_2\", \"stock_trial_2\", \"stock_trial_2\", \"stock_trial_2\", \"stock_trial_2\", \"stock_trial_2\", \"stock_trial_2\", \"stock_trial_2\", \"stock_trial_2\", \"stock_trial_2\", \"stock_trial_2\", \"stock_trial_2\", \"stock_trial_2\", \"stock_trial_2\", \"stock_trial_2\", \"stock_trial_2\", \"stock_trial_2\", \"stock_trial_2\", \"stock_trial_2\", \"stock_trial_2\", \"stock_trial_2\", \"stock_trial_2\", \"stock_trial_2\", \"stock_trial_2\", \"stock_trial_2\", \"stock_trial_2\", \"stock_trial_2\", \"stock_trial_2\", \"stock_trial_2\", \"stock_trial_2\", \"stock_trial_2\", \"stock_trial_2\"], \"legendgroup\": \"variable=stock_trial_2\", \"line\": {\"color\": \"#EF553B\", \"dash\": \"solid\", \"shape\": \"spline\"}, \"mode\": \"lines\", \"name\": \"variable=stock_trial_2\", \"showlegend\": true, \"type\": \"scatter\", \"x\": [0, 1, 2, 3, 4, 5, 6, 7, 8, 9, 10, 11, 12, 13, 14, 15, 16, 17, 18, 19, 20, 21, 22, 23, 24, 25, 26, 27, 28, 29, 30, 31, 32, 33, 34, 35, 36, 37, 38, 39, 40, 41, 42, 43, 44, 45, 46, 47, 48, 49, 50, 51, 52, 53, 54, 55, 56, 57, 58, 59, 60, 61, 62, 63, 64, 65, 66, 67, 68, 69, 70, 71, 72, 73, 74, 75, 76, 77, 78, 79, 80, 81, 82, 83, 84, 85, 86, 87, 88, 89, 90, 91, 92, 93, 94, 95, 96, 97, 98, 99], \"xaxis\": \"x\", \"y\": [100.0, 101.11529002423272, 101.70289882899165, 98.70826305258076, 103.50880776439993, 108.42051870194804, 105.94859673187025, 110.49193688712325, 112.75485651941094, 112.88569592702358, 114.00266304520173, 117.84619450045889, 120.27152710048182, 117.18401094028944, 123.37767870057876, 124.49368829170601, 123.63895814683171, 125.29473339127271, 122.37672903881771, 118.68618874134182, 119.93935384942253, 113.47439736658666, 112.2164132944928, 117.81593187063217, 121.18418346698338, 116.64578843670068, 116.6275582071537, 119.8625603746544, 125.64628583747403, 130.6633176295027, 133.55811258388096, 132.09781923382147, 127.66813778750495, 125.87165210941818, 129.1362287059453, 122.0982838594606, 127.82918463958731, 126.84114434344417, 129.13348993381027, 130.7541499080395, 124.66402429198325, 124.77280392095257, 123.44221510919671, 122.67602694360649, 119.53441528957605, 122.2469870966638, 122.99535881963376, 120.08335682294452, 114.26696893102138, 102.86347750994669, 107.05806819855658, 102.18760051273861, 103.55200979950216, 104.73799868833682, 107.98889748265293, 107.7122898633315, 108.73848065509881, 107.08745820757792, 105.53303303717105, 109.49733861926475, 112.72987145931745, 113.7421558240038, 117.48757401075582, 117.5728849892479, 116.54920680251219, 112.26411053255869, 108.12588914256729, 110.56846819119926, 111.74776519294711, 114.23615103874778, 111.32836482432394, 117.04405382911634, 114.64437177474048, 117.3914840021057, 120.2690595388882, 124.83960304568544, 120.5249925490935, 117.38596796794947, 114.16288000391096, 114.68849251042457, 122.88148947007011, 122.77927713038046, 119.286432765039, 117.32620219742343, 117.98393101290229, 123.07268981599998, 123.25414501747427, 122.2185382544305, 123.8779636073589, 119.08313814283161, 120.07273654192521, 118.58519800059817, 122.60617902919849, 121.71999055508473, 118.15331618465329, 122.1352067483667, 117.8561643921383, 119.74553841067967, 125.0802050925601, 120.74429097821431], \"yaxis\": \"y\"}, {\"hoverlabel\": {\"namelength\": 0}, \"hovertemplate\": \"<b>%{hovertext}</b><br><br>variable=stock_trial_3<br>time=%{x}<br>value=%{y}\", \"hovertext\": [\"stock_trial_3\", \"stock_trial_3\", \"stock_trial_3\", \"stock_trial_3\", \"stock_trial_3\", \"stock_trial_3\", \"stock_trial_3\", \"stock_trial_3\", \"stock_trial_3\", \"stock_trial_3\", \"stock_trial_3\", \"stock_trial_3\", \"stock_trial_3\", \"stock_trial_3\", \"stock_trial_3\", \"stock_trial_3\", \"stock_trial_3\", \"stock_trial_3\", \"stock_trial_3\", \"stock_trial_3\", \"stock_trial_3\", \"stock_trial_3\", \"stock_trial_3\", \"stock_trial_3\", \"stock_trial_3\", \"stock_trial_3\", \"stock_trial_3\", \"stock_trial_3\", \"stock_trial_3\", \"stock_trial_3\", \"stock_trial_3\", \"stock_trial_3\", \"stock_trial_3\", \"stock_trial_3\", \"stock_trial_3\", \"stock_trial_3\", \"stock_trial_3\", \"stock_trial_3\", \"stock_trial_3\", \"stock_trial_3\", \"stock_trial_3\", \"stock_trial_3\", \"stock_trial_3\", \"stock_trial_3\", \"stock_trial_3\", \"stock_trial_3\", \"stock_trial_3\", \"stock_trial_3\", \"stock_trial_3\", \"stock_trial_3\", \"stock_trial_3\", \"stock_trial_3\", \"stock_trial_3\", \"stock_trial_3\", \"stock_trial_3\", \"stock_trial_3\", \"stock_trial_3\", \"stock_trial_3\", \"stock_trial_3\", \"stock_trial_3\", \"stock_trial_3\", \"stock_trial_3\", \"stock_trial_3\", \"stock_trial_3\", \"stock_trial_3\", \"stock_trial_3\", \"stock_trial_3\", \"stock_trial_3\", \"stock_trial_3\", \"stock_trial_3\", \"stock_trial_3\", \"stock_trial_3\", \"stock_trial_3\", \"stock_trial_3\", \"stock_trial_3\", \"stock_trial_3\", \"stock_trial_3\", \"stock_trial_3\", \"stock_trial_3\", \"stock_trial_3\", \"stock_trial_3\", \"stock_trial_3\", \"stock_trial_3\", \"stock_trial_3\", \"stock_trial_3\", \"stock_trial_3\", \"stock_trial_3\", \"stock_trial_3\", \"stock_trial_3\", \"stock_trial_3\", \"stock_trial_3\", \"stock_trial_3\", \"stock_trial_3\", \"stock_trial_3\", \"stock_trial_3\", \"stock_trial_3\", \"stock_trial_3\", \"stock_trial_3\", \"stock_trial_3\", \"stock_trial_3\"], \"legendgroup\": \"variable=stock_trial_3\", \"line\": {\"color\": \"#00cc96\", \"dash\": \"solid\", \"shape\": \"spline\"}, \"mode\": \"lines\", \"name\": \"variable=stock_trial_3\", \"showlegend\": true, \"type\": \"scatter\", \"x\": [0, 1, 2, 3, 4, 5, 6, 7, 8, 9, 10, 11, 12, 13, 14, 15, 16, 17, 18, 19, 20, 21, 22, 23, 24, 25, 26, 27, 28, 29, 30, 31, 32, 33, 34, 35, 36, 37, 38, 39, 40, 41, 42, 43, 44, 45, 46, 47, 48, 49, 50, 51, 52, 53, 54, 55, 56, 57, 58, 59, 60, 61, 62, 63, 64, 65, 66, 67, 68, 69, 70, 71, 72, 73, 74, 75, 76, 77, 78, 79, 80, 81, 82, 83, 84, 85, 86, 87, 88, 89, 90, 91, 92, 93, 94, 95, 96, 97, 98, 99], \"xaxis\": \"x\", \"y\": [100.0, 101.7215878577687, 94.70227376456002, 96.71343805621909, 101.67524509892644, 99.4174197730007, 99.68798803988122, 102.26662985301893, 101.32728615862966, 98.22437059682841, 95.14476608578627, 90.34372816175726, 90.61070421274954, 84.6547184516399, 88.1595433000513, 87.86895442774988, 82.52319918845187, 80.98766640777663, 83.82966631177885, 83.4665427283606, 82.65755751396242, 81.29430576592512, 80.53937509768839, 78.93339411487463, 81.73211687544476, 79.7020842412538, 79.72038907632425, 80.19889878853412, 82.7264849237403, 83.49664155225622, 80.67854336110685, 84.58106547622377, 83.9709062565819, 82.1763182339672, 82.55772661996126, 84.0336121610889, 82.47335587723217, 78.5174377433694, 80.19223008040375, 84.44588553812426, 83.50453342079814, 80.87009223376754, 81.00746187931266, 80.51783814861139, 79.50320184679467, 80.37118459607493, 81.16007140965495, 76.9095147419611, 76.05333513531103, 74.36852653759897, 72.39341314342309, 70.73046148906015, 72.755380192616, 74.27277463833299, 72.85493426514805, 77.35398386584627, 78.35053422929336, 78.77327392871078, 78.90116696132097, 77.38357862574955, 74.80202758886065, 74.04136484944806, 76.17301579927185, 74.807111092539, 74.26284718389304, 74.11468196739354, 74.1967780073995, 73.07512735203261, 77.24028900302903, 77.53244921128542, 73.11691670742782, 75.14507053179126, 78.0237892884202, 78.73714344951499, 79.14336200552987, 80.19530507223327, 81.61102049404765, 85.53903856909882, 86.27730398087606, 82.62796857102146, 87.11973573717567, 90.07467180657515, 89.70326145967024, 94.77042374312103, 97.43760880212444, 98.8672027554533, 100.2583886929531, 102.41929425804082, 107.42469814357283, 112.35953444314646, 107.51816666216257, 101.4382845987128, 103.57452165321351, 107.73899169409789, 109.66887247990731, 113.07642471928078, 113.35294403342941, 113.43442056078932, 114.09038061189278, 112.20367260000792], \"yaxis\": \"y\"}, {\"hoverlabel\": {\"namelength\": 0}, \"hovertemplate\": \"<b>%{hovertext}</b><br><br>variable=stock_trial_4<br>time=%{x}<br>value=%{y}\", \"hovertext\": [\"stock_trial_4\", \"stock_trial_4\", \"stock_trial_4\", \"stock_trial_4\", \"stock_trial_4\", \"stock_trial_4\", \"stock_trial_4\", \"stock_trial_4\", \"stock_trial_4\", \"stock_trial_4\", \"stock_trial_4\", \"stock_trial_4\", \"stock_trial_4\", \"stock_trial_4\", \"stock_trial_4\", \"stock_trial_4\", \"stock_trial_4\", \"stock_trial_4\", \"stock_trial_4\", \"stock_trial_4\", \"stock_trial_4\", \"stock_trial_4\", \"stock_trial_4\", \"stock_trial_4\", \"stock_trial_4\", \"stock_trial_4\", \"stock_trial_4\", \"stock_trial_4\", \"stock_trial_4\", \"stock_trial_4\", \"stock_trial_4\", \"stock_trial_4\", \"stock_trial_4\", \"stock_trial_4\", \"stock_trial_4\", \"stock_trial_4\", \"stock_trial_4\", \"stock_trial_4\", \"stock_trial_4\", \"stock_trial_4\", \"stock_trial_4\", \"stock_trial_4\", \"stock_trial_4\", \"stock_trial_4\", \"stock_trial_4\", \"stock_trial_4\", \"stock_trial_4\", \"stock_trial_4\", \"stock_trial_4\", \"stock_trial_4\", \"stock_trial_4\", \"stock_trial_4\", \"stock_trial_4\", \"stock_trial_4\", \"stock_trial_4\", \"stock_trial_4\", \"stock_trial_4\", \"stock_trial_4\", \"stock_trial_4\", \"stock_trial_4\", \"stock_trial_4\", \"stock_trial_4\", \"stock_trial_4\", \"stock_trial_4\", \"stock_trial_4\", \"stock_trial_4\", \"stock_trial_4\", \"stock_trial_4\", \"stock_trial_4\", \"stock_trial_4\", \"stock_trial_4\", \"stock_trial_4\", \"stock_trial_4\", \"stock_trial_4\", \"stock_trial_4\", \"stock_trial_4\", \"stock_trial_4\", \"stock_trial_4\", \"stock_trial_4\", \"stock_trial_4\", \"stock_trial_4\", \"stock_trial_4\", \"stock_trial_4\", \"stock_trial_4\", \"stock_trial_4\", \"stock_trial_4\", \"stock_trial_4\", \"stock_trial_4\", \"stock_trial_4\", \"stock_trial_4\", \"stock_trial_4\", \"stock_trial_4\", \"stock_trial_4\", \"stock_trial_4\", \"stock_trial_4\", \"stock_trial_4\", \"stock_trial_4\", \"stock_trial_4\", \"stock_trial_4\", \"stock_trial_4\"], \"legendgroup\": \"variable=stock_trial_4\", \"line\": {\"color\": \"#ab63fa\", \"dash\": \"solid\", \"shape\": \"spline\"}, \"mode\": \"lines\", \"name\": \"variable=stock_trial_4\", \"showlegend\": true, \"type\": \"scatter\", \"x\": [0, 1, 2, 3, 4, 5, 6, 7, 8, 9, 10, 11, 12, 13, 14, 15, 16, 17, 18, 19, 20, 21, 22, 23, 24, 25, 26, 27, 28, 29, 30, 31, 32, 33, 34, 35, 36, 37, 38, 39, 40, 41, 42, 43, 44, 45, 46, 47, 48, 49, 50, 51, 52, 53, 54, 55, 56, 57, 58, 59, 60, 61, 62, 63, 64, 65, 66, 67, 68, 69, 70, 71, 72, 73, 74, 75, 76, 77, 78, 79, 80, 81, 82, 83, 84, 85, 86, 87, 88, 89, 90, 91, 92, 93, 94, 95, 96, 97, 98, 99], \"xaxis\": \"x\", \"y\": [100.0, 105.8063646780663, 103.52024257479229, 109.80955418184355, 113.00331851378233, 119.0320633423339, 118.69206711639038, 120.34911729233616, 122.08489510815089, 117.49307559091011, 111.84616348499674, 112.05820083231497, 112.38803353277893, 119.29616881790538, 121.15656336231937, 121.40792074868251, 121.5573639294302, 125.39955301560995, 126.2175616311439, 129.4430965535688, 122.01310707937303, 125.08913121214736, 121.89468545140754, 129.11485506946312, 130.894672750969, 134.20503030677463, 141.80132325163672, 147.09209953793965, 148.8923096601952, 145.64201911723006, 150.56970588725784, 148.56738843153488, 148.71915099380706, 141.78020101170213, 137.36049811452722, 139.5500144555498, 147.40016287259738, 141.6538865821115, 142.27445051238686, 135.29825248231666, 129.43992687627275, 140.01680170844864, 148.37968631029483, 146.55350857982842, 141.5071913167899, 138.32352727525605, 126.86264058255703, 124.9126401622059, 127.87718675238071, 129.16139246414326, 131.596530112684, 131.40991691222874, 131.81029704547547, 137.05083671891185, 132.04707054902383, 134.56015634980577, 133.08571941460247, 138.85766756125398, 147.12881005326855, 154.399245857623, 159.89484798074622, 159.75795442820976, 164.79242938422843, 159.73492735722334, 151.68205590313528, 142.24410577223347, 141.7007193209553, 143.92628991149982, 149.37467737845012, 146.19656264601218, 147.6344347988795, 149.89019479170014, 155.9316889224594, 156.78331391102353, 156.09786249358837, 170.69459101784548, 161.8496254875085, 168.92079068037089, 173.1205727023013, 174.278190994324, 181.08782003616724, 185.66144003036115, 195.80334562276076, 189.60278529755848, 191.66365439962064, 190.11816763313098, 196.29879358259902, 201.46289081429555, 196.66150755495892, 200.3414714373018, 207.3173718336194, 204.43550372983944, 204.6171730344323, 198.08821692715597, 195.37276633023453, 195.45175341861395, 194.02284846041422, 197.58581228643618, 191.92465439251782, 190.69634690798924], \"yaxis\": \"y\"}],\n",
       "                        {\"height\": 600, \"legend\": {\"tracegroupgap\": 0}, \"margin\": {\"t\": 60}, \"template\": {\"data\": {\"bar\": [{\"error_x\": {\"color\": \"#2a3f5f\"}, \"error_y\": {\"color\": \"#2a3f5f\"}, \"marker\": {\"line\": {\"color\": \"#E5ECF6\", \"width\": 0.5}}, \"type\": \"bar\"}], \"barpolar\": [{\"marker\": {\"line\": {\"color\": \"#E5ECF6\", \"width\": 0.5}}, \"type\": \"barpolar\"}], \"carpet\": [{\"aaxis\": {\"endlinecolor\": \"#2a3f5f\", \"gridcolor\": \"white\", \"linecolor\": \"white\", \"minorgridcolor\": \"white\", \"startlinecolor\": \"#2a3f5f\"}, \"baxis\": {\"endlinecolor\": \"#2a3f5f\", \"gridcolor\": \"white\", \"linecolor\": \"white\", \"minorgridcolor\": \"white\", \"startlinecolor\": \"#2a3f5f\"}, \"type\": \"carpet\"}], \"choropleth\": [{\"colorbar\": {\"outlinewidth\": 0, \"ticks\": \"\"}, \"type\": \"choropleth\"}], \"contour\": [{\"colorbar\": {\"outlinewidth\": 0, \"ticks\": \"\"}, \"colorscale\": [[0.0, \"#0d0887\"], [0.1111111111111111, \"#46039f\"], [0.2222222222222222, \"#7201a8\"], [0.3333333333333333, \"#9c179e\"], [0.4444444444444444, \"#bd3786\"], [0.5555555555555556, \"#d8576b\"], [0.6666666666666666, \"#ed7953\"], [0.7777777777777778, \"#fb9f3a\"], [0.8888888888888888, \"#fdca26\"], [1.0, \"#f0f921\"]], \"type\": \"contour\"}], \"contourcarpet\": [{\"colorbar\": {\"outlinewidth\": 0, \"ticks\": \"\"}, \"type\": \"contourcarpet\"}], \"heatmap\": [{\"colorbar\": {\"outlinewidth\": 0, \"ticks\": \"\"}, \"colorscale\": [[0.0, \"#0d0887\"], [0.1111111111111111, \"#46039f\"], [0.2222222222222222, \"#7201a8\"], [0.3333333333333333, \"#9c179e\"], [0.4444444444444444, \"#bd3786\"], [0.5555555555555556, \"#d8576b\"], [0.6666666666666666, \"#ed7953\"], [0.7777777777777778, \"#fb9f3a\"], [0.8888888888888888, \"#fdca26\"], [1.0, \"#f0f921\"]], \"type\": \"heatmap\"}], \"heatmapgl\": [{\"colorbar\": {\"outlinewidth\": 0, \"ticks\": \"\"}, \"colorscale\": [[0.0, \"#0d0887\"], [0.1111111111111111, \"#46039f\"], [0.2222222222222222, \"#7201a8\"], [0.3333333333333333, \"#9c179e\"], [0.4444444444444444, \"#bd3786\"], [0.5555555555555556, \"#d8576b\"], [0.6666666666666666, \"#ed7953\"], [0.7777777777777778, \"#fb9f3a\"], [0.8888888888888888, \"#fdca26\"], [1.0, \"#f0f921\"]], \"type\": \"heatmapgl\"}], \"histogram\": [{\"marker\": {\"colorbar\": {\"outlinewidth\": 0, \"ticks\": \"\"}}, \"type\": \"histogram\"}], \"histogram2d\": [{\"colorbar\": {\"outlinewidth\": 0, \"ticks\": \"\"}, \"colorscale\": [[0.0, \"#0d0887\"], [0.1111111111111111, \"#46039f\"], [0.2222222222222222, \"#7201a8\"], [0.3333333333333333, \"#9c179e\"], [0.4444444444444444, \"#bd3786\"], [0.5555555555555556, \"#d8576b\"], [0.6666666666666666, \"#ed7953\"], [0.7777777777777778, \"#fb9f3a\"], [0.8888888888888888, \"#fdca26\"], [1.0, \"#f0f921\"]], \"type\": \"histogram2d\"}], \"histogram2dcontour\": [{\"colorbar\": {\"outlinewidth\": 0, \"ticks\": \"\"}, \"colorscale\": [[0.0, \"#0d0887\"], [0.1111111111111111, \"#46039f\"], [0.2222222222222222, \"#7201a8\"], [0.3333333333333333, \"#9c179e\"], [0.4444444444444444, \"#bd3786\"], [0.5555555555555556, \"#d8576b\"], [0.6666666666666666, \"#ed7953\"], [0.7777777777777778, \"#fb9f3a\"], [0.8888888888888888, \"#fdca26\"], [1.0, \"#f0f921\"]], \"type\": \"histogram2dcontour\"}], \"mesh3d\": [{\"colorbar\": {\"outlinewidth\": 0, \"ticks\": \"\"}, \"type\": \"mesh3d\"}], \"parcoords\": [{\"line\": {\"colorbar\": {\"outlinewidth\": 0, \"ticks\": \"\"}}, \"type\": \"parcoords\"}], \"scatter\": [{\"marker\": {\"colorbar\": {\"outlinewidth\": 0, \"ticks\": \"\"}}, \"type\": \"scatter\"}], \"scatter3d\": [{\"line\": {\"colorbar\": {\"outlinewidth\": 0, \"ticks\": \"\"}}, \"marker\": {\"colorbar\": {\"outlinewidth\": 0, \"ticks\": \"\"}}, \"type\": \"scatter3d\"}], \"scattercarpet\": [{\"marker\": {\"colorbar\": {\"outlinewidth\": 0, \"ticks\": \"\"}}, \"type\": \"scattercarpet\"}], \"scattergeo\": [{\"marker\": {\"colorbar\": {\"outlinewidth\": 0, \"ticks\": \"\"}}, \"type\": \"scattergeo\"}], \"scattergl\": [{\"marker\": {\"colorbar\": {\"outlinewidth\": 0, \"ticks\": \"\"}}, \"type\": \"scattergl\"}], \"scattermapbox\": [{\"marker\": {\"colorbar\": {\"outlinewidth\": 0, \"ticks\": \"\"}}, \"type\": \"scattermapbox\"}], \"scatterpolar\": [{\"marker\": {\"colorbar\": {\"outlinewidth\": 0, \"ticks\": \"\"}}, \"type\": \"scatterpolar\"}], \"scatterpolargl\": [{\"marker\": {\"colorbar\": {\"outlinewidth\": 0, \"ticks\": \"\"}}, \"type\": \"scatterpolargl\"}], \"scatterternary\": [{\"marker\": {\"colorbar\": {\"outlinewidth\": 0, \"ticks\": \"\"}}, \"type\": \"scatterternary\"}], \"surface\": [{\"colorbar\": {\"outlinewidth\": 0, \"ticks\": \"\"}, \"colorscale\": [[0.0, \"#0d0887\"], [0.1111111111111111, \"#46039f\"], [0.2222222222222222, \"#7201a8\"], [0.3333333333333333, \"#9c179e\"], [0.4444444444444444, \"#bd3786\"], [0.5555555555555556, \"#d8576b\"], [0.6666666666666666, \"#ed7953\"], [0.7777777777777778, \"#fb9f3a\"], [0.8888888888888888, \"#fdca26\"], [1.0, \"#f0f921\"]], \"type\": \"surface\"}], \"table\": [{\"cells\": {\"fill\": {\"color\": \"#EBF0F8\"}, \"line\": {\"color\": \"white\"}}, \"header\": {\"fill\": {\"color\": \"#C8D4E3\"}, \"line\": {\"color\": \"white\"}}, \"type\": \"table\"}]}, \"layout\": {\"annotationdefaults\": {\"arrowcolor\": \"#2a3f5f\", \"arrowhead\": 0, \"arrowwidth\": 1}, \"colorscale\": {\"diverging\": [[0, \"#8e0152\"], [0.1, \"#c51b7d\"], [0.2, \"#de77ae\"], [0.3, \"#f1b6da\"], [0.4, \"#fde0ef\"], [0.5, \"#f7f7f7\"], [0.6, \"#e6f5d0\"], [0.7, \"#b8e186\"], [0.8, \"#7fbc41\"], [0.9, \"#4d9221\"], [1, \"#276419\"]], \"sequential\": [[0.0, \"#0d0887\"], [0.1111111111111111, \"#46039f\"], [0.2222222222222222, \"#7201a8\"], [0.3333333333333333, \"#9c179e\"], [0.4444444444444444, \"#bd3786\"], [0.5555555555555556, \"#d8576b\"], [0.6666666666666666, \"#ed7953\"], [0.7777777777777778, \"#fb9f3a\"], [0.8888888888888888, \"#fdca26\"], [1.0, \"#f0f921\"]], \"sequentialminus\": [[0.0, \"#0d0887\"], [0.1111111111111111, \"#46039f\"], [0.2222222222222222, \"#7201a8\"], [0.3333333333333333, \"#9c179e\"], [0.4444444444444444, \"#bd3786\"], [0.5555555555555556, \"#d8576b\"], [0.6666666666666666, \"#ed7953\"], [0.7777777777777778, \"#fb9f3a\"], [0.8888888888888888, \"#fdca26\"], [1.0, \"#f0f921\"]]}, \"colorway\": [\"#636efa\", \"#EF553B\", \"#00cc96\", \"#ab63fa\", \"#FFA15A\", \"#19d3f3\", \"#FF6692\", \"#B6E880\", \"#FF97FF\", \"#FECB52\"], \"font\": {\"color\": \"#2a3f5f\"}, \"geo\": {\"bgcolor\": \"white\", \"lakecolor\": \"white\", \"landcolor\": \"#E5ECF6\", \"showlakes\": true, \"showland\": true, \"subunitcolor\": \"white\"}, \"hoverlabel\": {\"align\": \"left\"}, \"hovermode\": \"closest\", \"mapbox\": {\"style\": \"light\"}, \"paper_bgcolor\": \"white\", \"plot_bgcolor\": \"#E5ECF6\", \"polar\": {\"angularaxis\": {\"gridcolor\": \"white\", \"linecolor\": \"white\", \"ticks\": \"\"}, \"bgcolor\": \"#E5ECF6\", \"radialaxis\": {\"gridcolor\": \"white\", \"linecolor\": \"white\", \"ticks\": \"\"}}, \"scene\": {\"xaxis\": {\"backgroundcolor\": \"#E5ECF6\", \"gridcolor\": \"white\", \"gridwidth\": 2, \"linecolor\": \"white\", \"showbackground\": true, \"ticks\": \"\", \"zerolinecolor\": \"white\"}, \"yaxis\": {\"backgroundcolor\": \"#E5ECF6\", \"gridcolor\": \"white\", \"gridwidth\": 2, \"linecolor\": \"white\", \"showbackground\": true, \"ticks\": \"\", \"zerolinecolor\": \"white\"}, \"zaxis\": {\"backgroundcolor\": \"#E5ECF6\", \"gridcolor\": \"white\", \"gridwidth\": 2, \"linecolor\": \"white\", \"showbackground\": true, \"ticks\": \"\", \"zerolinecolor\": \"white\"}}, \"shapedefaults\": {\"line\": {\"color\": \"#2a3f5f\"}}, \"ternary\": {\"aaxis\": {\"gridcolor\": \"white\", \"linecolor\": \"white\", \"ticks\": \"\"}, \"baxis\": {\"gridcolor\": \"white\", \"linecolor\": \"white\", \"ticks\": \"\"}, \"bgcolor\": \"#E5ECF6\", \"caxis\": {\"gridcolor\": \"white\", \"linecolor\": \"white\", \"ticks\": \"\"}}, \"title\": {\"x\": 0.05}, \"xaxis\": {\"automargin\": true, \"gridcolor\": \"white\", \"linecolor\": \"white\", \"ticks\": \"\", \"zerolinecolor\": \"white\", \"zerolinewidth\": 2}, \"yaxis\": {\"automargin\": true, \"gridcolor\": \"white\", \"linecolor\": \"white\", \"ticks\": \"\", \"zerolinecolor\": \"white\", \"zerolinewidth\": 2}}}, \"xaxis\": {\"anchor\": \"y\", \"domain\": [0.0, 0.98], \"title\": {\"text\": \"time\"}}, \"yaxis\": {\"anchor\": \"x\", \"domain\": [0.0, 1.0], \"title\": {\"text\": \"value\"}}},\n",
       "                        {\"responsive\": true}\n",
       "                    ).then(function(){\n",
       "                            \n",
       "var gd = document.getElementById('2f9f7ad0-8bbf-4591-b2e5-b114b973ec58');\n",
       "var x = new MutationObserver(function (mutations, observer) {{\n",
       "        var display = window.getComputedStyle(gd).display;\n",
       "        if (!display || display === 'none') {{\n",
       "            console.log([gd, 'removed!']);\n",
       "            Plotly.purge(gd);\n",
       "            observer.disconnect();\n",
       "        }}\n",
       "}});\n",
       "\n",
       "// Listen for the removal of the full notebook cells\n",
       "var notebookContainer = gd.closest('#notebook-container');\n",
       "if (notebookContainer) {{\n",
       "    x.observe(notebookContainer, {childList: true});\n",
       "}}\n",
       "\n",
       "// Listen for the clearing of the current output cell\n",
       "var outputEl = gd.closest('.output');\n",
       "if (outputEl) {{\n",
       "    x.observe(outputEl, {childList: true});\n",
       "}}\n",
       "\n",
       "                        })\n",
       "                };\n",
       "                });\n",
       "            </script>\n",
       "        </div>"
      ]
     },
     "metadata": {},
     "output_type": "display_data"
    }
   ],
   "source": [
    "df = pd.DataFrame(S)\n",
    "df[\"time\"] = list(df.index)\n",
    "pre_fix = \"stock_trial_\"\n",
    "df.columns = [pre_fix + str(x) if x!=\"time\" else \"time\" for x in df.columns]\n",
    "df = pd.melt(df, id_vars=['time'], value_vars=[pre_fix + x for x in ['1', '2','3','4']])\n",
    "\n",
    "fig = px.line(df, x=\"time\", y=\"value\", color=\"variable\", line_group=\"variable\", hover_name=\"variable\",\n",
    "        line_shape=\"spline\", render_mode=\"svg\")\n",
    "fig.show()"
   ]
  },
  {
   "cell_type": "code",
   "execution_count": 25,
   "metadata": {
    "slideshow": {
     "slide_type": "slide"
    }
   },
   "outputs": [
    {
     "data": {
      "text/plain": [
       "0.3818374252469777"
      ]
     },
     "execution_count": 25,
     "metadata": {},
     "output_type": "execute_result"
    }
   ],
   "source": [
    "price = np.exp(-intrest*timesteps) * (np.maximum(S[-1,:]-110,0)).mean()\n",
    "price"
   ]
  },
  {
   "cell_type": "markdown",
   "metadata": {
    "slideshow": {
     "slide_type": "slide"
    }
   },
   "source": [
    "## Exercise - Cholesky decomposition"
   ]
  },
  {
   "cell_type": "markdown",
   "metadata": {
    "slideshow": {
     "slide_type": "fragment"
    }
   },
   "source": [
    "\\begin{align}\n",
    "  A &= L L^T = \\begin{pmatrix}\n",
    "  L_{11} & 0 & 0 \\\\\n",
    "  L_{21} & L_{22} & 0 \\\\\n",
    "  L_{31} & L_{32} & L_{33}\n",
    "  \\end{pmatrix} \\begin{pmatrix}\n",
    "  L_{11} & L_{21} & L_{31} \\\\\n",
    "  0 & L_{22} & L_{32} \\\\\n",
    "  0 & 0 & L_{33}\n",
    "  \\end{pmatrix}  \\\\\n",
    "  &= \\begin{pmatrix}\n",
    "  L_{11}^2 & -- & \\text{symmetric} \\\\\n",
    "  L_{21}L_{11} & L_{21}^2+L_{22}^2 & -- \\\\\n",
    "  L_{31}L_{11} & L_{31}L_{21} + L_{32}L_{22} & L_{31}^2+L_{32}^2+L_{33}^2\n",
    "  \\end{pmatrix}\n",
    "\\end{align}\n",
    "\n",
    "This leads to the algorithm for L\n",
    "\n",
    "\\begin{align}\n",
    "  L_{jj} &= \\sqrt{A_{jj} - \\sum_{k=1}^{j-1} L_{j,k}^2  } \\\\\n",
    "  L_{i,j}&= \\frac{1}{L_{jj}}\\left(  A_{i,j} - \\sum_{k=1}^{j-1} L_{i,k}L_{j,k}  \\right), \\; \\text{for } i>j.\n",
    "\\end{align}"
   ]
  },
  {
   "cell_type": "markdown",
   "metadata": {
    "slideshow": {
     "slide_type": "fragment"
    }
   },
   "source": [
    "Imprement a function that takes a $nxn$ matrix and returns its cholesky decomposition"
   ]
  },
  {
   "cell_type": "code",
   "execution_count": 28,
   "metadata": {
    "slideshow": {
     "slide_type": "slide"
    }
   },
   "outputs": [],
   "source": [
    "def cholesky(x):\n",
    "    \"\"\"\n",
    "    Derive the cholesky decomposition for a given nxn matrix\n",
    "    args:\n",
    "        x: nxn matrix\n",
    "    \"\"\"\n",
    "    # Your code\n",
    "    return L\n"
   ]
  },
  {
   "cell_type": "code",
   "execution_count": 27,
   "metadata": {
    "slideshow": {
     "slide_type": "slide"
    }
   },
   "outputs": [
    {
     "data": {
      "text/plain": [
       "array([[25, 15, -5],\n",
       "       [15, 18,  0],\n",
       "       [-5,  0, 11]])"
      ]
     },
     "execution_count": 27,
     "metadata": {},
     "output_type": "execute_result"
    }
   ],
   "source": [
    "m = [25, 15, -5, 15, 18, 0, -5, 0, 11]\n",
    "m = np.reshape(m, (3,3))\n",
    "m"
   ]
  },
  {
   "cell_type": "code",
   "execution_count": 30,
   "metadata": {
    "slideshow": {
     "slide_type": "fragment"
    }
   },
   "outputs": [],
   "source": [
    "#cholesky(m)"
   ]
  },
  {
   "cell_type": "markdown",
   "metadata": {
    "slideshow": {
     "slide_type": "fragment"
    }
   },
   "source": [
    "#### Validate using the numpy equivalent"
   ]
  },
  {
   "cell_type": "code",
   "execution_count": 24,
   "metadata": {
    "slideshow": {
     "slide_type": "fragment"
    }
   },
   "outputs": [
    {
     "data": {
      "text/plain": [
       "array([[ 5.,  0.,  0.],\n",
       "       [ 3.,  3.,  0.],\n",
       "       [-1.,  1.,  3.]])"
      ]
     },
     "execution_count": 24,
     "metadata": {},
     "output_type": "execute_result"
    }
   ],
   "source": [
    "np.linalg.cholesky(m)"
   ]
  },
  {
   "cell_type": "markdown",
   "metadata": {
    "slideshow": {
     "slide_type": "slide"
    }
   },
   "source": [
    "## The asian option"
   ]
  },
  {
   "cell_type": "markdown",
   "metadata": {
    "slideshow": {
     "slide_type": "fragment"
    }
   },
   "source": [
    "Now instead lets assume that we feel that Google will perform quite well the next year overall, but maybe not at the particular point in time that is 365 days from now. So we want to be payed alot if the stock on average perfoms well. \n",
    "\n",
    "Lets say we want to be payed if Google on average is above 110 the next year. What should I pay today for this bet?\n",
    "\n",
    "This is the same as pricing an asian option\n",
    "\n",
    "\\begin{equation*}\n",
    "\\text{Value of option today} = V(S,K,r)  =  e^{-rT}[\\bar{S}-K], \\quad \\bar{S}= \\frac{1}{m}\\sum_{i=1}^m S(t_i) \n",
    "\\end{equation*}\n",
    "\n",
    "\n",
    "We create an Euler aproximation storing the skeleton of the price path at 52 points\n",
    "\n",
    "\\begin{equation*}\n",
    "  S_j(t_i) = S_j(t_{i-1})e^{(r-1/2 \\sigma^2)\\Delta t_i + \\sigma \\sqrt{\\Delta t_i} N(0,1)}, \\quad i=1,...,p, \\; j=1,..,R\n",
    "\\end{equation*}\n",
    "\n",
    "We calculate the price using the simulated mean as expectation\n",
    "\n",
    "\\begin{equation*}\n",
    "\\mathbb{E}[V(S,K,r)] =  \\frac{1}{R}\\sum_{j=1}^Re^{-rT}\\left[\\frac{1}{m}\\sum_{i=1}^p S_j(t_i) - K \\right]^+ \n",
    "\\end{equation*}\n"
   ]
  },
  {
   "cell_type": "markdown",
   "metadata": {
    "slideshow": {
     "slide_type": "slide"
    }
   },
   "source": [
    "### Lets assume that the variance of the Google stock shifts over time\n",
    "\n",
    "We will use the fractional Brownian Motion, which has a variance structure modelled using the `Hurst parameter` "
   ]
  },
  {
   "cell_type": "markdown",
   "metadata": {
    "slideshow": {
     "slide_type": "fragment"
    }
   },
   "source": [
    "We have an asset $S$ with value $S_t$ at time $t$ denoted as\n",
    "\\begin{align}\n",
    "  S_t &= S_0 e^{X^h_t}\n",
    "\\end{align}\n",
    "\n",
    "We consider $S$ at 12 time points. The development of $S$ is governed by a brownian motion $X$ with covariance determined by $h$ called the Hurst parameter \n",
    "\n",
    "\\begin{align}\n",
    "  \\begin{pmatrix}\n",
    "  X_1 \\\\ \\vdots \\\\ X_{12}\n",
    "  \\end{pmatrix} &\\sim N_{12}(0,\\Sigma) \\sim Y \\cdot C \\\\\n",
    "  C C^T&= \\Sigma \\\\\n",
    "  Y &\\sim N_{12}(0,1) \\\\\n",
    "  \\Sigma_{t,s} &= \\frac{\\sigma}{2} \\left[ |t|^{2h}+ |s|^{2h}-|t-s|^{2h}  \\right]  \\\\\n",
    "  \\sigma &= \\left\\lbrace \\frac{1}{2} \\left[ |p|^{2h}+ |p|^{2h}-|p-p|^{2h}  \\right]   \\right \\rbrace^{-1}, \\; p=12\\\\\n",
    "  E[B_h(t)B_h(s)] &= \\frac{1}{2}(|t|^{2h}+|s|^{2h}-|t-s|^{2h}) \\\\\n",
    " \\end{align}"
   ]
  },
  {
   "cell_type": "markdown",
   "metadata": {
    "slideshow": {
     "slide_type": "slide"
    }
   },
   "source": [
    "### Exercise\n",
    "\n",
    "Derive the price of an asian option on an asset driven by a fractional Brownian Motion"
   ]
  },
  {
   "cell_type": "markdown",
   "metadata": {
    "slideshow": {
     "slide_type": "fragment"
    }
   },
   "source": [
    "For simplicity we will say that\n",
    "\n",
    "- $r= 0$ \n",
    "- $S_t= 1$ \n",
    "- $K=2$\n",
    "Thus we get an asian option with the payout\n",
    "\n",
    "\\begin{align}\n",
    "(\\frac{1}{12}(e^{X(1)} + ··· + e^{X(12)}) - K)^{+}\n",
    "\\end{align}\n",
    "\n",
    "Where $X(t)$ is the fractional brownian motion which drives the asset price  "
   ]
  },
  {
   "cell_type": "code",
   "execution_count": 181,
   "metadata": {
    "slideshow": {
     "slide_type": "slide"
    }
   },
   "outputs": [],
   "source": [
    "K=2\n",
    "R = 10**5 # Iterations\n",
    "N = np.random.normal(size = (R,12))"
   ]
  },
  {
   "cell_type": "code",
   "execution_count": 31,
   "metadata": {
    "slideshow": {
     "slide_type": "fragment"
    }
   },
   "outputs": [],
   "source": [
    "def covar(t,h):\n",
    "    \"\"\"\n",
    "    Function to derive Hurst covariance matrix\n",
    "    args:\n",
    "        t: number of timesteps to be modelled with the Hurst covariance\n",
    "        h: Hurst parameter - h in (0,1)\n",
    "    \"\"\"\n",
    "    return C\n"
   ]
  },
  {
   "cell_type": "code",
   "execution_count": 32,
   "metadata": {
    "slideshow": {
     "slide_type": "slide"
    }
   },
   "outputs": [],
   "source": [
    "def asian_price(t,h,K,N):\n",
    "    \"\"\"\n",
    "    Derive the price for the asian option.\n",
    "    - Use the covariance function to get sigma\n",
    "    - Use cholecky factorization to get C\n",
    "    - Use matrix multiplication to get the covariance structure into the random variable\n",
    "        drawn from the standard normal distribution\n",
    "    - Take the average of each price path\n",
    "    - Subtract K\n",
    "    - Cut out any negative outcomes\n",
    "    - Average the payoffs to get a price\n",
    "    args:\n",
    "        t: number of timesteps to be modelled with the Hurst covariance\n",
    "        h: Hurst parameter - h in (0,1)\n",
    "        K: Price our stock should be above (Strike)\n",
    "        N: Standard random normal with shape txR, where R is the number of repetitions \n",
    "    \"\"\"\n",
    "    \n",
    "    return p\n"
   ]
  }
 ],
 "metadata": {
  "celltoolbar": "Slideshow",
  "kernelspec": {
   "display_name": "Python 3",
   "language": "python",
   "name": "python3"
  },
  "language_info": {
   "codemirror_mode": {
    "name": "ipython",
    "version": 3
   },
   "file_extension": ".py",
   "mimetype": "text/x-python",
   "name": "python",
   "nbconvert_exporter": "python",
   "pygments_lexer": "ipython3",
   "version": "3.6.2"
  }
 },
 "nbformat": 4,
 "nbformat_minor": 2
}
